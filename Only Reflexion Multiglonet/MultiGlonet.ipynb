{
 "cells": [
  {
   "cell_type": "code",
   "execution_count": 1,
   "metadata": {},
   "outputs": [],
   "source": [
    "from matplotlib import rcParams, rc\n",
    "rcParams.update({'figure.autolayout': True})\n",
    "\n",
    "import csv\n",
    "import torch\n",
    "import os\n",
    "import matplotlib.pyplot as plt\n",
    "import matplotlib.animation as animation\n",
    "import numpy as np\n",
    "import math\n",
    "import pandas as pd\n",
    "\n",
    "from Tarjet import *\n",
    "from Phisicsparams import *\n",
    "from utils import *\n",
    "from MTMM import *\n",
    "from tqdm import tqdm\n",
    "\n",
    "from multiresglonet import GLOnet\n",
    "from material_database import MatDatabase\n"
   ]
  },
  {
   "cell_type": "code",
   "execution_count": 2,
   "metadata": {},
   "outputs": [],
   "source": [
    "from typing import TypeVarTuple\n",
    "\n",
    "\n",
    "params = Params()\n",
    "params.thickness_sup = 0.1\n",
    "params.N_layers = 40\n",
    "\n",
    "#--------------------------------------------------------------------------------------------------------------------------------------------------------------------------------------------------------\n",
    "params.materials = ['Al2O3','TiO2', 'SiO2']\n",
    "params.user_define = True\n",
    "if params.user_define:\n",
    "  params.n_min = 1.09\n",
    "  params.n_max = 2.6\n",
    "  params.M_discretion_n = 100\n",
    "  params.M_materials = params.M_discretion_n\n",
    "  params.n_database = torch.tensor(np.array([np.linspace(params.n_min,params.n_max,params.M_discretion_n)]))\n",
    "else:\n",
    "  pass # definirlo en otro lado\n",
    "#---------------------------------------------------------------------------------------------------------------------------------------------------------------------------------------------\n",
    "\n",
    "params.alpha_sup =  15\n",
    "params.numIter = 200\n",
    "params.sigma = 0.035\n",
    "params.batch_size = 100\n",
    "#---------------------------------------------------------------------------------------------------------------------------------------------------------------------------------------------------------\n",
    "params.net = 'Res'\n",
    "params.res_layers = 16                                                                             # Cantidad de bloques Residuales del bloque ResNet\n",
    "params.res_dim = 256                                                                               # Cantidad de neuronas en la capa de entrada al bloque ResNet\n",
    "params.noise_dim = 26                                                                              # Dimension de la Capa de entrada\n",
    "params.lr = 0.05                                                                                   # Tasa de aprendizaje del optimizador Adam (learning rate)\n",
    "params.beta1 = 0.9                                                                                 # Coeficiente de decaimiento para el momento del primer orden del optimizador Adam\n",
    "params.beta2 = 0.99                                                                                # Coeficiente de decaimiento para el momento del segundo orden del optimizador Adam\n",
    "params.weight_decay = 0.001                                                                        # Termino de decaimiento del peso para regularizar los pesos del generador durante la optimizacion\n",
    "params.step_size = 40000                                                                           # Numero de epicas despues de las cuales se reduce la tasa de aprendizaje\n",
    "params.gamma = 0.5                                                                                 # El factor de reduccion para la tasa de aprendizaje. Despues de cada step_size epocas, la tasa de aprendizaje se multiplica por gamma\n"
   ]
  },
  {
   "cell_type": "code",
   "execution_count": 3,
   "metadata": {},
   "outputs": [],
   "source": [
    "params.condiciones = 2\n",
    "physicsparams = PhysicsParams(params.condiciones, user_define=True)\n",
    "\n",
    "n_interna = 1.2\n",
    "\n",
    "physicsparams.n_bot_1 = n_interna\n",
    "physicsparams.n_top_1 = 1\n",
    "physicsparams.k_1 = 370\n",
    "physicsparams.k_values.append(physicsparams.k_1)\n",
    "physicsparams.theta_1 = 0\n",
    "physicsparams.lambda_min_1 = 380\n",
    "physicsparams.lambda_max_1 = 750\n",
    "physicsparams.pol_1 = \"TE\"\n",
    "\n",
    "physicsparams.n_bot_2 = 1\n",
    "physicsparams.n_top_2 = n_interna\n",
    "physicsparams.k_2 = 190\n",
    "physicsparams.k_values.append(physicsparams.k_2)\n",
    "physicsparams.theta_2 = 45\n",
    "physicsparams.lambda_min_2 = 380\n",
    "physicsparams.lambda_max_2 = 570\n",
    "physicsparams.pol_2 = \"TE\"\n",
    "\n",
    "physicsparams.generate_physics_params()\n",
    "# physicsparams.view_attributes()\n",
    "\n",
    "tarjet = Tarjet(params.condiciones, physicsparams.k_values, params.user_define)\n",
    "tarjet.configure_targets()\n",
    "\n"
   ]
  },
  {
   "cell_type": "code",
   "execution_count": 4,
   "metadata": {},
   "outputs": [],
   "source": [
    "if not params.user_define:\n",
    "    params.matdatabase =  MatDatabase(params.materials)\n",
    "    params.n_database = params.matdatabase.interp_wv(2 * math.pi/physicsparams.ks, params.materials, True)\n",
    "    params.M_materials =  params.n_database.size(0)"
   ]
  },
  {
   "cell_type": "code",
   "execution_count": 5,
   "metadata": {},
   "outputs": [],
   "source": [
    "\n",
    "tarjet.tarjets[\"tarjet_1\"].view(-1)[190:] = 1\n",
    "\n",
    "tarjet.tarjets[\"tarjet_2\"].view(-1)[115:] = 1\n",
    "\n"
   ]
  },
  {
   "cell_type": "code",
   "execution_count": 6,
   "metadata": {},
   "outputs": [
    {
     "data": {
      "image/png": "[encoded data removed]",
      "text/plain": [
       "<Figure size 1300x300 with 2 Axes>"
      ]
     },
     "metadata": {},
     "output_type": "display_data"
    }
   ],
   "source": [
    "# Subplots para Reflexiones\n",
    "fig, axs = plt.subplots(1, 2, figsize=(13, 3))  # 1 fila, 2 columnas\n",
    "fig.subplots_adjust(wspace=0.4)\n",
    "xlim = (300, 800)\n",
    "ylim = (-0.5, 1.5)\n",
    "vertical_lines = [380, 495, 570, 750]\n",
    "\n",
    "for i, ax in enumerate(axs):\n",
    "    if i == 0:\n",
    "        ax.plot(2 * math.pi / physicsparams.k_1 * 1000, tarjet.tarjets[\"tarjet_1\"].view(-1), \".-\", color=\"red\", label=\"tarjets_reflections_1\")\n",
    "        ax.set_title(\"Reflexion Tarjet 1\", fontsize=20)\n",
    "    elif i == 1:\n",
    "        ax.plot(2 * math.pi / physicsparams.k_2 * 1000, tarjet.tarjets[\"tarjet_2\"].view(-1), \".-\", color=\"green\", label=\"tarjets_reflections_2\")\n",
    "        ax.set_title(\"Reflexion Tarjet 2\", fontsize=20)\n",
    "\n",
    "    ax.set_xlabel(\"Wavelength (nm)\", fontsize=16)\n",
    "    ax.set_ylabel(\"Intensity\", fontsize=16)\n",
    "    ax.legend(fontsize=10)\n",
    "    ax.tick_params(axis='both', which='major', labelsize=14)\n",
    "    ax.set_xlim(xlim)\n",
    "    ax.set_ylim(ylim)\n",
    "\n",
    "    # Agregar líneas verticales punteadas\n",
    "    for line_pos in vertical_lines:\n",
    "        ax.axvline(x=line_pos, linestyle='--', color='gray')\n",
    "\n",
    "# Mostrar la figura de reflexiones\n",
    "plt.show()\n"
   ]
  },
  {
   "cell_type": "code",
   "execution_count": 7,
   "metadata": {},
   "outputs": [
    {
     "name": "stdout",
     "output_type": "stream",
     "text": [
      "Angulo theta_1 :  0.0\n",
      "Sigma:  0.034134764465462736\n"
     ]
    },
    {
     "name": "stderr",
     "output_type": "stream",
     "text": [
      "100%|██████████| 200/200 [06:44<00:00,  2.02s/it]\n"
     ]
    },
    {
     "name": "stdout",
     "output_type": "stream",
     "text": [
      "iteration1\n",
      "Angulo theta_1 :  0.9\n",
      "Sigma:  0.048932064579326\n"
     ]
    },
    {
     "name": "stderr",
     "output_type": "stream",
     "text": [
      "100%|██████████| 200/200 [06:56<00:00,  2.08s/it]\n"
     ]
    },
    {
     "name": "stdout",
     "output_type": "stream",
     "text": [
      "iteration2\n",
      "Angulo theta_1 :  1.8\n",
      "Sigma:  0.04791493573981867\n"
     ]
    },
    {
     "name": "stderr",
     "output_type": "stream",
     "text": [
      "100%|██████████| 200/200 [06:46<00:00,  2.03s/it]\n"
     ]
    },
    {
     "name": "stdout",
     "output_type": "stream",
     "text": [
      "iteration3\n",
      "Angulo theta_1 :  2.7\n",
      "Sigma:  0.04376307667043812\n"
     ]
    },
    {
     "name": "stderr",
     "output_type": "stream",
     "text": [
      "100%|██████████| 200/200 [06:41<00:00,  2.01s/it]\n"
     ]
    },
    {
     "name": "stdout",
     "output_type": "stream",
     "text": [
      "iteration4\n",
      "Angulo theta_1 :  3.6\n",
      "Sigma:  0.04338738196182142\n"
     ]
    },
    {
     "name": "stderr",
     "output_type": "stream",
     "text": [
      "100%|██████████| 200/200 [06:42<00:00,  2.01s/it]\n"
     ]
    },
    {
     "name": "stdout",
     "output_type": "stream",
     "text": [
      "iteration5\n",
      "Angulo theta_1 :  4.5\n",
      "Sigma:  0.039786478401871786\n"
     ]
    },
    {
     "name": "stderr",
     "output_type": "stream",
     "text": [
      "100%|██████████| 200/200 [06:44<00:00,  2.02s/it]\n"
     ]
    },
    {
     "name": "stdout",
     "output_type": "stream",
     "text": [
      "iteration6\n",
      "Angulo theta_1 :  5.4\n",
      "Sigma:  0.02538069846689544\n"
     ]
    },
    {
     "name": "stderr",
     "output_type": "stream",
     "text": [
      "100%|██████████| 200/200 [06:42<00:00,  2.01s/it]\n"
     ]
    },
    {
     "name": "stdout",
     "output_type": "stream",
     "text": [
      "iteration7\n",
      "Angulo theta_1 :  6.3\n",
      "Sigma:  0.025948096359979602\n"
     ]
    },
    {
     "name": "stderr",
     "output_type": "stream",
     "text": [
      "100%|██████████| 200/200 [06:38<00:00,  1.99s/it]\n"
     ]
    },
    {
     "name": "stdout",
     "output_type": "stream",
     "text": [
      "iteration8\n",
      "Angulo theta_1 :  7.2\n",
      "Sigma:  0.031262864087312096\n"
     ]
    },
    {
     "name": "stderr",
     "output_type": "stream",
     "text": [
      "100%|██████████| 200/200 [06:35<00:00,  1.98s/it]\n"
     ]
    },
    {
     "name": "stdout",
     "output_type": "stream",
     "text": [
      "iteration9\n",
      "Angulo theta_1 :  8.1\n",
      "Sigma:  0.037546572284987506\n"
     ]
    },
    {
     "name": "stderr",
     "output_type": "stream",
     "text": [
      "100%|██████████| 200/200 [06:37<00:00,  1.99s/it]\n"
     ]
    },
    {
     "name": "stdout",
     "output_type": "stream",
     "text": [
      "iteration10\n",
      "Angulo theta_1 :  9.0\n",
      "Sigma:  0.04354810172154795\n"
     ]
    },
    {
     "name": "stderr",
     "output_type": "stream",
     "text": [
      "100%|██████████| 200/200 [06:39<00:00,  2.00s/it]\n"
     ]
    },
    {
     "name": "stdout",
     "output_type": "stream",
     "text": [
      "iteration11\n",
      "Angulo theta_1 :  9.9\n",
      "Sigma:  0.031644412067561654\n"
     ]
    },
    {
     "name": "stderr",
     "output_type": "stream",
     "text": [
      "100%|██████████| 200/200 [06:44<00:00,  2.02s/it]\n"
     ]
    },
    {
     "name": "stdout",
     "output_type": "stream",
     "text": [
      "iteration12\n",
      "Angulo theta_1 :  10.8\n",
      "Sigma:  0.03851558992622756\n"
     ]
    },
    {
     "name": "stderr",
     "output_type": "stream",
     "text": [
      "100%|██████████| 200/200 [06:43<00:00,  2.02s/it]\n"
     ]
    },
    {
     "name": "stdout",
     "output_type": "stream",
     "text": [
      "iteration13\n",
      "Angulo theta_1 :  11.7\n",
      "Sigma:  0.03539423169262141\n"
     ]
    },
    {
     "name": "stderr",
     "output_type": "stream",
     "text": [
      "100%|██████████| 200/200 [06:43<00:00,  2.02s/it]\n"
     ]
    },
    {
     "name": "stdout",
     "output_type": "stream",
     "text": [
      "iteration14\n",
      "Angulo theta_1 :  12.6\n",
      "Sigma:  0.04528683752012775\n"
     ]
    },
    {
     "name": "stderr",
     "output_type": "stream",
     "text": [
      "100%|██████████| 200/200 [06:44<00:00,  2.02s/it]\n"
     ]
    },
    {
     "name": "stdout",
     "output_type": "stream",
     "text": [
      "iteration15\n",
      "Angulo theta_1 :  13.5\n",
      "Sigma:  0.03998532443647257\n"
     ]
    },
    {
     "name": "stderr",
     "output_type": "stream",
     "text": [
      "100%|██████████| 200/200 [06:43<00:00,  2.02s/it]\n"
     ]
    },
    {
     "name": "stdout",
     "output_type": "stream",
     "text": [
      "iteration16\n",
      "Angulo theta_1 :  14.4\n",
      "Sigma:  0.03666937472322472\n"
     ]
    },
    {
     "name": "stderr",
     "output_type": "stream",
     "text": [
      "100%|██████████| 200/200 [06:45<00:00,  2.03s/it]\n"
     ]
    },
    {
     "name": "stdout",
     "output_type": "stream",
     "text": [
      "iteration17\n",
      "Angulo theta_1 :  15.3\n",
      "Sigma:  0.03443805087009888\n"
     ]
    },
    {
     "name": "stderr",
     "output_type": "stream",
     "text": [
      "100%|██████████| 200/200 [06:45<00:00,  2.03s/it]\n"
     ]
    },
    {
     "name": "stdout",
     "output_type": "stream",
     "text": [
      "iteration18\n",
      "Angulo theta_1 :  16.2\n",
      "Sigma:  0.02938380310633474\n"
     ]
    },
    {
     "name": "stderr",
     "output_type": "stream",
     "text": [
      "100%|██████████| 200/200 [06:45<00:00,  2.03s/it]\n"
     ]
    },
    {
     "name": "stdout",
     "output_type": "stream",
     "text": [
      "iteration19\n",
      "Angulo theta_1 :  17.1\n",
      "Sigma:  0.04372559904789208\n"
     ]
    },
    {
     "name": "stderr",
     "output_type": "stream",
     "text": [
      "100%|██████████| 200/200 [06:42<00:00,  2.01s/it]\n"
     ]
    },
    {
     "name": "stdout",
     "output_type": "stream",
     "text": [
      "iteration20\n",
      "Angulo theta_1 :  18.0\n",
      "Sigma:  0.04969476030872745\n"
     ]
    },
    {
     "name": "stderr",
     "output_type": "stream",
     "text": [
      "100%|██████████| 200/200 [06:42<00:00,  2.01s/it]\n"
     ]
    },
    {
     "name": "stdout",
     "output_type": "stream",
     "text": [
      "iteration21\n",
      "Angulo theta_1 :  18.9\n",
      "Sigma:  0.02787375865765107\n"
     ]
    },
    {
     "name": "stderr",
     "output_type": "stream",
     "text": [
      "100%|██████████| 200/200 [06:44<00:00,  2.02s/it]\n"
     ]
    },
    {
     "name": "stdout",
     "output_type": "stream",
     "text": [
      "iteration22\n",
      "Angulo theta_1 :  19.8\n",
      "Sigma:  0.039681995824785495\n"
     ]
    },
    {
     "name": "stderr",
     "output_type": "stream",
     "text": [
      "100%|██████████| 200/200 [06:44<00:00,  2.02s/it]\n"
     ]
    },
    {
     "name": "stdout",
     "output_type": "stream",
     "text": [
      "iteration23\n",
      "Angulo theta_1 :  20.7\n",
      "Sigma:  0.042440514577419264\n"
     ]
    },
    {
     "name": "stderr",
     "output_type": "stream",
     "text": [
      "100%|██████████| 200/200 [06:45<00:00,  2.03s/it]\n"
     ]
    },
    {
     "name": "stdout",
     "output_type": "stream",
     "text": [
      "iteration24\n",
      "Angulo theta_1 :  21.6\n",
      "Sigma:  0.038003447742068694\n"
     ]
    },
    {
     "name": "stderr",
     "output_type": "stream",
     "text": [
      "100%|██████████| 200/200 [06:38<00:00,  1.99s/it]\n"
     ]
    },
    {
     "name": "stdout",
     "output_type": "stream",
     "text": [
      "iteration25\n",
      "Angulo theta_1 :  22.5\n",
      "Sigma:  0.042825143140604795\n"
     ]
    },
    {
     "name": "stderr",
     "output_type": "stream",
     "text": [
      "100%|██████████| 200/200 [06:35<00:00,  1.98s/it]\n"
     ]
    },
    {
     "name": "stdout",
     "output_type": "stream",
     "text": [
      "iteration26\n",
      "Angulo theta_1 :  23.4\n",
      "Sigma:  0.03682728181838796\n"
     ]
    },
    {
     "name": "stderr",
     "output_type": "stream",
     "text": [
      "100%|██████████| 200/200 [06:37<00:00,  1.99s/it]\n"
     ]
    },
    {
     "name": "stdout",
     "output_type": "stream",
     "text": [
      "iteration27\n",
      "Angulo theta_1 :  24.3\n",
      "Sigma:  0.0486314846730646\n"
     ]
    },
    {
     "name": "stderr",
     "output_type": "stream",
     "text": [
      "100%|██████████| 200/200 [06:38<00:00,  1.99s/it]\n"
     ]
    },
    {
     "name": "stdout",
     "output_type": "stream",
     "text": [
      "iteration28\n",
      "Angulo theta_1 :  25.2\n",
      "Sigma:  0.025559860644119935\n"
     ]
    },
    {
     "name": "stderr",
     "output_type": "stream",
     "text": [
      "100%|██████████| 200/200 [06:38<00:00,  1.99s/it]\n"
     ]
    },
    {
     "name": "stdout",
     "output_type": "stream",
     "text": [
      "iteration29\n",
      "Angulo theta_1 :  26.1\n",
      "Sigma:  0.02762307935945194\n"
     ]
    },
    {
     "name": "stderr",
     "output_type": "stream",
     "text": [
      "100%|██████████| 200/200 [06:39<00:00,  2.00s/it]\n"
     ]
    },
    {
     "name": "stdout",
     "output_type": "stream",
     "text": [
      "iteration30\n",
      "Angulo theta_1 :  27.0\n",
      "Sigma:  0.037481547373072015\n"
     ]
    },
    {
     "name": "stderr",
     "output_type": "stream",
     "text": [
      "100%|██████████| 200/200 [06:39<00:00,  2.00s/it]\n"
     ]
    },
    {
     "name": "stdout",
     "output_type": "stream",
     "text": [
      "iteration31\n",
      "Angulo theta_1 :  27.9\n",
      "Sigma:  0.04466757144472451\n"
     ]
    },
    {
     "name": "stderr",
     "output_type": "stream",
     "text": [
      "100%|██████████| 200/200 [06:36<00:00,  1.98s/it]\n"
     ]
    },
    {
     "name": "stdout",
     "output_type": "stream",
     "text": [
      "iteration32\n",
      "Angulo theta_1 :  28.8\n",
      "Sigma:  0.03935172380381423\n"
     ]
    },
    {
     "name": "stderr",
     "output_type": "stream",
     "text": [
      "100%|██████████| 200/200 [06:39<00:00,  2.00s/it]\n"
     ]
    },
    {
     "name": "stdout",
     "output_type": "stream",
     "text": [
      "iteration33\n",
      "Angulo theta_1 :  29.7\n",
      "Sigma:  0.04617785426099179\n"
     ]
    },
    {
     "name": "stderr",
     "output_type": "stream",
     "text": [
      "100%|██████████| 200/200 [06:37<00:00,  1.99s/it]\n"
     ]
    },
    {
     "name": "stdout",
     "output_type": "stream",
     "text": [
      "iteration34\n",
      "Angulo theta_1 :  30.6\n",
      "Sigma:  0.0308498354182632\n"
     ]
    },
    {
     "name": "stderr",
     "output_type": "stream",
     "text": [
      "100%|██████████| 200/200 [06:40<00:00,  2.00s/it]\n"
     ]
    },
    {
     "name": "stdout",
     "output_type": "stream",
     "text": [
      "iteration35\n",
      "Angulo theta_1 :  31.5\n",
      "Sigma:  0.04598001579290713\n"
     ]
    },
    {
     "name": "stderr",
     "output_type": "stream",
     "text": [
      "100%|██████████| 200/200 [06:40<00:00,  2.00s/it]\n"
     ]
    },
    {
     "name": "stdout",
     "output_type": "stream",
     "text": [
      "iteration36\n",
      "Angulo theta_1 :  32.4\n",
      "Sigma:  0.044195986020520446\n"
     ]
    },
    {
     "name": "stderr",
     "output_type": "stream",
     "text": [
      "100%|██████████| 200/200 [06:39<00:00,  2.00s/it]\n"
     ]
    },
    {
     "name": "stdout",
     "output_type": "stream",
     "text": [
      "iteration37\n",
      "Angulo theta_1 :  33.3\n",
      "Sigma:  0.03766754520979823\n"
     ]
    },
    {
     "name": "stderr",
     "output_type": "stream",
     "text": [
      "100%|██████████| 200/200 [06:41<00:00,  2.01s/it]\n"
     ]
    },
    {
     "name": "stdout",
     "output_type": "stream",
     "text": [
      "iteration38\n",
      "Angulo theta_1 :  34.2\n",
      "Sigma:  0.04116689430592289\n"
     ]
    },
    {
     "name": "stderr",
     "output_type": "stream",
     "text": [
      "100%|██████████| 200/200 [06:43<00:00,  2.02s/it]\n"
     ]
    },
    {
     "name": "stdout",
     "output_type": "stream",
     "text": [
      "iteration39\n",
      "Angulo theta_1 :  35.1\n",
      "Sigma:  0.04881094426366261\n"
     ]
    },
    {
     "name": "stderr",
     "output_type": "stream",
     "text": [
      "100%|██████████| 200/200 [06:42<00:00,  2.01s/it]\n"
     ]
    },
    {
     "name": "stdout",
     "output_type": "stream",
     "text": [
      "iteration40\n",
      "Angulo theta_1 :  36.0\n",
      "Sigma:  0.03327314456548544\n"
     ]
    },
    {
     "name": "stderr",
     "output_type": "stream",
     "text": [
      "100%|██████████| 200/200 [06:40<00:00,  2.00s/it]\n"
     ]
    },
    {
     "name": "stdout",
     "output_type": "stream",
     "text": [
      "iteration41\n",
      "Angulo theta_1 :  36.9\n",
      "Sigma:  0.044951081335497\n"
     ]
    },
    {
     "name": "stderr",
     "output_type": "stream",
     "text": [
      "100%|██████████| 200/200 [06:43<00:00,  2.02s/it]\n"
     ]
    },
    {
     "name": "stdout",
     "output_type": "stream",
     "text": [
      "iteration42\n",
      "Angulo theta_1 :  37.8\n",
      "Sigma:  0.044767236657313095\n"
     ]
    },
    {
     "name": "stderr",
     "output_type": "stream",
     "text": [
      "100%|██████████| 200/200 [06:40<00:00,  2.00s/it]\n"
     ]
    },
    {
     "name": "stdout",
     "output_type": "stream",
     "text": [
      "iteration43\n",
      "Angulo theta_1 :  38.7\n",
      "Sigma:  0.0351789094905926\n"
     ]
    },
    {
     "name": "stderr",
     "output_type": "stream",
     "text": [
      "100%|██████████| 200/200 [06:40<00:00,  2.00s/it]\n"
     ]
    },
    {
     "name": "stdout",
     "output_type": "stream",
     "text": [
      "iteration44\n",
      "Angulo theta_1 :  39.6\n",
      "Sigma:  0.026890154179091633\n"
     ]
    },
    {
     "name": "stderr",
     "output_type": "stream",
     "text": [
      "100%|██████████| 200/200 [8:50:34<00:00, 159.17s/it]     \n"
     ]
    },
    {
     "name": "stdout",
     "output_type": "stream",
     "text": [
      "iteration45\n",
      "Angulo theta_1 :  40.5\n",
      "Sigma:  0.040620286537942474\n"
     ]
    },
    {
     "name": "stderr",
     "output_type": "stream",
     "text": [
      "100%|██████████| 200/200 [06:04<00:00,  1.82s/it]\n"
     ]
    },
    {
     "name": "stdout",
     "output_type": "stream",
     "text": [
      "iteration46\n",
      "Angulo theta_1 :  41.4\n",
      "Sigma:  0.03581327908708791\n"
     ]
    },
    {
     "name": "stderr",
     "output_type": "stream",
     "text": [
      "100%|██████████| 200/200 [05:58<00:00,  1.79s/it]\n"
     ]
    },
    {
     "name": "stdout",
     "output_type": "stream",
     "text": [
      "iteration47\n",
      "Angulo theta_1 :  42.3\n",
      "Sigma:  0.030869852785915152\n"
     ]
    },
    {
     "name": "stderr",
     "output_type": "stream",
     "text": [
      "100%|██████████| 200/200 [05:56<00:00,  1.78s/it]\n"
     ]
    },
    {
     "name": "stdout",
     "output_type": "stream",
     "text": [
      "iteration48\n",
      "Angulo theta_1 :  43.2\n",
      "Sigma:  0.035123106016029595\n"
     ]
    },
    {
     "name": "stderr",
     "output_type": "stream",
     "text": [
      "100%|██████████| 200/200 [05:56<00:00,  1.78s/it]\n"
     ]
    },
    {
     "name": "stdout",
     "output_type": "stream",
     "text": [
      "iteration49\n",
      "Angulo theta_1 :  44.1\n",
      "Sigma:  0.04662478245592927\n"
     ]
    },
    {
     "name": "stderr",
     "output_type": "stream",
     "text": [
      "100%|██████████| 200/200 [05:56<00:00,  1.78s/it]\n"
     ]
    },
    {
     "name": "stdout",
     "output_type": "stream",
     "text": [
      "iteration50\n"
     ]
    }
   ],
   "source": [
    "\n",
    "thicknesses_list = []\n",
    "ref_idx_list = []\n",
    "\n",
    "figures_dir = 'figures'\n",
    "if not os.path.exists(figures_dir):\n",
    "    os.makedirs(figures_dir)\n",
    "\n",
    "histogram_dir = \"Histogramas\"\n",
    "os.makedirs(histogram_dir, exist_ok=True)\n",
    "    \n",
    "Loss_dir =  \"Losses\"\n",
    "if not os.path.exists(Loss_dir):\n",
    "    os.makedirs(Loss_dir)\n",
    "\n",
    "Error = []\n",
    "\n",
    "xlim = (300, 800)\n",
    "ylim = (-0.5, 1.5)\n",
    "vertical_lines = [380, 495, 570, 750]\n",
    "\n",
    "\n",
    "\n",
    "n_interna = 1.2\n",
    "\n",
    "\n",
    "\n",
    "for seed in range(50):                                                \n",
    "  params.seed = seed\n",
    "  params.sigma = np.random.uniform(0.025, 0.05)\n",
    "  \n",
    "  \n",
    "  physicsparams.theta_1 = seed * 45 / 50\n",
    "  print(\"Angulo theta_1 : \" ,physicsparams.theta_1)\n",
    "\n",
    "  physicsparams.n_bot_1 = n_interna\n",
    "  physicsparams.n_top_1 = 1\n",
    "  physicsparams.k_1 = 370\n",
    "  physicsparams.k_values.append(physicsparams.k_1)\n",
    "  physicsparams.lambda_min_1 = 380\n",
    "  physicsparams.lambda_max_1 = 750\n",
    "  physicsparams.pol_1 = \"TE\"\n",
    "  \n",
    "  physicsparams.n_bot_2 = 1\n",
    "  physicsparams.n_top_2 = n_interna\n",
    "  physicsparams.k_2 = 190\n",
    "  physicsparams.k_values.append(physicsparams.k_2)\n",
    "  physicsparams.theta_2 = 45\n",
    "  physicsparams.lambda_min_2 = 380\n",
    "  physicsparams.lambda_max_2 = 570\n",
    "  physicsparams.pol_2 = \"TE\"\n",
    "  \n",
    "  physicsparams.generate_physics_params()\n",
    "\n",
    "  print(\"Sigma: \", params.sigma)\n",
    "  torch.manual_seed(seed)\n",
    "  glonet = GLOnet(params, physicsparams, tarjet)\n",
    "  glonet.train()\n",
    "  \n",
    "  plt.figure(figsize = (20, 5))\n",
    "  plt.subplot(131)\n",
    "  plt.plot(glonet.loss_training)\n",
    "  plt.ylabel('Loss', fontsize=18)\n",
    "  plt.xlabel('Iterations', fontsize=18)\n",
    "  plt.xticks(fontsize=14)\n",
    "  plt.yticks(fontsize=14)\n",
    "  \n",
    "  plt.savefig(f\"{Loss_dir}/Loss_seed_{seed}.png\", bbox_inches='tight')\n",
    "  plt.close()\n",
    "  \n",
    "  print(f\"iteration{seed + 1 }\")\n",
    "\n",
    "  with torch.no_grad():\n",
    "      params.k_test = 2 * math.pi / torch.linspace(0.3, 2.5, 50)\n",
    "      params.theta_test = torch.linspace(0, math.pi/2.25, 50)\n",
    "      (thicknesses, ref_index, result_mat) = glonet.evaluate(150, kvector=params.k_test, inc_angles=params.theta_test, grayscale=True)\n",
    "      # Optimizacion\n",
    "      \n",
    "      reflex = MTMM_solver(params.condiciones, thicknesses, ref_index, physicsparams)\n",
    "      FoM_reflex_total = sum(torch.pow(reflex[f'reflexion_{i}'] - tarjet.tarjets[f'tarjet_{i}'], 2).mean(dim=[1, 2, 3]) for i in range(1, 3))\n",
    "      _, indices = torch.sort(FoM_reflex_total)\n",
    "      opt_idx = indices[0]\n",
    "      Error.append(FoM_reflex_total[opt_idx])\n",
    "      \n",
    "\n",
    "      # Visualización del FoM total\n",
    "      \n",
    "      plt.figure(figsize=(10, 2))\n",
    "      plt.subplot(131)\n",
    "      plt.hist(FoM_reflex_total.cpu().detach().numpy(), alpha=0.5)\n",
    "      plt.xlabel(f\"FoM (n' = {n_interna})\", fontsize=18)\n",
    "      plt.xticks(fontsize=14)\n",
    "      plt.yticks(fontsize=14)\n",
    "      plt.savefig(f\"{histogram_dir}/histograma_seed_{seed}.png\", bbox_inches='tight')\n",
    "      plt.close()\n",
    "      \n",
    "      # Encontrar el índice óptimo\n",
    "\n",
    "      optimal_thicknesses = thicknesses[opt_idx]\n",
    "      optimal_ref_idx = ref_index[opt_idx]\n",
    "      \n",
    "      thicknesses_list.append(optimal_thicknesses.view(-1).cpu().numpy().tolist())\n",
    "      ref_idx_list.append(optimal_ref_idx.view(-1).cpu().numpy().tolist())\n",
    "\n",
    "          \n",
    " \n",
    "  fig, axs = plt.subplots(1, 2, figsize=(13, 3))  # 1 fila, 2 columnas\n",
    "  fig.subplots_adjust(wspace=0.4)\n",
    "  \n",
    "  # Definir optimal_reflections\n",
    "  optimal_reflections = {}\n",
    "  \n",
    "  for i in range(1, 3):  # Solo 1 y 2\n",
    "      reflex_key = f'reflexion_{i}'\n",
    "      optimal_reflections[reflex_key] = reflex[reflex_key][opt_idx]\n",
    "      \n",
    "      # Gráfico de reflexión óptima\n",
    "      axs[i-1].plot(2 * math.pi / getattr(physicsparams, f'k_{i}') * 1000,\n",
    "                    optimal_reflections[f'reflexion_{i}'][:, 0, 0].detach().numpy(),\n",
    "                    \"-\", color=\"violet\", label=\"Optimal Reflexion\")\n",
    "  \n",
    "      # Gráfico de reflexión de tarjeta\n",
    "      tarjet_color = \"red\" if i == 1 else \"green\"\n",
    "      axs[i-1].plot(2 * math.pi / getattr(physicsparams, f'k_{i}') * 1000,\n",
    "                    tarjet.tarjets[f\"tarjet_{i}\"].view(-1),\n",
    "                    \".-\", color=tarjet_color, label=f\"Tarjet Reflexion {i}\", markersize=2.5)\n",
    "  \n",
    "      axs[i-1].set_xlabel(\"Wavelength (nm)\", fontsize=16)\n",
    "      axs[i-1].set_ylabel(\"Reflection\", fontsize=16)\n",
    "      axs[i-1].legend(fontsize=10)\n",
    "      axs[i-1].set_title(f\"Reflexion {i}\", fontsize=20)\n",
    "      axs[i-1].tick_params(axis='both', which='major', labelsize=14)\n",
    "      axs[i-1].set_xlim(xlim)\n",
    "      axs[i-1].set_ylim(ylim)\n",
    "  \n",
    "      # Agregar líneas verticales punteadas para reflexiones\n",
    "      for line_pos in vertical_lines:\n",
    "          axs[i-1].axvline(x=line_pos, linestyle='--', color='gray')\n",
    "          \n",
    "  fig.savefig(os.path.join(figures_dir, f\"reflexion_seed_{seed}.png\"))\n",
    "  plt.close(fig)\n",
    "\n",
    "with open('optimal_thicknesses.csv', 'w', newline='') as f:\n",
    "    writer = csv.writer(f)\n",
    "    writer.writerows(thicknesses_list)\n",
    "\n",
    "# Archivo CSV para los índices de refracción\n",
    "with open('optimal_ref_idx.csv', 'w', newline='') as f:\n",
    "    writer = csv.writer(f)\n",
    "    writer.writerows(ref_idx_list)\n",
    "\n",
    "\n"
   ]
  },
  {
   "cell_type": "code",
   "execution_count": 12,
   "metadata": {},
   "outputs": [],
   "source": [
    "Error = [0.1112,0.0322,0.1035,0.1576,0.0984,0.0885,0.1421,0.1173,0.1112,0.1335,0.0921,0.1323,0.1208,0.0933,0.0624,0.1334,0.1324,0.1332,0.1269,0.1178,0.1272,0.1458,0.1239,0.1175,0.1502,0.2193,0.1448,0.1785,0.1534,0.1632,0.1896,0.2881,0.2957,0.2643,0.2487,0.2742,0.2664,0.2927,0.2376,0.3291,0.3014,0.3370,0.2762,0.2527,0.3691,0.3525,0.3661,0.3165,0.3242,0.3465,]\n",
    "Error = np.array(Error)"
   ]
  },
  {
   "cell_type": "code",
   "execution_count": 13,
   "metadata": {},
   "outputs": [],
   "source": [
    "Angles =  np.linspace(0 , 45 , 50) "
   ]
  },
  {
   "cell_type": "code",
   "execution_count": 15,
   "metadata": {},
   "outputs": [
    {
     "data": {
      "text/plain": [
       "[<matplotlib.lines.Line2D at 0x1247229f350>]"
      ]
     },
     "execution_count": 15,
     "metadata": {},
     "output_type": "execute_result"
    },
    {
     "data": {
      "image/png": "[encoded data removed]",
      "text/plain": [
       "<Figure size 640x480 with 1 Axes>"
      ]
     },
     "metadata": {},
     "output_type": "display_data"
    }
   ],
   "source": [
    "plt.plot(Angles , Error, \".\")"
   ]
  },
  {
   "cell_type": "code",
   "execution_count": null,
   "metadata": {},
   "outputs": [
    {
     "data": {
      "image/png": "[encoded data removed]",
      "text/plain": [
       "<Figure size 1300x300 with 2 Axes>"
      ]
     },
     "metadata": {},
     "output_type": "display_data"
    },
    {
     "name": "stdout",
     "output_type": "stream",
     "text": [
      "Espesores: tensor([0.0992, 0.1104, 0.1289, 0.1207, 0.0979, 0.0833, 0.0679, 0.1032, 0.0754,\n",
      "        0.0453, 0.0440, 0.0413, 0.0835, 0.0592, 0.0855, 0.0350, 0.0551, 0.0564,\n",
      "        0.0649, 0.1078, 0.1238, 0.0888, 0.0673, 0.0722, 0.0759])\n",
      "Índices de refracción: tensor([2.2943, 2.3951, 1.4694, 1.7354, 1.9702, 1.7653, 1.2873, 1.6529, 2.5393,\n",
      "        1.9702, 1.6287, 1.2645, 2.2054, 1.2418, 1.1128, 1.5714, 2.2358, 1.0900,\n",
      "        2.0349, 2.4710, 1.5908, 1.4522, 1.1811, 1.4315, 2.2359],\n",
      "       dtype=torch.float64)\n"
     ]
    }
   ],
   "source": [
    "# Definir xlim, ylim y vertical_lines\n",
    "xlim = (300, 800)\n",
    "ylim = (-0.5, 1.5)\n",
    "vertical_lines = [380, 495, 570, 750]\n",
    "\n",
    "# Subplots para Reflexiones (solo 2)\n",
    "fig, axs = plt.subplots(1, 2, figsize=(13, 3))  # 1 fila, 2 columnas\n",
    "fig.subplots_adjust(wspace=0.4)\n",
    "\n",
    "# Definir optimal_reflections\n",
    "optimal_reflections = {}\n",
    "\n",
    "for i in range(1, 3):  # Solo 1 y 2\n",
    "    reflex_key = f'reflexion_{i}'\n",
    "    optimal_reflections[reflex_key] = reflex[reflex_key][opt_idx]\n",
    "    \n",
    "    # Gráfico de reflexión óptima\n",
    "    axs[i-1].plot(2 * math.pi / getattr(physicsparams, f'k_{i}') * 1000,\n",
    "                  optimal_reflections[f'reflexion_{i}'][:, 0, 0].detach().numpy(),\n",
    "                  \"-\", color=\"violet\", label=\"Optimal Reflexion\")\n",
    "\n",
    "    # Gráfico de reflexión de tarjeta\n",
    "    tarjet_color = \"red\" if i == 1 else \"green\"\n",
    "    axs[i-1].plot(2 * math.pi / getattr(physicsparams, f'k_{i}') * 1000,\n",
    "                  tarjet.tarjets[f\"tarjet_{i}\"].view(-1),\n",
    "                  \".-\", color=tarjet_color, label=f\"Tarjet Reflexion {i}\", markersize=2.5)\n",
    "\n",
    "    axs[i-1].set_xlabel(\"Wavelength (nm)\", fontsize=16)\n",
    "    axs[i-1].set_ylabel(\"Reflection\", fontsize=16)\n",
    "    axs[i-1].legend(fontsize=10)\n",
    "    axs[i-1].set_title(f\"Reflexion {i}\", fontsize=20)\n",
    "    axs[i-1].tick_params(axis='both', which='major', labelsize=14)\n",
    "    axs[i-1].set_xlim(xlim)\n",
    "    axs[i-1].set_ylim(ylim)\n",
    "\n",
    "    # Agregar líneas verticales punteadas para reflexiones\n",
    "    for line_pos in vertical_lines:\n",
    "        axs[i-1].axvline(x=line_pos, linestyle='--', color='gray')\n",
    "\n",
    "# Mostrar la figura de reflexiones\n",
    "plt.show()\n",
    "\n",
    "print(\"Espesores:\", optimal_thicknesses.view(-1))\n",
    "print(\"Índices de refracción:\", optimal_ref_idx.view(-1))\n"
   ]
  },
  {
   "cell_type": "code",
   "execution_count": null,
   "metadata": {},
   "outputs": [],
   "source": []
  },
  {
   "cell_type": "code",
   "execution_count": null,
   "metadata": {},
   "outputs": [
    {
     "data": {
      "image/png": "[encoded data removed]",
      "text/plain": [
       "<Figure size 1300x300 with 4 Axes>"
      ]
     },
     "metadata": {},
     "output_type": "display_data"
    }
   ],
   "source": [
    "(thicknesses, ref_index, result_mat) = glonet.evaluate(150, kvector=params.k_test, inc_angles=params.theta_test, grayscale=True)\n",
    "r = []\n",
    "params.k_test = 2 * math.pi / torch.linspace(0.3, 0.9, 50)\n",
    "params.theta_test = torch.linspace(0, math.pi/2.25, 50)\n",
    "\n",
    "for i in range(2):  # Solo 2 iteraciones para reflexion_1 y reflexion_2\n",
    "    r_  = TMM_solver(thicknesses, \n",
    "                        ref_index, \n",
    "                        getattr(physicsparams, f'n_top_{i + 1}'), \n",
    "                        getattr(physicsparams, f'n_bot_{i + 1}'),\n",
    "                        params.k_test,\n",
    "                        params.theta_test)\n",
    "    r.append(r_)\n",
    "\n",
    "_ ,  index = torch.sort(FoM_reflex_total)\n",
    "opt_inx =  index[0]\n",
    "\n",
    "# Gráficos para Reflexiones (solo 2)\n",
    "fig, axs = plt.subplots(1, 2, figsize=(13, 3))  # 1 fila, 2 columnas\n",
    "fig.subplots_adjust(wspace=0.4)\n",
    "for i in range(2):  # Solo 2 gráficos para reflexion_1 y reflexion_2\n",
    "    im1 = axs[i].imshow(r[i][opt_inx, : , 0, :].detach().cpu().numpy(), origin='lower', aspect='auto', cmap='hot', extent=[0, 80, 300, 900])\n",
    "    cbar1 = fig.colorbar(im1, ax=axs[i])\n",
    "    cbar1.ax.tick_params(labelsize=14)\n",
    "    axs[i].set_title(f'Reflexion_{i + 1}', fontsize=20)  # Reflexion_{1} y Reflexion_{2}\n",
    "    axs[i].set_xlabel('Incident angle (deg)', fontsize=16)\n",
    "    axs[i].set_ylabel('Wavelength (nm)', fontsize=16)\n",
    "    axs[i].tick_params(axis='both', which='major', labelsize=14)\n",
    "\n",
    "plt.show()\n"
   ]
  }
 ],
 "metadata": {
  "kernelspec": {
   "display_name": "Python 3",
   "language": "python",
   "name": "python3"
  },
  "language_info": {
   "codemirror_mode": {
    "name": "ipython",
    "version": 3
   },
   "file_extension": ".py",
   "mimetype": "text/x-python",
   "name": "python",
   "nbconvert_exporter": "python",
   "pygments_lexer": "ipython3",
   "version": "3.12.5"
  }
 },
 "nbformat": 4,
 "nbformat_minor": 2
}
