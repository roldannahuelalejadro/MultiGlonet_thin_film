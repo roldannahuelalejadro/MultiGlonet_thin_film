{
 "cells": [
  {
   "cell_type": "code",
   "execution_count": 1,
   "metadata": {},
   "outputs": [],
   "source": [
    "from matplotlib import rcParams, rc\n",
    "rcParams.update({'figure.autolayout': True})\n",
    "\n",
    "import csv\n",
    "import torch\n",
    "import os\n",
    "import matplotlib.pyplot as plt\n",
    "import matplotlib.animation as animation\n",
    "import numpy as np\n",
    "import math\n",
    "import pandas as pd\n",
    "\n",
    "from Tarjet import *\n",
    "from Phisicsparams import *\n",
    "from utils import *\n",
    "from MTMM import *\n",
    "from tqdm import tqdm\n",
    "\n",
    "from multiresglonet import GLOnet\n",
    "from material_database import MatDatabase\n"
   ]
  },
  {
   "cell_type": "code",
   "execution_count": 22,
   "metadata": {},
   "outputs": [],
   "source": [
    "from typing import TypeVarTuple\n",
    "\n",
    "\n",
    "params = Params()\n",
    "params.thickness_sup = 0.1\n",
    "params.N_layers = 10\n",
    "\n",
    "#--------------------------------------------------------------------------------------------------------------------------------------------------------------------------------------------------------\n",
    "params.materials = ['Al2O3','TiO2', 'SiO2']\n",
    "params.user_define = True\n",
    "if params.user_define:\n",
    "  params.n_min = 1.09\n",
    "  params.n_max = 2.6\n",
    "  params.M_discretion_n = 100\n",
    "  params.M_materials = params.M_discretion_n\n",
    "  params.n_database = torch.tensor(np.array([np.linspace(params.n_min,params.n_max,params.M_discretion_n)]))\n",
    "else:\n",
    "  pass # definirlo en otro lado\n",
    "#---------------------------------------------------------------------------------------------------------------------------------------------------------------------------------------------\n",
    "\n",
    "params.alpha_sup =  15\n",
    "params.numIter = 125\n",
    "params.sigma = 0.035\n",
    "params.batch_size = 100\n",
    "#---------------------------------------------------------------------------------------------------------------------------------------------------------------------------------------------------------\n",
    "params.net = 'Res'\n",
    "params.res_layers = 16                                                                             # Cantidad de bloques Residuales del bloque ResNet\n",
    "params.res_dim = 256                                                                               # Cantidad de neuronas en la capa de entrada al bloque ResNet\n",
    "params.noise_dim = 26                                                                              # Dimension de la Capa de entrada\n",
    "params.lr = 0.05                                                                                   # Tasa de aprendizaje del optimizador Adam (learning rate)\n",
    "params.beta1 = 0.9                                                                                 # Coeficiente de decaimiento para el momento del primer orden del optimizador Adam\n",
    "params.beta2 = 0.99                                                                                # Coeficiente de decaimiento para el momento del segundo orden del optimizador Adam\n",
    "params.weight_decay = 0.001                                                                        # Termino de decaimiento del peso para regularizar los pesos del generador durante la optimizacion\n",
    "params.step_size = 40000                                                                           # Numero de epicas despues de las cuales se reduce la tasa de aprendizaje\n",
    "params.gamma = 0.5                                                                                 # El factor de reduccion para la tasa de aprendizaje. Despues de cada step_size epocas, la tasa de aprendizaje se multiplica por gamma\n"
   ]
  },
  {
   "cell_type": "code",
   "execution_count": 23,
   "metadata": {},
   "outputs": [],
   "source": [
    "params.condiciones = 2\n",
    "physicsparams = PhysicsParams(params.condiciones, user_define=True)\n",
    "\n",
    "n_interna = 1.2\n",
    "\n",
    "physicsparams.n_bot_1 = n_interna\n",
    "physicsparams.n_top_1 = 1\n",
    "physicsparams.k_1 = 370\n",
    "physicsparams.k_values.append(physicsparams.k_1)\n",
    "physicsparams.theta_1 = 0\n",
    "physicsparams.lambda_min_1 = 380\n",
    "physicsparams.lambda_max_1 = 750\n",
    "physicsparams.pol_1 = \"TE\"\n",
    "\n",
    "physicsparams.n_bot_2 = 1\n",
    "physicsparams.n_top_2 = n_interna\n",
    "physicsparams.k_2 = 190\n",
    "physicsparams.k_values.append(physicsparams.k_2)\n",
    "physicsparams.theta_2 = 45\n",
    "physicsparams.lambda_min_2 = 380\n",
    "physicsparams.lambda_max_2 = 570\n",
    "physicsparams.pol_2 = \"TE\"\n",
    "\n",
    "physicsparams.generate_physics_params()\n",
    "# physicsparams.view_attributes()\n",
    "\n",
    "tarjet = Tarjet(params.condiciones, physicsparams.k_values, params.user_define)\n",
    "tarjet.configure_targets()\n",
    "\n"
   ]
  },
  {
   "cell_type": "code",
   "execution_count": 24,
   "metadata": {},
   "outputs": [],
   "source": [
    "if not params.user_define:\n",
    "    params.matdatabase =  MatDatabase(params.materials)\n",
    "    params.n_database = params.matdatabase.interp_wv(2 * math.pi/physicsparams.ks, params.materials, True)\n",
    "    params.M_materials =  params.n_database.size(0)"
   ]
  },
  {
   "cell_type": "code",
   "execution_count": 25,
   "metadata": {},
   "outputs": [],
   "source": [
    "\n",
    "tarjet.tarjets[\"tarjet_1\"].view(-1)[190:] = 1\n",
    "\n",
    "tarjet.tarjets[\"tarjet_2\"].view(-1)[115:] = 1\n",
    "\n"
   ]
  },
  {
   "cell_type": "code",
   "execution_count": 26,
   "metadata": {},
   "outputs": [
    {
     "data": {
      "image/png": "[encoded data removed]",
      "text/plain": [
       "<Figure size 1300x300 with 2 Axes>"
      ]
     },
     "metadata": {},
     "output_type": "display_data"
    }
   ],
   "source": [
    "# Subplots para Reflexiones\n",
    "fig, axs = plt.subplots(1, 2, figsize=(13, 3))  # 1 fila, 2 columnas\n",
    "fig.subplots_adjust(wspace=0.4)\n",
    "xlim = (300, 800)\n",
    "ylim = (-0.5, 1.5)\n",
    "vertical_lines = [380, 495, 570, 750]\n",
    "\n",
    "for i, ax in enumerate(axs):\n",
    "    if i == 0:\n",
    "        ax.plot(2 * math.pi / physicsparams.k_1 * 1000, tarjet.tarjets[\"tarjet_1\"].view(-1), \".-\", color=\"red\", label=\"tarjets_reflections_1\")\n",
    "        ax.set_title(\"Reflexion Tarjet 1\", fontsize=20)\n",
    "    elif i == 1:\n",
    "        ax.plot(2 * math.pi / physicsparams.k_2 * 1000, tarjet.tarjets[\"tarjet_2\"].view(-1), \".-\", color=\"green\", label=\"tarjets_reflections_2\")\n",
    "        ax.set_title(\"Reflexion Tarjet 2\", fontsize=20)\n",
    "\n",
    "    ax.set_xlabel(\"Wavelength (nm)\", fontsize=16)\n",
    "    ax.set_ylabel(\"Intensity\", fontsize=16)\n",
    "    ax.legend(fontsize=10)\n",
    "    ax.tick_params(axis='both', which='major', labelsize=14)\n",
    "    ax.set_xlim(xlim)\n",
    "    ax.set_ylim(ylim)\n",
    "\n",
    "    # Agregar líneas verticales punteadas\n",
    "    for line_pos in vertical_lines:\n",
    "        ax.axvline(x=line_pos, linestyle='--', color='gray')\n",
    "\n",
    "# Mostrar la figura de reflexiones\n",
    "plt.show()\n"
   ]
  },
  {
   "cell_type": "code",
   "execution_count": 29,
   "metadata": {},
   "outputs": [
    {
     "name": "stdout",
     "output_type": "stream",
     "text": [
      "Angulo theta_1 :  0.0\n",
      "Sigma:  0.048446940372515415\n"
     ]
    },
    {
     "name": "stderr",
     "output_type": "stream",
     "text": [
      "100%|██████████| 125/125 [01:05<00:00,  1.90it/s]\n"
     ]
    },
    {
     "name": "stdout",
     "output_type": "stream",
     "text": [
      "iteration1\n",
      "Angulo theta_1 :  0.085\n",
      "Sigma:  0.03546144984422847\n"
     ]
    },
    {
     "name": "stderr",
     "output_type": "stream",
     "text": [
      "100%|██████████| 125/125 [01:05<00:00,  1.92it/s]\n"
     ]
    },
    {
     "name": "stdout",
     "output_type": "stream",
     "text": [
      "iteration2\n",
      "Angulo theta_1 :  0.17\n",
      "Sigma:  0.02933114286609996\n"
     ]
    },
    {
     "name": "stderr",
     "output_type": "stream",
     "text": [
      "100%|██████████| 125/125 [01:04<00:00,  1.93it/s]\n"
     ]
    },
    {
     "name": "stdout",
     "output_type": "stream",
     "text": [
      "iteration3\n",
      "Angulo theta_1 :  0.255\n",
      "Sigma:  0.04664195198014188\n"
     ]
    },
    {
     "name": "stderr",
     "output_type": "stream",
     "text": [
      "100%|██████████| 125/125 [01:05<00:00,  1.91it/s]\n"
     ]
    },
    {
     "name": "stdout",
     "output_type": "stream",
     "text": [
      "iteration4\n",
      "Angulo theta_1 :  0.34\n",
      "Sigma:  0.03497148560135636\n"
     ]
    },
    {
     "name": "stderr",
     "output_type": "stream",
     "text": [
      "100%|██████████| 125/125 [01:05<00:00,  1.92it/s]\n"
     ]
    },
    {
     "name": "stdout",
     "output_type": "stream",
     "text": [
      "iteration5\n",
      "Angulo theta_1 :  0.425\n",
      "Sigma:  0.04593486716473519\n"
     ]
    },
    {
     "name": "stderr",
     "output_type": "stream",
     "text": [
      "100%|██████████| 125/125 [01:05<00:00,  1.90it/s]\n"
     ]
    },
    {
     "name": "stdout",
     "output_type": "stream",
     "text": [
      "iteration6\n",
      "Angulo theta_1 :  0.51\n",
      "Sigma:  0.03746353718907063\n"
     ]
    },
    {
     "name": "stderr",
     "output_type": "stream",
     "text": [
      "100%|██████████| 125/125 [01:06<00:00,  1.88it/s]\n"
     ]
    },
    {
     "name": "stdout",
     "output_type": "stream",
     "text": [
      "iteration7\n",
      "Angulo theta_1 :  0.595\n",
      "Sigma:  0.03911065484926101\n"
     ]
    },
    {
     "name": "stderr",
     "output_type": "stream",
     "text": [
      "100%|██████████| 125/125 [01:05<00:00,  1.91it/s]\n"
     ]
    },
    {
     "name": "stdout",
     "output_type": "stream",
     "text": [
      "iteration8\n",
      "Angulo theta_1 :  0.68\n",
      "Sigma:  0.03856218723964963\n"
     ]
    },
    {
     "name": "stderr",
     "output_type": "stream",
     "text": [
      "100%|██████████| 125/125 [01:05<00:00,  1.91it/s]\n"
     ]
    },
    {
     "name": "stdout",
     "output_type": "stream",
     "text": [
      "iteration9\n",
      "Angulo theta_1 :  0.765\n",
      "Sigma:  0.04449635258156498\n"
     ]
    },
    {
     "name": "stderr",
     "output_type": "stream",
     "text": [
      "100%|██████████| 125/125 [01:11<00:00,  1.74it/s]\n"
     ]
    },
    {
     "name": "stdout",
     "output_type": "stream",
     "text": [
      "iteration10\n",
      "Angulo theta_1 :  0.85\n",
      "Sigma:  0.028763446195112383\n"
     ]
    },
    {
     "name": "stderr",
     "output_type": "stream",
     "text": [
      "100%|██████████| 125/125 [01:45<00:00,  1.18it/s]\n"
     ]
    },
    {
     "name": "stdout",
     "output_type": "stream",
     "text": [
      "iteration11\n",
      "Angulo theta_1 :  0.935\n",
      "Sigma:  0.040057431765108266\n"
     ]
    },
    {
     "name": "stderr",
     "output_type": "stream",
     "text": [
      "100%|██████████| 125/125 [01:02<00:00,  1.99it/s]\n"
     ]
    },
    {
     "name": "stdout",
     "output_type": "stream",
     "text": [
      "iteration12\n",
      "Angulo theta_1 :  1.02\n",
      "Sigma:  0.029516290879817463\n"
     ]
    },
    {
     "name": "stderr",
     "output_type": "stream",
     "text": [
      "100%|██████████| 125/125 [01:00<00:00,  2.05it/s]\n"
     ]
    },
    {
     "name": "stdout",
     "output_type": "stream",
     "text": [
      "iteration13\n",
      "Angulo theta_1 :  1.105\n",
      "Sigma:  0.038579624145568384\n"
     ]
    },
    {
     "name": "stderr",
     "output_type": "stream",
     "text": [
      "100%|██████████| 125/125 [01:00<00:00,  2.05it/s]\n"
     ]
    },
    {
     "name": "stdout",
     "output_type": "stream",
     "text": [
      "iteration14\n",
      "Angulo theta_1 :  1.19\n",
      "Sigma:  0.03534712690876074\n"
     ]
    },
    {
     "name": "stderr",
     "output_type": "stream",
     "text": [
      "100%|██████████| 125/125 [01:01<00:00,  2.03it/s]\n"
     ]
    },
    {
     "name": "stdout",
     "output_type": "stream",
     "text": [
      "iteration15\n",
      "Angulo theta_1 :  1.275\n",
      "Sigma:  0.03865179412220132\n"
     ]
    },
    {
     "name": "stderr",
     "output_type": "stream",
     "text": [
      "100%|██████████| 125/125 [01:08<00:00,  1.83it/s]\n"
     ]
    },
    {
     "name": "stdout",
     "output_type": "stream",
     "text": [
      "iteration16\n",
      "Angulo theta_1 :  1.36\n",
      "Sigma:  0.0479170654908575\n"
     ]
    },
    {
     "name": "stderr",
     "output_type": "stream",
     "text": [
      "100%|██████████| 125/125 [01:08<00:00,  1.81it/s]\n"
     ]
    },
    {
     "name": "stdout",
     "output_type": "stream",
     "text": [
      "iteration17\n",
      "Angulo theta_1 :  1.445\n",
      "Sigma:  0.028418225304987287\n"
     ]
    },
    {
     "name": "stderr",
     "output_type": "stream",
     "text": [
      "100%|██████████| 125/125 [01:12<00:00,  1.73it/s]\n"
     ]
    },
    {
     "name": "stdout",
     "output_type": "stream",
     "text": [
      "iteration18\n",
      "Angulo theta_1 :  1.53\n",
      "Sigma:  0.030555364253329814\n"
     ]
    },
    {
     "name": "stderr",
     "output_type": "stream",
     "text": [
      "100%|██████████| 125/125 [01:35<00:00,  1.31it/s]\n"
     ]
    },
    {
     "name": "stdout",
     "output_type": "stream",
     "text": [
      "iteration19\n",
      "Angulo theta_1 :  1.615\n",
      "Sigma:  0.0479345989733154\n"
     ]
    },
    {
     "name": "stderr",
     "output_type": "stream",
     "text": [
      "100%|██████████| 125/125 [01:49<00:00,  1.14it/s]\n"
     ]
    },
    {
     "name": "stdout",
     "output_type": "stream",
     "text": [
      "iteration20\n",
      "Angulo theta_1 :  1.7\n",
      "Sigma:  0.03156746610235103\n"
     ]
    },
    {
     "name": "stderr",
     "output_type": "stream",
     "text": [
      "100%|██████████| 125/125 [01:43<00:00,  1.21it/s]\n"
     ]
    },
    {
     "name": "stdout",
     "output_type": "stream",
     "text": [
      "iteration21\n",
      "Angulo theta_1 :  1.785\n",
      "Sigma:  0.042324531982177456\n"
     ]
    },
    {
     "name": "stderr",
     "output_type": "stream",
     "text": [
      "100%|██████████| 125/125 [01:29<00:00,  1.40it/s]\n"
     ]
    },
    {
     "name": "stdout",
     "output_type": "stream",
     "text": [
      "iteration22\n",
      "Angulo theta_1 :  1.87\n",
      "Sigma:  0.029856397791961524\n"
     ]
    },
    {
     "name": "stderr",
     "output_type": "stream",
     "text": [
      "100%|██████████| 125/125 [01:03<00:00,  1.98it/s]\n"
     ]
    },
    {
     "name": "stdout",
     "output_type": "stream",
     "text": [
      "iteration23\n",
      "Angulo theta_1 :  1.955\n",
      "Sigma:  0.04512782169537688\n"
     ]
    },
    {
     "name": "stderr",
     "output_type": "stream",
     "text": [
      "100%|██████████| 125/125 [01:01<00:00,  2.02it/s]\n"
     ]
    },
    {
     "name": "stdout",
     "output_type": "stream",
     "text": [
      "iteration24\n",
      "Angulo theta_1 :  2.04\n",
      "Sigma:  0.026248245641545504\n"
     ]
    },
    {
     "name": "stderr",
     "output_type": "stream",
     "text": [
      "100%|██████████| 125/125 [01:03<00:00,  1.95it/s]\n"
     ]
    },
    {
     "name": "stdout",
     "output_type": "stream",
     "text": [
      "iteration25\n",
      "Angulo theta_1 :  2.125\n",
      "Sigma:  0.038923385776238426\n"
     ]
    },
    {
     "name": "stderr",
     "output_type": "stream",
     "text": [
      "100%|██████████| 125/125 [01:08<00:00,  1.83it/s]\n"
     ]
    },
    {
     "name": "stdout",
     "output_type": "stream",
     "text": [
      "iteration26\n",
      "Angulo theta_1 :  2.21\n",
      "Sigma:  0.04258235032003878\n"
     ]
    },
    {
     "name": "stderr",
     "output_type": "stream",
     "text": [
      "100%|██████████| 125/125 [01:03<00:00,  1.98it/s]\n"
     ]
    },
    {
     "name": "stdout",
     "output_type": "stream",
     "text": [
      "iteration27\n",
      "Angulo theta_1 :  2.295\n",
      "Sigma:  0.04591089574426804\n"
     ]
    },
    {
     "name": "stderr",
     "output_type": "stream",
     "text": [
      "100%|██████████| 125/125 [01:02<00:00,  1.99it/s]\n"
     ]
    },
    {
     "name": "stdout",
     "output_type": "stream",
     "text": [
      "iteration28\n",
      "Angulo theta_1 :  2.38\n",
      "Sigma:  0.031633048095186994\n"
     ]
    },
    {
     "name": "stderr",
     "output_type": "stream",
     "text": [
      "100%|██████████| 125/125 [01:03<00:00,  1.97it/s]\n"
     ]
    },
    {
     "name": "stdout",
     "output_type": "stream",
     "text": [
      "iteration29\n",
      "Angulo theta_1 :  2.465\n",
      "Sigma:  0.0349946396707526\n"
     ]
    },
    {
     "name": "stderr",
     "output_type": "stream",
     "text": [
      "100%|██████████| 125/125 [01:04<00:00,  1.94it/s]\n"
     ]
    },
    {
     "name": "stdout",
     "output_type": "stream",
     "text": [
      "iteration30\n",
      "Angulo theta_1 :  2.55\n",
      "Sigma:  0.04220496160923297\n"
     ]
    },
    {
     "name": "stderr",
     "output_type": "stream",
     "text": [
      "100%|██████████| 125/125 [01:02<00:00,  2.01it/s]\n"
     ]
    },
    {
     "name": "stdout",
     "output_type": "stream",
     "text": [
      "iteration31\n",
      "Angulo theta_1 :  2.635\n",
      "Sigma:  0.038384860516723227\n"
     ]
    },
    {
     "name": "stderr",
     "output_type": "stream",
     "text": [
      "100%|██████████| 125/125 [01:04<00:00,  1.95it/s]\n"
     ]
    },
    {
     "name": "stdout",
     "output_type": "stream",
     "text": [
      "iteration32\n",
      "Angulo theta_1 :  2.72\n",
      "Sigma:  0.030784998928660767\n"
     ]
    },
    {
     "name": "stderr",
     "output_type": "stream",
     "text": [
      "100%|██████████| 125/125 [01:03<00:00,  1.97it/s]\n"
     ]
    },
    {
     "name": "stdout",
     "output_type": "stream",
     "text": [
      "iteration33\n",
      "Angulo theta_1 :  2.805\n",
      "Sigma:  0.038521779460076046\n"
     ]
    },
    {
     "name": "stderr",
     "output_type": "stream",
     "text": [
      "100%|██████████| 125/125 [01:03<00:00,  1.96it/s]\n"
     ]
    },
    {
     "name": "stdout",
     "output_type": "stream",
     "text": [
      "iteration34\n",
      "Angulo theta_1 :  2.89\n",
      "Sigma:  0.03818016269243289\n"
     ]
    },
    {
     "name": "stderr",
     "output_type": "stream",
     "text": [
      "100%|██████████| 125/125 [01:02<00:00,  2.00it/s]\n"
     ]
    },
    {
     "name": "stdout",
     "output_type": "stream",
     "text": [
      "iteration35\n",
      "Angulo theta_1 :  2.975\n",
      "Sigma:  0.041785662922655745\n"
     ]
    },
    {
     "name": "stderr",
     "output_type": "stream",
     "text": [
      "100%|██████████| 125/125 [01:03<00:00,  1.96it/s]\n"
     ]
    },
    {
     "name": "stdout",
     "output_type": "stream",
     "text": [
      "iteration36\n",
      "Angulo theta_1 :  3.06\n",
      "Sigma:  0.04581327779010888\n"
     ]
    },
    {
     "name": "stderr",
     "output_type": "stream",
     "text": [
      "100%|██████████| 125/125 [01:02<00:00,  2.01it/s]\n"
     ]
    },
    {
     "name": "stdout",
     "output_type": "stream",
     "text": [
      "iteration37\n",
      "Angulo theta_1 :  3.145\n",
      "Sigma:  0.04796396866281239\n"
     ]
    },
    {
     "name": "stderr",
     "output_type": "stream",
     "text": [
      "100%|██████████| 125/125 [01:10<00:00,  1.78it/s]\n"
     ]
    },
    {
     "name": "stdout",
     "output_type": "stream",
     "text": [
      "iteration38\n",
      "Angulo theta_1 :  3.23\n",
      "Sigma:  0.0352002064222645\n"
     ]
    },
    {
     "name": "stderr",
     "output_type": "stream",
     "text": [
      "100%|██████████| 125/125 [01:15<00:00,  1.66it/s]\n"
     ]
    },
    {
     "name": "stdout",
     "output_type": "stream",
     "text": [
      "iteration39\n",
      "Angulo theta_1 :  3.315\n",
      "Sigma:  0.04007147750758455\n"
     ]
    },
    {
     "name": "stderr",
     "output_type": "stream",
     "text": [
      "100%|██████████| 125/125 [01:16<00:00,  1.63it/s]\n"
     ]
    },
    {
     "name": "stdout",
     "output_type": "stream",
     "text": [
      "iteration40\n",
      "Angulo theta_1 :  3.4\n",
      "Sigma:  0.02804266235896736\n"
     ]
    },
    {
     "name": "stderr",
     "output_type": "stream",
     "text": [
      "100%|██████████| 125/125 [01:06<00:00,  1.89it/s]\n"
     ]
    },
    {
     "name": "stdout",
     "output_type": "stream",
     "text": [
      "iteration41\n",
      "Angulo theta_1 :  3.485\n",
      "Sigma:  0.04876615053236394\n"
     ]
    },
    {
     "name": "stderr",
     "output_type": "stream",
     "text": [
      "100%|██████████| 125/125 [01:02<00:00,  2.01it/s]\n"
     ]
    },
    {
     "name": "stdout",
     "output_type": "stream",
     "text": [
      "iteration42\n",
      "Angulo theta_1 :  3.57\n",
      "Sigma:  0.040209859394542836\n"
     ]
    },
    {
     "name": "stderr",
     "output_type": "stream",
     "text": [
      "100%|██████████| 125/125 [01:00<00:00,  2.06it/s]\n"
     ]
    },
    {
     "name": "stdout",
     "output_type": "stream",
     "text": [
      "iteration43\n",
      "Angulo theta_1 :  3.655\n",
      "Sigma:  0.026646444706569804\n"
     ]
    },
    {
     "name": "stderr",
     "output_type": "stream",
     "text": [
      "100%|██████████| 125/125 [01:10<00:00,  1.78it/s]\n"
     ]
    },
    {
     "name": "stdout",
     "output_type": "stream",
     "text": [
      "iteration44\n",
      "Angulo theta_1 :  3.74\n",
      "Sigma:  0.027140041634648383\n"
     ]
    },
    {
     "name": "stderr",
     "output_type": "stream",
     "text": [
      "100%|██████████| 125/125 [01:05<00:00,  1.90it/s]\n"
     ]
    },
    {
     "name": "stdout",
     "output_type": "stream",
     "text": [
      "iteration45\n",
      "Angulo theta_1 :  3.825\n",
      "Sigma:  0.03573761897663502\n"
     ]
    },
    {
     "name": "stderr",
     "output_type": "stream",
     "text": [
      "100%|██████████| 125/125 [01:07<00:00,  1.85it/s]\n"
     ]
    },
    {
     "name": "stdout",
     "output_type": "stream",
     "text": [
      "iteration46\n",
      "Angulo theta_1 :  3.91\n",
      "Sigma:  0.027002075281186467\n"
     ]
    },
    {
     "name": "stderr",
     "output_type": "stream",
     "text": [
      "100%|██████████| 125/125 [01:05<00:00,  1.92it/s]\n"
     ]
    },
    {
     "name": "stdout",
     "output_type": "stream",
     "text": [
      "iteration47\n",
      "Angulo theta_1 :  3.995\n",
      "Sigma:  0.03914787082224251\n"
     ]
    },
    {
     "name": "stderr",
     "output_type": "stream",
     "text": [
      "100%|██████████| 125/125 [01:02<00:00,  2.01it/s]\n"
     ]
    },
    {
     "name": "stdout",
     "output_type": "stream",
     "text": [
      "iteration48\n",
      "Angulo theta_1 :  4.08\n",
      "Sigma:  0.04304692128269168\n"
     ]
    },
    {
     "name": "stderr",
     "output_type": "stream",
     "text": [
      "100%|██████████| 125/125 [01:02<00:00,  2.00it/s]\n"
     ]
    },
    {
     "name": "stdout",
     "output_type": "stream",
     "text": [
      "iteration49\n",
      "Angulo theta_1 :  4.165\n",
      "Sigma:  0.04420626062337661\n"
     ]
    },
    {
     "name": "stderr",
     "output_type": "stream",
     "text": [
      "100%|██████████| 125/125 [01:00<00:00,  2.07it/s]\n"
     ]
    },
    {
     "name": "stdout",
     "output_type": "stream",
     "text": [
      "iteration50\n",
      "Angulo theta_1 :  4.25\n",
      "Sigma:  0.04352896805335888\n"
     ]
    },
    {
     "name": "stderr",
     "output_type": "stream",
     "text": [
      "100%|██████████| 125/125 [01:05<00:00,  1.90it/s]\n"
     ]
    },
    {
     "name": "stdout",
     "output_type": "stream",
     "text": [
      "iteration51\n",
      "Angulo theta_1 :  4.335\n",
      "Sigma:  0.036979534574476884\n"
     ]
    },
    {
     "name": "stderr",
     "output_type": "stream",
     "text": [
      "100%|██████████| 125/125 [01:02<00:00,  2.00it/s]\n"
     ]
    },
    {
     "name": "stdout",
     "output_type": "stream",
     "text": [
      "iteration52\n",
      "Angulo theta_1 :  4.42\n",
      "Sigma:  0.03204465386740894\n"
     ]
    },
    {
     "name": "stderr",
     "output_type": "stream",
     "text": [
      "100%|██████████| 125/125 [01:00<00:00,  2.07it/s]\n"
     ]
    },
    {
     "name": "stdout",
     "output_type": "stream",
     "text": [
      "iteration53\n",
      "Angulo theta_1 :  4.505\n",
      "Sigma:  0.03104367906106059\n"
     ]
    },
    {
     "name": "stderr",
     "output_type": "stream",
     "text": [
      "100%|██████████| 125/125 [01:03<00:00,  1.98it/s]\n"
     ]
    },
    {
     "name": "stdout",
     "output_type": "stream",
     "text": [
      "iteration54\n",
      "Angulo theta_1 :  4.59\n",
      "Sigma:  0.03236990643455595\n"
     ]
    },
    {
     "name": "stderr",
     "output_type": "stream",
     "text": [
      "100%|██████████| 125/125 [01:00<00:00,  2.06it/s]\n"
     ]
    },
    {
     "name": "stdout",
     "output_type": "stream",
     "text": [
      "iteration55\n",
      "Angulo theta_1 :  4.675\n",
      "Sigma:  0.03176395920647919\n"
     ]
    },
    {
     "name": "stderr",
     "output_type": "stream",
     "text": [
      "100%|██████████| 125/125 [01:00<00:00,  2.07it/s]\n"
     ]
    },
    {
     "name": "stdout",
     "output_type": "stream",
     "text": [
      "iteration56\n",
      "Angulo theta_1 :  4.76\n",
      "Sigma:  0.04779391272434574\n"
     ]
    },
    {
     "name": "stderr",
     "output_type": "stream",
     "text": [
      "100%|██████████| 125/125 [01:00<00:00,  2.05it/s]\n"
     ]
    },
    {
     "name": "stdout",
     "output_type": "stream",
     "text": [
      "iteration57\n",
      "Angulo theta_1 :  4.845\n",
      "Sigma:  0.03623219885339714\n"
     ]
    },
    {
     "name": "stderr",
     "output_type": "stream",
     "text": [
      "100%|██████████| 125/125 [01:01<00:00,  2.03it/s]\n"
     ]
    },
    {
     "name": "stdout",
     "output_type": "stream",
     "text": [
      "iteration58\n",
      "Angulo theta_1 :  4.93\n",
      "Sigma:  0.03633287296649761\n"
     ]
    },
    {
     "name": "stderr",
     "output_type": "stream",
     "text": [
      "100%|██████████| 125/125 [01:01<00:00,  2.05it/s]\n"
     ]
    },
    {
     "name": "stdout",
     "output_type": "stream",
     "text": [
      "iteration59\n",
      "Angulo theta_1 :  5.015\n",
      "Sigma:  0.049862330763244346\n"
     ]
    },
    {
     "name": "stderr",
     "output_type": "stream",
     "text": [
      "100%|██████████| 125/125 [01:08<00:00,  1.84it/s]\n"
     ]
    },
    {
     "name": "stdout",
     "output_type": "stream",
     "text": [
      "iteration60\n",
      "Angulo theta_1 :  5.1\n",
      "Sigma:  0.04551849015604846\n"
     ]
    },
    {
     "name": "stderr",
     "output_type": "stream",
     "text": [
      "100%|██████████| 125/125 [01:11<00:00,  1.76it/s]\n"
     ]
    },
    {
     "name": "stdout",
     "output_type": "stream",
     "text": [
      "iteration61\n",
      "Angulo theta_1 :  5.185\n",
      "Sigma:  0.04425367104730726\n"
     ]
    },
    {
     "name": "stderr",
     "output_type": "stream",
     "text": [
      "100%|██████████| 125/125 [01:21<00:00,  1.54it/s]\n"
     ]
    },
    {
     "name": "stdout",
     "output_type": "stream",
     "text": [
      "iteration62\n",
      "Angulo theta_1 :  5.27\n",
      "Sigma:  0.02502513478212591\n"
     ]
    },
    {
     "name": "stderr",
     "output_type": "stream",
     "text": [
      "100%|██████████| 125/125 [01:05<00:00,  1.91it/s]\n"
     ]
    },
    {
     "name": "stdout",
     "output_type": "stream",
     "text": [
      "iteration63\n",
      "Angulo theta_1 :  5.355\n",
      "Sigma:  0.03101388151163055\n"
     ]
    },
    {
     "name": "stderr",
     "output_type": "stream",
     "text": [
      "100%|██████████| 125/125 [01:04<00:00,  1.94it/s]\n"
     ]
    },
    {
     "name": "stdout",
     "output_type": "stream",
     "text": [
      "iteration64\n",
      "Angulo theta_1 :  5.44\n",
      "Sigma:  0.038869673899218984\n"
     ]
    },
    {
     "name": "stderr",
     "output_type": "stream",
     "text": [
      "100%|██████████| 125/125 [01:06<00:00,  1.87it/s]\n"
     ]
    },
    {
     "name": "stdout",
     "output_type": "stream",
     "text": [
      "iteration65\n",
      "Angulo theta_1 :  5.525\n",
      "Sigma:  0.047818166344406915\n"
     ]
    },
    {
     "name": "stderr",
     "output_type": "stream",
     "text": [
      "100%|██████████| 125/125 [01:04<00:00,  1.95it/s]\n"
     ]
    },
    {
     "name": "stdout",
     "output_type": "stream",
     "text": [
      "iteration66\n",
      "Angulo theta_1 :  5.61\n",
      "Sigma:  0.04324866822857564\n"
     ]
    },
    {
     "name": "stderr",
     "output_type": "stream",
     "text": [
      "100%|██████████| 125/125 [01:04<00:00,  1.95it/s]\n"
     ]
    },
    {
     "name": "stdout",
     "output_type": "stream",
     "text": [
      "iteration67\n",
      "Angulo theta_1 :  5.695\n",
      "Sigma:  0.04410634222338481\n"
     ]
    },
    {
     "name": "stderr",
     "output_type": "stream",
     "text": [
      "100%|██████████| 125/125 [01:06<00:00,  1.89it/s]\n"
     ]
    },
    {
     "name": "stdout",
     "output_type": "stream",
     "text": [
      "iteration68\n",
      "Angulo theta_1 :  5.78\n",
      "Sigma:  0.02756214697072544\n"
     ]
    },
    {
     "name": "stderr",
     "output_type": "stream",
     "text": [
      "100%|██████████| 125/125 [01:04<00:00,  1.94it/s]\n"
     ]
    },
    {
     "name": "stdout",
     "output_type": "stream",
     "text": [
      "iteration69\n",
      "Angulo theta_1 :  5.865\n",
      "Sigma:  0.04484160806222609\n"
     ]
    },
    {
     "name": "stderr",
     "output_type": "stream",
     "text": [
      "100%|██████████| 125/125 [01:04<00:00,  1.93it/s]\n"
     ]
    },
    {
     "name": "stdout",
     "output_type": "stream",
     "text": [
      "iteration70\n",
      "Angulo theta_1 :  5.95\n",
      "Sigma:  0.03864299259095608\n"
     ]
    },
    {
     "name": "stderr",
     "output_type": "stream",
     "text": [
      "100%|██████████| 125/125 [01:05<00:00,  1.92it/s]\n"
     ]
    },
    {
     "name": "stdout",
     "output_type": "stream",
     "text": [
      "iteration71\n",
      "Angulo theta_1 :  6.035\n",
      "Sigma:  0.04802778987397444\n"
     ]
    },
    {
     "name": "stderr",
     "output_type": "stream",
     "text": [
      "100%|██████████| 125/125 [01:05<00:00,  1.90it/s]\n"
     ]
    },
    {
     "name": "stdout",
     "output_type": "stream",
     "text": [
      "iteration72\n",
      "Angulo theta_1 :  6.12\n",
      "Sigma:  0.02969225937368673\n"
     ]
    },
    {
     "name": "stderr",
     "output_type": "stream",
     "text": [
      "100%|██████████| 125/125 [01:04<00:00,  1.95it/s]\n"
     ]
    },
    {
     "name": "stdout",
     "output_type": "stream",
     "text": [
      "iteration73\n",
      "Angulo theta_1 :  6.205\n",
      "Sigma:  0.040590997939368524\n"
     ]
    },
    {
     "name": "stderr",
     "output_type": "stream",
     "text": [
      "100%|██████████| 125/125 [01:05<00:00,  1.90it/s]\n"
     ]
    },
    {
     "name": "stdout",
     "output_type": "stream",
     "text": [
      "iteration74\n",
      "Angulo theta_1 :  6.29\n",
      "Sigma:  0.04020597131961277\n"
     ]
    },
    {
     "name": "stderr",
     "output_type": "stream",
     "text": [
      "100%|██████████| 125/125 [01:05<00:00,  1.91it/s]\n"
     ]
    },
    {
     "name": "stdout",
     "output_type": "stream",
     "text": [
      "iteration75\n",
      "Angulo theta_1 :  6.375\n",
      "Sigma:  0.02947650571549247\n"
     ]
    },
    {
     "name": "stderr",
     "output_type": "stream",
     "text": [
      "100%|██████████| 125/125 [01:04<00:00,  1.93it/s]\n"
     ]
    },
    {
     "name": "stdout",
     "output_type": "stream",
     "text": [
      "iteration76\n",
      "Angulo theta_1 :  6.46\n",
      "Sigma:  0.035342610947247936\n"
     ]
    },
    {
     "name": "stderr",
     "output_type": "stream",
     "text": [
      "100%|██████████| 125/125 [01:04<00:00,  1.93it/s]\n"
     ]
    },
    {
     "name": "stdout",
     "output_type": "stream",
     "text": [
      "iteration77\n",
      "Angulo theta_1 :  6.545\n",
      "Sigma:  0.04268092167833441\n"
     ]
    },
    {
     "name": "stderr",
     "output_type": "stream",
     "text": [
      "100%|██████████| 125/125 [01:04<00:00,  1.93it/s]\n"
     ]
    },
    {
     "name": "stdout",
     "output_type": "stream",
     "text": [
      "iteration78\n",
      "Angulo theta_1 :  6.63\n",
      "Sigma:  0.0416149996395746\n"
     ]
    },
    {
     "name": "stderr",
     "output_type": "stream",
     "text": [
      "100%|██████████| 125/125 [01:05<00:00,  1.90it/s]\n"
     ]
    },
    {
     "name": "stdout",
     "output_type": "stream",
     "text": [
      "iteration79\n",
      "Angulo theta_1 :  6.715\n",
      "Sigma:  0.030745811486570955\n"
     ]
    },
    {
     "name": "stderr",
     "output_type": "stream",
     "text": [
      "100%|██████████| 125/125 [01:04<00:00,  1.93it/s]\n"
     ]
    },
    {
     "name": "stdout",
     "output_type": "stream",
     "text": [
      "iteration80\n",
      "Angulo theta_1 :  6.8\n",
      "Sigma:  0.042582567996436935\n"
     ]
    },
    {
     "name": "stderr",
     "output_type": "stream",
     "text": [
      "100%|██████████| 125/125 [01:04<00:00,  1.94it/s]\n"
     ]
    },
    {
     "name": "stdout",
     "output_type": "stream",
     "text": [
      "iteration81\n",
      "Angulo theta_1 :  6.885\n",
      "Sigma:  0.02669407600382397\n"
     ]
    },
    {
     "name": "stderr",
     "output_type": "stream",
     "text": [
      "100%|██████████| 125/125 [01:14<00:00,  1.67it/s]\n"
     ]
    },
    {
     "name": "stdout",
     "output_type": "stream",
     "text": [
      "iteration82\n",
      "Angulo theta_1 :  6.97\n",
      "Sigma:  0.04388391705115371\n"
     ]
    },
    {
     "name": "stderr",
     "output_type": "stream",
     "text": [
      "100%|██████████| 125/125 [01:13<00:00,  1.71it/s]\n"
     ]
    },
    {
     "name": "stdout",
     "output_type": "stream",
     "text": [
      "iteration83\n",
      "Angulo theta_1 :  7.055\n",
      "Sigma:  0.02614664553592895\n"
     ]
    },
    {
     "name": "stderr",
     "output_type": "stream",
     "text": [
      "100%|██████████| 125/125 [01:07<00:00,  1.85it/s]\n"
     ]
    },
    {
     "name": "stdout",
     "output_type": "stream",
     "text": [
      "iteration84\n",
      "Angulo theta_1 :  7.14\n",
      "Sigma:  0.04026364261754408\n"
     ]
    },
    {
     "name": "stderr",
     "output_type": "stream",
     "text": [
      "100%|██████████| 125/125 [01:07<00:00,  1.86it/s]\n"
     ]
    },
    {
     "name": "stdout",
     "output_type": "stream",
     "text": [
      "iteration85\n",
      "Angulo theta_1 :  7.225\n",
      "Sigma:  0.04449930823870033\n"
     ]
    },
    {
     "name": "stderr",
     "output_type": "stream",
     "text": [
      "100%|██████████| 125/125 [01:15<00:00,  1.65it/s]\n"
     ]
    },
    {
     "name": "stdout",
     "output_type": "stream",
     "text": [
      "iteration86\n",
      "Angulo theta_1 :  7.31\n",
      "Sigma:  0.03520641380874985\n"
     ]
    },
    {
     "name": "stderr",
     "output_type": "stream",
     "text": [
      "100%|██████████| 125/125 [01:04<00:00,  1.95it/s]\n"
     ]
    },
    {
     "name": "stdout",
     "output_type": "stream",
     "text": [
      "iteration87\n",
      "Angulo theta_1 :  7.395\n",
      "Sigma:  0.046038727712471174\n"
     ]
    },
    {
     "name": "stderr",
     "output_type": "stream",
     "text": [
      "100%|██████████| 125/125 [01:01<00:00,  2.03it/s]\n"
     ]
    },
    {
     "name": "stdout",
     "output_type": "stream",
     "text": [
      "iteration88\n",
      "Angulo theta_1 :  7.48\n",
      "Sigma:  0.02907213160668333\n"
     ]
    },
    {
     "name": "stderr",
     "output_type": "stream",
     "text": [
      "100%|██████████| 125/125 [01:02<00:00,  2.01it/s]\n"
     ]
    },
    {
     "name": "stdout",
     "output_type": "stream",
     "text": [
      "iteration89\n",
      "Angulo theta_1 :  7.565\n",
      "Sigma:  0.025368294261095582\n"
     ]
    },
    {
     "name": "stderr",
     "output_type": "stream",
     "text": [
      "100%|██████████| 125/125 [01:03<00:00,  1.96it/s]\n"
     ]
    },
    {
     "name": "stdout",
     "output_type": "stream",
     "text": [
      "iteration90\n",
      "Angulo theta_1 :  7.65\n",
      "Sigma:  0.04737930889377464\n"
     ]
    },
    {
     "name": "stderr",
     "output_type": "stream",
     "text": [
      "100%|██████████| 125/125 [01:01<00:00,  2.02it/s]\n"
     ]
    },
    {
     "name": "stdout",
     "output_type": "stream",
     "text": [
      "iteration91\n",
      "Angulo theta_1 :  7.735\n",
      "Sigma:  0.041403548539448304\n"
     ]
    },
    {
     "name": "stderr",
     "output_type": "stream",
     "text": [
      "100%|██████████| 125/125 [01:01<00:00,  2.02it/s]\n"
     ]
    },
    {
     "name": "stdout",
     "output_type": "stream",
     "text": [
      "iteration92\n",
      "Angulo theta_1 :  7.82\n",
      "Sigma:  0.041930289519773775\n"
     ]
    },
    {
     "name": "stderr",
     "output_type": "stream",
     "text": [
      "100%|██████████| 125/125 [01:00<00:00,  2.08it/s]\n"
     ]
    },
    {
     "name": "stdout",
     "output_type": "stream",
     "text": [
      "iteration93\n",
      "Angulo theta_1 :  7.905\n",
      "Sigma:  0.030055527877024937\n"
     ]
    },
    {
     "name": "stderr",
     "output_type": "stream",
     "text": [
      "100%|██████████| 125/125 [01:00<00:00,  2.05it/s]\n"
     ]
    },
    {
     "name": "stdout",
     "output_type": "stream",
     "text": [
      "iteration94\n",
      "Angulo theta_1 :  7.99\n",
      "Sigma:  0.027294265904457063\n"
     ]
    },
    {
     "name": "stderr",
     "output_type": "stream",
     "text": [
      "100%|██████████| 125/125 [01:01<00:00,  2.05it/s]\n"
     ]
    },
    {
     "name": "stdout",
     "output_type": "stream",
     "text": [
      "iteration95\n",
      "Angulo theta_1 :  8.075\n",
      "Sigma:  0.027834116108576255\n"
     ]
    },
    {
     "name": "stderr",
     "output_type": "stream",
     "text": [
      "100%|██████████| 125/125 [01:00<00:00,  2.07it/s]\n"
     ]
    },
    {
     "name": "stdout",
     "output_type": "stream",
     "text": [
      "iteration96\n",
      "Angulo theta_1 :  8.16\n",
      "Sigma:  0.034201890647889595\n"
     ]
    },
    {
     "name": "stderr",
     "output_type": "stream",
     "text": [
      "100%|██████████| 125/125 [01:00<00:00,  2.07it/s]\n"
     ]
    },
    {
     "name": "stdout",
     "output_type": "stream",
     "text": [
      "iteration97\n",
      "Angulo theta_1 :  8.245\n",
      "Sigma:  0.038888401502265295\n"
     ]
    },
    {
     "name": "stderr",
     "output_type": "stream",
     "text": [
      "100%|██████████| 125/125 [01:01<00:00,  2.05it/s]\n"
     ]
    },
    {
     "name": "stdout",
     "output_type": "stream",
     "text": [
      "iteration98\n",
      "Angulo theta_1 :  8.33\n",
      "Sigma:  0.03351224121817976\n"
     ]
    },
    {
     "name": "stderr",
     "output_type": "stream",
     "text": [
      "100%|██████████| 125/125 [01:00<00:00,  2.05it/s]\n"
     ]
    },
    {
     "name": "stdout",
     "output_type": "stream",
     "text": [
      "iteration99\n",
      "Angulo theta_1 :  8.415\n",
      "Sigma:  0.04634395814048978\n"
     ]
    },
    {
     "name": "stderr",
     "output_type": "stream",
     "text": [
      "100%|██████████| 125/125 [01:00<00:00,  2.06it/s]\n"
     ]
    },
    {
     "name": "stdout",
     "output_type": "stream",
     "text": [
      "iteration100\n",
      "Angulo theta_1 :  8.5\n",
      "Sigma:  0.031238960531480453\n"
     ]
    },
    {
     "name": "stderr",
     "output_type": "stream",
     "text": [
      "100%|██████████| 125/125 [01:01<00:00,  2.05it/s]\n"
     ]
    },
    {
     "name": "stdout",
     "output_type": "stream",
     "text": [
      "iteration101\n",
      "Angulo theta_1 :  8.585\n",
      "Sigma:  0.03456005215048544\n"
     ]
    },
    {
     "name": "stderr",
     "output_type": "stream",
     "text": [
      "100%|██████████| 125/125 [01:00<00:00,  2.06it/s]\n"
     ]
    },
    {
     "name": "stdout",
     "output_type": "stream",
     "text": [
      "iteration102\n",
      "Angulo theta_1 :  8.67\n",
      "Sigma:  0.027441874351381908\n"
     ]
    },
    {
     "name": "stderr",
     "output_type": "stream",
     "text": [
      "100%|██████████| 125/125 [00:59<00:00,  2.08it/s]\n"
     ]
    },
    {
     "name": "stdout",
     "output_type": "stream",
     "text": [
      "iteration103\n",
      "Angulo theta_1 :  8.755\n",
      "Sigma:  0.030532648098295534\n"
     ]
    },
    {
     "name": "stderr",
     "output_type": "stream",
     "text": [
      "100%|██████████| 125/125 [01:01<00:00,  2.04it/s]\n"
     ]
    },
    {
     "name": "stdout",
     "output_type": "stream",
     "text": [
      "iteration104\n",
      "Angulo theta_1 :  8.84\n",
      "Sigma:  0.04724633614007067\n"
     ]
    },
    {
     "name": "stderr",
     "output_type": "stream",
     "text": [
      "100%|██████████| 125/125 [01:04<00:00,  1.93it/s]\n"
     ]
    },
    {
     "name": "stdout",
     "output_type": "stream",
     "text": [
      "iteration105\n",
      "Angulo theta_1 :  8.925\n",
      "Sigma:  0.03293813385948373\n"
     ]
    },
    {
     "name": "stderr",
     "output_type": "stream",
     "text": [
      "100%|██████████| 125/125 [01:06<00:00,  1.89it/s]\n"
     ]
    },
    {
     "name": "stdout",
     "output_type": "stream",
     "text": [
      "iteration106\n",
      "Angulo theta_1 :  9.01\n",
      "Sigma:  0.03330963718347915\n"
     ]
    },
    {
     "name": "stderr",
     "output_type": "stream",
     "text": [
      "100%|██████████| 125/125 [01:06<00:00,  1.88it/s]\n"
     ]
    },
    {
     "name": "stdout",
     "output_type": "stream",
     "text": [
      "iteration107\n",
      "Angulo theta_1 :  9.095\n",
      "Sigma:  0.04920231602113953\n"
     ]
    },
    {
     "name": "stderr",
     "output_type": "stream",
     "text": [
      "100%|██████████| 125/125 [01:06<00:00,  1.88it/s]\n"
     ]
    },
    {
     "name": "stdout",
     "output_type": "stream",
     "text": [
      "iteration108\n",
      "Angulo theta_1 :  9.18\n",
      "Sigma:  0.027507269309111317\n"
     ]
    },
    {
     "name": "stderr",
     "output_type": "stream",
     "text": [
      "100%|██████████| 125/125 [01:03<00:00,  1.96it/s]\n"
     ]
    },
    {
     "name": "stdout",
     "output_type": "stream",
     "text": [
      "iteration109\n",
      "Angulo theta_1 :  9.265\n",
      "Sigma:  0.02600953488055668\n"
     ]
    },
    {
     "name": "stderr",
     "output_type": "stream",
     "text": [
      "100%|██████████| 125/125 [01:01<00:00,  2.05it/s]\n"
     ]
    },
    {
     "name": "stdout",
     "output_type": "stream",
     "text": [
      "iteration110\n",
      "Angulo theta_1 :  9.35\n",
      "Sigma:  0.029794990142750333\n"
     ]
    },
    {
     "name": "stderr",
     "output_type": "stream",
     "text": [
      "100%|██████████| 125/125 [01:02<00:00,  2.00it/s]\n"
     ]
    },
    {
     "name": "stdout",
     "output_type": "stream",
     "text": [
      "iteration111\n",
      "Angulo theta_1 :  9.435\n",
      "Sigma:  0.031994746625012366\n"
     ]
    },
    {
     "name": "stderr",
     "output_type": "stream",
     "text": [
      "100%|██████████| 125/125 [01:00<00:00,  2.05it/s]\n"
     ]
    },
    {
     "name": "stdout",
     "output_type": "stream",
     "text": [
      "iteration112\n",
      "Angulo theta_1 :  9.52\n",
      "Sigma:  0.026894476290942736\n"
     ]
    },
    {
     "name": "stderr",
     "output_type": "stream",
     "text": [
      "100%|██████████| 125/125 [01:10<00:00,  1.77it/s]\n"
     ]
    },
    {
     "name": "stdout",
     "output_type": "stream",
     "text": [
      "iteration113\n",
      "Angulo theta_1 :  9.605\n",
      "Sigma:  0.028133727070202466\n"
     ]
    },
    {
     "name": "stderr",
     "output_type": "stream",
     "text": [
      "100%|██████████| 125/125 [01:01<00:00,  2.04it/s]\n"
     ]
    },
    {
     "name": "stdout",
     "output_type": "stream",
     "text": [
      "iteration114\n",
      "Angulo theta_1 :  9.69\n",
      "Sigma:  0.0399214254453214\n"
     ]
    },
    {
     "name": "stderr",
     "output_type": "stream",
     "text": [
      "100%|██████████| 125/125 [01:00<00:00,  2.05it/s]\n"
     ]
    },
    {
     "name": "stdout",
     "output_type": "stream",
     "text": [
      "iteration115\n",
      "Angulo theta_1 :  9.775\n",
      "Sigma:  0.02632680363175214\n"
     ]
    },
    {
     "name": "stderr",
     "output_type": "stream",
     "text": [
      "100%|██████████| 125/125 [00:59<00:00,  2.09it/s]\n"
     ]
    },
    {
     "name": "stdout",
     "output_type": "stream",
     "text": [
      "iteration116\n",
      "Angulo theta_1 :  9.86\n",
      "Sigma:  0.046079283463170334\n"
     ]
    },
    {
     "name": "stderr",
     "output_type": "stream",
     "text": [
      "100%|██████████| 125/125 [01:07<00:00,  1.86it/s]\n"
     ]
    },
    {
     "name": "stdout",
     "output_type": "stream",
     "text": [
      "iteration117\n",
      "Angulo theta_1 :  9.945\n",
      "Sigma:  0.028366136235765685\n"
     ]
    },
    {
     "name": "stderr",
     "output_type": "stream",
     "text": [
      "100%|██████████| 125/125 [01:01<00:00,  2.05it/s]\n"
     ]
    },
    {
     "name": "stdout",
     "output_type": "stream",
     "text": [
      "iteration118\n",
      "Angulo theta_1 :  10.03\n",
      "Sigma:  0.038456457643992505\n"
     ]
    },
    {
     "name": "stderr",
     "output_type": "stream",
     "text": [
      "100%|██████████| 125/125 [01:01<00:00,  2.04it/s]\n"
     ]
    },
    {
     "name": "stdout",
     "output_type": "stream",
     "text": [
      "iteration119\n",
      "Angulo theta_1 :  10.115\n",
      "Sigma:  0.027416196046679102\n"
     ]
    },
    {
     "name": "stderr",
     "output_type": "stream",
     "text": [
      "100%|██████████| 125/125 [01:51<00:00,  1.12it/s]\n"
     ]
    },
    {
     "name": "stdout",
     "output_type": "stream",
     "text": [
      "iteration120\n",
      "Angulo theta_1 :  10.2\n",
      "Sigma:  0.043044948871965055\n"
     ]
    },
    {
     "name": "stderr",
     "output_type": "stream",
     "text": [
      "100%|██████████| 125/125 [01:36<00:00,  1.29it/s]\n"
     ]
    },
    {
     "name": "stdout",
     "output_type": "stream",
     "text": [
      "iteration121\n",
      "Angulo theta_1 :  10.285\n",
      "Sigma:  0.03414315340341844\n"
     ]
    },
    {
     "name": "stderr",
     "output_type": "stream",
     "text": [
      "100%|██████████| 125/125 [01:27<00:00,  1.42it/s]\n"
     ]
    },
    {
     "name": "stdout",
     "output_type": "stream",
     "text": [
      "iteration122\n",
      "Angulo theta_1 :  10.37\n",
      "Sigma:  0.041825810456645865\n"
     ]
    },
    {
     "name": "stderr",
     "output_type": "stream",
     "text": [
      "100%|██████████| 125/125 [01:18<00:00,  1.59it/s]\n"
     ]
    },
    {
     "name": "stdout",
     "output_type": "stream",
     "text": [
      "iteration123\n",
      "Angulo theta_1 :  10.455\n",
      "Sigma:  0.04122912672817045\n"
     ]
    },
    {
     "name": "stderr",
     "output_type": "stream",
     "text": [
      "100%|██████████| 125/125 [01:14<00:00,  1.67it/s]\n"
     ]
    },
    {
     "name": "stdout",
     "output_type": "stream",
     "text": [
      "iteration124\n",
      "Angulo theta_1 :  10.54\n",
      "Sigma:  0.027804705659617752\n"
     ]
    },
    {
     "name": "stderr",
     "output_type": "stream",
     "text": [
      "100%|██████████| 125/125 [01:13<00:00,  1.70it/s]\n"
     ]
    },
    {
     "name": "stdout",
     "output_type": "stream",
     "text": [
      "iteration125\n",
      "Angulo theta_1 :  10.625\n",
      "Sigma:  0.03918302245494849\n"
     ]
    },
    {
     "name": "stderr",
     "output_type": "stream",
     "text": [
      "100%|██████████| 125/125 [01:13<00:00,  1.69it/s]\n"
     ]
    },
    {
     "name": "stdout",
     "output_type": "stream",
     "text": [
      "iteration126\n",
      "Angulo theta_1 :  10.71\n",
      "Sigma:  0.03422470228846893\n"
     ]
    },
    {
     "name": "stderr",
     "output_type": "stream",
     "text": [
      "100%|██████████| 125/125 [01:13<00:00,  1.71it/s]\n"
     ]
    },
    {
     "name": "stdout",
     "output_type": "stream",
     "text": [
      "iteration127\n",
      "Angulo theta_1 :  10.795\n",
      "Sigma:  0.03782086106868885\n"
     ]
    },
    {
     "name": "stderr",
     "output_type": "stream",
     "text": [
      "100%|██████████| 125/125 [01:14<00:00,  1.68it/s]\n"
     ]
    },
    {
     "name": "stdout",
     "output_type": "stream",
     "text": [
      "iteration128\n",
      "Angulo theta_1 :  10.88\n",
      "Sigma:  0.049974513568295506\n"
     ]
    },
    {
     "name": "stderr",
     "output_type": "stream",
     "text": [
      "100%|██████████| 125/125 [01:23<00:00,  1.50it/s]\n"
     ]
    },
    {
     "name": "stdout",
     "output_type": "stream",
     "text": [
      "iteration129\n",
      "Angulo theta_1 :  10.965\n",
      "Sigma:  0.046586347406512865\n"
     ]
    },
    {
     "name": "stderr",
     "output_type": "stream",
     "text": [
      "100%|██████████| 125/125 [01:13<00:00,  1.71it/s]\n"
     ]
    },
    {
     "name": "stdout",
     "output_type": "stream",
     "text": [
      "iteration130\n",
      "Angulo theta_1 :  11.05\n",
      "Sigma:  0.04272927310561963\n"
     ]
    },
    {
     "name": "stderr",
     "output_type": "stream",
     "text": [
      "100%|██████████| 125/125 [01:12<00:00,  1.74it/s]\n"
     ]
    },
    {
     "name": "stdout",
     "output_type": "stream",
     "text": [
      "iteration131\n",
      "Angulo theta_1 :  11.135\n",
      "Sigma:  0.04060939975202106\n"
     ]
    },
    {
     "name": "stderr",
     "output_type": "stream",
     "text": [
      "100%|██████████| 125/125 [01:10<00:00,  1.77it/s]\n"
     ]
    },
    {
     "name": "stdout",
     "output_type": "stream",
     "text": [
      "iteration132\n",
      "Angulo theta_1 :  11.22\n",
      "Sigma:  0.0340635202572573\n"
     ]
    },
    {
     "name": "stderr",
     "output_type": "stream",
     "text": [
      "100%|██████████| 125/125 [01:11<00:00,  1.75it/s]\n"
     ]
    },
    {
     "name": "stdout",
     "output_type": "stream",
     "text": [
      "iteration133\n",
      "Angulo theta_1 :  11.305\n",
      "Sigma:  0.02620932834014074\n"
     ]
    },
    {
     "name": "stderr",
     "output_type": "stream",
     "text": [
      "100%|██████████| 125/125 [01:11<00:00,  1.75it/s]\n"
     ]
    },
    {
     "name": "stdout",
     "output_type": "stream",
     "text": [
      "iteration134\n",
      "Angulo theta_1 :  11.39\n",
      "Sigma:  0.04672998783775666\n"
     ]
    },
    {
     "name": "stderr",
     "output_type": "stream",
     "text": [
      "100%|██████████| 125/125 [01:22<00:00,  1.51it/s]\n"
     ]
    },
    {
     "name": "stdout",
     "output_type": "stream",
     "text": [
      "iteration135\n",
      "Angulo theta_1 :  11.475\n",
      "Sigma:  0.03585306807147317\n"
     ]
    },
    {
     "name": "stderr",
     "output_type": "stream",
     "text": [
      "100%|██████████| 125/125 [01:11<00:00,  1.75it/s]\n"
     ]
    },
    {
     "name": "stdout",
     "output_type": "stream",
     "text": [
      "iteration136\n",
      "Angulo theta_1 :  11.56\n",
      "Sigma:  0.040235758597254444\n"
     ]
    },
    {
     "name": "stderr",
     "output_type": "stream",
     "text": [
      "100%|██████████| 125/125 [01:07<00:00,  1.85it/s]\n"
     ]
    },
    {
     "name": "stdout",
     "output_type": "stream",
     "text": [
      "iteration137\n",
      "Angulo theta_1 :  11.645\n",
      "Sigma:  0.03032515686398298\n"
     ]
    },
    {
     "name": "stderr",
     "output_type": "stream",
     "text": [
      "100%|██████████| 125/125 [01:08<00:00,  1.82it/s]\n"
     ]
    },
    {
     "name": "stdout",
     "output_type": "stream",
     "text": [
      "iteration138\n",
      "Angulo theta_1 :  11.73\n",
      "Sigma:  0.026273816841730514\n"
     ]
    },
    {
     "name": "stderr",
     "output_type": "stream",
     "text": [
      "100%|██████████| 125/125 [01:16<00:00,  1.64it/s]\n"
     ]
    },
    {
     "name": "stdout",
     "output_type": "stream",
     "text": [
      "iteration139\n",
      "Angulo theta_1 :  11.815\n",
      "Sigma:  0.04331398728649231\n"
     ]
    },
    {
     "name": "stderr",
     "output_type": "stream",
     "text": [
      "100%|██████████| 125/125 [01:12<00:00,  1.72it/s]\n"
     ]
    },
    {
     "name": "stdout",
     "output_type": "stream",
     "text": [
      "iteration140\n",
      "Angulo theta_1 :  11.9\n",
      "Sigma:  0.045601781510637235\n"
     ]
    },
    {
     "name": "stderr",
     "output_type": "stream",
     "text": [
      "100%|██████████| 125/125 [01:06<00:00,  1.87it/s]\n"
     ]
    },
    {
     "name": "stdout",
     "output_type": "stream",
     "text": [
      "iteration141\n",
      "Angulo theta_1 :  11.985\n",
      "Sigma:  0.04408309954896496\n"
     ]
    },
    {
     "name": "stderr",
     "output_type": "stream",
     "text": [
      "100%|██████████| 125/125 [01:07<00:00,  1.86it/s]\n"
     ]
    },
    {
     "name": "stdout",
     "output_type": "stream",
     "text": [
      "iteration142\n",
      "Angulo theta_1 :  12.07\n",
      "Sigma:  0.036342352751393435\n"
     ]
    },
    {
     "name": "stderr",
     "output_type": "stream",
     "text": [
      "100%|██████████| 125/125 [01:10<00:00,  1.77it/s]\n"
     ]
    },
    {
     "name": "stdout",
     "output_type": "stream",
     "text": [
      "iteration143\n",
      "Angulo theta_1 :  12.155\n",
      "Sigma:  0.03477758057850598\n"
     ]
    },
    {
     "name": "stderr",
     "output_type": "stream",
     "text": [
      "100%|██████████| 125/125 [01:08<00:00,  1.84it/s]\n"
     ]
    },
    {
     "name": "stdout",
     "output_type": "stream",
     "text": [
      "iteration144\n",
      "Angulo theta_1 :  12.24\n",
      "Sigma:  0.03800296384351568\n"
     ]
    },
    {
     "name": "stderr",
     "output_type": "stream",
     "text": [
      "100%|██████████| 125/125 [01:06<00:00,  1.89it/s]\n"
     ]
    },
    {
     "name": "stdout",
     "output_type": "stream",
     "text": [
      "iteration145\n",
      "Angulo theta_1 :  12.325\n",
      "Sigma:  0.03236672532999398\n"
     ]
    },
    {
     "name": "stderr",
     "output_type": "stream",
     "text": [
      "100%|██████████| 125/125 [01:06<00:00,  1.89it/s]\n"
     ]
    },
    {
     "name": "stdout",
     "output_type": "stream",
     "text": [
      "iteration146\n",
      "Angulo theta_1 :  12.41\n",
      "Sigma:  0.03894530948887584\n"
     ]
    },
    {
     "name": "stderr",
     "output_type": "stream",
     "text": [
      "100%|██████████| 125/125 [01:08<00:00,  1.83it/s]\n"
     ]
    },
    {
     "name": "stdout",
     "output_type": "stream",
     "text": [
      "iteration147\n",
      "Angulo theta_1 :  12.495\n",
      "Sigma:  0.049131903125117046\n"
     ]
    },
    {
     "name": "stderr",
     "output_type": "stream",
     "text": [
      "100%|██████████| 125/125 [01:06<00:00,  1.88it/s]\n"
     ]
    },
    {
     "name": "stdout",
     "output_type": "stream",
     "text": [
      "iteration148\n",
      "Angulo theta_1 :  12.58\n",
      "Sigma:  0.029829300067590964\n"
     ]
    },
    {
     "name": "stderr",
     "output_type": "stream",
     "text": [
      "100%|██████████| 125/125 [01:06<00:00,  1.87it/s]\n"
     ]
    },
    {
     "name": "stdout",
     "output_type": "stream",
     "text": [
      "iteration149\n",
      "Angulo theta_1 :  12.665\n",
      "Sigma:  0.049221621676415334\n"
     ]
    },
    {
     "name": "stderr",
     "output_type": "stream",
     "text": [
      "100%|██████████| 125/125 [01:05<00:00,  1.89it/s]\n"
     ]
    },
    {
     "name": "stdout",
     "output_type": "stream",
     "text": [
      "iteration150\n",
      "Angulo theta_1 :  12.75\n",
      "Sigma:  0.03461989726984287\n"
     ]
    },
    {
     "name": "stderr",
     "output_type": "stream",
     "text": [
      "100%|██████████| 125/125 [01:07<00:00,  1.86it/s]\n"
     ]
    },
    {
     "name": "stdout",
     "output_type": "stream",
     "text": [
      "iteration151\n",
      "Angulo theta_1 :  12.835\n",
      "Sigma:  0.048350470550446174\n"
     ]
    },
    {
     "name": "stderr",
     "output_type": "stream",
     "text": [
      "100%|██████████| 125/125 [01:06<00:00,  1.87it/s]\n"
     ]
    },
    {
     "name": "stdout",
     "output_type": "stream",
     "text": [
      "iteration152\n",
      "Angulo theta_1 :  12.92\n",
      "Sigma:  0.03033883402342613\n"
     ]
    },
    {
     "name": "stderr",
     "output_type": "stream",
     "text": [
      "100%|██████████| 125/125 [01:06<00:00,  1.89it/s]\n"
     ]
    },
    {
     "name": "stdout",
     "output_type": "stream",
     "text": [
      "iteration153\n",
      "Angulo theta_1 :  13.005\n",
      "Sigma:  0.03163311965617228\n"
     ]
    },
    {
     "name": "stderr",
     "output_type": "stream",
     "text": [
      "100%|██████████| 125/125 [01:06<00:00,  1.88it/s]\n"
     ]
    },
    {
     "name": "stdout",
     "output_type": "stream",
     "text": [
      "iteration154\n",
      "Angulo theta_1 :  13.09\n",
      "Sigma:  0.03407962846998591\n"
     ]
    },
    {
     "name": "stderr",
     "output_type": "stream",
     "text": [
      "100%|██████████| 125/125 [01:06<00:00,  1.89it/s]\n"
     ]
    },
    {
     "name": "stdout",
     "output_type": "stream",
     "text": [
      "iteration155\n",
      "Angulo theta_1 :  13.175\n",
      "Sigma:  0.027637137750815874\n"
     ]
    },
    {
     "name": "stderr",
     "output_type": "stream",
     "text": [
      "100%|██████████| 125/125 [01:06<00:00,  1.89it/s]\n"
     ]
    },
    {
     "name": "stdout",
     "output_type": "stream",
     "text": [
      "iteration156\n",
      "Angulo theta_1 :  13.26\n",
      "Sigma:  0.04424183391628675\n"
     ]
    },
    {
     "name": "stderr",
     "output_type": "stream",
     "text": [
      "100%|██████████| 125/125 [01:05<00:00,  1.90it/s]\n"
     ]
    },
    {
     "name": "stdout",
     "output_type": "stream",
     "text": [
      "iteration157\n",
      "Angulo theta_1 :  13.345\n",
      "Sigma:  0.040938881422414544\n"
     ]
    },
    {
     "name": "stderr",
     "output_type": "stream",
     "text": [
      "100%|██████████| 125/125 [01:06<00:00,  1.87it/s]\n"
     ]
    },
    {
     "name": "stdout",
     "output_type": "stream",
     "text": [
      "iteration158\n",
      "Angulo theta_1 :  13.43\n",
      "Sigma:  0.033995911716143745\n"
     ]
    },
    {
     "name": "stderr",
     "output_type": "stream",
     "text": [
      "100%|██████████| 125/125 [01:06<00:00,  1.89it/s]\n"
     ]
    },
    {
     "name": "stdout",
     "output_type": "stream",
     "text": [
      "iteration159\n",
      "Angulo theta_1 :  13.515\n",
      "Sigma:  0.04147943924724192\n"
     ]
    },
    {
     "name": "stderr",
     "output_type": "stream",
     "text": [
      "100%|██████████| 125/125 [01:06<00:00,  1.88it/s]\n"
     ]
    },
    {
     "name": "stdout",
     "output_type": "stream",
     "text": [
      "iteration160\n",
      "Angulo theta_1 :  13.6\n",
      "Sigma:  0.04494717852808309\n"
     ]
    },
    {
     "name": "stderr",
     "output_type": "stream",
     "text": [
      "100%|██████████| 125/125 [01:06<00:00,  1.88it/s]\n"
     ]
    },
    {
     "name": "stdout",
     "output_type": "stream",
     "text": [
      "iteration161\n",
      "Angulo theta_1 :  13.685\n",
      "Sigma:  0.03170730251697283\n"
     ]
    },
    {
     "name": "stderr",
     "output_type": "stream",
     "text": [
      "100%|██████████| 125/125 [01:06<00:00,  1.89it/s]\n"
     ]
    },
    {
     "name": "stdout",
     "output_type": "stream",
     "text": [
      "iteration162\n",
      "Angulo theta_1 :  13.77\n",
      "Sigma:  0.046874154520858885\n"
     ]
    },
    {
     "name": "stderr",
     "output_type": "stream",
     "text": [
      "100%|██████████| 125/125 [01:06<00:00,  1.88it/s]\n"
     ]
    },
    {
     "name": "stdout",
     "output_type": "stream",
     "text": [
      "iteration163\n",
      "Angulo theta_1 :  13.855\n",
      "Sigma:  0.029482679061337315\n"
     ]
    },
    {
     "name": "stderr",
     "output_type": "stream",
     "text": [
      "100%|██████████| 125/125 [01:06<00:00,  1.88it/s]\n"
     ]
    },
    {
     "name": "stdout",
     "output_type": "stream",
     "text": [
      "iteration164\n",
      "Angulo theta_1 :  13.94\n",
      "Sigma:  0.034979762378975654\n"
     ]
    },
    {
     "name": "stderr",
     "output_type": "stream",
     "text": [
      "100%|██████████| 125/125 [01:07<00:00,  1.86it/s]\n"
     ]
    },
    {
     "name": "stdout",
     "output_type": "stream",
     "text": [
      "iteration165\n",
      "Angulo theta_1 :  14.025\n",
      "Sigma:  0.03133206863604762\n"
     ]
    },
    {
     "name": "stderr",
     "output_type": "stream",
     "text": [
      "100%|██████████| 125/125 [01:06<00:00,  1.87it/s]\n"
     ]
    },
    {
     "name": "stdout",
     "output_type": "stream",
     "text": [
      "iteration166\n",
      "Angulo theta_1 :  14.11\n",
      "Sigma:  0.04217655134132184\n"
     ]
    },
    {
     "name": "stderr",
     "output_type": "stream",
     "text": [
      "100%|██████████| 125/125 [01:06<00:00,  1.89it/s]\n"
     ]
    },
    {
     "name": "stdout",
     "output_type": "stream",
     "text": [
      "iteration167\n",
      "Angulo theta_1 :  14.195\n",
      "Sigma:  0.029244377724043834\n"
     ]
    },
    {
     "name": "stderr",
     "output_type": "stream",
     "text": [
      "100%|██████████| 125/125 [01:06<00:00,  1.88it/s]\n"
     ]
    },
    {
     "name": "stdout",
     "output_type": "stream",
     "text": [
      "iteration168\n",
      "Angulo theta_1 :  14.28\n",
      "Sigma:  0.025678831019474224\n"
     ]
    },
    {
     "name": "stderr",
     "output_type": "stream",
     "text": [
      "100%|██████████| 125/125 [01:07<00:00,  1.86it/s]\n"
     ]
    },
    {
     "name": "stdout",
     "output_type": "stream",
     "text": [
      "iteration169\n",
      "Angulo theta_1 :  14.365\n",
      "Sigma:  0.03583222105888828\n"
     ]
    },
    {
     "name": "stderr",
     "output_type": "stream",
     "text": [
      "100%|██████████| 125/125 [01:06<00:00,  1.88it/s]\n"
     ]
    },
    {
     "name": "stdout",
     "output_type": "stream",
     "text": [
      "iteration170\n",
      "Angulo theta_1 :  14.45\n",
      "Sigma:  0.047133939166982664\n"
     ]
    },
    {
     "name": "stderr",
     "output_type": "stream",
     "text": [
      "100%|██████████| 125/125 [01:07<00:00,  1.86it/s]\n"
     ]
    },
    {
     "name": "stdout",
     "output_type": "stream",
     "text": [
      "iteration171\n",
      "Angulo theta_1 :  14.535\n",
      "Sigma:  0.026767204394547457\n"
     ]
    },
    {
     "name": "stderr",
     "output_type": "stream",
     "text": [
      "100%|██████████| 125/125 [01:11<00:00,  1.75it/s]\n"
     ]
    },
    {
     "name": "stdout",
     "output_type": "stream",
     "text": [
      "iteration172\n",
      "Angulo theta_1 :  14.62\n",
      "Sigma:  0.034351093079943204\n"
     ]
    },
    {
     "name": "stderr",
     "output_type": "stream",
     "text": [
      "100%|██████████| 125/125 [01:07<00:00,  1.87it/s]\n"
     ]
    },
    {
     "name": "stdout",
     "output_type": "stream",
     "text": [
      "iteration173\n",
      "Angulo theta_1 :  14.705\n",
      "Sigma:  0.046221606207091856\n"
     ]
    },
    {
     "name": "stderr",
     "output_type": "stream",
     "text": [
      "100%|██████████| 125/125 [01:06<00:00,  1.87it/s]\n"
     ]
    },
    {
     "name": "stdout",
     "output_type": "stream",
     "text": [
      "iteration174\n",
      "Angulo theta_1 :  14.79\n",
      "Sigma:  0.03709229097440117\n"
     ]
    },
    {
     "name": "stderr",
     "output_type": "stream",
     "text": [
      "100%|██████████| 125/125 [01:06<00:00,  1.88it/s]\n"
     ]
    },
    {
     "name": "stdout",
     "output_type": "stream",
     "text": [
      "iteration175\n",
      "Angulo theta_1 :  14.875\n",
      "Sigma:  0.048288613478400855\n"
     ]
    },
    {
     "name": "stderr",
     "output_type": "stream",
     "text": [
      "100%|██████████| 125/125 [01:08<00:00,  1.84it/s]\n"
     ]
    },
    {
     "name": "stdout",
     "output_type": "stream",
     "text": [
      "iteration176\n",
      "Angulo theta_1 :  14.96\n",
      "Sigma:  0.029204703713391095\n"
     ]
    },
    {
     "name": "stderr",
     "output_type": "stream",
     "text": [
      "100%|██████████| 125/125 [01:12<00:00,  1.73it/s]\n"
     ]
    },
    {
     "name": "stdout",
     "output_type": "stream",
     "text": [
      "iteration177\n",
      "Angulo theta_1 :  15.045\n",
      "Sigma:  0.04879272230414842\n"
     ]
    },
    {
     "name": "stderr",
     "output_type": "stream",
     "text": [
      "100%|██████████| 125/125 [01:19<00:00,  1.57it/s]\n"
     ]
    },
    {
     "name": "stdout",
     "output_type": "stream",
     "text": [
      "iteration178\n",
      "Angulo theta_1 :  15.13\n",
      "Sigma:  0.03733178360560458\n"
     ]
    },
    {
     "name": "stderr",
     "output_type": "stream",
     "text": [
      "100%|██████████| 125/125 [01:09<00:00,  1.81it/s]\n"
     ]
    },
    {
     "name": "stdout",
     "output_type": "stream",
     "text": [
      "iteration179\n",
      "Angulo theta_1 :  15.215\n",
      "Sigma:  0.043236604963946025\n"
     ]
    },
    {
     "name": "stderr",
     "output_type": "stream",
     "text": [
      "100%|██████████| 125/125 [01:07<00:00,  1.85it/s]\n"
     ]
    },
    {
     "name": "stdout",
     "output_type": "stream",
     "text": [
      "iteration180\n",
      "Angulo theta_1 :  15.3\n",
      "Sigma:  0.03302061776674415\n"
     ]
    },
    {
     "name": "stderr",
     "output_type": "stream",
     "text": [
      "100%|██████████| 125/125 [01:06<00:00,  1.88it/s]\n"
     ]
    },
    {
     "name": "stdout",
     "output_type": "stream",
     "text": [
      "iteration181\n",
      "Angulo theta_1 :  15.385\n",
      "Sigma:  0.04129972123106794\n"
     ]
    },
    {
     "name": "stderr",
     "output_type": "stream",
     "text": [
      "100%|██████████| 125/125 [01:03<00:00,  1.96it/s]\n"
     ]
    },
    {
     "name": "stdout",
     "output_type": "stream",
     "text": [
      "iteration182\n",
      "Angulo theta_1 :  15.47\n",
      "Sigma:  0.03273695339551198\n"
     ]
    },
    {
     "name": "stderr",
     "output_type": "stream",
     "text": [
      "100%|██████████| 125/125 [01:04<00:00,  1.94it/s]\n"
     ]
    },
    {
     "name": "stdout",
     "output_type": "stream",
     "text": [
      "iteration183\n",
      "Angulo theta_1 :  15.555\n",
      "Sigma:  0.04723260829085862\n"
     ]
    },
    {
     "name": "stderr",
     "output_type": "stream",
     "text": [
      "100%|██████████| 125/125 [01:03<00:00,  1.96it/s]\n"
     ]
    },
    {
     "name": "stdout",
     "output_type": "stream",
     "text": [
      "iteration184\n",
      "Angulo theta_1 :  15.64\n",
      "Sigma:  0.036464892786803774\n"
     ]
    },
    {
     "name": "stderr",
     "output_type": "stream",
     "text": [
      "100%|██████████| 125/125 [01:03<00:00,  1.96it/s]\n"
     ]
    },
    {
     "name": "stdout",
     "output_type": "stream",
     "text": [
      "iteration185\n",
      "Angulo theta_1 :  15.725\n",
      "Sigma:  0.03988994311298488\n"
     ]
    },
    {
     "name": "stderr",
     "output_type": "stream",
     "text": [
      "100%|██████████| 125/125 [01:03<00:00,  1.96it/s]\n"
     ]
    },
    {
     "name": "stdout",
     "output_type": "stream",
     "text": [
      "iteration186\n",
      "Angulo theta_1 :  15.81\n",
      "Sigma:  0.049058785084088105\n"
     ]
    },
    {
     "name": "stderr",
     "output_type": "stream",
     "text": [
      "100%|██████████| 125/125 [01:08<00:00,  1.82it/s]\n"
     ]
    },
    {
     "name": "stdout",
     "output_type": "stream",
     "text": [
      "iteration187\n",
      "Angulo theta_1 :  15.895\n",
      "Sigma:  0.045828142994442024\n"
     ]
    },
    {
     "name": "stderr",
     "output_type": "stream",
     "text": [
      "100%|██████████| 125/125 [01:03<00:00,  1.98it/s]\n"
     ]
    },
    {
     "name": "stdout",
     "output_type": "stream",
     "text": [
      "iteration188\n",
      "Angulo theta_1 :  15.98\n",
      "Sigma:  0.04721432091888227\n"
     ]
    },
    {
     "name": "stderr",
     "output_type": "stream",
     "text": [
      "100%|██████████| 125/125 [01:03<00:00,  1.96it/s]\n"
     ]
    },
    {
     "name": "stdout",
     "output_type": "stream",
     "text": [
      "iteration189\n",
      "Angulo theta_1 :  16.065\n",
      "Sigma:  0.049018891832290336\n"
     ]
    },
    {
     "name": "stderr",
     "output_type": "stream",
     "text": [
      "100%|██████████| 125/125 [01:02<00:00,  1.99it/s]\n"
     ]
    },
    {
     "name": "stdout",
     "output_type": "stream",
     "text": [
      "iteration190\n",
      "Angulo theta_1 :  16.15\n",
      "Sigma:  0.03851589931202433\n"
     ]
    },
    {
     "name": "stderr",
     "output_type": "stream",
     "text": [
      "100%|██████████| 125/125 [01:05<00:00,  1.92it/s]\n"
     ]
    },
    {
     "name": "stdout",
     "output_type": "stream",
     "text": [
      "iteration191\n",
      "Angulo theta_1 :  16.235\n",
      "Sigma:  0.03454341508131985\n"
     ]
    },
    {
     "name": "stderr",
     "output_type": "stream",
     "text": [
      "100%|██████████| 125/125 [01:17<00:00,  1.61it/s]\n"
     ]
    },
    {
     "name": "stdout",
     "output_type": "stream",
     "text": [
      "iteration192\n",
      "Angulo theta_1 :  16.32\n",
      "Sigma:  0.030192451886576353\n"
     ]
    },
    {
     "name": "stderr",
     "output_type": "stream",
     "text": [
      "100%|██████████| 125/125 [01:15<00:00,  1.65it/s]\n"
     ]
    },
    {
     "name": "stdout",
     "output_type": "stream",
     "text": [
      "iteration193\n",
      "Angulo theta_1 :  16.405\n",
      "Sigma:  0.04371567489873031\n"
     ]
    },
    {
     "name": "stderr",
     "output_type": "stream",
     "text": [
      "100%|██████████| 125/125 [01:08<00:00,  1.81it/s]\n"
     ]
    },
    {
     "name": "stdout",
     "output_type": "stream",
     "text": [
      "iteration194\n",
      "Angulo theta_1 :  16.49\n",
      "Sigma:  0.04110063175641657\n"
     ]
    },
    {
     "name": "stderr",
     "output_type": "stream",
     "text": [
      "100%|██████████| 125/125 [01:06<00:00,  1.88it/s]\n"
     ]
    },
    {
     "name": "stdout",
     "output_type": "stream",
     "text": [
      "iteration195\n",
      "Angulo theta_1 :  16.575\n",
      "Sigma:  0.03984979704697925\n"
     ]
    },
    {
     "name": "stderr",
     "output_type": "stream",
     "text": [
      "100%|██████████| 125/125 [01:05<00:00,  1.91it/s]\n"
     ]
    },
    {
     "name": "stdout",
     "output_type": "stream",
     "text": [
      "iteration196\n",
      "Angulo theta_1 :  16.66\n",
      "Sigma:  0.04065549139638723\n"
     ]
    },
    {
     "name": "stderr",
     "output_type": "stream",
     "text": [
      "100%|██████████| 125/125 [01:05<00:00,  1.90it/s]\n"
     ]
    },
    {
     "name": "stdout",
     "output_type": "stream",
     "text": [
      "iteration197\n",
      "Angulo theta_1 :  16.745\n",
      "Sigma:  0.03476548962607511\n"
     ]
    },
    {
     "name": "stderr",
     "output_type": "stream",
     "text": [
      "100%|██████████| 125/125 [01:06<00:00,  1.87it/s]\n"
     ]
    },
    {
     "name": "stdout",
     "output_type": "stream",
     "text": [
      "iteration198\n",
      "Angulo theta_1 :  16.83\n",
      "Sigma:  0.03368642588792801\n"
     ]
    },
    {
     "name": "stderr",
     "output_type": "stream",
     "text": [
      "100%|██████████| 125/125 [01:09<00:00,  1.81it/s]\n"
     ]
    },
    {
     "name": "stdout",
     "output_type": "stream",
     "text": [
      "iteration199\n",
      "Angulo theta_1 :  16.915\n",
      "Sigma:  0.04353275367726736\n"
     ]
    },
    {
     "name": "stderr",
     "output_type": "stream",
     "text": [
      "100%|██████████| 125/125 [01:22<00:00,  1.51it/s]\n"
     ]
    },
    {
     "name": "stdout",
     "output_type": "stream",
     "text": [
      "iteration200\n",
      "Angulo theta_1 :  17.0\n",
      "Sigma:  0.027117414964066763\n"
     ]
    },
    {
     "name": "stderr",
     "output_type": "stream",
     "text": [
      "100%|██████████| 125/125 [01:07<00:00,  1.85it/s]\n"
     ]
    },
    {
     "name": "stdout",
     "output_type": "stream",
     "text": [
      "iteration201\n",
      "Angulo theta_1 :  17.085\n",
      "Sigma:  0.03955299585845638\n"
     ]
    },
    {
     "name": "stderr",
     "output_type": "stream",
     "text": [
      "100%|██████████| 125/125 [01:06<00:00,  1.87it/s]\n"
     ]
    },
    {
     "name": "stdout",
     "output_type": "stream",
     "text": [
      "iteration202\n",
      "Angulo theta_1 :  17.17\n",
      "Sigma:  0.030188852721313303\n"
     ]
    },
    {
     "name": "stderr",
     "output_type": "stream",
     "text": [
      "100%|██████████| 125/125 [01:10<00:00,  1.76it/s]\n"
     ]
    },
    {
     "name": "stdout",
     "output_type": "stream",
     "text": [
      "iteration203\n",
      "Angulo theta_1 :  17.255\n",
      "Sigma:  0.03809719079146745\n"
     ]
    },
    {
     "name": "stderr",
     "output_type": "stream",
     "text": [
      "100%|██████████| 125/125 [01:11<00:00,  1.75it/s]\n"
     ]
    },
    {
     "name": "stdout",
     "output_type": "stream",
     "text": [
      "iteration204\n",
      "Angulo theta_1 :  17.34\n",
      "Sigma:  0.049079755504989914\n"
     ]
    },
    {
     "name": "stderr",
     "output_type": "stream",
     "text": [
      "100%|██████████| 125/125 [01:06<00:00,  1.87it/s]\n"
     ]
    },
    {
     "name": "stdout",
     "output_type": "stream",
     "text": [
      "iteration205\n",
      "Angulo theta_1 :  17.425\n",
      "Sigma:  0.036035358976805494\n"
     ]
    },
    {
     "name": "stderr",
     "output_type": "stream",
     "text": [
      "100%|██████████| 125/125 [01:06<00:00,  1.87it/s]\n"
     ]
    },
    {
     "name": "stdout",
     "output_type": "stream",
     "text": [
      "iteration206\n",
      "Angulo theta_1 :  17.51\n",
      "Sigma:  0.04476607850845635\n"
     ]
    },
    {
     "name": "stderr",
     "output_type": "stream",
     "text": [
      "100%|██████████| 125/125 [01:06<00:00,  1.89it/s]\n"
     ]
    },
    {
     "name": "stdout",
     "output_type": "stream",
     "text": [
      "iteration207\n",
      "Angulo theta_1 :  17.595\n",
      "Sigma:  0.03627954195131183\n"
     ]
    },
    {
     "name": "stderr",
     "output_type": "stream",
     "text": [
      "100%|██████████| 125/125 [01:09<00:00,  1.79it/s]\n"
     ]
    },
    {
     "name": "stdout",
     "output_type": "stream",
     "text": [
      "iteration208\n",
      "Angulo theta_1 :  17.68\n",
      "Sigma:  0.027559990409698705\n"
     ]
    },
    {
     "name": "stderr",
     "output_type": "stream",
     "text": [
      "100%|██████████| 125/125 [01:05<00:00,  1.92it/s]\n"
     ]
    },
    {
     "name": "stdout",
     "output_type": "stream",
     "text": [
      "iteration209\n",
      "Angulo theta_1 :  17.765\n",
      "Sigma:  0.025962185108626634\n"
     ]
    },
    {
     "name": "stderr",
     "output_type": "stream",
     "text": [
      "100%|██████████| 125/125 [01:18<00:00,  1.59it/s]\n"
     ]
    },
    {
     "name": "stdout",
     "output_type": "stream",
     "text": [
      "iteration210\n",
      "Angulo theta_1 :  17.85\n",
      "Sigma:  0.026888529032163447\n"
     ]
    },
    {
     "name": "stderr",
     "output_type": "stream",
     "text": [
      "100%|██████████| 125/125 [01:07<00:00,  1.84it/s]\n"
     ]
    },
    {
     "name": "stdout",
     "output_type": "stream",
     "text": [
      "iteration211\n",
      "Angulo theta_1 :  17.935\n",
      "Sigma:  0.03045296409385786\n"
     ]
    },
    {
     "name": "stderr",
     "output_type": "stream",
     "text": [
      "100%|██████████| 125/125 [01:07<00:00,  1.86it/s]\n"
     ]
    },
    {
     "name": "stdout",
     "output_type": "stream",
     "text": [
      "iteration212\n",
      "Angulo theta_1 :  18.02\n",
      "Sigma:  0.03198003367401642\n"
     ]
    },
    {
     "name": "stderr",
     "output_type": "stream",
     "text": [
      "100%|██████████| 125/125 [01:13<00:00,  1.70it/s]\n"
     ]
    },
    {
     "name": "stdout",
     "output_type": "stream",
     "text": [
      "iteration213\n",
      "Angulo theta_1 :  18.105\n",
      "Sigma:  0.028426193981708887\n"
     ]
    },
    {
     "name": "stderr",
     "output_type": "stream",
     "text": [
      "100%|██████████| 125/125 [01:12<00:00,  1.73it/s]\n"
     ]
    },
    {
     "name": "stdout",
     "output_type": "stream",
     "text": [
      "iteration214\n",
      "Angulo theta_1 :  18.19\n",
      "Sigma:  0.03315830515134521\n"
     ]
    },
    {
     "name": "stderr",
     "output_type": "stream",
     "text": [
      "100%|██████████| 125/125 [01:08<00:00,  1.83it/s]\n"
     ]
    },
    {
     "name": "stdout",
     "output_type": "stream",
     "text": [
      "iteration215\n",
      "Angulo theta_1 :  18.275\n",
      "Sigma:  0.02808104323083992\n"
     ]
    },
    {
     "name": "stderr",
     "output_type": "stream",
     "text": [
      "100%|██████████| 125/125 [01:07<00:00,  1.85it/s]\n"
     ]
    },
    {
     "name": "stdout",
     "output_type": "stream",
     "text": [
      "iteration216\n",
      "Angulo theta_1 :  18.36\n",
      "Sigma:  0.04598533776057144\n"
     ]
    },
    {
     "name": "stderr",
     "output_type": "stream",
     "text": [
      "100%|██████████| 125/125 [01:06<00:00,  1.87it/s]\n"
     ]
    },
    {
     "name": "stdout",
     "output_type": "stream",
     "text": [
      "iteration217\n",
      "Angulo theta_1 :  18.445\n",
      "Sigma:  0.03725342928202192\n"
     ]
    },
    {
     "name": "stderr",
     "output_type": "stream",
     "text": [
      "100%|██████████| 125/125 [01:08<00:00,  1.83it/s]\n"
     ]
    },
    {
     "name": "stdout",
     "output_type": "stream",
     "text": [
      "iteration218\n",
      "Angulo theta_1 :  18.53\n",
      "Sigma:  0.03575025664355098\n"
     ]
    },
    {
     "name": "stderr",
     "output_type": "stream",
     "text": [
      "100%|██████████| 125/125 [01:06<00:00,  1.88it/s]\n"
     ]
    },
    {
     "name": "stdout",
     "output_type": "stream",
     "text": [
      "iteration219\n",
      "Angulo theta_1 :  18.615\n",
      "Sigma:  0.029044493887109835\n"
     ]
    },
    {
     "name": "stderr",
     "output_type": "stream",
     "text": [
      "100%|██████████| 125/125 [01:06<00:00,  1.87it/s]\n"
     ]
    },
    {
     "name": "stdout",
     "output_type": "stream",
     "text": [
      "iteration220\n",
      "Angulo theta_1 :  18.7\n",
      "Sigma:  0.043979365452373693\n"
     ]
    },
    {
     "name": "stderr",
     "output_type": "stream",
     "text": [
      "100%|██████████| 125/125 [01:04<00:00,  1.95it/s]\n"
     ]
    },
    {
     "name": "stdout",
     "output_type": "stream",
     "text": [
      "iteration221\n",
      "Angulo theta_1 :  18.785\n",
      "Sigma:  0.02701760441244926\n"
     ]
    },
    {
     "name": "stderr",
     "output_type": "stream",
     "text": [
      "100%|██████████| 125/125 [01:05<00:00,  1.91it/s]\n"
     ]
    },
    {
     "name": "stdout",
     "output_type": "stream",
     "text": [
      "iteration222\n",
      "Angulo theta_1 :  18.87\n",
      "Sigma:  0.03180490903422363\n"
     ]
    },
    {
     "name": "stderr",
     "output_type": "stream",
     "text": [
      "100%|██████████| 125/125 [01:05<00:00,  1.92it/s]\n"
     ]
    },
    {
     "name": "stdout",
     "output_type": "stream",
     "text": [
      "iteration223\n",
      "Angulo theta_1 :  18.955\n",
      "Sigma:  0.029550520131390787\n"
     ]
    },
    {
     "name": "stderr",
     "output_type": "stream",
     "text": [
      "100%|██████████| 125/125 [01:07<00:00,  1.86it/s]\n"
     ]
    },
    {
     "name": "stdout",
     "output_type": "stream",
     "text": [
      "iteration224\n",
      "Angulo theta_1 :  19.04\n",
      "Sigma:  0.03080204561561919\n"
     ]
    },
    {
     "name": "stderr",
     "output_type": "stream",
     "text": [
      "100%|██████████| 125/125 [01:06<00:00,  1.87it/s]\n"
     ]
    },
    {
     "name": "stdout",
     "output_type": "stream",
     "text": [
      "iteration225\n",
      "Angulo theta_1 :  19.125\n",
      "Sigma:  0.03497322435172001\n"
     ]
    },
    {
     "name": "stderr",
     "output_type": "stream",
     "text": [
      "100%|██████████| 125/125 [01:07<00:00,  1.85it/s]\n"
     ]
    },
    {
     "name": "stdout",
     "output_type": "stream",
     "text": [
      "iteration226\n",
      "Angulo theta_1 :  19.21\n",
      "Sigma:  0.03994827131887083\n"
     ]
    },
    {
     "name": "stderr",
     "output_type": "stream",
     "text": [
      "100%|██████████| 125/125 [01:07<00:00,  1.86it/s]\n"
     ]
    },
    {
     "name": "stdout",
     "output_type": "stream",
     "text": [
      "iteration227\n",
      "Angulo theta_1 :  19.295\n",
      "Sigma:  0.03981856714751767\n"
     ]
    },
    {
     "name": "stderr",
     "output_type": "stream",
     "text": [
      "100%|██████████| 125/125 [01:07<00:00,  1.84it/s]\n"
     ]
    },
    {
     "name": "stdout",
     "output_type": "stream",
     "text": [
      "iteration228\n",
      "Angulo theta_1 :  19.38\n",
      "Sigma:  0.04447749325059179\n"
     ]
    },
    {
     "name": "stderr",
     "output_type": "stream",
     "text": [
      "100%|██████████| 125/125 [01:07<00:00,  1.85it/s]\n"
     ]
    },
    {
     "name": "stdout",
     "output_type": "stream",
     "text": [
      "iteration229\n",
      "Angulo theta_1 :  19.465\n",
      "Sigma:  0.04656394506019422\n"
     ]
    },
    {
     "name": "stderr",
     "output_type": "stream",
     "text": [
      "100%|██████████| 125/125 [01:15<00:00,  1.67it/s]\n"
     ]
    },
    {
     "name": "stdout",
     "output_type": "stream",
     "text": [
      "iteration230\n",
      "Angulo theta_1 :  19.55\n",
      "Sigma:  0.0340196956867119\n"
     ]
    },
    {
     "name": "stderr",
     "output_type": "stream",
     "text": [
      "100%|██████████| 125/125 [01:20<00:00,  1.55it/s]\n"
     ]
    },
    {
     "name": "stdout",
     "output_type": "stream",
     "text": [
      "iteration231\n",
      "Angulo theta_1 :  19.635\n",
      "Sigma:  0.037794118029051665\n"
     ]
    },
    {
     "name": "stderr",
     "output_type": "stream",
     "text": [
      "100%|██████████| 125/125 [01:14<00:00,  1.68it/s]\n"
     ]
    },
    {
     "name": "stdout",
     "output_type": "stream",
     "text": [
      "iteration232\n",
      "Angulo theta_1 :  19.72\n",
      "Sigma:  0.04572808895979243\n"
     ]
    },
    {
     "name": "stderr",
     "output_type": "stream",
     "text": [
      "100%|██████████| 125/125 [01:11<00:00,  1.75it/s]\n"
     ]
    },
    {
     "name": "stdout",
     "output_type": "stream",
     "text": [
      "iteration233\n",
      "Angulo theta_1 :  19.805\n",
      "Sigma:  0.03297293670937591\n"
     ]
    },
    {
     "name": "stderr",
     "output_type": "stream",
     "text": [
      "100%|██████████| 125/125 [01:17<00:00,  1.61it/s]\n"
     ]
    },
    {
     "name": "stdout",
     "output_type": "stream",
     "text": [
      "iteration234\n",
      "Angulo theta_1 :  19.89\n",
      "Sigma:  0.04378326360513525\n"
     ]
    },
    {
     "name": "stderr",
     "output_type": "stream",
     "text": [
      "100%|██████████| 125/125 [01:14<00:00,  1.69it/s]\n"
     ]
    },
    {
     "name": "stdout",
     "output_type": "stream",
     "text": [
      "iteration235\n",
      "Angulo theta_1 :  19.975\n",
      "Sigma:  0.04318877240199411\n"
     ]
    },
    {
     "name": "stderr",
     "output_type": "stream",
     "text": [
      "100%|██████████| 125/125 [01:12<00:00,  1.71it/s]\n"
     ]
    },
    {
     "name": "stdout",
     "output_type": "stream",
     "text": [
      "iteration236\n",
      "Angulo theta_1 :  20.06\n",
      "Sigma:  0.036223390122212526\n"
     ]
    },
    {
     "name": "stderr",
     "output_type": "stream",
     "text": [
      "100%|██████████| 125/125 [01:13<00:00,  1.70it/s]\n"
     ]
    },
    {
     "name": "stdout",
     "output_type": "stream",
     "text": [
      "iteration237\n",
      "Angulo theta_1 :  20.145\n",
      "Sigma:  0.04999175779153332\n"
     ]
    },
    {
     "name": "stderr",
     "output_type": "stream",
     "text": [
      "100%|██████████| 125/125 [01:12<00:00,  1.73it/s]\n"
     ]
    },
    {
     "name": "stdout",
     "output_type": "stream",
     "text": [
      "iteration238\n",
      "Angulo theta_1 :  20.23\n",
      "Sigma:  0.03117983558685259\n"
     ]
    },
    {
     "name": "stderr",
     "output_type": "stream",
     "text": [
      "100%|██████████| 125/125 [01:12<00:00,  1.73it/s]\n"
     ]
    },
    {
     "name": "stdout",
     "output_type": "stream",
     "text": [
      "iteration239\n",
      "Angulo theta_1 :  20.315\n",
      "Sigma:  0.046598737887103184\n"
     ]
    },
    {
     "name": "stderr",
     "output_type": "stream",
     "text": [
      "100%|██████████| 125/125 [01:13<00:00,  1.71it/s]\n"
     ]
    },
    {
     "name": "stdout",
     "output_type": "stream",
     "text": [
      "iteration240\n",
      "Angulo theta_1 :  20.4\n",
      "Sigma:  0.03052958160096787\n"
     ]
    },
    {
     "name": "stderr",
     "output_type": "stream",
     "text": [
      "100%|██████████| 125/125 [01:12<00:00,  1.71it/s]\n"
     ]
    },
    {
     "name": "stdout",
     "output_type": "stream",
     "text": [
      "iteration241\n",
      "Angulo theta_1 :  20.485\n",
      "Sigma:  0.048701693516672334\n"
     ]
    },
    {
     "name": "stderr",
     "output_type": "stream",
     "text": [
      "100%|██████████| 125/125 [01:12<00:00,  1.73it/s]\n"
     ]
    },
    {
     "name": "stdout",
     "output_type": "stream",
     "text": [
      "iteration242\n",
      "Angulo theta_1 :  20.57\n",
      "Sigma:  0.026957572939792923\n"
     ]
    },
    {
     "name": "stderr",
     "output_type": "stream",
     "text": [
      "100%|██████████| 125/125 [01:14<00:00,  1.67it/s]\n"
     ]
    },
    {
     "name": "stdout",
     "output_type": "stream",
     "text": [
      "iteration243\n",
      "Angulo theta_1 :  20.655\n",
      "Sigma:  0.029262034993998702\n"
     ]
    },
    {
     "name": "stderr",
     "output_type": "stream",
     "text": [
      "100%|██████████| 125/125 [01:12<00:00,  1.72it/s]\n"
     ]
    },
    {
     "name": "stdout",
     "output_type": "stream",
     "text": [
      "iteration244\n",
      "Angulo theta_1 :  20.74\n",
      "Sigma:  0.02712334985428317\n"
     ]
    },
    {
     "name": "stderr",
     "output_type": "stream",
     "text": [
      "100%|██████████| 125/125 [01:12<00:00,  1.72it/s]\n"
     ]
    },
    {
     "name": "stdout",
     "output_type": "stream",
     "text": [
      "iteration245\n",
      "Angulo theta_1 :  20.825\n",
      "Sigma:  0.036634180153644974\n"
     ]
    },
    {
     "name": "stderr",
     "output_type": "stream",
     "text": [
      "100%|██████████| 125/125 [01:13<00:00,  1.70it/s]\n"
     ]
    },
    {
     "name": "stdout",
     "output_type": "stream",
     "text": [
      "iteration246\n",
      "Angulo theta_1 :  20.91\n",
      "Sigma:  0.03450640292786228\n"
     ]
    },
    {
     "name": "stderr",
     "output_type": "stream",
     "text": [
      "100%|██████████| 125/125 [01:12<00:00,  1.72it/s]\n"
     ]
    },
    {
     "name": "stdout",
     "output_type": "stream",
     "text": [
      "iteration247\n",
      "Angulo theta_1 :  20.995\n",
      "Sigma:  0.04467183351839942\n"
     ]
    },
    {
     "name": "stderr",
     "output_type": "stream",
     "text": [
      "100%|██████████| 125/125 [01:14<00:00,  1.67it/s]\n"
     ]
    },
    {
     "name": "stdout",
     "output_type": "stream",
     "text": [
      "iteration248\n",
      "Angulo theta_1 :  21.08\n",
      "Sigma:  0.03232848101916912\n"
     ]
    },
    {
     "name": "stderr",
     "output_type": "stream",
     "text": [
      "100%|██████████| 125/125 [01:12<00:00,  1.73it/s]\n"
     ]
    },
    {
     "name": "stdout",
     "output_type": "stream",
     "text": [
      "iteration249\n",
      "Angulo theta_1 :  21.165\n",
      "Sigma:  0.028286161955682478\n"
     ]
    },
    {
     "name": "stderr",
     "output_type": "stream",
     "text": [
      "100%|██████████| 125/125 [01:13<00:00,  1.71it/s]\n"
     ]
    },
    {
     "name": "stdout",
     "output_type": "stream",
     "text": [
      "iteration250\n",
      "Angulo theta_1 :  21.25\n",
      "Sigma:  0.02762551969015908\n"
     ]
    },
    {
     "name": "stderr",
     "output_type": "stream",
     "text": [
      "100%|██████████| 125/125 [01:12<00:00,  1.74it/s]\n"
     ]
    },
    {
     "name": "stdout",
     "output_type": "stream",
     "text": [
      "iteration251\n",
      "Angulo theta_1 :  21.335\n",
      "Sigma:  0.04081669161309873\n"
     ]
    },
    {
     "name": "stderr",
     "output_type": "stream",
     "text": [
      "100%|██████████| 125/125 [01:28<00:00,  1.41it/s]\n"
     ]
    },
    {
     "name": "stdout",
     "output_type": "stream",
     "text": [
      "iteration252\n",
      "Angulo theta_1 :  21.42\n",
      "Sigma:  0.03021302647031509\n"
     ]
    },
    {
     "name": "stderr",
     "output_type": "stream",
     "text": [
      "100%|██████████| 125/125 [01:13<00:00,  1.70it/s]\n"
     ]
    },
    {
     "name": "stdout",
     "output_type": "stream",
     "text": [
      "iteration253\n",
      "Angulo theta_1 :  21.505\n",
      "Sigma:  0.049955330832476885\n"
     ]
    },
    {
     "name": "stderr",
     "output_type": "stream",
     "text": [
      "100%|██████████| 125/125 [01:10<00:00,  1.77it/s]\n"
     ]
    },
    {
     "name": "stdout",
     "output_type": "stream",
     "text": [
      "iteration254\n",
      "Angulo theta_1 :  21.59\n",
      "Sigma:  0.028590956216421052\n"
     ]
    },
    {
     "name": "stderr",
     "output_type": "stream",
     "text": [
      "100%|██████████| 125/125 [01:10<00:00,  1.77it/s]\n"
     ]
    },
    {
     "name": "stdout",
     "output_type": "stream",
     "text": [
      "iteration255\n",
      "Angulo theta_1 :  21.675\n",
      "Sigma:  0.02888852289811169\n"
     ]
    },
    {
     "name": "stderr",
     "output_type": "stream",
     "text": [
      "100%|██████████| 125/125 [01:10<00:00,  1.77it/s]\n"
     ]
    },
    {
     "name": "stdout",
     "output_type": "stream",
     "text": [
      "iteration256\n",
      "Angulo theta_1 :  21.76\n",
      "Sigma:  0.029567151503897104\n"
     ]
    },
    {
     "name": "stderr",
     "output_type": "stream",
     "text": [
      "100%|██████████| 125/125 [01:11<00:00,  1.76it/s]\n"
     ]
    },
    {
     "name": "stdout",
     "output_type": "stream",
     "text": [
      "iteration257\n",
      "Angulo theta_1 :  21.845\n",
      "Sigma:  0.04841004277228579\n"
     ]
    },
    {
     "name": "stderr",
     "output_type": "stream",
     "text": [
      "100%|██████████| 125/125 [01:11<00:00,  1.75it/s]\n"
     ]
    },
    {
     "name": "stdout",
     "output_type": "stream",
     "text": [
      "iteration258\n",
      "Angulo theta_1 :  21.93\n",
      "Sigma:  0.028285498796214167\n"
     ]
    },
    {
     "name": "stderr",
     "output_type": "stream",
     "text": [
      "100%|██████████| 125/125 [01:10<00:00,  1.76it/s]\n"
     ]
    },
    {
     "name": "stdout",
     "output_type": "stream",
     "text": [
      "iteration259\n",
      "Angulo theta_1 :  22.015\n",
      "Sigma:  0.035056994397853265\n"
     ]
    },
    {
     "name": "stderr",
     "output_type": "stream",
     "text": [
      "100%|██████████| 125/125 [01:10<00:00,  1.76it/s]\n"
     ]
    },
    {
     "name": "stdout",
     "output_type": "stream",
     "text": [
      "iteration260\n",
      "Angulo theta_1 :  22.1\n",
      "Sigma:  0.04713076133701897\n"
     ]
    },
    {
     "name": "stderr",
     "output_type": "stream",
     "text": [
      "100%|██████████| 125/125 [01:10<00:00,  1.76it/s]\n"
     ]
    },
    {
     "name": "stdout",
     "output_type": "stream",
     "text": [
      "iteration261\n",
      "Angulo theta_1 :  22.185\n",
      "Sigma:  0.03539449904770321\n"
     ]
    },
    {
     "name": "stderr",
     "output_type": "stream",
     "text": [
      "100%|██████████| 125/125 [01:10<00:00,  1.78it/s]\n"
     ]
    },
    {
     "name": "stdout",
     "output_type": "stream",
     "text": [
      "iteration262\n",
      "Angulo theta_1 :  22.27\n",
      "Sigma:  0.0405050236841125\n"
     ]
    },
    {
     "name": "stderr",
     "output_type": "stream",
     "text": [
      "100%|██████████| 125/125 [01:11<00:00,  1.75it/s]\n"
     ]
    },
    {
     "name": "stdout",
     "output_type": "stream",
     "text": [
      "iteration263\n",
      "Angulo theta_1 :  22.355\n",
      "Sigma:  0.048761290077633274\n"
     ]
    },
    {
     "name": "stderr",
     "output_type": "stream",
     "text": [
      "100%|██████████| 125/125 [01:13<00:00,  1.71it/s]\n"
     ]
    },
    {
     "name": "stdout",
     "output_type": "stream",
     "text": [
      "iteration264\n",
      "Angulo theta_1 :  22.44\n",
      "Sigma:  0.025714576930435606\n"
     ]
    },
    {
     "name": "stderr",
     "output_type": "stream",
     "text": [
      "100%|██████████| 125/125 [01:11<00:00,  1.74it/s]\n"
     ]
    },
    {
     "name": "stdout",
     "output_type": "stream",
     "text": [
      "iteration265\n",
      "Angulo theta_1 :  22.525\n",
      "Sigma:  0.048320913731104836\n"
     ]
    },
    {
     "name": "stderr",
     "output_type": "stream",
     "text": [
      "100%|██████████| 125/125 [01:12<00:00,  1.72it/s]\n"
     ]
    },
    {
     "name": "stdout",
     "output_type": "stream",
     "text": [
      "iteration266\n",
      "Angulo theta_1 :  22.61\n",
      "Sigma:  0.04636926853822485\n"
     ]
    },
    {
     "name": "stderr",
     "output_type": "stream",
     "text": [
      "100%|██████████| 125/125 [01:14<00:00,  1.67it/s]\n"
     ]
    },
    {
     "name": "stdout",
     "output_type": "stream",
     "text": [
      "iteration267\n",
      "Angulo theta_1 :  22.695\n",
      "Sigma:  0.025818354782121217\n"
     ]
    },
    {
     "name": "stderr",
     "output_type": "stream",
     "text": [
      "100%|██████████| 125/125 [01:12<00:00,  1.72it/s]\n"
     ]
    },
    {
     "name": "stdout",
     "output_type": "stream",
     "text": [
      "iteration268\n",
      "Angulo theta_1 :  22.78\n",
      "Sigma:  0.049589249461783745\n"
     ]
    },
    {
     "name": "stderr",
     "output_type": "stream",
     "text": [
      "100%|██████████| 125/125 [01:15<00:00,  1.66it/s]\n"
     ]
    },
    {
     "name": "stdout",
     "output_type": "stream",
     "text": [
      "iteration269\n",
      "Angulo theta_1 :  22.865\n",
      "Sigma:  0.04477972192808408\n"
     ]
    },
    {
     "name": "stderr",
     "output_type": "stream",
     "text": [
      "100%|██████████| 125/125 [01:12<00:00,  1.72it/s]\n"
     ]
    },
    {
     "name": "stdout",
     "output_type": "stream",
     "text": [
      "iteration270\n",
      "Angulo theta_1 :  22.95\n",
      "Sigma:  0.03165824112922194\n"
     ]
    },
    {
     "name": "stderr",
     "output_type": "stream",
     "text": [
      "100%|██████████| 125/125 [01:37<00:00,  1.28it/s]\n"
     ]
    },
    {
     "name": "stdout",
     "output_type": "stream",
     "text": [
      "iteration271\n",
      "Angulo theta_1 :  23.035\n",
      "Sigma:  0.046711309670405085\n"
     ]
    },
    {
     "name": "stderr",
     "output_type": "stream",
     "text": [
      "100%|██████████| 125/125 [01:52<00:00,  1.11it/s]\n"
     ]
    },
    {
     "name": "stdout",
     "output_type": "stream",
     "text": [
      "iteration272\n",
      "Angulo theta_1 :  23.12\n",
      "Sigma:  0.03646956238007798\n"
     ]
    },
    {
     "name": "stderr",
     "output_type": "stream",
     "text": [
      "100%|██████████| 125/125 [01:44<00:00,  1.20it/s]\n"
     ]
    },
    {
     "name": "stdout",
     "output_type": "stream",
     "text": [
      "iteration273\n",
      "Angulo theta_1 :  23.205\n",
      "Sigma:  0.03229330028558004\n"
     ]
    },
    {
     "name": "stderr",
     "output_type": "stream",
     "text": [
      "100%|██████████| 125/125 [01:47<00:00,  1.16it/s]\n"
     ]
    },
    {
     "name": "stdout",
     "output_type": "stream",
     "text": [
      "iteration274\n",
      "Angulo theta_1 :  23.29\n",
      "Sigma:  0.030791100402210607\n"
     ]
    },
    {
     "name": "stderr",
     "output_type": "stream",
     "text": [
      "100%|██████████| 125/125 [01:46<00:00,  1.18it/s]\n"
     ]
    },
    {
     "name": "stdout",
     "output_type": "stream",
     "text": [
      "iteration275\n",
      "Angulo theta_1 :  23.375\n",
      "Sigma:  0.04220733378369239\n"
     ]
    },
    {
     "name": "stderr",
     "output_type": "stream",
     "text": [
      "100%|██████████| 125/125 [01:44<00:00,  1.20it/s]\n"
     ]
    },
    {
     "name": "stdout",
     "output_type": "stream",
     "text": [
      "iteration276\n",
      "Angulo theta_1 :  23.46\n",
      "Sigma:  0.048023454247829514\n"
     ]
    },
    {
     "name": "stderr",
     "output_type": "stream",
     "text": [
      "100%|██████████| 125/125 [01:32<00:00,  1.35it/s]\n"
     ]
    },
    {
     "name": "stdout",
     "output_type": "stream",
     "text": [
      "iteration277\n",
      "Angulo theta_1 :  23.545\n",
      "Sigma:  0.03773593970864336\n"
     ]
    },
    {
     "name": "stderr",
     "output_type": "stream",
     "text": [
      "100%|██████████| 125/125 [01:06<00:00,  1.89it/s]\n"
     ]
    },
    {
     "name": "stdout",
     "output_type": "stream",
     "text": [
      "iteration278\n",
      "Angulo theta_1 :  23.63\n",
      "Sigma:  0.028775914299180846\n"
     ]
    },
    {
     "name": "stderr",
     "output_type": "stream",
     "text": [
      "100%|██████████| 125/125 [01:04<00:00,  1.93it/s]\n"
     ]
    },
    {
     "name": "stdout",
     "output_type": "stream",
     "text": [
      "iteration279\n",
      "Angulo theta_1 :  23.715\n",
      "Sigma:  0.03157099392718346\n"
     ]
    },
    {
     "name": "stderr",
     "output_type": "stream",
     "text": [
      "100%|██████████| 125/125 [01:05<00:00,  1.91it/s]\n"
     ]
    },
    {
     "name": "stdout",
     "output_type": "stream",
     "text": [
      "iteration280\n",
      "Angulo theta_1 :  23.8\n",
      "Sigma:  0.035633196799873854\n"
     ]
    },
    {
     "name": "stderr",
     "output_type": "stream",
     "text": [
      "100%|██████████| 125/125 [01:06<00:00,  1.89it/s]\n"
     ]
    },
    {
     "name": "stdout",
     "output_type": "stream",
     "text": [
      "iteration281\n",
      "Angulo theta_1 :  23.885\n",
      "Sigma:  0.04336399486480803\n"
     ]
    },
    {
     "name": "stderr",
     "output_type": "stream",
     "text": [
      "100%|██████████| 125/125 [01:04<00:00,  1.93it/s]\n"
     ]
    },
    {
     "name": "stdout",
     "output_type": "stream",
     "text": [
      "iteration282\n",
      "Angulo theta_1 :  23.97\n",
      "Sigma:  0.04764960993207654\n"
     ]
    },
    {
     "name": "stderr",
     "output_type": "stream",
     "text": [
      "100%|██████████| 125/125 [01:05<00:00,  1.91it/s]\n"
     ]
    },
    {
     "name": "stdout",
     "output_type": "stream",
     "text": [
      "iteration283\n",
      "Angulo theta_1 :  24.055\n",
      "Sigma:  0.039283125778869415\n"
     ]
    },
    {
     "name": "stderr",
     "output_type": "stream",
     "text": [
      "100%|██████████| 125/125 [01:04<00:00,  1.94it/s]\n"
     ]
    },
    {
     "name": "stdout",
     "output_type": "stream",
     "text": [
      "iteration284\n",
      "Angulo theta_1 :  24.14\n",
      "Sigma:  0.04510937223544202\n"
     ]
    },
    {
     "name": "stderr",
     "output_type": "stream",
     "text": [
      "100%|██████████| 125/125 [01:04<00:00,  1.94it/s]\n"
     ]
    },
    {
     "name": "stdout",
     "output_type": "stream",
     "text": [
      "iteration285\n",
      "Angulo theta_1 :  24.225\n",
      "Sigma:  0.046347064760965846\n"
     ]
    },
    {
     "name": "stderr",
     "output_type": "stream",
     "text": [
      "100%|██████████| 125/125 [01:18<00:00,  1.59it/s]\n"
     ]
    },
    {
     "name": "stdout",
     "output_type": "stream",
     "text": [
      "iteration286\n",
      "Angulo theta_1 :  24.31\n",
      "Sigma:  0.03855023318877206\n"
     ]
    },
    {
     "name": "stderr",
     "output_type": "stream",
     "text": [
      "100%|██████████| 125/125 [01:19<00:00,  1.57it/s]\n"
     ]
    },
    {
     "name": "stdout",
     "output_type": "stream",
     "text": [
      "iteration287\n",
      "Angulo theta_1 :  24.395\n",
      "Sigma:  0.0481988005251498\n"
     ]
    },
    {
     "name": "stderr",
     "output_type": "stream",
     "text": [
      "100%|██████████| 125/125 [01:05<00:00,  1.92it/s]\n"
     ]
    },
    {
     "name": "stdout",
     "output_type": "stream",
     "text": [
      "iteration288\n",
      "Angulo theta_1 :  24.48\n",
      "Sigma:  0.033485299249856486\n"
     ]
    },
    {
     "name": "stderr",
     "output_type": "stream",
     "text": [
      "100%|██████████| 125/125 [01:04<00:00,  1.93it/s]\n"
     ]
    },
    {
     "name": "stdout",
     "output_type": "stream",
     "text": [
      "iteration289\n",
      "Angulo theta_1 :  24.565\n",
      "Sigma:  0.02929134201657895\n"
     ]
    },
    {
     "name": "stderr",
     "output_type": "stream",
     "text": [
      "100%|██████████| 125/125 [01:08<00:00,  1.83it/s]\n"
     ]
    },
    {
     "name": "stdout",
     "output_type": "stream",
     "text": [
      "iteration290\n",
      "Angulo theta_1 :  24.65\n",
      "Sigma:  0.04100346015173781\n"
     ]
    },
    {
     "name": "stderr",
     "output_type": "stream",
     "text": [
      "100%|██████████| 125/125 [01:09<00:00,  1.81it/s]\n"
     ]
    },
    {
     "name": "stdout",
     "output_type": "stream",
     "text": [
      "iteration291\n",
      "Angulo theta_1 :  24.735\n",
      "Sigma:  0.03804258788658092\n"
     ]
    },
    {
     "name": "stderr",
     "output_type": "stream",
     "text": [
      "100%|██████████| 125/125 [01:05<00:00,  1.91it/s]\n"
     ]
    },
    {
     "name": "stdout",
     "output_type": "stream",
     "text": [
      "iteration292\n",
      "Angulo theta_1 :  24.82\n",
      "Sigma:  0.03927041960214526\n"
     ]
    },
    {
     "name": "stderr",
     "output_type": "stream",
     "text": [
      "100%|██████████| 125/125 [01:06<00:00,  1.89it/s]\n"
     ]
    },
    {
     "name": "stdout",
     "output_type": "stream",
     "text": [
      "iteration293\n",
      "Angulo theta_1 :  24.905\n",
      "Sigma:  0.04158273077168392\n"
     ]
    },
    {
     "name": "stderr",
     "output_type": "stream",
     "text": [
      "100%|██████████| 125/125 [01:16<00:00,  1.63it/s]\n"
     ]
    },
    {
     "name": "stdout",
     "output_type": "stream",
     "text": [
      "iteration294\n",
      "Angulo theta_1 :  24.99\n",
      "Sigma:  0.03517550441601533\n"
     ]
    },
    {
     "name": "stderr",
     "output_type": "stream",
     "text": [
      "100%|██████████| 125/125 [01:11<00:00,  1.75it/s]\n"
     ]
    },
    {
     "name": "stdout",
     "output_type": "stream",
     "text": [
      "iteration295\n",
      "Angulo theta_1 :  25.075\n",
      "Sigma:  0.04181509262948942\n"
     ]
    },
    {
     "name": "stderr",
     "output_type": "stream",
     "text": [
      "100%|██████████| 125/125 [01:13<00:00,  1.69it/s]\n"
     ]
    },
    {
     "name": "stdout",
     "output_type": "stream",
     "text": [
      "iteration296\n",
      "Angulo theta_1 :  25.16\n",
      "Sigma:  0.03360712481161793\n"
     ]
    },
    {
     "name": "stderr",
     "output_type": "stream",
     "text": [
      "100%|██████████| 125/125 [01:27<00:00,  1.43it/s]\n"
     ]
    },
    {
     "name": "stdout",
     "output_type": "stream",
     "text": [
      "iteration297\n",
      "Angulo theta_1 :  25.245\n",
      "Sigma:  0.031416854664895966\n"
     ]
    },
    {
     "name": "stderr",
     "output_type": "stream",
     "text": [
      "100%|██████████| 125/125 [01:41<00:00,  1.23it/s]\n"
     ]
    },
    {
     "name": "stdout",
     "output_type": "stream",
     "text": [
      "iteration298\n",
      "Angulo theta_1 :  25.33\n",
      "Sigma:  0.032088387995742325\n"
     ]
    },
    {
     "name": "stderr",
     "output_type": "stream",
     "text": [
      "100%|██████████| 125/125 [01:15<00:00,  1.66it/s]\n"
     ]
    },
    {
     "name": "stdout",
     "output_type": "stream",
     "text": [
      "iteration299\n",
      "Angulo theta_1 :  25.415\n",
      "Sigma:  0.027581927388409404\n"
     ]
    },
    {
     "name": "stderr",
     "output_type": "stream",
     "text": [
      "100%|██████████| 125/125 [01:12<00:00,  1.72it/s]\n"
     ]
    },
    {
     "name": "stdout",
     "output_type": "stream",
     "text": [
      "iteration300\n",
      "Angulo theta_1 :  25.5\n",
      "Sigma:  0.027081960220308527\n"
     ]
    },
    {
     "name": "stderr",
     "output_type": "stream",
     "text": [
      "100%|██████████| 125/125 [01:27<00:00,  1.42it/s]\n"
     ]
    },
    {
     "name": "stdout",
     "output_type": "stream",
     "text": [
      "iteration301\n",
      "Angulo theta_1 :  25.585\n",
      "Sigma:  0.03764946998884108\n"
     ]
    },
    {
     "name": "stderr",
     "output_type": "stream",
     "text": [
      "100%|██████████| 125/125 [01:47<00:00,  1.16it/s]\n"
     ]
    },
    {
     "name": "stdout",
     "output_type": "stream",
     "text": [
      "iteration302\n",
      "Angulo theta_1 :  25.67\n",
      "Sigma:  0.04105009999128262\n"
     ]
    },
    {
     "name": "stderr",
     "output_type": "stream",
     "text": [
      "100%|██████████| 125/125 [01:34<00:00,  1.32it/s]\n"
     ]
    },
    {
     "name": "stdout",
     "output_type": "stream",
     "text": [
      "iteration303\n",
      "Angulo theta_1 :  25.755\n",
      "Sigma:  0.036669642852889026\n"
     ]
    },
    {
     "name": "stderr",
     "output_type": "stream",
     "text": [
      "100%|██████████| 125/125 [01:32<00:00,  1.36it/s]\n"
     ]
    },
    {
     "name": "stdout",
     "output_type": "stream",
     "text": [
      "iteration304\n",
      "Angulo theta_1 :  25.84\n",
      "Sigma:  0.047595190342041974\n"
     ]
    },
    {
     "name": "stderr",
     "output_type": "stream",
     "text": [
      "100%|██████████| 125/125 [02:36<00:00,  1.25s/it]\n"
     ]
    },
    {
     "name": "stdout",
     "output_type": "stream",
     "text": [
      "iteration305\n",
      "Angulo theta_1 :  25.925\n",
      "Sigma:  0.029902087446402267\n"
     ]
    },
    {
     "name": "stderr",
     "output_type": "stream",
     "text": [
      "100%|██████████| 125/125 [03:21<00:00,  1.62s/it]\n"
     ]
    },
    {
     "name": "stdout",
     "output_type": "stream",
     "text": [
      "iteration306\n",
      "Angulo theta_1 :  26.01\n",
      "Sigma:  0.031426807056328034\n"
     ]
    },
    {
     "name": "stderr",
     "output_type": "stream",
     "text": [
      "100%|██████████| 125/125 [09:51<00:00,  4.73s/it]\n"
     ]
    },
    {
     "name": "stdout",
     "output_type": "stream",
     "text": [
      "iteration307\n",
      "Angulo theta_1 :  26.095\n",
      "Sigma:  0.04443257741802373\n"
     ]
    },
    {
     "name": "stderr",
     "output_type": "stream",
     "text": [
      "100%|██████████| 125/125 [09:03<00:00,  4.35s/it]\n"
     ]
    },
    {
     "name": "stdout",
     "output_type": "stream",
     "text": [
      "iteration308\n",
      "Angulo theta_1 :  26.18\n",
      "Sigma:  0.04405743363962414\n"
     ]
    },
    {
     "name": "stderr",
     "output_type": "stream",
     "text": [
      "100%|██████████| 125/125 [05:17<00:00,  2.54s/it]\n"
     ]
    },
    {
     "name": "stdout",
     "output_type": "stream",
     "text": [
      "iteration309\n",
      "Angulo theta_1 :  26.265\n",
      "Sigma:  0.031161409701656817\n"
     ]
    },
    {
     "name": "stderr",
     "output_type": "stream",
     "text": [
      "100%|██████████| 125/125 [04:18<00:00,  2.07s/it]\n"
     ]
    },
    {
     "name": "stdout",
     "output_type": "stream",
     "text": [
      "iteration310\n",
      "Angulo theta_1 :  26.35\n",
      "Sigma:  0.04117584053925827\n"
     ]
    },
    {
     "name": "stderr",
     "output_type": "stream",
     "text": [
      "100%|██████████| 125/125 [01:41<00:00,  1.23it/s]\n"
     ]
    },
    {
     "name": "stdout",
     "output_type": "stream",
     "text": [
      "iteration311\n",
      "Angulo theta_1 :  26.435\n",
      "Sigma:  0.031537457358584924\n"
     ]
    },
    {
     "name": "stderr",
     "output_type": "stream",
     "text": [
      "100%|██████████| 125/125 [01:21<00:00,  1.53it/s]\n"
     ]
    },
    {
     "name": "stdout",
     "output_type": "stream",
     "text": [
      "iteration312\n",
      "Angulo theta_1 :  26.52\n",
      "Sigma:  0.03279436834685183\n"
     ]
    },
    {
     "name": "stderr",
     "output_type": "stream",
     "text": [
      "100%|██████████| 125/125 [01:12<00:00,  1.72it/s]\n"
     ]
    },
    {
     "name": "stdout",
     "output_type": "stream",
     "text": [
      "iteration313\n",
      "Angulo theta_1 :  26.605\n",
      "Sigma:  0.04535959851479308\n"
     ]
    },
    {
     "name": "stderr",
     "output_type": "stream",
     "text": [
      "100%|██████████| 125/125 [01:14<00:00,  1.68it/s]\n"
     ]
    },
    {
     "name": "stdout",
     "output_type": "stream",
     "text": [
      "iteration314\n",
      "Angulo theta_1 :  26.69\n",
      "Sigma:  0.04767680477347938\n"
     ]
    },
    {
     "name": "stderr",
     "output_type": "stream",
     "text": [
      "100%|██████████| 125/125 [01:11<00:00,  1.76it/s]\n"
     ]
    },
    {
     "name": "stdout",
     "output_type": "stream",
     "text": [
      "iteration315\n",
      "Angulo theta_1 :  26.775\n",
      "Sigma:  0.040188540209289046\n"
     ]
    },
    {
     "name": "stderr",
     "output_type": "stream",
     "text": [
      "100%|██████████| 125/125 [02:08<00:00,  1.03s/it]\n"
     ]
    },
    {
     "name": "stdout",
     "output_type": "stream",
     "text": [
      "iteration316\n",
      "Angulo theta_1 :  26.86\n",
      "Sigma:  0.04651523676086024\n"
     ]
    },
    {
     "name": "stderr",
     "output_type": "stream",
     "text": [
      "100%|██████████| 125/125 [01:54<00:00,  1.09it/s]\n"
     ]
    },
    {
     "name": "stdout",
     "output_type": "stream",
     "text": [
      "iteration317\n",
      "Angulo theta_1 :  26.945\n",
      "Sigma:  0.04381685007100811\n"
     ]
    },
    {
     "name": "stderr",
     "output_type": "stream",
     "text": [
      "100%|██████████| 125/125 [01:26<00:00,  1.45it/s]\n"
     ]
    },
    {
     "name": "stdout",
     "output_type": "stream",
     "text": [
      "iteration318\n",
      "Angulo theta_1 :  27.03\n",
      "Sigma:  0.0498617318613107\n"
     ]
    },
    {
     "name": "stderr",
     "output_type": "stream",
     "text": [
      "100%|██████████| 125/125 [01:18<00:00,  1.60it/s]\n"
     ]
    },
    {
     "name": "stdout",
     "output_type": "stream",
     "text": [
      "iteration319\n",
      "Angulo theta_1 :  27.115\n",
      "Sigma:  0.043391300616781564\n"
     ]
    },
    {
     "name": "stderr",
     "output_type": "stream",
     "text": [
      "100%|██████████| 125/125 [01:42<00:00,  1.21it/s]\n"
     ]
    },
    {
     "name": "stdout",
     "output_type": "stream",
     "text": [
      "iteration320\n",
      "Angulo theta_1 :  27.2\n",
      "Sigma:  0.040061703965507914\n"
     ]
    },
    {
     "name": "stderr",
     "output_type": "stream",
     "text": [
      "100%|██████████| 125/125 [01:32<00:00,  1.35it/s]\n"
     ]
    },
    {
     "name": "stdout",
     "output_type": "stream",
     "text": [
      "iteration321\n",
      "Angulo theta_1 :  27.285\n",
      "Sigma:  0.027032954812808166\n"
     ]
    },
    {
     "name": "stderr",
     "output_type": "stream",
     "text": [
      "100%|██████████| 125/125 [01:10<00:00,  1.78it/s]\n"
     ]
    },
    {
     "name": "stdout",
     "output_type": "stream",
     "text": [
      "iteration322\n",
      "Angulo theta_1 :  27.37\n",
      "Sigma:  0.04040210493944284\n"
     ]
    },
    {
     "name": "stderr",
     "output_type": "stream",
     "text": [
      "100%|██████████| 125/125 [01:09<00:00,  1.81it/s]\n"
     ]
    },
    {
     "name": "stdout",
     "output_type": "stream",
     "text": [
      "iteration323\n",
      "Angulo theta_1 :  27.455\n",
      "Sigma:  0.045638321142200636\n"
     ]
    },
    {
     "name": "stderr",
     "output_type": "stream",
     "text": [
      "100%|██████████| 125/125 [01:03<00:00,  1.95it/s]\n"
     ]
    },
    {
     "name": "stdout",
     "output_type": "stream",
     "text": [
      "iteration324\n",
      "Angulo theta_1 :  27.54\n",
      "Sigma:  0.0497704385355289\n"
     ]
    },
    {
     "name": "stderr",
     "output_type": "stream",
     "text": [
      "100%|██████████| 125/125 [01:04<00:00,  1.95it/s]\n"
     ]
    },
    {
     "name": "stdout",
     "output_type": "stream",
     "text": [
      "iteration325\n",
      "Angulo theta_1 :  27.625\n",
      "Sigma:  0.029209386993554073\n"
     ]
    },
    {
     "name": "stderr",
     "output_type": "stream",
     "text": [
      "100%|██████████| 125/125 [01:03<00:00,  1.95it/s]\n"
     ]
    },
    {
     "name": "stdout",
     "output_type": "stream",
     "text": [
      "iteration326\n",
      "Angulo theta_1 :  27.71\n",
      "Sigma:  0.028322647518798736\n"
     ]
    },
    {
     "name": "stderr",
     "output_type": "stream",
     "text": [
      "100%|██████████| 125/125 [01:04<00:00,  1.95it/s]\n"
     ]
    },
    {
     "name": "stdout",
     "output_type": "stream",
     "text": [
      "iteration327\n",
      "Angulo theta_1 :  27.795\n",
      "Sigma:  0.049476995275869295\n"
     ]
    },
    {
     "name": "stderr",
     "output_type": "stream",
     "text": [
      "100%|██████████| 125/125 [01:04<00:00,  1.95it/s]\n"
     ]
    },
    {
     "name": "stdout",
     "output_type": "stream",
     "text": [
      "iteration328\n",
      "Angulo theta_1 :  27.88\n",
      "Sigma:  0.04449840502277802\n"
     ]
    },
    {
     "name": "stderr",
     "output_type": "stream",
     "text": [
      "100%|██████████| 125/125 [01:04<00:00,  1.93it/s]\n"
     ]
    },
    {
     "name": "stdout",
     "output_type": "stream",
     "text": [
      "iteration329\n",
      "Angulo theta_1 :  27.965\n",
      "Sigma:  0.04062642653472943\n"
     ]
    },
    {
     "name": "stderr",
     "output_type": "stream",
     "text": [
      "100%|██████████| 125/125 [01:04<00:00,  1.95it/s]\n"
     ]
    },
    {
     "name": "stdout",
     "output_type": "stream",
     "text": [
      "iteration330\n",
      "Angulo theta_1 :  28.05\n",
      "Sigma:  0.026623055117967417\n"
     ]
    },
    {
     "name": "stderr",
     "output_type": "stream",
     "text": [
      "100%|██████████| 125/125 [01:04<00:00,  1.95it/s]\n"
     ]
    },
    {
     "name": "stdout",
     "output_type": "stream",
     "text": [
      "iteration331\n",
      "Angulo theta_1 :  28.135\n",
      "Sigma:  0.029236776838414965\n"
     ]
    },
    {
     "name": "stderr",
     "output_type": "stream",
     "text": [
      "100%|██████████| 125/125 [01:05<00:00,  1.92it/s]\n"
     ]
    },
    {
     "name": "stdout",
     "output_type": "stream",
     "text": [
      "iteration332\n",
      "Angulo theta_1 :  28.22\n",
      "Sigma:  0.0253443460405179\n"
     ]
    },
    {
     "name": "stderr",
     "output_type": "stream",
     "text": [
      "100%|██████████| 125/125 [01:05<00:00,  1.92it/s]\n"
     ]
    },
    {
     "name": "stdout",
     "output_type": "stream",
     "text": [
      "iteration333\n",
      "Angulo theta_1 :  28.305\n",
      "Sigma:  0.028975348468272367\n"
     ]
    },
    {
     "name": "stderr",
     "output_type": "stream",
     "text": [
      "100%|██████████| 125/125 [01:05<00:00,  1.91it/s]\n"
     ]
    },
    {
     "name": "stdout",
     "output_type": "stream",
     "text": [
      "iteration334\n",
      "Angulo theta_1 :  28.39\n",
      "Sigma:  0.02992210926603178\n"
     ]
    },
    {
     "name": "stderr",
     "output_type": "stream",
     "text": [
      "100%|██████████| 125/125 [01:03<00:00,  1.96it/s]\n"
     ]
    },
    {
     "name": "stdout",
     "output_type": "stream",
     "text": [
      "iteration335\n",
      "Angulo theta_1 :  28.475\n",
      "Sigma:  0.045773852026922066\n"
     ]
    },
    {
     "name": "stderr",
     "output_type": "stream",
     "text": [
      "100%|██████████| 125/125 [01:03<00:00,  1.95it/s]\n"
     ]
    },
    {
     "name": "stdout",
     "output_type": "stream",
     "text": [
      "iteration336\n",
      "Angulo theta_1 :  28.56\n",
      "Sigma:  0.0304273179747844\n"
     ]
    },
    {
     "name": "stderr",
     "output_type": "stream",
     "text": [
      "100%|██████████| 125/125 [01:04<00:00,  1.95it/s]\n"
     ]
    },
    {
     "name": "stdout",
     "output_type": "stream",
     "text": [
      "iteration337\n",
      "Angulo theta_1 :  28.645\n",
      "Sigma:  0.030933034933053067\n"
     ]
    },
    {
     "name": "stderr",
     "output_type": "stream",
     "text": [
      "100%|██████████| 125/125 [01:04<00:00,  1.93it/s]\n"
     ]
    },
    {
     "name": "stdout",
     "output_type": "stream",
     "text": [
      "iteration338\n",
      "Angulo theta_1 :  28.73\n",
      "Sigma:  0.04816421268935538\n"
     ]
    },
    {
     "name": "stderr",
     "output_type": "stream",
     "text": [
      "100%|██████████| 125/125 [01:04<00:00,  1.94it/s]\n"
     ]
    },
    {
     "name": "stdout",
     "output_type": "stream",
     "text": [
      "iteration339\n",
      "Angulo theta_1 :  28.815\n",
      "Sigma:  0.03752065759460547\n"
     ]
    },
    {
     "name": "stderr",
     "output_type": "stream",
     "text": [
      "100%|██████████| 125/125 [01:03<00:00,  1.95it/s]\n"
     ]
    },
    {
     "name": "stdout",
     "output_type": "stream",
     "text": [
      "iteration340\n",
      "Angulo theta_1 :  28.9\n",
      "Sigma:  0.04851561701670455\n"
     ]
    },
    {
     "name": "stderr",
     "output_type": "stream",
     "text": [
      "100%|██████████| 125/125 [00:59<00:00,  2.09it/s]\n"
     ]
    },
    {
     "name": "stdout",
     "output_type": "stream",
     "text": [
      "iteration341\n",
      "Angulo theta_1 :  28.985\n",
      "Sigma:  0.04249612382357032\n"
     ]
    },
    {
     "name": "stderr",
     "output_type": "stream",
     "text": [
      "100%|██████████| 125/125 [00:59<00:00,  2.09it/s]\n"
     ]
    },
    {
     "name": "stdout",
     "output_type": "stream",
     "text": [
      "iteration342\n",
      "Angulo theta_1 :  29.07\n",
      "Sigma:  0.03802865066591095\n"
     ]
    },
    {
     "name": "stderr",
     "output_type": "stream",
     "text": [
      "100%|██████████| 125/125 [01:00<00:00,  2.06it/s]\n"
     ]
    },
    {
     "name": "stdout",
     "output_type": "stream",
     "text": [
      "iteration343\n",
      "Angulo theta_1 :  29.155\n",
      "Sigma:  0.03201566217918141\n"
     ]
    },
    {
     "name": "stderr",
     "output_type": "stream",
     "text": [
      "100%|██████████| 125/125 [01:00<00:00,  2.08it/s]\n"
     ]
    },
    {
     "name": "stdout",
     "output_type": "stream",
     "text": [
      "iteration344\n",
      "Angulo theta_1 :  29.24\n",
      "Sigma:  0.03918006087175013\n"
     ]
    },
    {
     "name": "stderr",
     "output_type": "stream",
     "text": [
      "100%|██████████| 125/125 [00:59<00:00,  2.09it/s]\n"
     ]
    },
    {
     "name": "stdout",
     "output_type": "stream",
     "text": [
      "iteration345\n",
      "Angulo theta_1 :  29.325\n",
      "Sigma:  0.02640247488091134\n"
     ]
    },
    {
     "name": "stderr",
     "output_type": "stream",
     "text": [
      "100%|██████████| 125/125 [00:59<00:00,  2.10it/s]\n"
     ]
    },
    {
     "name": "stdout",
     "output_type": "stream",
     "text": [
      "iteration346\n",
      "Angulo theta_1 :  29.41\n",
      "Sigma:  0.03719745449846429\n"
     ]
    },
    {
     "name": "stderr",
     "output_type": "stream",
     "text": [
      "100%|██████████| 125/125 [00:59<00:00,  2.09it/s]\n"
     ]
    },
    {
     "name": "stdout",
     "output_type": "stream",
     "text": [
      "iteration347\n",
      "Angulo theta_1 :  29.495\n",
      "Sigma:  0.02985156428291539\n"
     ]
    },
    {
     "name": "stderr",
     "output_type": "stream",
     "text": [
      "100%|██████████| 125/125 [00:59<00:00,  2.09it/s]\n"
     ]
    },
    {
     "name": "stdout",
     "output_type": "stream",
     "text": [
      "iteration348\n",
      "Angulo theta_1 :  29.58\n",
      "Sigma:  0.04877108924437028\n"
     ]
    },
    {
     "name": "stderr",
     "output_type": "stream",
     "text": [
      "100%|██████████| 125/125 [00:59<00:00,  2.08it/s]\n"
     ]
    },
    {
     "name": "stdout",
     "output_type": "stream",
     "text": [
      "iteration349\n",
      "Angulo theta_1 :  29.665\n",
      "Sigma:  0.049169424261297154\n"
     ]
    },
    {
     "name": "stderr",
     "output_type": "stream",
     "text": [
      "100%|██████████| 125/125 [00:59<00:00,  2.10it/s]\n"
     ]
    },
    {
     "name": "stdout",
     "output_type": "stream",
     "text": [
      "iteration350\n",
      "Angulo theta_1 :  29.75\n",
      "Sigma:  0.044219250734285925\n"
     ]
    },
    {
     "name": "stderr",
     "output_type": "stream",
     "text": [
      "100%|██████████| 125/125 [00:59<00:00,  2.10it/s]\n"
     ]
    },
    {
     "name": "stdout",
     "output_type": "stream",
     "text": [
      "iteration351\n",
      "Angulo theta_1 :  29.835\n",
      "Sigma:  0.028472396028793544\n"
     ]
    },
    {
     "name": "stderr",
     "output_type": "stream",
     "text": [
      "100%|██████████| 125/125 [00:59<00:00,  2.10it/s]\n"
     ]
    },
    {
     "name": "stdout",
     "output_type": "stream",
     "text": [
      "iteration352\n",
      "Angulo theta_1 :  29.92\n",
      "Sigma:  0.02803378280602462\n"
     ]
    },
    {
     "name": "stderr",
     "output_type": "stream",
     "text": [
      "100%|██████████| 125/125 [01:00<00:00,  2.07it/s]\n"
     ]
    },
    {
     "name": "stdout",
     "output_type": "stream",
     "text": [
      "iteration353\n",
      "Angulo theta_1 :  30.005\n",
      "Sigma:  0.04115040896973615\n"
     ]
    },
    {
     "name": "stderr",
     "output_type": "stream",
     "text": [
      "100%|██████████| 125/125 [00:59<00:00,  2.10it/s]\n"
     ]
    },
    {
     "name": "stdout",
     "output_type": "stream",
     "text": [
      "iteration354\n",
      "Angulo theta_1 :  30.09\n",
      "Sigma:  0.025019267410480307\n"
     ]
    },
    {
     "name": "stderr",
     "output_type": "stream",
     "text": [
      "100%|██████████| 125/125 [00:59<00:00,  2.09it/s]\n"
     ]
    },
    {
     "name": "stdout",
     "output_type": "stream",
     "text": [
      "iteration355\n",
      "Angulo theta_1 :  30.175\n",
      "Sigma:  0.027825717806565925\n"
     ]
    },
    {
     "name": "stderr",
     "output_type": "stream",
     "text": [
      "100%|██████████| 125/125 [00:59<00:00,  2.10it/s]\n"
     ]
    },
    {
     "name": "stdout",
     "output_type": "stream",
     "text": [
      "iteration356\n",
      "Angulo theta_1 :  30.26\n",
      "Sigma:  0.028145701372934734\n"
     ]
    },
    {
     "name": "stderr",
     "output_type": "stream",
     "text": [
      "100%|██████████| 125/125 [01:04<00:00,  1.95it/s]\n"
     ]
    },
    {
     "name": "stdout",
     "output_type": "stream",
     "text": [
      "iteration357\n",
      "Angulo theta_1 :  30.345\n",
      "Sigma:  0.03580167844542681\n"
     ]
    },
    {
     "name": "stderr",
     "output_type": "stream",
     "text": [
      "100%|██████████| 125/125 [00:59<00:00,  2.09it/s]\n"
     ]
    },
    {
     "name": "stdout",
     "output_type": "stream",
     "text": [
      "iteration358\n",
      "Angulo theta_1 :  30.43\n",
      "Sigma:  0.03995426472137386\n"
     ]
    },
    {
     "name": "stderr",
     "output_type": "stream",
     "text": [
      "100%|██████████| 125/125 [00:59<00:00,  2.09it/s]\n"
     ]
    },
    {
     "name": "stdout",
     "output_type": "stream",
     "text": [
      "iteration359\n",
      "Angulo theta_1 :  30.515\n",
      "Sigma:  0.03505637557499136\n"
     ]
    },
    {
     "name": "stderr",
     "output_type": "stream",
     "text": [
      "100%|██████████| 125/125 [01:03<00:00,  1.96it/s]\n"
     ]
    },
    {
     "name": "stdout",
     "output_type": "stream",
     "text": [
      "iteration360\n",
      "Angulo theta_1 :  30.6\n",
      "Sigma:  0.04652146512377843\n"
     ]
    },
    {
     "name": "stderr",
     "output_type": "stream",
     "text": [
      "100%|██████████| 125/125 [00:59<00:00,  2.10it/s]\n"
     ]
    },
    {
     "name": "stdout",
     "output_type": "stream",
     "text": [
      "iteration361\n",
      "Angulo theta_1 :  30.685\n",
      "Sigma:  0.026174859755537704\n"
     ]
    },
    {
     "name": "stderr",
     "output_type": "stream",
     "text": [
      "100%|██████████| 125/125 [00:59<00:00,  2.10it/s]\n"
     ]
    },
    {
     "name": "stdout",
     "output_type": "stream",
     "text": [
      "iteration362\n",
      "Angulo theta_1 :  30.77\n",
      "Sigma:  0.04801158368882395\n"
     ]
    },
    {
     "name": "stderr",
     "output_type": "stream",
     "text": [
      "100%|██████████| 125/125 [01:00<00:00,  2.08it/s]\n"
     ]
    },
    {
     "name": "stdout",
     "output_type": "stream",
     "text": [
      "iteration363\n",
      "Angulo theta_1 :  30.855\n",
      "Sigma:  0.031079053680860298\n"
     ]
    },
    {
     "name": "stderr",
     "output_type": "stream",
     "text": [
      "100%|██████████| 125/125 [00:59<00:00,  2.10it/s]\n"
     ]
    },
    {
     "name": "stdout",
     "output_type": "stream",
     "text": [
      "iteration364\n",
      "Angulo theta_1 :  30.94\n",
      "Sigma:  0.039770035822952673\n"
     ]
    },
    {
     "name": "stderr",
     "output_type": "stream",
     "text": [
      "100%|██████████| 125/125 [00:59<00:00,  2.09it/s]\n"
     ]
    },
    {
     "name": "stdout",
     "output_type": "stream",
     "text": [
      "iteration365\n",
      "Angulo theta_1 :  31.025\n",
      "Sigma:  0.03994823577582083\n"
     ]
    },
    {
     "name": "stderr",
     "output_type": "stream",
     "text": [
      "100%|██████████| 125/125 [01:00<00:00,  2.07it/s]\n"
     ]
    },
    {
     "name": "stdout",
     "output_type": "stream",
     "text": [
      "iteration366\n",
      "Angulo theta_1 :  31.11\n",
      "Sigma:  0.03825178435958161\n"
     ]
    },
    {
     "name": "stderr",
     "output_type": "stream",
     "text": [
      "100%|██████████| 125/125 [01:00<00:00,  2.06it/s]\n"
     ]
    },
    {
     "name": "stdout",
     "output_type": "stream",
     "text": [
      "iteration367\n",
      "Angulo theta_1 :  31.195\n",
      "Sigma:  0.043391597956534925\n"
     ]
    },
    {
     "name": "stderr",
     "output_type": "stream",
     "text": [
      "100%|██████████| 125/125 [00:59<00:00,  2.09it/s]\n"
     ]
    },
    {
     "name": "stdout",
     "output_type": "stream",
     "text": [
      "iteration368\n",
      "Angulo theta_1 :  31.28\n",
      "Sigma:  0.03371954292148382\n"
     ]
    },
    {
     "name": "stderr",
     "output_type": "stream",
     "text": [
      "100%|██████████| 125/125 [00:59<00:00,  2.09it/s]\n"
     ]
    },
    {
     "name": "stdout",
     "output_type": "stream",
     "text": [
      "iteration369\n",
      "Angulo theta_1 :  31.365\n",
      "Sigma:  0.04974662487184362\n"
     ]
    },
    {
     "name": "stderr",
     "output_type": "stream",
     "text": [
      "100%|██████████| 125/125 [01:00<00:00,  2.06it/s]\n"
     ]
    },
    {
     "name": "stdout",
     "output_type": "stream",
     "text": [
      "iteration370\n",
      "Angulo theta_1 :  31.45\n",
      "Sigma:  0.033997060751754786\n"
     ]
    },
    {
     "name": "stderr",
     "output_type": "stream",
     "text": [
      "100%|██████████| 125/125 [00:59<00:00,  2.09it/s]\n"
     ]
    },
    {
     "name": "stdout",
     "output_type": "stream",
     "text": [
      "iteration371\n",
      "Angulo theta_1 :  31.535\n",
      "Sigma:  0.04022539775145614\n"
     ]
    },
    {
     "name": "stderr",
     "output_type": "stream",
     "text": [
      "100%|██████████| 125/125 [01:01<00:00,  2.04it/s]\n"
     ]
    },
    {
     "name": "stdout",
     "output_type": "stream",
     "text": [
      "iteration372\n",
      "Angulo theta_1 :  31.62\n",
      "Sigma:  0.02785686006870149\n"
     ]
    },
    {
     "name": "stderr",
     "output_type": "stream",
     "text": [
      "100%|██████████| 125/125 [01:06<00:00,  1.87it/s]\n"
     ]
    },
    {
     "name": "stdout",
     "output_type": "stream",
     "text": [
      "iteration373\n",
      "Angulo theta_1 :  31.705\n",
      "Sigma:  0.037458061866868085\n"
     ]
    },
    {
     "name": "stderr",
     "output_type": "stream",
     "text": [
      "100%|██████████| 125/125 [01:03<00:00,  1.97it/s]\n"
     ]
    },
    {
     "name": "stdout",
     "output_type": "stream",
     "text": [
      "iteration374\n",
      "Angulo theta_1 :  31.79\n",
      "Sigma:  0.029021648658863083\n"
     ]
    },
    {
     "name": "stderr",
     "output_type": "stream",
     "text": [
      "100%|██████████| 125/125 [01:06<00:00,  1.87it/s]\n"
     ]
    },
    {
     "name": "stdout",
     "output_type": "stream",
     "text": [
      "iteration375\n",
      "Angulo theta_1 :  31.875\n",
      "Sigma:  0.0474013741234831\n"
     ]
    },
    {
     "name": "stderr",
     "output_type": "stream",
     "text": [
      "100%|██████████| 125/125 [01:17<00:00,  1.62it/s]\n"
     ]
    },
    {
     "name": "stdout",
     "output_type": "stream",
     "text": [
      "iteration376\n",
      "Angulo theta_1 :  31.96\n",
      "Sigma:  0.03612968463297659\n"
     ]
    },
    {
     "name": "stderr",
     "output_type": "stream",
     "text": [
      "100%|██████████| 125/125 [01:38<00:00,  1.27it/s]\n"
     ]
    },
    {
     "name": "stdout",
     "output_type": "stream",
     "text": [
      "iteration377\n",
      "Angulo theta_1 :  32.045\n",
      "Sigma:  0.03206898677640452\n"
     ]
    },
    {
     "name": "stderr",
     "output_type": "stream",
     "text": [
      "100%|██████████| 125/125 [00:59<00:00,  2.09it/s]\n"
     ]
    },
    {
     "name": "stdout",
     "output_type": "stream",
     "text": [
      "iteration378\n",
      "Angulo theta_1 :  32.13\n",
      "Sigma:  0.03198944219508053\n"
     ]
    },
    {
     "name": "stderr",
     "output_type": "stream",
     "text": [
      "100%|██████████| 125/125 [00:59<00:00,  2.10it/s]\n"
     ]
    },
    {
     "name": "stdout",
     "output_type": "stream",
     "text": [
      "iteration379\n",
      "Angulo theta_1 :  32.215\n",
      "Sigma:  0.029705032696006897\n"
     ]
    },
    {
     "name": "stderr",
     "output_type": "stream",
     "text": [
      "100%|██████████| 125/125 [00:59<00:00,  2.09it/s]\n"
     ]
    },
    {
     "name": "stdout",
     "output_type": "stream",
     "text": [
      "iteration380\n",
      "Angulo theta_1 :  32.3\n",
      "Sigma:  0.03467850633775574\n"
     ]
    },
    {
     "name": "stderr",
     "output_type": "stream",
     "text": [
      "100%|██████████| 125/125 [01:00<00:00,  2.07it/s]\n"
     ]
    },
    {
     "name": "stdout",
     "output_type": "stream",
     "text": [
      "iteration381\n",
      "Angulo theta_1 :  32.385\n",
      "Sigma:  0.045437950421542264\n"
     ]
    },
    {
     "name": "stderr",
     "output_type": "stream",
     "text": [
      "100%|██████████| 125/125 [00:59<00:00,  2.09it/s]\n"
     ]
    },
    {
     "name": "stdout",
     "output_type": "stream",
     "text": [
      "iteration382\n",
      "Angulo theta_1 :  32.47\n",
      "Sigma:  0.03247812276688512\n"
     ]
    },
    {
     "name": "stderr",
     "output_type": "stream",
     "text": [
      "100%|██████████| 125/125 [00:59<00:00,  2.09it/s]\n"
     ]
    },
    {
     "name": "stdout",
     "output_type": "stream",
     "text": [
      "iteration383\n",
      "Angulo theta_1 :  32.555\n",
      "Sigma:  0.03263665531237525\n"
     ]
    },
    {
     "name": "stderr",
     "output_type": "stream",
     "text": [
      "100%|██████████| 125/125 [01:04<00:00,  1.94it/s]\n"
     ]
    },
    {
     "name": "stdout",
     "output_type": "stream",
     "text": [
      "iteration384\n",
      "Angulo theta_1 :  32.64\n",
      "Sigma:  0.04370611276892875\n"
     ]
    },
    {
     "name": "stderr",
     "output_type": "stream",
     "text": [
      "100%|██████████| 125/125 [01:04<00:00,  1.94it/s]\n"
     ]
    },
    {
     "name": "stdout",
     "output_type": "stream",
     "text": [
      "iteration385\n",
      "Angulo theta_1 :  32.725\n",
      "Sigma:  0.027648442979168106\n"
     ]
    },
    {
     "name": "stderr",
     "output_type": "stream",
     "text": [
      "100%|██████████| 125/125 [01:04<00:00,  1.95it/s]\n"
     ]
    },
    {
     "name": "stdout",
     "output_type": "stream",
     "text": [
      "iteration386\n",
      "Angulo theta_1 :  32.81\n",
      "Sigma:  0.03660232005328187\n"
     ]
    },
    {
     "name": "stderr",
     "output_type": "stream",
     "text": [
      "100%|██████████| 125/125 [01:04<00:00,  1.95it/s]\n"
     ]
    },
    {
     "name": "stdout",
     "output_type": "stream",
     "text": [
      "iteration387\n",
      "Angulo theta_1 :  32.895\n",
      "Sigma:  0.027227803649237433\n"
     ]
    },
    {
     "name": "stderr",
     "output_type": "stream",
     "text": [
      "100%|██████████| 125/125 [01:03<00:00,  1.96it/s]\n"
     ]
    },
    {
     "name": "stdout",
     "output_type": "stream",
     "text": [
      "iteration388\n",
      "Angulo theta_1 :  32.98\n",
      "Sigma:  0.045074816447428855\n"
     ]
    },
    {
     "name": "stderr",
     "output_type": "stream",
     "text": [
      "100%|██████████| 125/125 [01:04<00:00,  1.95it/s]\n"
     ]
    },
    {
     "name": "stdout",
     "output_type": "stream",
     "text": [
      "iteration389\n",
      "Angulo theta_1 :  33.065\n",
      "Sigma:  0.03814958843747286\n"
     ]
    },
    {
     "name": "stderr",
     "output_type": "stream",
     "text": [
      "100%|██████████| 125/125 [01:04<00:00,  1.95it/s]\n"
     ]
    },
    {
     "name": "stdout",
     "output_type": "stream",
     "text": [
      "iteration390\n",
      "Angulo theta_1 :  33.15\n",
      "Sigma:  0.04372028125146528\n"
     ]
    },
    {
     "name": "stderr",
     "output_type": "stream",
     "text": [
      "100%|██████████| 125/125 [01:04<00:00,  1.95it/s]\n"
     ]
    },
    {
     "name": "stdout",
     "output_type": "stream",
     "text": [
      "iteration391\n",
      "Angulo theta_1 :  33.235\n",
      "Sigma:  0.04581804532987076\n"
     ]
    },
    {
     "name": "stderr",
     "output_type": "stream",
     "text": [
      "100%|██████████| 125/125 [00:59<00:00,  2.10it/s]\n"
     ]
    },
    {
     "name": "stdout",
     "output_type": "stream",
     "text": [
      "iteration392\n",
      "Angulo theta_1 :  33.32\n",
      "Sigma:  0.046921134259600664\n"
     ]
    },
    {
     "name": "stderr",
     "output_type": "stream",
     "text": [
      "100%|██████████| 125/125 [00:59<00:00,  2.10it/s]\n"
     ]
    },
    {
     "name": "stdout",
     "output_type": "stream",
     "text": [
      "iteration393\n",
      "Angulo theta_1 :  33.405\n",
      "Sigma:  0.04686915597252391\n"
     ]
    },
    {
     "name": "stderr",
     "output_type": "stream",
     "text": [
      "100%|██████████| 125/125 [01:00<00:00,  2.08it/s]\n"
     ]
    },
    {
     "name": "stdout",
     "output_type": "stream",
     "text": [
      "iteration394\n",
      "Angulo theta_1 :  33.49\n",
      "Sigma:  0.04577217182393009\n"
     ]
    },
    {
     "name": "stderr",
     "output_type": "stream",
     "text": [
      "100%|██████████| 125/125 [00:59<00:00,  2.09it/s]\n"
     ]
    },
    {
     "name": "stdout",
     "output_type": "stream",
     "text": [
      "iteration395\n",
      "Angulo theta_1 :  33.575\n",
      "Sigma:  0.04404564788650657\n"
     ]
    },
    {
     "name": "stderr",
     "output_type": "stream",
     "text": [
      "100%|██████████| 125/125 [00:59<00:00,  2.09it/s]\n"
     ]
    },
    {
     "name": "stdout",
     "output_type": "stream",
     "text": [
      "iteration396\n",
      "Angulo theta_1 :  33.66\n",
      "Sigma:  0.029472063651448\n"
     ]
    },
    {
     "name": "stderr",
     "output_type": "stream",
     "text": [
      "100%|██████████| 125/125 [00:59<00:00,  2.09it/s]\n"
     ]
    },
    {
     "name": "stdout",
     "output_type": "stream",
     "text": [
      "iteration397\n",
      "Angulo theta_1 :  33.745\n",
      "Sigma:  0.043710669327147955\n"
     ]
    },
    {
     "name": "stderr",
     "output_type": "stream",
     "text": [
      "100%|██████████| 125/125 [00:59<00:00,  2.09it/s]\n"
     ]
    },
    {
     "name": "stdout",
     "output_type": "stream",
     "text": [
      "iteration398\n",
      "Angulo theta_1 :  33.83\n",
      "Sigma:  0.02631853956820543\n"
     ]
    },
    {
     "name": "stderr",
     "output_type": "stream",
     "text": [
      "100%|██████████| 125/125 [01:00<00:00,  2.07it/s]\n"
     ]
    },
    {
     "name": "stdout",
     "output_type": "stream",
     "text": [
      "iteration399\n",
      "Angulo theta_1 :  33.915\n",
      "Sigma:  0.04311645732589459\n"
     ]
    },
    {
     "name": "stderr",
     "output_type": "stream",
     "text": [
      "100%|██████████| 125/125 [01:00<00:00,  2.06it/s]\n"
     ]
    },
    {
     "name": "stdout",
     "output_type": "stream",
     "text": [
      "iteration400\n",
      "Angulo theta_1 :  34.0\n",
      "Sigma:  0.045134214541036326\n"
     ]
    },
    {
     "name": "stderr",
     "output_type": "stream",
     "text": [
      "100%|██████████| 125/125 [00:59<00:00,  2.09it/s]\n"
     ]
    },
    {
     "name": "stdout",
     "output_type": "stream",
     "text": [
      "iteration401\n",
      "Angulo theta_1 :  34.085\n",
      "Sigma:  0.04671203875659995\n"
     ]
    },
    {
     "name": "stderr",
     "output_type": "stream",
     "text": [
      "100%|██████████| 125/125 [01:03<00:00,  1.95it/s]\n"
     ]
    },
    {
     "name": "stdout",
     "output_type": "stream",
     "text": [
      "iteration402\n",
      "Angulo theta_1 :  34.17\n",
      "Sigma:  0.04334421179086162\n"
     ]
    },
    {
     "name": "stderr",
     "output_type": "stream",
     "text": [
      "100%|██████████| 125/125 [00:59<00:00,  2.09it/s]\n"
     ]
    },
    {
     "name": "stdout",
     "output_type": "stream",
     "text": [
      "iteration403\n",
      "Angulo theta_1 :  34.255\n",
      "Sigma:  0.04716343871705163\n"
     ]
    },
    {
     "name": "stderr",
     "output_type": "stream",
     "text": [
      "100%|██████████| 125/125 [01:00<00:00,  2.08it/s]\n"
     ]
    },
    {
     "name": "stdout",
     "output_type": "stream",
     "text": [
      "iteration404\n",
      "Angulo theta_1 :  34.34\n",
      "Sigma:  0.04846294087728459\n"
     ]
    },
    {
     "name": "stderr",
     "output_type": "stream",
     "text": [
      "100%|██████████| 125/125 [01:03<00:00,  1.96it/s]\n"
     ]
    },
    {
     "name": "stdout",
     "output_type": "stream",
     "text": [
      "iteration405\n",
      "Angulo theta_1 :  34.425\n",
      "Sigma:  0.041067853079832864\n"
     ]
    },
    {
     "name": "stderr",
     "output_type": "stream",
     "text": [
      "100%|██████████| 125/125 [01:03<00:00,  1.96it/s]\n"
     ]
    },
    {
     "name": "stdout",
     "output_type": "stream",
     "text": [
      "iteration406\n",
      "Angulo theta_1 :  34.51\n",
      "Sigma:  0.04738553579979104\n"
     ]
    },
    {
     "name": "stderr",
     "output_type": "stream",
     "text": [
      "100%|██████████| 125/125 [00:59<00:00,  2.09it/s]\n"
     ]
    },
    {
     "name": "stdout",
     "output_type": "stream",
     "text": [
      "iteration407\n",
      "Angulo theta_1 :  34.595\n",
      "Sigma:  0.04293579650930544\n"
     ]
    },
    {
     "name": "stderr",
     "output_type": "stream",
     "text": [
      "100%|██████████| 125/125 [00:59<00:00,  2.08it/s]\n"
     ]
    },
    {
     "name": "stdout",
     "output_type": "stream",
     "text": [
      "iteration408\n",
      "Angulo theta_1 :  34.68\n",
      "Sigma:  0.031217371974842707\n"
     ]
    },
    {
     "name": "stderr",
     "output_type": "stream",
     "text": [
      "100%|██████████| 125/125 [00:59<00:00,  2.09it/s]\n"
     ]
    },
    {
     "name": "stdout",
     "output_type": "stream",
     "text": [
      "iteration409\n",
      "Angulo theta_1 :  34.765\n",
      "Sigma:  0.04187651186934016\n"
     ]
    },
    {
     "name": "stderr",
     "output_type": "stream",
     "text": [
      "100%|██████████| 125/125 [01:00<00:00,  2.07it/s]\n"
     ]
    },
    {
     "name": "stdout",
     "output_type": "stream",
     "text": [
      "iteration410\n",
      "Angulo theta_1 :  34.85\n",
      "Sigma:  0.03324286887801356\n"
     ]
    },
    {
     "name": "stderr",
     "output_type": "stream",
     "text": [
      "100%|██████████| 125/125 [00:59<00:00,  2.09it/s]\n"
     ]
    },
    {
     "name": "stdout",
     "output_type": "stream",
     "text": [
      "iteration411\n",
      "Angulo theta_1 :  34.935\n",
      "Sigma:  0.03712523522663016\n"
     ]
    },
    {
     "name": "stderr",
     "output_type": "stream",
     "text": [
      "100%|██████████| 125/125 [00:59<00:00,  2.09it/s]\n"
     ]
    },
    {
     "name": "stdout",
     "output_type": "stream",
     "text": [
      "iteration412\n",
      "Angulo theta_1 :  35.02\n",
      "Sigma:  0.03126139426630395\n"
     ]
    },
    {
     "name": "stderr",
     "output_type": "stream",
     "text": [
      "100%|██████████| 125/125 [00:59<00:00,  2.09it/s]\n"
     ]
    },
    {
     "name": "stdout",
     "output_type": "stream",
     "text": [
      "iteration413\n",
      "Angulo theta_1 :  35.105\n",
      "Sigma:  0.0487587535108269\n"
     ]
    },
    {
     "name": "stderr",
     "output_type": "stream",
     "text": [
      "100%|██████████| 125/125 [01:00<00:00,  2.06it/s]\n"
     ]
    },
    {
     "name": "stdout",
     "output_type": "stream",
     "text": [
      "iteration414\n",
      "Angulo theta_1 :  35.19\n",
      "Sigma:  0.04118074398186462\n"
     ]
    },
    {
     "name": "stderr",
     "output_type": "stream",
     "text": [
      "100%|██████████| 125/125 [01:00<00:00,  2.07it/s]\n"
     ]
    },
    {
     "name": "stdout",
     "output_type": "stream",
     "text": [
      "iteration415\n",
      "Angulo theta_1 :  35.275\n",
      "Sigma:  0.04195993996806249\n"
     ]
    },
    {
     "name": "stderr",
     "output_type": "stream",
     "text": [
      "100%|██████████| 125/125 [00:59<00:00,  2.09it/s]\n"
     ]
    },
    {
     "name": "stdout",
     "output_type": "stream",
     "text": [
      "iteration416\n",
      "Angulo theta_1 :  35.36\n",
      "Sigma:  0.044593590127855624\n"
     ]
    },
    {
     "name": "stderr",
     "output_type": "stream",
     "text": [
      "100%|██████████| 125/125 [00:59<00:00,  2.09it/s]\n"
     ]
    },
    {
     "name": "stdout",
     "output_type": "stream",
     "text": [
      "iteration417\n",
      "Angulo theta_1 :  35.445\n",
      "Sigma:  0.04302949492055569\n"
     ]
    },
    {
     "name": "stderr",
     "output_type": "stream",
     "text": [
      "100%|██████████| 125/125 [00:59<00:00,  2.09it/s]\n"
     ]
    },
    {
     "name": "stdout",
     "output_type": "stream",
     "text": [
      "iteration418\n",
      "Angulo theta_1 :  35.53\n",
      "Sigma:  0.03569606069858627\n"
     ]
    },
    {
     "name": "stderr",
     "output_type": "stream",
     "text": [
      "100%|██████████| 125/125 [00:59<00:00,  2.09it/s]\n"
     ]
    },
    {
     "name": "stdout",
     "output_type": "stream",
     "text": [
      "iteration419\n",
      "Angulo theta_1 :  35.615\n",
      "Sigma:  0.037105418264665666\n"
     ]
    },
    {
     "name": "stderr",
     "output_type": "stream",
     "text": [
      "100%|██████████| 125/125 [01:00<00:00,  2.07it/s]\n"
     ]
    },
    {
     "name": "stdout",
     "output_type": "stream",
     "text": [
      "iteration420\n",
      "Angulo theta_1 :  35.7\n",
      "Sigma:  0.03937047067260327\n"
     ]
    },
    {
     "name": "stderr",
     "output_type": "stream",
     "text": [
      "100%|██████████| 125/125 [01:04<00:00,  1.94it/s]\n"
     ]
    },
    {
     "name": "stdout",
     "output_type": "stream",
     "text": [
      "iteration421\n",
      "Angulo theta_1 :  35.785\n",
      "Sigma:  0.03180625975368681\n"
     ]
    },
    {
     "name": "stderr",
     "output_type": "stream",
     "text": [
      "100%|██████████| 125/125 [01:03<00:00,  1.96it/s]\n"
     ]
    },
    {
     "name": "stdout",
     "output_type": "stream",
     "text": [
      "iteration422\n",
      "Angulo theta_1 :  35.87\n",
      "Sigma:  0.03178021752503546\n"
     ]
    },
    {
     "name": "stderr",
     "output_type": "stream",
     "text": [
      "100%|██████████| 125/125 [01:04<00:00,  1.95it/s]\n"
     ]
    },
    {
     "name": "stdout",
     "output_type": "stream",
     "text": [
      "iteration423\n",
      "Angulo theta_1 :  35.955\n",
      "Sigma:  0.037573385142861807\n"
     ]
    },
    {
     "name": "stderr",
     "output_type": "stream",
     "text": [
      "100%|██████████| 125/125 [01:04<00:00,  1.95it/s]\n"
     ]
    },
    {
     "name": "stdout",
     "output_type": "stream",
     "text": [
      "iteration424\n",
      "Angulo theta_1 :  36.04\n",
      "Sigma:  0.03546701257999425\n"
     ]
    },
    {
     "name": "stderr",
     "output_type": "stream",
     "text": [
      "100%|██████████| 125/125 [01:03<00:00,  1.96it/s]\n"
     ]
    },
    {
     "name": "stdout",
     "output_type": "stream",
     "text": [
      "iteration425\n",
      "Angulo theta_1 :  36.125\n",
      "Sigma:  0.03290879595905315\n"
     ]
    },
    {
     "name": "stderr",
     "output_type": "stream",
     "text": [
      "100%|██████████| 125/125 [00:59<00:00,  2.09it/s]\n"
     ]
    },
    {
     "name": "stdout",
     "output_type": "stream",
     "text": [
      "iteration426\n",
      "Angulo theta_1 :  36.21\n",
      "Sigma:  0.04380024925929203\n"
     ]
    },
    {
     "name": "stderr",
     "output_type": "stream",
     "text": [
      "100%|██████████| 125/125 [00:59<00:00,  2.09it/s]\n"
     ]
    },
    {
     "name": "stdout",
     "output_type": "stream",
     "text": [
      "iteration427\n",
      "Angulo theta_1 :  36.295\n",
      "Sigma:  0.04478160069997153\n"
     ]
    },
    {
     "name": "stderr",
     "output_type": "stream",
     "text": [
      "100%|██████████| 125/125 [00:59<00:00,  2.09it/s]\n"
     ]
    },
    {
     "name": "stdout",
     "output_type": "stream",
     "text": [
      "iteration428\n",
      "Angulo theta_1 :  36.38\n",
      "Sigma:  0.047273101231188754\n"
     ]
    },
    {
     "name": "stderr",
     "output_type": "stream",
     "text": [
      "100%|██████████| 125/125 [01:00<00:00,  2.06it/s]\n"
     ]
    },
    {
     "name": "stdout",
     "output_type": "stream",
     "text": [
      "iteration429\n",
      "Angulo theta_1 :  36.465\n",
      "Sigma:  0.03395786725452017\n"
     ]
    },
    {
     "name": "stderr",
     "output_type": "stream",
     "text": [
      "100%|██████████| 125/125 [00:59<00:00,  2.11it/s]\n"
     ]
    },
    {
     "name": "stdout",
     "output_type": "stream",
     "text": [
      "iteration430\n",
      "Angulo theta_1 :  36.55\n",
      "Sigma:  0.04757909185861855\n"
     ]
    },
    {
     "name": "stderr",
     "output_type": "stream",
     "text": [
      "100%|██████████| 125/125 [00:59<00:00,  2.09it/s]\n"
     ]
    },
    {
     "name": "stdout",
     "output_type": "stream",
     "text": [
      "iteration431\n",
      "Angulo theta_1 :  36.635\n",
      "Sigma:  0.04245796251820644\n"
     ]
    },
    {
     "name": "stderr",
     "output_type": "stream",
     "text": [
      "100%|██████████| 125/125 [00:59<00:00,  2.08it/s]\n"
     ]
    },
    {
     "name": "stdout",
     "output_type": "stream",
     "text": [
      "iteration432\n",
      "Angulo theta_1 :  36.72\n",
      "Sigma:  0.03757312451259021\n"
     ]
    },
    {
     "name": "stderr",
     "output_type": "stream",
     "text": [
      "100%|██████████| 125/125 [00:59<00:00,  2.09it/s]\n"
     ]
    },
    {
     "name": "stdout",
     "output_type": "stream",
     "text": [
      "iteration433\n",
      "Angulo theta_1 :  36.805\n",
      "Sigma:  0.029981033425602634\n"
     ]
    },
    {
     "name": "stderr",
     "output_type": "stream",
     "text": [
      "100%|██████████| 125/125 [01:00<00:00,  2.08it/s]\n"
     ]
    },
    {
     "name": "stdout",
     "output_type": "stream",
     "text": [
      "iteration434\n",
      "Angulo theta_1 :  36.89\n",
      "Sigma:  0.041449708279014896\n"
     ]
    },
    {
     "name": "stderr",
     "output_type": "stream",
     "text": [
      "100%|██████████| 125/125 [01:02<00:00,  1.99it/s]\n"
     ]
    },
    {
     "name": "stdout",
     "output_type": "stream",
     "text": [
      "iteration435\n",
      "Angulo theta_1 :  36.975\n",
      "Sigma:  0.03379336234242772\n"
     ]
    },
    {
     "name": "stderr",
     "output_type": "stream",
     "text": [
      "100%|██████████| 125/125 [00:59<00:00,  2.10it/s]\n"
     ]
    },
    {
     "name": "stdout",
     "output_type": "stream",
     "text": [
      "iteration436\n",
      "Angulo theta_1 :  37.06\n",
      "Sigma:  0.03163800809251517\n"
     ]
    },
    {
     "name": "stderr",
     "output_type": "stream",
     "text": [
      "100%|██████████| 125/125 [00:59<00:00,  2.09it/s]\n"
     ]
    },
    {
     "name": "stdout",
     "output_type": "stream",
     "text": [
      "iteration437\n",
      "Angulo theta_1 :  37.145\n",
      "Sigma:  0.0476326763479058\n"
     ]
    },
    {
     "name": "stderr",
     "output_type": "stream",
     "text": [
      "100%|██████████| 125/125 [00:59<00:00,  2.09it/s]\n"
     ]
    },
    {
     "name": "stdout",
     "output_type": "stream",
     "text": [
      "iteration438\n",
      "Angulo theta_1 :  37.23\n",
      "Sigma:  0.04183260441450311\n"
     ]
    },
    {
     "name": "stderr",
     "output_type": "stream",
     "text": [
      "100%|██████████| 125/125 [01:00<00:00,  2.07it/s]\n"
     ]
    },
    {
     "name": "stdout",
     "output_type": "stream",
     "text": [
      "iteration439\n",
      "Angulo theta_1 :  37.315\n",
      "Sigma:  0.03297901338511269\n"
     ]
    },
    {
     "name": "stderr",
     "output_type": "stream",
     "text": [
      "100%|██████████| 125/125 [00:59<00:00,  2.09it/s]\n"
     ]
    },
    {
     "name": "stdout",
     "output_type": "stream",
     "text": [
      "iteration440\n",
      "Angulo theta_1 :  37.4\n",
      "Sigma:  0.048440242783261096\n"
     ]
    },
    {
     "name": "stderr",
     "output_type": "stream",
     "text": [
      "100%|██████████| 125/125 [00:59<00:00,  2.09it/s]\n"
     ]
    },
    {
     "name": "stdout",
     "output_type": "stream",
     "text": [
      "iteration441\n",
      "Angulo theta_1 :  37.485\n",
      "Sigma:  0.04558662805813726\n"
     ]
    },
    {
     "name": "stderr",
     "output_type": "stream",
     "text": [
      "100%|██████████| 125/125 [00:59<00:00,  2.09it/s]\n"
     ]
    },
    {
     "name": "stdout",
     "output_type": "stream",
     "text": [
      "iteration442\n",
      "Angulo theta_1 :  37.57\n",
      "Sigma:  0.028608656317505445\n"
     ]
    },
    {
     "name": "stderr",
     "output_type": "stream",
     "text": [
      "100%|██████████| 125/125 [01:00<00:00,  2.05it/s]\n"
     ]
    },
    {
     "name": "stdout",
     "output_type": "stream",
     "text": [
      "iteration443\n",
      "Angulo theta_1 :  37.655\n",
      "Sigma:  0.03966562622638889\n"
     ]
    },
    {
     "name": "stderr",
     "output_type": "stream",
     "text": [
      "100%|██████████| 125/125 [01:01<00:00,  2.03it/s]\n"
     ]
    },
    {
     "name": "stdout",
     "output_type": "stream",
     "text": [
      "iteration444\n",
      "Angulo theta_1 :  37.74\n",
      "Sigma:  0.038889190323198194\n"
     ]
    },
    {
     "name": "stderr",
     "output_type": "stream",
     "text": [
      "100%|██████████| 125/125 [00:59<00:00,  2.10it/s]\n"
     ]
    },
    {
     "name": "stdout",
     "output_type": "stream",
     "text": [
      "iteration445\n",
      "Angulo theta_1 :  37.825\n",
      "Sigma:  0.03343711718418189\n"
     ]
    },
    {
     "name": "stderr",
     "output_type": "stream",
     "text": [
      "100%|██████████| 125/125 [01:03<00:00,  1.96it/s]\n"
     ]
    },
    {
     "name": "stdout",
     "output_type": "stream",
     "text": [
      "iteration446\n",
      "Angulo theta_1 :  37.91\n",
      "Sigma:  0.046809299054987756\n"
     ]
    },
    {
     "name": "stderr",
     "output_type": "stream",
     "text": [
      "100%|██████████| 125/125 [01:03<00:00,  1.96it/s]\n"
     ]
    },
    {
     "name": "stdout",
     "output_type": "stream",
     "text": [
      "iteration447\n",
      "Angulo theta_1 :  37.995\n",
      "Sigma:  0.04439227712185397\n"
     ]
    },
    {
     "name": "stderr",
     "output_type": "stream",
     "text": [
      "100%|██████████| 125/125 [01:03<00:00,  1.96it/s]\n"
     ]
    },
    {
     "name": "stdout",
     "output_type": "stream",
     "text": [
      "iteration448\n",
      "Angulo theta_1 :  38.08\n",
      "Sigma:  0.0275640816527307\n"
     ]
    },
    {
     "name": "stderr",
     "output_type": "stream",
     "text": [
      "100%|██████████| 125/125 [01:04<00:00,  1.95it/s]\n"
     ]
    },
    {
     "name": "stdout",
     "output_type": "stream",
     "text": [
      "iteration449\n",
      "Angulo theta_1 :  38.165\n",
      "Sigma:  0.03753120458188894\n"
     ]
    },
    {
     "name": "stderr",
     "output_type": "stream",
     "text": [
      "100%|██████████| 125/125 [01:03<00:00,  1.96it/s]\n"
     ]
    },
    {
     "name": "stdout",
     "output_type": "stream",
     "text": [
      "iteration450\n",
      "Angulo theta_1 :  38.25\n",
      "Sigma:  0.03593432835173272\n"
     ]
    },
    {
     "name": "stderr",
     "output_type": "stream",
     "text": [
      "100%|██████████| 125/125 [01:04<00:00,  1.95it/s]\n"
     ]
    },
    {
     "name": "stdout",
     "output_type": "stream",
     "text": [
      "iteration451\n",
      "Angulo theta_1 :  38.335\n",
      "Sigma:  0.03717300585798893\n"
     ]
    },
    {
     "name": "stderr",
     "output_type": "stream",
     "text": [
      "100%|██████████| 125/125 [01:03<00:00,  1.95it/s]\n"
     ]
    },
    {
     "name": "stdout",
     "output_type": "stream",
     "text": [
      "iteration452\n",
      "Angulo theta_1 :  38.42\n",
      "Sigma:  0.04050227985296742\n"
     ]
    },
    {
     "name": "stderr",
     "output_type": "stream",
     "text": [
      "100%|██████████| 125/125 [01:03<00:00,  1.96it/s]\n"
     ]
    },
    {
     "name": "stdout",
     "output_type": "stream",
     "text": [
      "iteration453\n",
      "Angulo theta_1 :  38.505\n",
      "Sigma:  0.0321436318545439\n"
     ]
    },
    {
     "name": "stderr",
     "output_type": "stream",
     "text": [
      "100%|██████████| 125/125 [01:03<00:00,  1.95it/s]\n"
     ]
    },
    {
     "name": "stdout",
     "output_type": "stream",
     "text": [
      "iteration454\n",
      "Angulo theta_1 :  38.59\n",
      "Sigma:  0.046679923377012204\n"
     ]
    },
    {
     "name": "stderr",
     "output_type": "stream",
     "text": [
      "100%|██████████| 125/125 [00:59<00:00,  2.09it/s]\n"
     ]
    },
    {
     "name": "stdout",
     "output_type": "stream",
     "text": [
      "iteration455\n",
      "Angulo theta_1 :  38.675\n",
      "Sigma:  0.029996039778933226\n"
     ]
    },
    {
     "name": "stderr",
     "output_type": "stream",
     "text": [
      "100%|██████████| 125/125 [00:59<00:00,  2.09it/s]\n"
     ]
    },
    {
     "name": "stdout",
     "output_type": "stream",
     "text": [
      "iteration456\n",
      "Angulo theta_1 :  38.76\n",
      "Sigma:  0.041513194187749514\n"
     ]
    },
    {
     "name": "stderr",
     "output_type": "stream",
     "text": [
      "100%|██████████| 125/125 [01:00<00:00,  2.08it/s]\n"
     ]
    },
    {
     "name": "stdout",
     "output_type": "stream",
     "text": [
      "iteration457\n",
      "Angulo theta_1 :  38.845\n",
      "Sigma:  0.047741784630261325\n"
     ]
    },
    {
     "name": "stderr",
     "output_type": "stream",
     "text": [
      "100%|██████████| 125/125 [01:00<00:00,  2.07it/s]\n"
     ]
    },
    {
     "name": "stdout",
     "output_type": "stream",
     "text": [
      "iteration458\n",
      "Angulo theta_1 :  38.93\n",
      "Sigma:  0.03240909265638789\n"
     ]
    },
    {
     "name": "stderr",
     "output_type": "stream",
     "text": [
      "100%|██████████| 125/125 [00:59<00:00,  2.09it/s]\n"
     ]
    },
    {
     "name": "stdout",
     "output_type": "stream",
     "text": [
      "iteration459\n",
      "Angulo theta_1 :  39.015\n",
      "Sigma:  0.048344682246997395\n"
     ]
    },
    {
     "name": "stderr",
     "output_type": "stream",
     "text": [
      "100%|██████████| 125/125 [00:59<00:00,  2.10it/s]\n"
     ]
    },
    {
     "name": "stdout",
     "output_type": "stream",
     "text": [
      "iteration460\n",
      "Angulo theta_1 :  39.1\n",
      "Sigma:  0.04115426616888376\n"
     ]
    },
    {
     "name": "stderr",
     "output_type": "stream",
     "text": [
      "100%|██████████| 125/125 [00:59<00:00,  2.08it/s]\n"
     ]
    },
    {
     "name": "stdout",
     "output_type": "stream",
     "text": [
      "iteration461\n",
      "Angulo theta_1 :  39.185\n",
      "Sigma:  0.02803638759857325\n"
     ]
    },
    {
     "name": "stderr",
     "output_type": "stream",
     "text": [
      "100%|██████████| 125/125 [00:59<00:00,  2.09it/s]\n"
     ]
    },
    {
     "name": "stdout",
     "output_type": "stream",
     "text": [
      "iteration462\n",
      "Angulo theta_1 :  39.27\n",
      "Sigma:  0.028041410179364762\n"
     ]
    },
    {
     "name": "stderr",
     "output_type": "stream",
     "text": [
      "100%|██████████| 125/125 [00:59<00:00,  2.09it/s]\n"
     ]
    },
    {
     "name": "stdout",
     "output_type": "stream",
     "text": [
      "iteration463\n",
      "Angulo theta_1 :  39.355\n",
      "Sigma:  0.038681715061326415\n"
     ]
    },
    {
     "name": "stderr",
     "output_type": "stream",
     "text": [
      "100%|██████████| 125/125 [01:04<00:00,  1.94it/s]\n"
     ]
    },
    {
     "name": "stdout",
     "output_type": "stream",
     "text": [
      "iteration464\n",
      "Angulo theta_1 :  39.44\n",
      "Sigma:  0.02684697168322388\n"
     ]
    },
    {
     "name": "stderr",
     "output_type": "stream",
     "text": [
      "100%|██████████| 125/125 [01:04<00:00,  1.94it/s]\n"
     ]
    },
    {
     "name": "stdout",
     "output_type": "stream",
     "text": [
      "iteration465\n",
      "Angulo theta_1 :  39.525\n",
      "Sigma:  0.03425564951865041\n"
     ]
    },
    {
     "name": "stderr",
     "output_type": "stream",
     "text": [
      "100%|██████████| 125/125 [01:04<00:00,  1.95it/s]\n"
     ]
    },
    {
     "name": "stdout",
     "output_type": "stream",
     "text": [
      "iteration466\n",
      "Angulo theta_1 :  39.61\n",
      "Sigma:  0.027391742045309114\n"
     ]
    },
    {
     "name": "stderr",
     "output_type": "stream",
     "text": [
      "100%|██████████| 125/125 [01:04<00:00,  1.95it/s]\n"
     ]
    },
    {
     "name": "stdout",
     "output_type": "stream",
     "text": [
      "iteration467\n",
      "Angulo theta_1 :  39.695\n",
      "Sigma:  0.04800391200217456\n"
     ]
    },
    {
     "name": "stderr",
     "output_type": "stream",
     "text": [
      "100%|██████████| 125/125 [01:04<00:00,  1.95it/s]\n"
     ]
    },
    {
     "name": "stdout",
     "output_type": "stream",
     "text": [
      "iteration468\n",
      "Angulo theta_1 :  39.78\n",
      "Sigma:  0.03446452659208274\n"
     ]
    },
    {
     "name": "stderr",
     "output_type": "stream",
     "text": [
      "100%|██████████| 125/125 [01:04<00:00,  1.95it/s]\n"
     ]
    },
    {
     "name": "stdout",
     "output_type": "stream",
     "text": [
      "iteration469\n",
      "Angulo theta_1 :  39.865\n",
      "Sigma:  0.040156128144503145\n"
     ]
    },
    {
     "name": "stderr",
     "output_type": "stream",
     "text": [
      "100%|██████████| 125/125 [01:03<00:00,  1.96it/s]\n"
     ]
    },
    {
     "name": "stdout",
     "output_type": "stream",
     "text": [
      "iteration470\n",
      "Angulo theta_1 :  39.95\n",
      "Sigma:  0.04413682048630443\n"
     ]
    },
    {
     "name": "stderr",
     "output_type": "stream",
     "text": [
      "100%|██████████| 125/125 [01:04<00:00,  1.95it/s]\n"
     ]
    },
    {
     "name": "stdout",
     "output_type": "stream",
     "text": [
      "iteration471\n",
      "Angulo theta_1 :  40.035\n",
      "Sigma:  0.042807296905726246\n"
     ]
    },
    {
     "name": "stderr",
     "output_type": "stream",
     "text": [
      "100%|██████████| 125/125 [01:05<00:00,  1.91it/s]\n"
     ]
    },
    {
     "name": "stdout",
     "output_type": "stream",
     "text": [
      "iteration472\n",
      "Angulo theta_1 :  40.12\n",
      "Sigma:  0.044951680610504086\n"
     ]
    },
    {
     "name": "stderr",
     "output_type": "stream",
     "text": [
      "100%|██████████| 125/125 [01:04<00:00,  1.95it/s]\n"
     ]
    },
    {
     "name": "stdout",
     "output_type": "stream",
     "text": [
      "iteration473\n",
      "Angulo theta_1 :  40.205\n",
      "Sigma:  0.02609365687833201\n"
     ]
    },
    {
     "name": "stderr",
     "output_type": "stream",
     "text": [
      "100%|██████████| 125/125 [01:03<00:00,  1.95it/s]\n"
     ]
    },
    {
     "name": "stdout",
     "output_type": "stream",
     "text": [
      "iteration474\n",
      "Angulo theta_1 :  40.29\n",
      "Sigma:  0.04838352040865735\n"
     ]
    },
    {
     "name": "stderr",
     "output_type": "stream",
     "text": [
      "100%|██████████| 125/125 [01:04<00:00,  1.95it/s]\n"
     ]
    },
    {
     "name": "stdout",
     "output_type": "stream",
     "text": [
      "iteration475\n",
      "Angulo theta_1 :  40.375\n",
      "Sigma:  0.027509383929307844\n"
     ]
    },
    {
     "name": "stderr",
     "output_type": "stream",
     "text": [
      "100%|██████████| 125/125 [00:59<00:00,  2.10it/s]\n"
     ]
    },
    {
     "name": "stdout",
     "output_type": "stream",
     "text": [
      "iteration476\n",
      "Angulo theta_1 :  40.46\n",
      "Sigma:  0.02817250244553106\n"
     ]
    },
    {
     "name": "stderr",
     "output_type": "stream",
     "text": [
      "100%|██████████| 125/125 [01:00<00:00,  2.07it/s]\n"
     ]
    },
    {
     "name": "stdout",
     "output_type": "stream",
     "text": [
      "iteration477\n",
      "Angulo theta_1 :  40.545\n",
      "Sigma:  0.04025435713386349\n"
     ]
    },
    {
     "name": "stderr",
     "output_type": "stream",
     "text": [
      "100%|██████████| 125/125 [00:59<00:00,  2.11it/s]\n"
     ]
    },
    {
     "name": "stdout",
     "output_type": "stream",
     "text": [
      "iteration478\n",
      "Angulo theta_1 :  40.63\n",
      "Sigma:  0.04216006208805091\n"
     ]
    },
    {
     "name": "stderr",
     "output_type": "stream",
     "text": [
      "100%|██████████| 125/125 [00:59<00:00,  2.09it/s]\n"
     ]
    },
    {
     "name": "stdout",
     "output_type": "stream",
     "text": [
      "iteration479\n",
      "Angulo theta_1 :  40.715\n",
      "Sigma:  0.0267901000390138\n"
     ]
    },
    {
     "name": "stderr",
     "output_type": "stream",
     "text": [
      "100%|██████████| 125/125 [01:00<00:00,  2.08it/s]\n"
     ]
    },
    {
     "name": "stdout",
     "output_type": "stream",
     "text": [
      "iteration480\n",
      "Angulo theta_1 :  40.8\n",
      "Sigma:  0.03633568489622176\n"
     ]
    },
    {
     "name": "stderr",
     "output_type": "stream",
     "text": [
      "100%|██████████| 125/125 [01:00<00:00,  2.07it/s]\n"
     ]
    },
    {
     "name": "stdout",
     "output_type": "stream",
     "text": [
      "iteration481\n",
      "Angulo theta_1 :  40.885\n",
      "Sigma:  0.04862525695428994\n"
     ]
    },
    {
     "name": "stderr",
     "output_type": "stream",
     "text": [
      "100%|██████████| 125/125 [00:59<00:00,  2.09it/s]\n"
     ]
    },
    {
     "name": "stdout",
     "output_type": "stream",
     "text": [
      "iteration482\n",
      "Angulo theta_1 :  40.97\n",
      "Sigma:  0.028905221210211038\n"
     ]
    },
    {
     "name": "stderr",
     "output_type": "stream",
     "text": [
      "100%|██████████| 125/125 [01:04<00:00,  1.94it/s]\n"
     ]
    },
    {
     "name": "stdout",
     "output_type": "stream",
     "text": [
      "iteration483\n",
      "Angulo theta_1 :  41.055\n",
      "Sigma:  0.04356494042669776\n"
     ]
    },
    {
     "name": "stderr",
     "output_type": "stream",
     "text": [
      "100%|██████████| 125/125 [01:03<00:00,  1.95it/s]\n"
     ]
    },
    {
     "name": "stdout",
     "output_type": "stream",
     "text": [
      "iteration484\n",
      "Angulo theta_1 :  41.14\n",
      "Sigma:  0.04746527276761047\n"
     ]
    },
    {
     "name": "stderr",
     "output_type": "stream",
     "text": [
      "100%|██████████| 125/125 [01:05<00:00,  1.92it/s]\n"
     ]
    },
    {
     "name": "stdout",
     "output_type": "stream",
     "text": [
      "iteration485\n",
      "Angulo theta_1 :  41.225\n",
      "Sigma:  0.0338784761695964\n"
     ]
    },
    {
     "name": "stderr",
     "output_type": "stream",
     "text": [
      "100%|██████████| 125/125 [01:04<00:00,  1.94it/s]\n"
     ]
    },
    {
     "name": "stdout",
     "output_type": "stream",
     "text": [
      "iteration486\n",
      "Angulo theta_1 :  41.31\n",
      "Sigma:  0.04216559381639457\n"
     ]
    },
    {
     "name": "stderr",
     "output_type": "stream",
     "text": [
      "100%|██████████| 125/125 [01:04<00:00,  1.95it/s]\n"
     ]
    },
    {
     "name": "stdout",
     "output_type": "stream",
     "text": [
      "iteration487\n",
      "Angulo theta_1 :  41.395\n",
      "Sigma:  0.03108241075819196\n"
     ]
    },
    {
     "name": "stderr",
     "output_type": "stream",
     "text": [
      "100%|██████████| 125/125 [01:04<00:00,  1.95it/s]\n"
     ]
    },
    {
     "name": "stdout",
     "output_type": "stream",
     "text": [
      "iteration488\n",
      "Angulo theta_1 :  41.48\n",
      "Sigma:  0.02840236261572528\n"
     ]
    },
    {
     "name": "stderr",
     "output_type": "stream",
     "text": [
      "100%|██████████| 125/125 [01:04<00:00,  1.94it/s]\n"
     ]
    },
    {
     "name": "stdout",
     "output_type": "stream",
     "text": [
      "iteration489\n",
      "Angulo theta_1 :  41.565\n",
      "Sigma:  0.030341272974196563\n"
     ]
    },
    {
     "name": "stderr",
     "output_type": "stream",
     "text": [
      "100%|██████████| 125/125 [01:04<00:00,  1.94it/s]\n"
     ]
    },
    {
     "name": "stdout",
     "output_type": "stream",
     "text": [
      "iteration490\n",
      "Angulo theta_1 :  41.65\n",
      "Sigma:  0.02606352492028674\n"
     ]
    },
    {
     "name": "stderr",
     "output_type": "stream",
     "text": [
      "100%|██████████| 125/125 [01:04<00:00,  1.95it/s]\n"
     ]
    },
    {
     "name": "stdout",
     "output_type": "stream",
     "text": [
      "iteration491\n",
      "Angulo theta_1 :  41.735\n",
      "Sigma:  0.03294057318489994\n"
     ]
    },
    {
     "name": "stderr",
     "output_type": "stream",
     "text": [
      "100%|██████████| 125/125 [01:04<00:00,  1.95it/s]\n"
     ]
    },
    {
     "name": "stdout",
     "output_type": "stream",
     "text": [
      "iteration492\n",
      "Angulo theta_1 :  41.82\n",
      "Sigma:  0.037722414126018955\n"
     ]
    },
    {
     "name": "stderr",
     "output_type": "stream",
     "text": [
      "100%|██████████| 125/125 [01:03<00:00,  1.96it/s]\n"
     ]
    },
    {
     "name": "stdout",
     "output_type": "stream",
     "text": [
      "iteration493\n",
      "Angulo theta_1 :  41.905\n",
      "Sigma:  0.03480012019370159\n"
     ]
    },
    {
     "name": "stderr",
     "output_type": "stream",
     "text": [
      "100%|██████████| 125/125 [01:04<00:00,  1.95it/s]\n"
     ]
    },
    {
     "name": "stdout",
     "output_type": "stream",
     "text": [
      "iteration494\n",
      "Angulo theta_1 :  41.99\n",
      "Sigma:  0.03751515658538133\n"
     ]
    },
    {
     "name": "stderr",
     "output_type": "stream",
     "text": [
      "100%|██████████| 125/125 [01:00<00:00,  2.08it/s]\n"
     ]
    },
    {
     "name": "stdout",
     "output_type": "stream",
     "text": [
      "iteration495\n",
      "Angulo theta_1 :  42.075\n",
      "Sigma:  0.03095790551053029\n"
     ]
    },
    {
     "name": "stderr",
     "output_type": "stream",
     "text": [
      "100%|██████████| 125/125 [01:00<00:00,  2.08it/s]\n"
     ]
    },
    {
     "name": "stdout",
     "output_type": "stream",
     "text": [
      "iteration496\n",
      "Angulo theta_1 :  42.16\n",
      "Sigma:  0.046035193803766625\n"
     ]
    },
    {
     "name": "stderr",
     "output_type": "stream",
     "text": [
      "100%|██████████| 125/125 [00:59<00:00,  2.09it/s]\n"
     ]
    },
    {
     "name": "stdout",
     "output_type": "stream",
     "text": [
      "iteration497\n",
      "Angulo theta_1 :  42.245\n",
      "Sigma:  0.041520962855032706\n"
     ]
    },
    {
     "name": "stderr",
     "output_type": "stream",
     "text": [
      "100%|██████████| 125/125 [00:59<00:00,  2.09it/s]\n"
     ]
    },
    {
     "name": "stdout",
     "output_type": "stream",
     "text": [
      "iteration498\n",
      "Angulo theta_1 :  42.33\n",
      "Sigma:  0.03694108230161475\n"
     ]
    },
    {
     "name": "stderr",
     "output_type": "stream",
     "text": [
      "100%|██████████| 125/125 [01:04<00:00,  1.94it/s]\n"
     ]
    },
    {
     "name": "stdout",
     "output_type": "stream",
     "text": [
      "iteration499\n",
      "Angulo theta_1 :  42.415\n",
      "Sigma:  0.03068492268901387\n"
     ]
    },
    {
     "name": "stderr",
     "output_type": "stream",
     "text": [
      "100%|██████████| 125/125 [01:04<00:00,  1.93it/s]\n"
     ]
    },
    {
     "name": "stdout",
     "output_type": "stream",
     "text": [
      "iteration500\n",
      "Angulo theta_1 :  42.5\n",
      "Sigma:  0.028496161296706457\n"
     ]
    },
    {
     "name": "stderr",
     "output_type": "stream",
     "text": [
      "100%|██████████| 125/125 [01:04<00:00,  1.95it/s]\n"
     ]
    },
    {
     "name": "stdout",
     "output_type": "stream",
     "text": [
      "iteration501\n",
      "Angulo theta_1 :  42.585\n",
      "Sigma:  0.043492529129629344\n"
     ]
    },
    {
     "name": "stderr",
     "output_type": "stream",
     "text": [
      "100%|██████████| 125/125 [01:03<00:00,  1.95it/s]\n"
     ]
    },
    {
     "name": "stdout",
     "output_type": "stream",
     "text": [
      "iteration502\n",
      "Angulo theta_1 :  42.67\n",
      "Sigma:  0.036798001956702305\n"
     ]
    },
    {
     "name": "stderr",
     "output_type": "stream",
     "text": [
      "100%|██████████| 125/125 [01:04<00:00,  1.95it/s]\n"
     ]
    },
    {
     "name": "stdout",
     "output_type": "stream",
     "text": [
      "iteration503\n",
      "Angulo theta_1 :  42.755\n",
      "Sigma:  0.0465127011599918\n"
     ]
    },
    {
     "name": "stderr",
     "output_type": "stream",
     "text": [
      "100%|██████████| 125/125 [01:04<00:00,  1.94it/s]\n"
     ]
    },
    {
     "name": "stdout",
     "output_type": "stream",
     "text": [
      "iteration504\n",
      "Angulo theta_1 :  42.84\n",
      "Sigma:  0.026461815157335693\n"
     ]
    },
    {
     "name": "stderr",
     "output_type": "stream",
     "text": [
      "100%|██████████| 125/125 [01:04<00:00,  1.95it/s]\n"
     ]
    },
    {
     "name": "stdout",
     "output_type": "stream",
     "text": [
      "iteration505\n",
      "Angulo theta_1 :  42.925\n",
      "Sigma:  0.025285309511956136\n"
     ]
    },
    {
     "name": "stderr",
     "output_type": "stream",
     "text": [
      "100%|██████████| 125/125 [01:03<00:00,  1.96it/s]\n"
     ]
    },
    {
     "name": "stdout",
     "output_type": "stream",
     "text": [
      "iteration506\n",
      "Angulo theta_1 :  43.01\n",
      "Sigma:  0.0336212455199264\n"
     ]
    },
    {
     "name": "stderr",
     "output_type": "stream",
     "text": [
      "100%|██████████| 125/125 [01:04<00:00,  1.95it/s]\n"
     ]
    },
    {
     "name": "stdout",
     "output_type": "stream",
     "text": [
      "iteration507\n",
      "Angulo theta_1 :  43.095\n",
      "Sigma:  0.026649980346118127\n"
     ]
    },
    {
     "name": "stderr",
     "output_type": "stream",
     "text": [
      "100%|██████████| 125/125 [01:04<00:00,  1.95it/s]\n"
     ]
    },
    {
     "name": "stdout",
     "output_type": "stream",
     "text": [
      "iteration508\n",
      "Angulo theta_1 :  43.18\n",
      "Sigma:  0.046136519791047034\n"
     ]
    },
    {
     "name": "stderr",
     "output_type": "stream",
     "text": [
      "100%|██████████| 125/125 [01:04<00:00,  1.95it/s]\n"
     ]
    },
    {
     "name": "stdout",
     "output_type": "stream",
     "text": [
      "iteration509\n",
      "Angulo theta_1 :  43.265\n",
      "Sigma:  0.03201058684186918\n"
     ]
    },
    {
     "name": "stderr",
     "output_type": "stream",
     "text": [
      "100%|██████████| 125/125 [00:59<00:00,  2.10it/s]\n"
     ]
    },
    {
     "name": "stdout",
     "output_type": "stream",
     "text": [
      "iteration510\n",
      "Angulo theta_1 :  43.35\n",
      "Sigma:  0.034137672955779776\n"
     ]
    },
    {
     "name": "stderr",
     "output_type": "stream",
     "text": [
      "100%|██████████| 125/125 [01:00<00:00,  2.08it/s]\n"
     ]
    },
    {
     "name": "stdout",
     "output_type": "stream",
     "text": [
      "iteration511\n",
      "Angulo theta_1 :  43.435\n",
      "Sigma:  0.04949662461996274\n"
     ]
    },
    {
     "name": "stderr",
     "output_type": "stream",
     "text": [
      "100%|██████████| 125/125 [01:00<00:00,  2.07it/s]\n"
     ]
    },
    {
     "name": "stdout",
     "output_type": "stream",
     "text": [
      "iteration512\n",
      "Angulo theta_1 :  43.52\n",
      "Sigma:  0.03588640992557693\n"
     ]
    },
    {
     "name": "stderr",
     "output_type": "stream",
     "text": [
      "100%|██████████| 125/125 [01:00<00:00,  2.07it/s]\n"
     ]
    },
    {
     "name": "stdout",
     "output_type": "stream",
     "text": [
      "iteration513\n",
      "Angulo theta_1 :  43.605\n",
      "Sigma:  0.03838100681512386\n"
     ]
    },
    {
     "name": "stderr",
     "output_type": "stream",
     "text": [
      "100%|██████████| 125/125 [01:19<00:00,  1.57it/s]\n"
     ]
    },
    {
     "name": "stdout",
     "output_type": "stream",
     "text": [
      "iteration514\n",
      "Angulo theta_1 :  43.69\n",
      "Sigma:  0.031199303218337218\n"
     ]
    },
    {
     "name": "stderr",
     "output_type": "stream",
     "text": [
      "100%|██████████| 125/125 [01:03<00:00,  1.98it/s]\n"
     ]
    },
    {
     "name": "stdout",
     "output_type": "stream",
     "text": [
      "iteration515\n",
      "Angulo theta_1 :  43.775\n",
      "Sigma:  0.039219064494909125\n"
     ]
    },
    {
     "name": "stderr",
     "output_type": "stream",
     "text": [
      "100%|██████████| 125/125 [01:03<00:00,  1.96it/s]\n"
     ]
    },
    {
     "name": "stdout",
     "output_type": "stream",
     "text": [
      "iteration516\n",
      "Angulo theta_1 :  43.86\n",
      "Sigma:  0.04144212302150345\n"
     ]
    },
    {
     "name": "stderr",
     "output_type": "stream",
     "text": [
      "100%|██████████| 125/125 [01:03<00:00,  1.97it/s]\n"
     ]
    },
    {
     "name": "stdout",
     "output_type": "stream",
     "text": [
      "iteration517\n",
      "Angulo theta_1 :  43.945\n",
      "Sigma:  0.03106948156965204\n"
     ]
    },
    {
     "name": "stderr",
     "output_type": "stream",
     "text": [
      "100%|██████████| 125/125 [01:03<00:00,  1.97it/s]\n"
     ]
    },
    {
     "name": "stdout",
     "output_type": "stream",
     "text": [
      "iteration518\n",
      "Angulo theta_1 :  44.03\n",
      "Sigma:  0.036794078394348964\n"
     ]
    },
    {
     "name": "stderr",
     "output_type": "stream",
     "text": [
      "100%|██████████| 125/125 [01:03<00:00,  1.96it/s]\n"
     ]
    },
    {
     "name": "stdout",
     "output_type": "stream",
     "text": [
      "iteration519\n",
      "Angulo theta_1 :  44.115\n",
      "Sigma:  0.03938052340354886\n"
     ]
    },
    {
     "name": "stderr",
     "output_type": "stream",
     "text": [
      "100%|██████████| 125/125 [01:06<00:00,  1.87it/s]\n"
     ]
    },
    {
     "name": "stdout",
     "output_type": "stream",
     "text": [
      "iteration520\n",
      "Angulo theta_1 :  44.2\n",
      "Sigma:  0.0489128120393611\n"
     ]
    },
    {
     "name": "stderr",
     "output_type": "stream",
     "text": [
      "100%|██████████| 125/125 [01:07<00:00,  1.86it/s]\n"
     ]
    },
    {
     "name": "stdout",
     "output_type": "stream",
     "text": [
      "iteration521\n",
      "Angulo theta_1 :  44.285\n",
      "Sigma:  0.03860317543533495\n"
     ]
    },
    {
     "name": "stderr",
     "output_type": "stream",
     "text": [
      "100%|██████████| 125/125 [01:20<00:00,  1.56it/s]\n"
     ]
    },
    {
     "name": "stdout",
     "output_type": "stream",
     "text": [
      "iteration522\n",
      "Angulo theta_1 :  44.37\n",
      "Sigma:  0.04016796114567243\n"
     ]
    },
    {
     "name": "stderr",
     "output_type": "stream",
     "text": [
      "100%|██████████| 125/125 [01:07<00:00,  1.86it/s]\n"
     ]
    },
    {
     "name": "stdout",
     "output_type": "stream",
     "text": [
      "iteration523\n",
      "Angulo theta_1 :  44.455\n",
      "Sigma:  0.026158057109095016\n"
     ]
    },
    {
     "name": "stderr",
     "output_type": "stream",
     "text": [
      "100%|██████████| 125/125 [01:07<00:00,  1.84it/s]\n"
     ]
    },
    {
     "name": "stdout",
     "output_type": "stream",
     "text": [
      "iteration524\n",
      "Angulo theta_1 :  44.54\n",
      "Sigma:  0.03247713582587469\n"
     ]
    },
    {
     "name": "stderr",
     "output_type": "stream",
     "text": [
      "100%|██████████| 125/125 [01:05<00:00,  1.91it/s]\n"
     ]
    },
    {
     "name": "stdout",
     "output_type": "stream",
     "text": [
      "iteration525\n",
      "Angulo theta_1 :  44.625\n",
      "Sigma:  0.027330729121564715\n"
     ]
    },
    {
     "name": "stderr",
     "output_type": "stream",
     "text": [
      "100%|██████████| 125/125 [01:03<00:00,  1.97it/s]\n"
     ]
    },
    {
     "name": "stdout",
     "output_type": "stream",
     "text": [
      "iteration526\n",
      "Angulo theta_1 :  44.71\n",
      "Sigma:  0.031891331595646874\n"
     ]
    },
    {
     "name": "stderr",
     "output_type": "stream",
     "text": [
      "100%|██████████| 125/125 [01:08<00:00,  1.83it/s]\n"
     ]
    },
    {
     "name": "stdout",
     "output_type": "stream",
     "text": [
      "iteration527\n",
      "Angulo theta_1 :  44.795\n",
      "Sigma:  0.039206987566813574\n"
     ]
    },
    {
     "name": "stderr",
     "output_type": "stream",
     "text": [
      "100%|██████████| 125/125 [01:07<00:00,  1.85it/s]\n"
     ]
    },
    {
     "name": "stdout",
     "output_type": "stream",
     "text": [
      "iteration528\n",
      "Angulo theta_1 :  44.88\n",
      "Sigma:  0.025946586351689928\n"
     ]
    },
    {
     "name": "stderr",
     "output_type": "stream",
     "text": [
      "100%|██████████| 125/125 [01:06<00:00,  1.88it/s]\n"
     ]
    },
    {
     "name": "stdout",
     "output_type": "stream",
     "text": [
      "iteration529\n",
      "Angulo theta_1 :  44.965\n",
      "Sigma:  0.03934611051762438\n"
     ]
    },
    {
     "name": "stderr",
     "output_type": "stream",
     "text": [
      "100%|██████████| 125/125 [01:07<00:00,  1.84it/s]\n"
     ]
    },
    {
     "name": "stdout",
     "output_type": "stream",
     "text": [
      "iteration530\n",
      "Angulo theta_1 :  45.05\n",
      "Sigma:  0.04924904432418632\n"
     ]
    },
    {
     "name": "stderr",
     "output_type": "stream",
     "text": [
      "100%|██████████| 125/125 [01:07<00:00,  1.86it/s]\n"
     ]
    },
    {
     "name": "stdout",
     "output_type": "stream",
     "text": [
      "iteration531\n",
      "Angulo theta_1 :  45.135\n",
      "Sigma:  0.049677268138244385\n"
     ]
    },
    {
     "name": "stderr",
     "output_type": "stream",
     "text": [
      "100%|██████████| 125/125 [01:07<00:00,  1.84it/s]\n"
     ]
    },
    {
     "name": "stdout",
     "output_type": "stream",
     "text": [
      "iteration532\n",
      "Angulo theta_1 :  45.22\n",
      "Sigma:  0.03202425167285087\n"
     ]
    },
    {
     "name": "stderr",
     "output_type": "stream",
     "text": [
      "100%|██████████| 125/125 [01:07<00:00,  1.85it/s]\n"
     ]
    },
    {
     "name": "stdout",
     "output_type": "stream",
     "text": [
      "iteration533\n",
      "Angulo theta_1 :  45.305\n",
      "Sigma:  0.04503285646355287\n"
     ]
    },
    {
     "name": "stderr",
     "output_type": "stream",
     "text": [
      "100%|██████████| 125/125 [01:07<00:00,  1.85it/s]\n"
     ]
    },
    {
     "name": "stdout",
     "output_type": "stream",
     "text": [
      "iteration534\n",
      "Angulo theta_1 :  45.39\n",
      "Sigma:  0.04307132284748377\n"
     ]
    },
    {
     "name": "stderr",
     "output_type": "stream",
     "text": [
      "100%|██████████| 125/125 [01:07<00:00,  1.86it/s]\n"
     ]
    },
    {
     "name": "stdout",
     "output_type": "stream",
     "text": [
      "iteration535\n",
      "Angulo theta_1 :  45.475\n",
      "Sigma:  0.03568664761694168\n"
     ]
    },
    {
     "name": "stderr",
     "output_type": "stream",
     "text": [
      "100%|██████████| 125/125 [01:07<00:00,  1.86it/s]\n"
     ]
    },
    {
     "name": "stdout",
     "output_type": "stream",
     "text": [
      "iteration536\n",
      "Angulo theta_1 :  45.56\n",
      "Sigma:  0.030433533995564546\n"
     ]
    },
    {
     "name": "stderr",
     "output_type": "stream",
     "text": [
      "100%|██████████| 125/125 [01:07<00:00,  1.85it/s]\n"
     ]
    },
    {
     "name": "stdout",
     "output_type": "stream",
     "text": [
      "iteration537\n",
      "Angulo theta_1 :  45.645\n",
      "Sigma:  0.0334734765631195\n"
     ]
    },
    {
     "name": "stderr",
     "output_type": "stream",
     "text": [
      "100%|██████████| 125/125 [01:03<00:00,  1.96it/s]\n"
     ]
    },
    {
     "name": "stdout",
     "output_type": "stream",
     "text": [
      "iteration538\n",
      "Angulo theta_1 :  45.73\n",
      "Sigma:  0.04759512674929481\n"
     ]
    },
    {
     "name": "stderr",
     "output_type": "stream",
     "text": [
      "100%|██████████| 125/125 [01:03<00:00,  1.98it/s]\n"
     ]
    },
    {
     "name": "stdout",
     "output_type": "stream",
     "text": [
      "iteration539\n",
      "Angulo theta_1 :  45.815\n",
      "Sigma:  0.028898938594103817\n"
     ]
    },
    {
     "name": "stderr",
     "output_type": "stream",
     "text": [
      "100%|██████████| 125/125 [01:04<00:00,  1.93it/s]\n"
     ]
    },
    {
     "name": "stdout",
     "output_type": "stream",
     "text": [
      "iteration540\n",
      "Angulo theta_1 :  45.9\n",
      "Sigma:  0.03709374839228688\n"
     ]
    },
    {
     "name": "stderr",
     "output_type": "stream",
     "text": [
      "100%|██████████| 125/125 [01:07<00:00,  1.85it/s]\n"
     ]
    },
    {
     "name": "stdout",
     "output_type": "stream",
     "text": [
      "iteration541\n",
      "Angulo theta_1 :  45.985\n",
      "Sigma:  0.03496749282969359\n"
     ]
    },
    {
     "name": "stderr",
     "output_type": "stream",
     "text": [
      "100%|██████████| 125/125 [01:06<00:00,  1.87it/s]\n"
     ]
    },
    {
     "name": "stdout",
     "output_type": "stream",
     "text": [
      "iteration542\n",
      "Angulo theta_1 :  46.07\n",
      "Sigma:  0.039729766194141404\n"
     ]
    },
    {
     "name": "stderr",
     "output_type": "stream",
     "text": [
      "100%|██████████| 125/125 [01:07<00:00,  1.85it/s]\n"
     ]
    },
    {
     "name": "stdout",
     "output_type": "stream",
     "text": [
      "iteration543\n",
      "Angulo theta_1 :  46.155\n",
      "Sigma:  0.03318241521599243\n"
     ]
    },
    {
     "name": "stderr",
     "output_type": "stream",
     "text": [
      "100%|██████████| 125/125 [01:07<00:00,  1.86it/s]\n"
     ]
    },
    {
     "name": "stdout",
     "output_type": "stream",
     "text": [
      "iteration544\n",
      "Angulo theta_1 :  46.24\n",
      "Sigma:  0.036552503935283656\n"
     ]
    },
    {
     "name": "stderr",
     "output_type": "stream",
     "text": [
      "100%|██████████| 125/125 [01:06<00:00,  1.87it/s]\n"
     ]
    },
    {
     "name": "stdout",
     "output_type": "stream",
     "text": [
      "iteration545\n",
      "Angulo theta_1 :  46.325\n",
      "Sigma:  0.02824767005143906\n"
     ]
    },
    {
     "name": "stderr",
     "output_type": "stream",
     "text": [
      "100%|██████████| 125/125 [01:07<00:00,  1.84it/s]\n"
     ]
    },
    {
     "name": "stdout",
     "output_type": "stream",
     "text": [
      "iteration546\n",
      "Angulo theta_1 :  46.41\n",
      "Sigma:  0.04354118734888123\n"
     ]
    },
    {
     "name": "stderr",
     "output_type": "stream",
     "text": [
      "100%|██████████| 125/125 [01:06<00:00,  1.87it/s]\n"
     ]
    },
    {
     "name": "stdout",
     "output_type": "stream",
     "text": [
      "iteration547\n",
      "Angulo theta_1 :  46.495\n",
      "Sigma:  0.03708210708709858\n"
     ]
    },
    {
     "name": "stderr",
     "output_type": "stream",
     "text": [
      "100%|██████████| 125/125 [01:07<00:00,  1.86it/s]\n"
     ]
    },
    {
     "name": "stdout",
     "output_type": "stream",
     "text": [
      "iteration548\n",
      "Angulo theta_1 :  46.58\n",
      "Sigma:  0.025995612833992165\n"
     ]
    },
    {
     "name": "stderr",
     "output_type": "stream",
     "text": [
      "100%|██████████| 125/125 [01:07<00:00,  1.86it/s]\n"
     ]
    },
    {
     "name": "stdout",
     "output_type": "stream",
     "text": [
      "iteration549\n",
      "Angulo theta_1 :  46.665\n",
      "Sigma:  0.030779779999449183\n"
     ]
    },
    {
     "name": "stderr",
     "output_type": "stream",
     "text": [
      "100%|██████████| 125/125 [01:07<00:00,  1.86it/s]\n"
     ]
    },
    {
     "name": "stdout",
     "output_type": "stream",
     "text": [
      "iteration550\n",
      "Angulo theta_1 :  46.75\n",
      "Sigma:  0.03010701840728659\n"
     ]
    },
    {
     "name": "stderr",
     "output_type": "stream",
     "text": [
      "100%|██████████| 125/125 [01:07<00:00,  1.85it/s]\n"
     ]
    },
    {
     "name": "stdout",
     "output_type": "stream",
     "text": [
      "iteration551\n",
      "Angulo theta_1 :  46.835\n",
      "Sigma:  0.04638474969988119\n"
     ]
    },
    {
     "name": "stderr",
     "output_type": "stream",
     "text": [
      "100%|██████████| 125/125 [01:07<00:00,  1.86it/s]\n"
     ]
    },
    {
     "name": "stdout",
     "output_type": "stream",
     "text": [
      "iteration552\n",
      "Angulo theta_1 :  46.92\n",
      "Sigma:  0.04064411477174698\n"
     ]
    },
    {
     "name": "stderr",
     "output_type": "stream",
     "text": [
      "100%|██████████| 125/125 [01:07<00:00,  1.85it/s]\n"
     ]
    },
    {
     "name": "stdout",
     "output_type": "stream",
     "text": [
      "iteration553\n",
      "Angulo theta_1 :  47.005\n",
      "Sigma:  0.03786306605367613\n"
     ]
    },
    {
     "name": "stderr",
     "output_type": "stream",
     "text": [
      "100%|██████████| 125/125 [01:08<00:00,  1.83it/s]\n"
     ]
    },
    {
     "name": "stdout",
     "output_type": "stream",
     "text": [
      "iteration554\n",
      "Angulo theta_1 :  47.09\n",
      "Sigma:  0.02701758780063492\n"
     ]
    },
    {
     "name": "stderr",
     "output_type": "stream",
     "text": [
      "100%|██████████| 125/125 [01:06<00:00,  1.88it/s]\n"
     ]
    },
    {
     "name": "stdout",
     "output_type": "stream",
     "text": [
      "iteration555\n",
      "Angulo theta_1 :  47.175\n",
      "Sigma:  0.03025942136871093\n"
     ]
    },
    {
     "name": "stderr",
     "output_type": "stream",
     "text": [
      "100%|██████████| 125/125 [01:07<00:00,  1.85it/s]\n"
     ]
    },
    {
     "name": "stdout",
     "output_type": "stream",
     "text": [
      "iteration556\n",
      "Angulo theta_1 :  47.26\n",
      "Sigma:  0.025144423968780843\n"
     ]
    },
    {
     "name": "stderr",
     "output_type": "stream",
     "text": [
      "100%|██████████| 125/125 [01:06<00:00,  1.87it/s]\n"
     ]
    },
    {
     "name": "stdout",
     "output_type": "stream",
     "text": [
      "iteration557\n",
      "Angulo theta_1 :  47.345\n",
      "Sigma:  0.03699934652507839\n"
     ]
    },
    {
     "name": "stderr",
     "output_type": "stream",
     "text": [
      "100%|██████████| 125/125 [01:07<00:00,  1.86it/s]\n"
     ]
    },
    {
     "name": "stdout",
     "output_type": "stream",
     "text": [
      "iteration558\n",
      "Angulo theta_1 :  47.43\n",
      "Sigma:  0.0259436838103\n"
     ]
    },
    {
     "name": "stderr",
     "output_type": "stream",
     "text": [
      "100%|██████████| 125/125 [01:07<00:00,  1.85it/s]\n"
     ]
    },
    {
     "name": "stdout",
     "output_type": "stream",
     "text": [
      "iteration559\n",
      "Angulo theta_1 :  47.515\n",
      "Sigma:  0.03318787513011745\n"
     ]
    },
    {
     "name": "stderr",
     "output_type": "stream",
     "text": [
      "100%|██████████| 125/125 [01:06<00:00,  1.88it/s]\n"
     ]
    },
    {
     "name": "stdout",
     "output_type": "stream",
     "text": [
      "iteration560\n",
      "Angulo theta_1 :  47.6\n",
      "Sigma:  0.04272254193291234\n"
     ]
    },
    {
     "name": "stderr",
     "output_type": "stream",
     "text": [
      "100%|██████████| 125/125 [01:07<00:00,  1.85it/s]\n"
     ]
    },
    {
     "name": "stdout",
     "output_type": "stream",
     "text": [
      "iteration561\n",
      "Angulo theta_1 :  47.685\n",
      "Sigma:  0.04823693310564514\n"
     ]
    },
    {
     "name": "stderr",
     "output_type": "stream",
     "text": [
      "100%|██████████| 125/125 [01:06<00:00,  1.88it/s]\n"
     ]
    },
    {
     "name": "stdout",
     "output_type": "stream",
     "text": [
      "iteration562\n",
      "Angulo theta_1 :  47.77\n",
      "Sigma:  0.030188915463809182\n"
     ]
    },
    {
     "name": "stderr",
     "output_type": "stream",
     "text": [
      "100%|██████████| 125/125 [01:06<00:00,  1.87it/s]\n"
     ]
    },
    {
     "name": "stdout",
     "output_type": "stream",
     "text": [
      "iteration563\n",
      "Angulo theta_1 :  47.855\n",
      "Sigma:  0.048581391039291676\n"
     ]
    },
    {
     "name": "stderr",
     "output_type": "stream",
     "text": [
      "100%|██████████| 125/125 [01:11<00:00,  1.74it/s]\n"
     ]
    },
    {
     "name": "stdout",
     "output_type": "stream",
     "text": [
      "iteration564\n",
      "Angulo theta_1 :  47.94\n",
      "Sigma:  0.02523631710784198\n"
     ]
    },
    {
     "name": "stderr",
     "output_type": "stream",
     "text": [
      "100%|██████████| 125/125 [01:06<00:00,  1.87it/s]\n"
     ]
    },
    {
     "name": "stdout",
     "output_type": "stream",
     "text": [
      "iteration565\n",
      "Angulo theta_1 :  48.025\n",
      "Sigma:  0.043111061519627784\n"
     ]
    },
    {
     "name": "stderr",
     "output_type": "stream",
     "text": [
      "100%|██████████| 125/125 [01:04<00:00,  1.95it/s]\n"
     ]
    },
    {
     "name": "stdout",
     "output_type": "stream",
     "text": [
      "iteration566\n",
      "Angulo theta_1 :  48.11\n",
      "Sigma:  0.03151906710400092\n"
     ]
    },
    {
     "name": "stderr",
     "output_type": "stream",
     "text": [
      "100%|██████████| 125/125 [01:03<00:00,  1.97it/s]\n"
     ]
    },
    {
     "name": "stdout",
     "output_type": "stream",
     "text": [
      "iteration567\n",
      "Angulo theta_1 :  48.195\n",
      "Sigma:  0.044936586362146536\n"
     ]
    },
    {
     "name": "stderr",
     "output_type": "stream",
     "text": [
      "100%|██████████| 125/125 [01:03<00:00,  1.97it/s]\n"
     ]
    },
    {
     "name": "stdout",
     "output_type": "stream",
     "text": [
      "iteration568\n",
      "Angulo theta_1 :  48.28\n",
      "Sigma:  0.03926507098835036\n"
     ]
    },
    {
     "name": "stderr",
     "output_type": "stream",
     "text": [
      "100%|██████████| 125/125 [01:03<00:00,  1.97it/s]\n"
     ]
    },
    {
     "name": "stdout",
     "output_type": "stream",
     "text": [
      "iteration569\n",
      "Angulo theta_1 :  48.365\n",
      "Sigma:  0.049839160663038326\n"
     ]
    },
    {
     "name": "stderr",
     "output_type": "stream",
     "text": [
      "100%|██████████| 125/125 [01:03<00:00,  1.97it/s]\n"
     ]
    },
    {
     "name": "stdout",
     "output_type": "stream",
     "text": [
      "iteration570\n",
      "Angulo theta_1 :  48.45\n",
      "Sigma:  0.02830959851976986\n"
     ]
    },
    {
     "name": "stderr",
     "output_type": "stream",
     "text": [
      "100%|██████████| 125/125 [01:03<00:00,  1.96it/s]\n"
     ]
    },
    {
     "name": "stdout",
     "output_type": "stream",
     "text": [
      "iteration571\n",
      "Angulo theta_1 :  48.535\n",
      "Sigma:  0.03475831678647558\n"
     ]
    },
    {
     "name": "stderr",
     "output_type": "stream",
     "text": [
      "100%|██████████| 125/125 [01:04<00:00,  1.94it/s]\n"
     ]
    },
    {
     "name": "stdout",
     "output_type": "stream",
     "text": [
      "iteration572\n",
      "Angulo theta_1 :  48.62\n",
      "Sigma:  0.04652728733881523\n"
     ]
    },
    {
     "name": "stderr",
     "output_type": "stream",
     "text": [
      "100%|██████████| 125/125 [01:02<00:00,  1.99it/s]\n"
     ]
    },
    {
     "name": "stdout",
     "output_type": "stream",
     "text": [
      "iteration573\n",
      "Angulo theta_1 :  48.705\n",
      "Sigma:  0.02797621264198492\n"
     ]
    },
    {
     "name": "stderr",
     "output_type": "stream",
     "text": [
      "100%|██████████| 125/125 [01:02<00:00,  1.99it/s]\n"
     ]
    },
    {
     "name": "stdout",
     "output_type": "stream",
     "text": [
      "iteration574\n",
      "Angulo theta_1 :  48.79\n",
      "Sigma:  0.04920838576587491\n"
     ]
    },
    {
     "name": "stderr",
     "output_type": "stream",
     "text": [
      "100%|██████████| 125/125 [01:04<00:00,  1.94it/s]\n"
     ]
    },
    {
     "name": "stdout",
     "output_type": "stream",
     "text": [
      "iteration575\n",
      "Angulo theta_1 :  48.875\n",
      "Sigma:  0.03835012586108371\n"
     ]
    },
    {
     "name": "stderr",
     "output_type": "stream",
     "text": [
      "100%|██████████| 125/125 [01:03<00:00,  1.96it/s]\n"
     ]
    },
    {
     "name": "stdout",
     "output_type": "stream",
     "text": [
      "iteration576\n",
      "Angulo theta_1 :  48.96\n",
      "Sigma:  0.04548204895584604\n"
     ]
    },
    {
     "name": "stderr",
     "output_type": "stream",
     "text": [
      "100%|██████████| 125/125 [01:03<00:00,  1.98it/s]\n"
     ]
    },
    {
     "name": "stdout",
     "output_type": "stream",
     "text": [
      "iteration577\n",
      "Angulo theta_1 :  49.045\n",
      "Sigma:  0.02625622335484873\n"
     ]
    },
    {
     "name": "stderr",
     "output_type": "stream",
     "text": [
      "100%|██████████| 125/125 [01:03<00:00,  1.97it/s]\n"
     ]
    },
    {
     "name": "stdout",
     "output_type": "stream",
     "text": [
      "iteration578\n",
      "Angulo theta_1 :  49.13\n",
      "Sigma:  0.03517910245652814\n"
     ]
    },
    {
     "name": "stderr",
     "output_type": "stream",
     "text": [
      "100%|██████████| 125/125 [01:03<00:00,  1.96it/s]\n"
     ]
    },
    {
     "name": "stdout",
     "output_type": "stream",
     "text": [
      "iteration579\n",
      "Angulo theta_1 :  49.215\n",
      "Sigma:  0.027218835398005903\n"
     ]
    },
    {
     "name": "stderr",
     "output_type": "stream",
     "text": [
      "100%|██████████| 125/125 [01:03<00:00,  1.96it/s]\n"
     ]
    },
    {
     "name": "stdout",
     "output_type": "stream",
     "text": [
      "iteration580\n",
      "Angulo theta_1 :  49.3\n",
      "Sigma:  0.02508825877196751\n"
     ]
    },
    {
     "name": "stderr",
     "output_type": "stream",
     "text": [
      "100%|██████████| 125/125 [01:03<00:00,  1.95it/s]\n"
     ]
    },
    {
     "name": "stdout",
     "output_type": "stream",
     "text": [
      "iteration581\n",
      "Angulo theta_1 :  49.385\n",
      "Sigma:  0.02638544397017407\n"
     ]
    },
    {
     "name": "stderr",
     "output_type": "stream",
     "text": [
      "100%|██████████| 125/125 [01:02<00:00,  1.98it/s]\n"
     ]
    },
    {
     "name": "stdout",
     "output_type": "stream",
     "text": [
      "iteration582\n",
      "Angulo theta_1 :  49.47\n",
      "Sigma:  0.03741096520178768\n"
     ]
    },
    {
     "name": "stderr",
     "output_type": "stream",
     "text": [
      "100%|██████████| 125/125 [01:04<00:00,  1.93it/s]\n"
     ]
    },
    {
     "name": "stdout",
     "output_type": "stream",
     "text": [
      "iteration583\n",
      "Angulo theta_1 :  49.555\n",
      "Sigma:  0.047806092577187834\n"
     ]
    },
    {
     "name": "stderr",
     "output_type": "stream",
     "text": [
      "100%|██████████| 125/125 [01:03<00:00,  1.96it/s]\n"
     ]
    },
    {
     "name": "stdout",
     "output_type": "stream",
     "text": [
      "iteration584\n",
      "Angulo theta_1 :  49.64\n",
      "Sigma:  0.04794524168009565\n"
     ]
    },
    {
     "name": "stderr",
     "output_type": "stream",
     "text": [
      "100%|██████████| 125/125 [01:02<00:00,  1.98it/s]\n"
     ]
    },
    {
     "name": "stdout",
     "output_type": "stream",
     "text": [
      "iteration585\n",
      "Angulo theta_1 :  49.725\n",
      "Sigma:  0.04798003727314576\n"
     ]
    },
    {
     "name": "stderr",
     "output_type": "stream",
     "text": [
      "100%|██████████| 125/125 [01:04<00:00,  1.93it/s]\n"
     ]
    },
    {
     "name": "stdout",
     "output_type": "stream",
     "text": [
      "iteration586\n",
      "Angulo theta_1 :  49.81\n",
      "Sigma:  0.027795088943705658\n"
     ]
    },
    {
     "name": "stderr",
     "output_type": "stream",
     "text": [
      "100%|██████████| 125/125 [01:02<00:00,  1.99it/s]\n"
     ]
    },
    {
     "name": "stdout",
     "output_type": "stream",
     "text": [
      "iteration587\n",
      "Angulo theta_1 :  49.895\n",
      "Sigma:  0.03607441013731988\n"
     ]
    },
    {
     "name": "stderr",
     "output_type": "stream",
     "text": [
      "100%|██████████| 125/125 [01:03<00:00,  1.98it/s]\n"
     ]
    },
    {
     "name": "stdout",
     "output_type": "stream",
     "text": [
      "iteration588\n",
      "Angulo theta_1 :  49.98\n",
      "Sigma:  0.041611648230955645\n"
     ]
    },
    {
     "name": "stderr",
     "output_type": "stream",
     "text": [
      "100%|██████████| 125/125 [01:03<00:00,  1.96it/s]\n"
     ]
    },
    {
     "name": "stdout",
     "output_type": "stream",
     "text": [
      "iteration589\n",
      "Angulo theta_1 :  50.065\n",
      "Sigma:  0.04431276759878904\n"
     ]
    },
    {
     "name": "stderr",
     "output_type": "stream",
     "text": [
      "100%|██████████| 125/125 [01:03<00:00,  1.97it/s]\n"
     ]
    },
    {
     "name": "stdout",
     "output_type": "stream",
     "text": [
      "iteration590\n",
      "Angulo theta_1 :  50.15\n",
      "Sigma:  0.0446628133748034\n"
     ]
    },
    {
     "name": "stderr",
     "output_type": "stream",
     "text": [
      "100%|██████████| 125/125 [01:03<00:00,  1.96it/s]\n"
     ]
    },
    {
     "name": "stdout",
     "output_type": "stream",
     "text": [
      "iteration591\n",
      "Angulo theta_1 :  50.235\n",
      "Sigma:  0.04125973732255156\n"
     ]
    },
    {
     "name": "stderr",
     "output_type": "stream",
     "text": [
      "100%|██████████| 125/125 [01:03<00:00,  1.97it/s]\n"
     ]
    },
    {
     "name": "stdout",
     "output_type": "stream",
     "text": [
      "iteration592\n",
      "Angulo theta_1 :  50.32\n",
      "Sigma:  0.04953774885641481\n"
     ]
    },
    {
     "name": "stderr",
     "output_type": "stream",
     "text": [
      "100%|██████████| 125/125 [01:02<00:00,  1.98it/s]\n"
     ]
    },
    {
     "name": "stdout",
     "output_type": "stream",
     "text": [
      "iteration593\n",
      "Angulo theta_1 :  50.405\n",
      "Sigma:  0.027749840244909674\n"
     ]
    },
    {
     "name": "stderr",
     "output_type": "stream",
     "text": [
      "100%|██████████| 125/125 [01:03<00:00,  1.96it/s]\n"
     ]
    },
    {
     "name": "stdout",
     "output_type": "stream",
     "text": [
      "iteration594\n",
      "Angulo theta_1 :  50.49\n",
      "Sigma:  0.03679700317696388\n"
     ]
    },
    {
     "name": "stderr",
     "output_type": "stream",
     "text": [
      "100%|██████████| 125/125 [01:07<00:00,  1.86it/s]\n"
     ]
    },
    {
     "name": "stdout",
     "output_type": "stream",
     "text": [
      "iteration595\n",
      "Angulo theta_1 :  50.575\n",
      "Sigma:  0.04218161723034\n"
     ]
    },
    {
     "name": "stderr",
     "output_type": "stream",
     "text": [
      "100%|██████████| 125/125 [01:03<00:00,  1.98it/s]\n"
     ]
    },
    {
     "name": "stdout",
     "output_type": "stream",
     "text": [
      "iteration596\n",
      "Angulo theta_1 :  50.66\n",
      "Sigma:  0.04762524760211039\n"
     ]
    },
    {
     "name": "stderr",
     "output_type": "stream",
     "text": [
      "100%|██████████| 125/125 [01:04<00:00,  1.95it/s]\n"
     ]
    },
    {
     "name": "stdout",
     "output_type": "stream",
     "text": [
      "iteration597\n",
      "Angulo theta_1 :  50.745\n",
      "Sigma:  0.029853153110982026\n"
     ]
    },
    {
     "name": "stderr",
     "output_type": "stream",
     "text": [
      "100%|██████████| 125/125 [01:03<00:00,  1.98it/s]\n"
     ]
    },
    {
     "name": "stdout",
     "output_type": "stream",
     "text": [
      "iteration598\n",
      "Angulo theta_1 :  50.83\n",
      "Sigma:  0.03784109139007355\n"
     ]
    },
    {
     "name": "stderr",
     "output_type": "stream",
     "text": [
      "100%|██████████| 125/125 [01:03<00:00,  1.98it/s]\n"
     ]
    },
    {
     "name": "stdout",
     "output_type": "stream",
     "text": [
      "iteration599\n",
      "Angulo theta_1 :  50.915\n",
      "Sigma:  0.04330847711830577\n"
     ]
    },
    {
     "name": "stderr",
     "output_type": "stream",
     "text": [
      "100%|██████████| 125/125 [01:03<00:00,  1.96it/s]\n"
     ]
    },
    {
     "name": "stdout",
     "output_type": "stream",
     "text": [
      "iteration600\n",
      "Angulo theta_1 :  51.0\n",
      "Sigma:  0.040968499822318635\n"
     ]
    },
    {
     "name": "stderr",
     "output_type": "stream",
     "text": [
      "100%|██████████| 125/125 [01:02<00:00,  1.99it/s]\n"
     ]
    },
    {
     "name": "stdout",
     "output_type": "stream",
     "text": [
      "iteration601\n",
      "Angulo theta_1 :  51.085\n",
      "Sigma:  0.04154355023337604\n"
     ]
    },
    {
     "name": "stderr",
     "output_type": "stream",
     "text": [
      "100%|██████████| 125/125 [01:02<00:00,  1.99it/s]\n"
     ]
    },
    {
     "name": "stdout",
     "output_type": "stream",
     "text": [
      "iteration602\n",
      "Angulo theta_1 :  51.17\n",
      "Sigma:  0.040283042395880715\n"
     ]
    },
    {
     "name": "stderr",
     "output_type": "stream",
     "text": [
      "100%|██████████| 125/125 [01:04<00:00,  1.94it/s]\n"
     ]
    },
    {
     "name": "stdout",
     "output_type": "stream",
     "text": [
      "iteration603\n",
      "Angulo theta_1 :  51.255\n",
      "Sigma:  0.04376299848576181\n"
     ]
    },
    {
     "name": "stderr",
     "output_type": "stream",
     "text": [
      "100%|██████████| 125/125 [01:03<00:00,  1.97it/s]\n"
     ]
    },
    {
     "name": "stdout",
     "output_type": "stream",
     "text": [
      "iteration604\n",
      "Angulo theta_1 :  51.34\n",
      "Sigma:  0.03226453841329012\n"
     ]
    },
    {
     "name": "stderr",
     "output_type": "stream",
     "text": [
      "100%|██████████| 125/125 [01:02<00:00,  1.99it/s]\n"
     ]
    },
    {
     "name": "stdout",
     "output_type": "stream",
     "text": [
      "iteration605\n",
      "Angulo theta_1 :  51.425\n",
      "Sigma:  0.03899283371576288\n"
     ]
    },
    {
     "name": "stderr",
     "output_type": "stream",
     "text": [
      "100%|██████████| 125/125 [01:03<00:00,  1.97it/s]\n"
     ]
    },
    {
     "name": "stdout",
     "output_type": "stream",
     "text": [
      "iteration606\n",
      "Angulo theta_1 :  51.51\n",
      "Sigma:  0.03079412053250373\n"
     ]
    },
    {
     "name": "stderr",
     "output_type": "stream",
     "text": [
      "100%|██████████| 125/125 [01:08<00:00,  1.84it/s]\n"
     ]
    },
    {
     "name": "stdout",
     "output_type": "stream",
     "text": [
      "iteration607\n",
      "Angulo theta_1 :  51.595\n",
      "Sigma:  0.045876818961188594\n"
     ]
    },
    {
     "name": "stderr",
     "output_type": "stream",
     "text": [
      "100%|██████████| 125/125 [01:07<00:00,  1.86it/s]\n"
     ]
    },
    {
     "name": "stdout",
     "output_type": "stream",
     "text": [
      "iteration608\n",
      "Angulo theta_1 :  51.68\n",
      "Sigma:  0.04224757137655552\n"
     ]
    },
    {
     "name": "stderr",
     "output_type": "stream",
     "text": [
      "100%|██████████| 125/125 [01:06<00:00,  1.88it/s]\n"
     ]
    },
    {
     "name": "stdout",
     "output_type": "stream",
     "text": [
      "iteration609\n",
      "Angulo theta_1 :  51.765\n",
      "Sigma:  0.03443749189165224\n"
     ]
    },
    {
     "name": "stderr",
     "output_type": "stream",
     "text": [
      "100%|██████████| 125/125 [01:06<00:00,  1.88it/s]\n"
     ]
    },
    {
     "name": "stdout",
     "output_type": "stream",
     "text": [
      "iteration610\n",
      "Angulo theta_1 :  51.85\n",
      "Sigma:  0.026059493757854508\n"
     ]
    },
    {
     "name": "stderr",
     "output_type": "stream",
     "text": [
      "100%|██████████| 125/125 [01:03<00:00,  1.96it/s]\n"
     ]
    },
    {
     "name": "stdout",
     "output_type": "stream",
     "text": [
      "iteration611\n",
      "Angulo theta_1 :  51.935\n",
      "Sigma:  0.031427097042190884\n"
     ]
    },
    {
     "name": "stderr",
     "output_type": "stream",
     "text": [
      "100%|██████████| 125/125 [01:02<00:00,  1.99it/s]\n"
     ]
    },
    {
     "name": "stdout",
     "output_type": "stream",
     "text": [
      "iteration612\n",
      "Angulo theta_1 :  52.02\n",
      "Sigma:  0.03855289586147461\n"
     ]
    },
    {
     "name": "stderr",
     "output_type": "stream",
     "text": [
      "100%|██████████| 125/125 [01:02<00:00,  1.98it/s]\n"
     ]
    },
    {
     "name": "stdout",
     "output_type": "stream",
     "text": [
      "iteration613\n",
      "Angulo theta_1 :  52.105\n",
      "Sigma:  0.03313586117839988\n"
     ]
    },
    {
     "name": "stderr",
     "output_type": "stream",
     "text": [
      "100%|██████████| 125/125 [01:03<00:00,  1.97it/s]\n"
     ]
    },
    {
     "name": "stdout",
     "output_type": "stream",
     "text": [
      "iteration614\n",
      "Angulo theta_1 :  52.19\n",
      "Sigma:  0.03574224814707953\n"
     ]
    },
    {
     "name": "stderr",
     "output_type": "stream",
     "text": [
      "100%|██████████| 125/125 [01:06<00:00,  1.88it/s]\n"
     ]
    },
    {
     "name": "stdout",
     "output_type": "stream",
     "text": [
      "iteration615\n",
      "Angulo theta_1 :  52.275\n",
      "Sigma:  0.0486157186334964\n"
     ]
    },
    {
     "name": "stderr",
     "output_type": "stream",
     "text": [
      "100%|██████████| 125/125 [01:06<00:00,  1.88it/s]\n"
     ]
    },
    {
     "name": "stdout",
     "output_type": "stream",
     "text": [
      "iteration616\n",
      "Angulo theta_1 :  52.36\n",
      "Sigma:  0.03364377693235007\n"
     ]
    },
    {
     "name": "stderr",
     "output_type": "stream",
     "text": [
      "100%|██████████| 125/125 [01:06<00:00,  1.87it/s]\n"
     ]
    },
    {
     "name": "stdout",
     "output_type": "stream",
     "text": [
      "iteration617\n",
      "Angulo theta_1 :  52.445\n",
      "Sigma:  0.046695139223086414\n"
     ]
    },
    {
     "name": "stderr",
     "output_type": "stream",
     "text": [
      "100%|██████████| 125/125 [01:07<00:00,  1.86it/s]\n"
     ]
    },
    {
     "name": "stdout",
     "output_type": "stream",
     "text": [
      "iteration618\n",
      "Angulo theta_1 :  52.53\n",
      "Sigma:  0.04390205138013319\n"
     ]
    },
    {
     "name": "stderr",
     "output_type": "stream",
     "text": [
      "100%|██████████| 125/125 [01:07<00:00,  1.84it/s]\n"
     ]
    },
    {
     "name": "stdout",
     "output_type": "stream",
     "text": [
      "iteration619\n",
      "Angulo theta_1 :  52.615\n",
      "Sigma:  0.037745743553461726\n"
     ]
    },
    {
     "name": "stderr",
     "output_type": "stream",
     "text": [
      "100%|██████████| 125/125 [01:07<00:00,  1.86it/s]\n"
     ]
    },
    {
     "name": "stdout",
     "output_type": "stream",
     "text": [
      "iteration620\n",
      "Angulo theta_1 :  52.7\n",
      "Sigma:  0.04224080986070019\n"
     ]
    },
    {
     "name": "stderr",
     "output_type": "stream",
     "text": [
      "100%|██████████| 125/125 [01:08<00:00,  1.83it/s]\n"
     ]
    },
    {
     "name": "stdout",
     "output_type": "stream",
     "text": [
      "iteration621\n",
      "Angulo theta_1 :  52.785\n",
      "Sigma:  0.04256278417724205\n"
     ]
    },
    {
     "name": "stderr",
     "output_type": "stream",
     "text": [
      "100%|██████████| 125/125 [01:07<00:00,  1.85it/s]\n"
     ]
    },
    {
     "name": "stdout",
     "output_type": "stream",
     "text": [
      "iteration622\n",
      "Angulo theta_1 :  52.87\n",
      "Sigma:  0.03001196971797088\n"
     ]
    },
    {
     "name": "stderr",
     "output_type": "stream",
     "text": [
      "100%|██████████| 125/125 [01:06<00:00,  1.88it/s]\n"
     ]
    },
    {
     "name": "stdout",
     "output_type": "stream",
     "text": [
      "iteration623\n",
      "Angulo theta_1 :  52.955\n",
      "Sigma:  0.04282374792894253\n"
     ]
    },
    {
     "name": "stderr",
     "output_type": "stream",
     "text": [
      "100%|██████████| 125/125 [01:06<00:00,  1.88it/s]\n"
     ]
    },
    {
     "name": "stdout",
     "output_type": "stream",
     "text": [
      "iteration624\n",
      "Angulo theta_1 :  53.04\n",
      "Sigma:  0.03305323719569267\n"
     ]
    },
    {
     "name": "stderr",
     "output_type": "stream",
     "text": [
      "100%|██████████| 125/125 [01:09<00:00,  1.81it/s]\n"
     ]
    },
    {
     "name": "stdout",
     "output_type": "stream",
     "text": [
      "iteration625\n",
      "Angulo theta_1 :  53.125\n",
      "Sigma:  0.049985274633968256\n"
     ]
    },
    {
     "name": "stderr",
     "output_type": "stream",
     "text": [
      "100%|██████████| 125/125 [01:06<00:00,  1.88it/s]\n"
     ]
    },
    {
     "name": "stdout",
     "output_type": "stream",
     "text": [
      "iteration626\n",
      "Angulo theta_1 :  53.21\n",
      "Sigma:  0.032559588996726334\n"
     ]
    },
    {
     "name": "stderr",
     "output_type": "stream",
     "text": [
      "100%|██████████| 125/125 [01:07<00:00,  1.86it/s]\n"
     ]
    },
    {
     "name": "stdout",
     "output_type": "stream",
     "text": [
      "iteration627\n",
      "Angulo theta_1 :  53.295\n",
      "Sigma:  0.04478426560098977\n"
     ]
    },
    {
     "name": "stderr",
     "output_type": "stream",
     "text": [
      "100%|██████████| 125/125 [01:06<00:00,  1.87it/s]\n"
     ]
    },
    {
     "name": "stdout",
     "output_type": "stream",
     "text": [
      "iteration628\n",
      "Angulo theta_1 :  53.38\n",
      "Sigma:  0.037362282961521706\n"
     ]
    },
    {
     "name": "stderr",
     "output_type": "stream",
     "text": [
      "100%|██████████| 125/125 [01:06<00:00,  1.87it/s]\n"
     ]
    },
    {
     "name": "stdout",
     "output_type": "stream",
     "text": [
      "iteration629\n",
      "Angulo theta_1 :  53.465\n",
      "Sigma:  0.032585612297379406\n"
     ]
    },
    {
     "name": "stderr",
     "output_type": "stream",
     "text": [
      "100%|██████████| 125/125 [01:07<00:00,  1.85it/s]\n"
     ]
    },
    {
     "name": "stdout",
     "output_type": "stream",
     "text": [
      "iteration630\n",
      "Angulo theta_1 :  53.55\n",
      "Sigma:  0.048790768153431294\n"
     ]
    },
    {
     "name": "stderr",
     "output_type": "stream",
     "text": [
      "100%|██████████| 125/125 [01:04<00:00,  1.95it/s]\n"
     ]
    },
    {
     "name": "stdout",
     "output_type": "stream",
     "text": [
      "iteration631\n",
      "Angulo theta_1 :  53.635\n",
      "Sigma:  0.04430490449154875\n"
     ]
    },
    {
     "name": "stderr",
     "output_type": "stream",
     "text": [
      "100%|██████████| 125/125 [01:03<00:00,  1.98it/s]\n"
     ]
    },
    {
     "name": "stdout",
     "output_type": "stream",
     "text": [
      "iteration632\n",
      "Angulo theta_1 :  53.72\n",
      "Sigma:  0.03479536587293149\n"
     ]
    },
    {
     "name": "stderr",
     "output_type": "stream",
     "text": [
      "100%|██████████| 125/125 [01:04<00:00,  1.93it/s]\n"
     ]
    },
    {
     "name": "stdout",
     "output_type": "stream",
     "text": [
      "iteration633\n",
      "Angulo theta_1 :  53.805\n",
      "Sigma:  0.039714034439208075\n"
     ]
    },
    {
     "name": "stderr",
     "output_type": "stream",
     "text": [
      "100%|██████████| 125/125 [01:04<00:00,  1.93it/s]\n"
     ]
    },
    {
     "name": "stdout",
     "output_type": "stream",
     "text": [
      "iteration634\n",
      "Angulo theta_1 :  53.89\n",
      "Sigma:  0.045402065432165586\n"
     ]
    },
    {
     "name": "stderr",
     "output_type": "stream",
     "text": [
      "100%|██████████| 125/125 [01:08<00:00,  1.82it/s]\n"
     ]
    },
    {
     "name": "stdout",
     "output_type": "stream",
     "text": [
      "iteration635\n",
      "Angulo theta_1 :  53.975\n",
      "Sigma:  0.04564356546705116\n"
     ]
    },
    {
     "name": "stderr",
     "output_type": "stream",
     "text": [
      "100%|██████████| 125/125 [01:06<00:00,  1.88it/s]\n"
     ]
    },
    {
     "name": "stdout",
     "output_type": "stream",
     "text": [
      "iteration636\n",
      "Angulo theta_1 :  54.06\n",
      "Sigma:  0.029046902378413716\n"
     ]
    },
    {
     "name": "stderr",
     "output_type": "stream",
     "text": [
      "100%|██████████| 125/125 [01:06<00:00,  1.88it/s]\n"
     ]
    },
    {
     "name": "stdout",
     "output_type": "stream",
     "text": [
      "iteration637\n",
      "Angulo theta_1 :  54.145\n",
      "Sigma:  0.0339260747512291\n"
     ]
    },
    {
     "name": "stderr",
     "output_type": "stream",
     "text": [
      "100%|██████████| 125/125 [01:07<00:00,  1.85it/s]\n"
     ]
    },
    {
     "name": "stdout",
     "output_type": "stream",
     "text": [
      "iteration638\n",
      "Angulo theta_1 :  54.23\n",
      "Sigma:  0.038381063617157395\n"
     ]
    },
    {
     "name": "stderr",
     "output_type": "stream",
     "text": [
      "100%|██████████| 125/125 [01:06<00:00,  1.88it/s]\n"
     ]
    },
    {
     "name": "stdout",
     "output_type": "stream",
     "text": [
      "iteration639\n",
      "Angulo theta_1 :  54.315\n",
      "Sigma:  0.026941851609159035\n"
     ]
    },
    {
     "name": "stderr",
     "output_type": "stream",
     "text": [
      "100%|██████████| 125/125 [01:06<00:00,  1.87it/s]\n"
     ]
    },
    {
     "name": "stdout",
     "output_type": "stream",
     "text": [
      "iteration640\n",
      "Angulo theta_1 :  54.4\n",
      "Sigma:  0.03367011573471473\n"
     ]
    },
    {
     "name": "stderr",
     "output_type": "stream",
     "text": [
      "100%|██████████| 125/125 [01:08<00:00,  1.83it/s]\n"
     ]
    },
    {
     "name": "stdout",
     "output_type": "stream",
     "text": [
      "iteration641\n",
      "Angulo theta_1 :  54.485\n",
      "Sigma:  0.02603633453920905\n"
     ]
    },
    {
     "name": "stderr",
     "output_type": "stream",
     "text": [
      "100%|██████████| 125/125 [01:07<00:00,  1.86it/s]\n"
     ]
    },
    {
     "name": "stdout",
     "output_type": "stream",
     "text": [
      "iteration642\n",
      "Angulo theta_1 :  54.57\n",
      "Sigma:  0.030514415809950943\n"
     ]
    },
    {
     "name": "stderr",
     "output_type": "stream",
     "text": [
      "100%|██████████| 125/125 [01:07<00:00,  1.85it/s]\n"
     ]
    },
    {
     "name": "stdout",
     "output_type": "stream",
     "text": [
      "iteration643\n",
      "Angulo theta_1 :  54.655\n",
      "Sigma:  0.03489496013807842\n"
     ]
    },
    {
     "name": "stderr",
     "output_type": "stream",
     "text": [
      "100%|██████████| 125/125 [01:07<00:00,  1.84it/s]\n"
     ]
    },
    {
     "name": "stdout",
     "output_type": "stream",
     "text": [
      "iteration644\n",
      "Angulo theta_1 :  54.74\n",
      "Sigma:  0.03538965270742777\n"
     ]
    },
    {
     "name": "stderr",
     "output_type": "stream",
     "text": [
      "100%|██████████| 125/125 [01:07<00:00,  1.85it/s]\n"
     ]
    },
    {
     "name": "stdout",
     "output_type": "stream",
     "text": [
      "iteration645\n",
      "Angulo theta_1 :  54.825\n",
      "Sigma:  0.04147342651803422\n"
     ]
    },
    {
     "name": "stderr",
     "output_type": "stream",
     "text": [
      "100%|██████████| 125/125 [01:07<00:00,  1.85it/s]\n"
     ]
    },
    {
     "name": "stdout",
     "output_type": "stream",
     "text": [
      "iteration646\n",
      "Angulo theta_1 :  54.91\n",
      "Sigma:  0.03685278192475312\n"
     ]
    },
    {
     "name": "stderr",
     "output_type": "stream",
     "text": [
      "100%|██████████| 125/125 [01:08<00:00,  1.83it/s]\n"
     ]
    },
    {
     "name": "stdout",
     "output_type": "stream",
     "text": [
      "iteration647\n",
      "Angulo theta_1 :  54.995\n",
      "Sigma:  0.046073284384970256\n"
     ]
    },
    {
     "name": "stderr",
     "output_type": "stream",
     "text": [
      "100%|██████████| 125/125 [01:08<00:00,  1.81it/s]\n"
     ]
    },
    {
     "name": "stdout",
     "output_type": "stream",
     "text": [
      "iteration648\n",
      "Angulo theta_1 :  55.08\n",
      "Sigma:  0.039754791782301784\n"
     ]
    },
    {
     "name": "stderr",
     "output_type": "stream",
     "text": [
      "100%|██████████| 125/125 [01:06<00:00,  1.88it/s]\n"
     ]
    },
    {
     "name": "stdout",
     "output_type": "stream",
     "text": [
      "iteration649\n",
      "Angulo theta_1 :  55.165\n",
      "Sigma:  0.02762879451904711\n"
     ]
    },
    {
     "name": "stderr",
     "output_type": "stream",
     "text": [
      "100%|██████████| 125/125 [01:07<00:00,  1.86it/s]\n"
     ]
    },
    {
     "name": "stdout",
     "output_type": "stream",
     "text": [
      "iteration650\n",
      "Angulo theta_1 :  55.25\n",
      "Sigma:  0.03268675249136071\n"
     ]
    },
    {
     "name": "stderr",
     "output_type": "stream",
     "text": [
      "100%|██████████| 125/125 [01:03<00:00,  1.97it/s]\n"
     ]
    },
    {
     "name": "stdout",
     "output_type": "stream",
     "text": [
      "iteration651\n",
      "Angulo theta_1 :  55.335\n",
      "Sigma:  0.025509987905434114\n"
     ]
    },
    {
     "name": "stderr",
     "output_type": "stream",
     "text": [
      "100%|██████████| 125/125 [01:02<00:00,  1.98it/s]\n"
     ]
    },
    {
     "name": "stdout",
     "output_type": "stream",
     "text": [
      "iteration652\n",
      "Angulo theta_1 :  55.42\n",
      "Sigma:  0.035798612949432713\n"
     ]
    },
    {
     "name": "stderr",
     "output_type": "stream",
     "text": [
      "100%|██████████| 125/125 [01:03<00:00,  1.97it/s]\n"
     ]
    },
    {
     "name": "stdout",
     "output_type": "stream",
     "text": [
      "iteration653\n",
      "Angulo theta_1 :  55.505\n",
      "Sigma:  0.0402960122461191\n"
     ]
    },
    {
     "name": "stderr",
     "output_type": "stream",
     "text": [
      "100%|██████████| 125/125 [01:03<00:00,  1.97it/s]\n"
     ]
    },
    {
     "name": "stdout",
     "output_type": "stream",
     "text": [
      "iteration654\n",
      "Angulo theta_1 :  55.59\n",
      "Sigma:  0.03181239394364309\n"
     ]
    },
    {
     "name": "stderr",
     "output_type": "stream",
     "text": [
      "100%|██████████| 125/125 [01:03<00:00,  1.98it/s]\n"
     ]
    },
    {
     "name": "stdout",
     "output_type": "stream",
     "text": [
      "iteration655\n",
      "Angulo theta_1 :  55.675\n",
      "Sigma:  0.035395223304250545\n"
     ]
    },
    {
     "name": "stderr",
     "output_type": "stream",
     "text": [
      "100%|██████████| 125/125 [01:07<00:00,  1.86it/s]\n"
     ]
    },
    {
     "name": "stdout",
     "output_type": "stream",
     "text": [
      "iteration656\n",
      "Angulo theta_1 :  55.76\n",
      "Sigma:  0.04308634476136725\n"
     ]
    },
    {
     "name": "stderr",
     "output_type": "stream",
     "text": [
      "100%|██████████| 125/125 [01:07<00:00,  1.85it/s]\n"
     ]
    },
    {
     "name": "stdout",
     "output_type": "stream",
     "text": [
      "iteration657\n",
      "Angulo theta_1 :  55.845\n",
      "Sigma:  0.039144969126577396\n"
     ]
    },
    {
     "name": "stderr",
     "output_type": "stream",
     "text": [
      "100%|██████████| 125/125 [01:06<00:00,  1.87it/s]\n"
     ]
    },
    {
     "name": "stdout",
     "output_type": "stream",
     "text": [
      "iteration658\n",
      "Angulo theta_1 :  55.93\n",
      "Sigma:  0.043340482098133105\n"
     ]
    },
    {
     "name": "stderr",
     "output_type": "stream",
     "text": [
      "100%|██████████| 125/125 [01:07<00:00,  1.85it/s]\n"
     ]
    },
    {
     "name": "stdout",
     "output_type": "stream",
     "text": [
      "iteration659\n",
      "Angulo theta_1 :  56.015\n",
      "Sigma:  0.026114801576937564\n"
     ]
    },
    {
     "name": "stderr",
     "output_type": "stream",
     "text": [
      "100%|██████████| 125/125 [01:06<00:00,  1.87it/s]\n"
     ]
    },
    {
     "name": "stdout",
     "output_type": "stream",
     "text": [
      "iteration660\n",
      "Angulo theta_1 :  56.1\n",
      "Sigma:  0.042731093349218985\n"
     ]
    },
    {
     "name": "stderr",
     "output_type": "stream",
     "text": [
      "100%|██████████| 125/125 [01:07<00:00,  1.86it/s]\n"
     ]
    },
    {
     "name": "stdout",
     "output_type": "stream",
     "text": [
      "iteration661\n",
      "Angulo theta_1 :  56.185\n",
      "Sigma:  0.04540658375041369\n"
     ]
    },
    {
     "name": "stderr",
     "output_type": "stream",
     "text": [
      "100%|██████████| 125/125 [01:06<00:00,  1.87it/s]\n"
     ]
    },
    {
     "name": "stdout",
     "output_type": "stream",
     "text": [
      "iteration662\n",
      "Angulo theta_1 :  56.27\n",
      "Sigma:  0.028282790110505523\n"
     ]
    },
    {
     "name": "stderr",
     "output_type": "stream",
     "text": [
      "100%|██████████| 125/125 [01:06<00:00,  1.87it/s]\n"
     ]
    },
    {
     "name": "stdout",
     "output_type": "stream",
     "text": [
      "iteration663\n",
      "Angulo theta_1 :  56.355\n",
      "Sigma:  0.03161541032082757\n"
     ]
    },
    {
     "name": "stderr",
     "output_type": "stream",
     "text": [
      "100%|██████████| 125/125 [01:06<00:00,  1.89it/s]\n"
     ]
    },
    {
     "name": "stdout",
     "output_type": "stream",
     "text": [
      "iteration664\n",
      "Angulo theta_1 :  56.44\n",
      "Sigma:  0.02714270764297826\n"
     ]
    },
    {
     "name": "stderr",
     "output_type": "stream",
     "text": [
      "100%|██████████| 125/125 [01:07<00:00,  1.86it/s]\n"
     ]
    },
    {
     "name": "stdout",
     "output_type": "stream",
     "text": [
      "iteration665\n",
      "Angulo theta_1 :  56.525\n",
      "Sigma:  0.04724572079306185\n"
     ]
    },
    {
     "name": "stderr",
     "output_type": "stream",
     "text": [
      "100%|██████████| 125/125 [01:07<00:00,  1.87it/s]\n"
     ]
    },
    {
     "name": "stdout",
     "output_type": "stream",
     "text": [
      "iteration666\n",
      "Angulo theta_1 :  56.61\n",
      "Sigma:  0.027099463394555948\n"
     ]
    },
    {
     "name": "stderr",
     "output_type": "stream",
     "text": [
      "100%|██████████| 125/125 [01:08<00:00,  1.84it/s]\n"
     ]
    },
    {
     "name": "stdout",
     "output_type": "stream",
     "text": [
      "iteration667\n",
      "Angulo theta_1 :  56.695\n",
      "Sigma:  0.025995730868427932\n"
     ]
    },
    {
     "name": "stderr",
     "output_type": "stream",
     "text": [
      "100%|██████████| 125/125 [01:06<00:00,  1.87it/s]\n"
     ]
    },
    {
     "name": "stdout",
     "output_type": "stream",
     "text": [
      "iteration668\n",
      "Angulo theta_1 :  56.78\n",
      "Sigma:  0.031452078162287955\n"
     ]
    },
    {
     "name": "stderr",
     "output_type": "stream",
     "text": [
      "100%|██████████| 125/125 [01:06<00:00,  1.87it/s]\n"
     ]
    },
    {
     "name": "stdout",
     "output_type": "stream",
     "text": [
      "iteration669\n",
      "Angulo theta_1 :  56.865\n",
      "Sigma:  0.04309113494220475\n"
     ]
    },
    {
     "name": "stderr",
     "output_type": "stream",
     "text": [
      "100%|██████████| 125/125 [01:08<00:00,  1.81it/s]\n"
     ]
    },
    {
     "name": "stdout",
     "output_type": "stream",
     "text": [
      "iteration670\n",
      "Angulo theta_1 :  56.95\n",
      "Sigma:  0.0334854248971955\n"
     ]
    },
    {
     "name": "stderr",
     "output_type": "stream",
     "text": [
      "100%|██████████| 125/125 [01:06<00:00,  1.87it/s]\n"
     ]
    },
    {
     "name": "stdout",
     "output_type": "stream",
     "text": [
      "iteration671\n",
      "Angulo theta_1 :  57.035\n",
      "Sigma:  0.04277012539729995\n"
     ]
    },
    {
     "name": "stderr",
     "output_type": "stream",
     "text": [
      "100%|██████████| 125/125 [01:07<00:00,  1.86it/s]\n"
     ]
    },
    {
     "name": "stdout",
     "output_type": "stream",
     "text": [
      "iteration672\n",
      "Angulo theta_1 :  57.12\n",
      "Sigma:  0.047798741745581186\n"
     ]
    },
    {
     "name": "stderr",
     "output_type": "stream",
     "text": [
      "100%|██████████| 125/125 [01:07<00:00,  1.86it/s]\n"
     ]
    },
    {
     "name": "stdout",
     "output_type": "stream",
     "text": [
      "iteration673\n",
      "Angulo theta_1 :  57.205\n",
      "Sigma:  0.03114550486434131\n"
     ]
    },
    {
     "name": "stderr",
     "output_type": "stream",
     "text": [
      "100%|██████████| 125/125 [01:07<00:00,  1.84it/s]\n"
     ]
    },
    {
     "name": "stdout",
     "output_type": "stream",
     "text": [
      "iteration674\n",
      "Angulo theta_1 :  57.29\n",
      "Sigma:  0.02580143917699396\n"
     ]
    },
    {
     "name": "stderr",
     "output_type": "stream",
     "text": [
      "100%|██████████| 125/125 [01:07<00:00,  1.86it/s]\n"
     ]
    },
    {
     "name": "stdout",
     "output_type": "stream",
     "text": [
      "iteration675\n",
      "Angulo theta_1 :  57.375\n",
      "Sigma:  0.037125054087039325\n"
     ]
    },
    {
     "name": "stderr",
     "output_type": "stream",
     "text": [
      "100%|██████████| 125/125 [01:06<00:00,  1.88it/s]\n"
     ]
    },
    {
     "name": "stdout",
     "output_type": "stream",
     "text": [
      "iteration676\n",
      "Angulo theta_1 :  57.46\n",
      "Sigma:  0.027830397569966542\n"
     ]
    },
    {
     "name": "stderr",
     "output_type": "stream",
     "text": [
      "100%|██████████| 125/125 [01:07<00:00,  1.85it/s]\n"
     ]
    },
    {
     "name": "stdout",
     "output_type": "stream",
     "text": [
      "iteration677\n",
      "Angulo theta_1 :  57.545\n",
      "Sigma:  0.03612578090144578\n"
     ]
    },
    {
     "name": "stderr",
     "output_type": "stream",
     "text": [
      "100%|██████████| 125/125 [01:07<00:00,  1.84it/s]\n"
     ]
    },
    {
     "name": "stdout",
     "output_type": "stream",
     "text": [
      "iteration678\n",
      "Angulo theta_1 :  57.63\n",
      "Sigma:  0.0385030487956941\n"
     ]
    },
    {
     "name": "stderr",
     "output_type": "stream",
     "text": [
      "100%|██████████| 125/125 [01:06<00:00,  1.87it/s]\n"
     ]
    },
    {
     "name": "stdout",
     "output_type": "stream",
     "text": [
      "iteration679\n",
      "Angulo theta_1 :  57.715\n",
      "Sigma:  0.030790538597661198\n"
     ]
    },
    {
     "name": "stderr",
     "output_type": "stream",
     "text": [
      "100%|██████████| 125/125 [01:08<00:00,  1.82it/s]\n"
     ]
    },
    {
     "name": "stdout",
     "output_type": "stream",
     "text": [
      "iteration680\n",
      "Angulo theta_1 :  57.8\n",
      "Sigma:  0.03810148565924329\n"
     ]
    },
    {
     "name": "stderr",
     "output_type": "stream",
     "text": [
      "100%|██████████| 125/125 [01:07<00:00,  1.86it/s]\n"
     ]
    },
    {
     "name": "stdout",
     "output_type": "stream",
     "text": [
      "iteration681\n",
      "Angulo theta_1 :  57.885\n",
      "Sigma:  0.04254603350971546\n"
     ]
    },
    {
     "name": "stderr",
     "output_type": "stream",
     "text": [
      "100%|██████████| 125/125 [01:06<00:00,  1.87it/s]\n"
     ]
    },
    {
     "name": "stdout",
     "output_type": "stream",
     "text": [
      "iteration682\n",
      "Angulo theta_1 :  57.97\n",
      "Sigma:  0.028611673604979654\n"
     ]
    },
    {
     "name": "stderr",
     "output_type": "stream",
     "text": [
      "100%|██████████| 125/125 [01:07<00:00,  1.85it/s]\n"
     ]
    },
    {
     "name": "stdout",
     "output_type": "stream",
     "text": [
      "iteration683\n",
      "Angulo theta_1 :  58.055\n",
      "Sigma:  0.03795392450524791\n"
     ]
    },
    {
     "name": "stderr",
     "output_type": "stream",
     "text": [
      "100%|██████████| 125/125 [01:07<00:00,  1.85it/s]\n"
     ]
    },
    {
     "name": "stdout",
     "output_type": "stream",
     "text": [
      "iteration684\n",
      "Angulo theta_1 :  58.14\n",
      "Sigma:  0.026128705657088927\n"
     ]
    },
    {
     "name": "stderr",
     "output_type": "stream",
     "text": [
      "100%|██████████| 125/125 [01:07<00:00,  1.86it/s]\n"
     ]
    },
    {
     "name": "stdout",
     "output_type": "stream",
     "text": [
      "iteration685\n",
      "Angulo theta_1 :  58.225\n",
      "Sigma:  0.04488092224887648\n"
     ]
    },
    {
     "name": "stderr",
     "output_type": "stream",
     "text": [
      "100%|██████████| 125/125 [01:08<00:00,  1.83it/s]\n"
     ]
    },
    {
     "name": "stdout",
     "output_type": "stream",
     "text": [
      "iteration686\n",
      "Angulo theta_1 :  58.31\n",
      "Sigma:  0.04078509821119976\n"
     ]
    },
    {
     "name": "stderr",
     "output_type": "stream",
     "text": [
      "100%|██████████| 125/125 [01:07<00:00,  1.87it/s]\n"
     ]
    },
    {
     "name": "stdout",
     "output_type": "stream",
     "text": [
      "iteration687\n",
      "Angulo theta_1 :  58.395\n",
      "Sigma:  0.040034046741374396\n"
     ]
    },
    {
     "name": "stderr",
     "output_type": "stream",
     "text": [
      "100%|██████████| 125/125 [01:07<00:00,  1.86it/s]\n"
     ]
    },
    {
     "name": "stdout",
     "output_type": "stream",
     "text": [
      "iteration688\n",
      "Angulo theta_1 :  58.48\n",
      "Sigma:  0.044854113562806344\n"
     ]
    },
    {
     "name": "stderr",
     "output_type": "stream",
     "text": [
      "100%|██████████| 125/125 [01:03<00:00,  1.97it/s]\n"
     ]
    },
    {
     "name": "stdout",
     "output_type": "stream",
     "text": [
      "iteration689\n",
      "Angulo theta_1 :  58.565\n",
      "Sigma:  0.045743790829372716\n"
     ]
    },
    {
     "name": "stderr",
     "output_type": "stream",
     "text": [
      "100%|██████████| 125/125 [01:03<00:00,  1.97it/s]\n"
     ]
    },
    {
     "name": "stdout",
     "output_type": "stream",
     "text": [
      "iteration690\n",
      "Angulo theta_1 :  58.65\n",
      "Sigma:  0.04804157264353982\n"
     ]
    },
    {
     "name": "stderr",
     "output_type": "stream",
     "text": [
      "100%|██████████| 125/125 [01:04<00:00,  1.93it/s]\n"
     ]
    },
    {
     "name": "stdout",
     "output_type": "stream",
     "text": [
      "iteration691\n",
      "Angulo theta_1 :  58.735\n",
      "Sigma:  0.027320710857431856\n"
     ]
    },
    {
     "name": "stderr",
     "output_type": "stream",
     "text": [
      "100%|██████████| 125/125 [01:03<00:00,  1.98it/s]\n"
     ]
    },
    {
     "name": "stdout",
     "output_type": "stream",
     "text": [
      "iteration692\n",
      "Angulo theta_1 :  58.82\n",
      "Sigma:  0.04772243156324173\n"
     ]
    },
    {
     "name": "stderr",
     "output_type": "stream",
     "text": [
      "100%|██████████| 125/125 [01:03<00:00,  1.98it/s]\n"
     ]
    },
    {
     "name": "stdout",
     "output_type": "stream",
     "text": [
      "iteration693\n",
      "Angulo theta_1 :  58.905\n",
      "Sigma:  0.03338671550024749\n"
     ]
    },
    {
     "name": "stderr",
     "output_type": "stream",
     "text": [
      "100%|██████████| 125/125 [01:04<00:00,  1.94it/s]\n"
     ]
    },
    {
     "name": "stdout",
     "output_type": "stream",
     "text": [
      "iteration694\n",
      "Angulo theta_1 :  58.99\n",
      "Sigma:  0.04883063627341974\n"
     ]
    },
    {
     "name": "stderr",
     "output_type": "stream",
     "text": [
      "100%|██████████| 125/125 [01:02<00:00,  1.99it/s]\n"
     ]
    },
    {
     "name": "stdout",
     "output_type": "stream",
     "text": [
      "iteration695\n",
      "Angulo theta_1 :  59.075\n",
      "Sigma:  0.048944882665637054\n"
     ]
    },
    {
     "name": "stderr",
     "output_type": "stream",
     "text": [
      "100%|██████████| 125/125 [01:08<00:00,  1.83it/s]\n"
     ]
    },
    {
     "name": "stdout",
     "output_type": "stream",
     "text": [
      "iteration696\n",
      "Angulo theta_1 :  59.16\n",
      "Sigma:  0.03187766676691646\n"
     ]
    },
    {
     "name": "stderr",
     "output_type": "stream",
     "text": [
      "100%|██████████| 125/125 [01:04<00:00,  1.94it/s]\n"
     ]
    },
    {
     "name": "stdout",
     "output_type": "stream",
     "text": [
      "iteration697\n",
      "Angulo theta_1 :  59.245\n",
      "Sigma:  0.03988053393867104\n"
     ]
    },
    {
     "name": "stderr",
     "output_type": "stream",
     "text": [
      "100%|██████████| 125/125 [01:03<00:00,  1.96it/s]\n"
     ]
    },
    {
     "name": "stdout",
     "output_type": "stream",
     "text": [
      "iteration698\n",
      "Angulo theta_1 :  59.33\n",
      "Sigma:  0.043393298506438555\n"
     ]
    },
    {
     "name": "stderr",
     "output_type": "stream",
     "text": [
      "100%|██████████| 125/125 [01:05<00:00,  1.92it/s]\n"
     ]
    },
    {
     "name": "stdout",
     "output_type": "stream",
     "text": [
      "iteration699\n",
      "Angulo theta_1 :  59.415\n",
      "Sigma:  0.04467251539586999\n"
     ]
    },
    {
     "name": "stderr",
     "output_type": "stream",
     "text": [
      "100%|██████████| 125/125 [01:02<00:00,  1.99it/s]\n"
     ]
    },
    {
     "name": "stdout",
     "output_type": "stream",
     "text": [
      "iteration700\n",
      "Angulo theta_1 :  59.5\n",
      "Sigma:  0.04261297305236341\n"
     ]
    },
    {
     "name": "stderr",
     "output_type": "stream",
     "text": [
      "100%|██████████| 125/125 [01:03<00:00,  1.97it/s]\n"
     ]
    },
    {
     "name": "stdout",
     "output_type": "stream",
     "text": [
      "iteration701\n",
      "Angulo theta_1 :  59.585\n",
      "Sigma:  0.03642353834048313\n"
     ]
    },
    {
     "name": "stderr",
     "output_type": "stream",
     "text": [
      "100%|██████████| 125/125 [01:05<00:00,  1.92it/s]\n"
     ]
    },
    {
     "name": "stdout",
     "output_type": "stream",
     "text": [
      "iteration702\n",
      "Angulo theta_1 :  59.67\n",
      "Sigma:  0.03935101014986666\n"
     ]
    },
    {
     "name": "stderr",
     "output_type": "stream",
     "text": [
      "100%|██████████| 125/125 [01:03<00:00,  1.98it/s]\n"
     ]
    },
    {
     "name": "stdout",
     "output_type": "stream",
     "text": [
      "iteration703\n",
      "Angulo theta_1 :  59.755\n",
      "Sigma:  0.03907740670591832\n"
     ]
    },
    {
     "name": "stderr",
     "output_type": "stream",
     "text": [
      "100%|██████████| 125/125 [01:02<00:00,  1.99it/s]\n"
     ]
    },
    {
     "name": "stdout",
     "output_type": "stream",
     "text": [
      "iteration704\n",
      "Angulo theta_1 :  59.84\n",
      "Sigma:  0.04805720204058416\n"
     ]
    },
    {
     "name": "stderr",
     "output_type": "stream",
     "text": [
      "100%|██████████| 125/125 [01:04<00:00,  1.94it/s]\n"
     ]
    },
    {
     "name": "stdout",
     "output_type": "stream",
     "text": [
      "iteration705\n",
      "Angulo theta_1 :  59.925\n",
      "Sigma:  0.03007878189254142\n"
     ]
    },
    {
     "name": "stderr",
     "output_type": "stream",
     "text": [
      "100%|██████████| 125/125 [01:02<00:00,  1.99it/s]\n"
     ]
    },
    {
     "name": "stdout",
     "output_type": "stream",
     "text": [
      "iteration706\n",
      "Angulo theta_1 :  60.01\n",
      "Sigma:  0.038810725729765204\n"
     ]
    },
    {
     "name": "stderr",
     "output_type": "stream",
     "text": [
      "100%|██████████| 125/125 [01:02<00:00,  1.99it/s]\n"
     ]
    },
    {
     "name": "stdout",
     "output_type": "stream",
     "text": [
      "iteration707\n",
      "Angulo theta_1 :  60.095\n",
      "Sigma:  0.03270802907572273\n"
     ]
    },
    {
     "name": "stderr",
     "output_type": "stream",
     "text": [
      "100%|██████████| 125/125 [01:04<00:00,  1.93it/s]\n"
     ]
    },
    {
     "name": "stdout",
     "output_type": "stream",
     "text": [
      "iteration708\n",
      "Angulo theta_1 :  60.18\n",
      "Sigma:  0.038292472796524105\n"
     ]
    },
    {
     "name": "stderr",
     "output_type": "stream",
     "text": [
      "100%|██████████| 125/125 [01:03<00:00,  1.98it/s]\n"
     ]
    },
    {
     "name": "stdout",
     "output_type": "stream",
     "text": [
      "iteration709\n",
      "Angulo theta_1 :  60.265\n",
      "Sigma:  0.03188495176022399\n"
     ]
    },
    {
     "name": "stderr",
     "output_type": "stream",
     "text": [
      "100%|██████████| 125/125 [01:02<00:00,  2.00it/s]\n"
     ]
    },
    {
     "name": "stdout",
     "output_type": "stream",
     "text": [
      "iteration710\n",
      "Angulo theta_1 :  60.35\n",
      "Sigma:  0.04679575623741365\n"
     ]
    },
    {
     "name": "stderr",
     "output_type": "stream",
     "text": [
      "100%|██████████| 125/125 [01:05<00:00,  1.92it/s]\n"
     ]
    },
    {
     "name": "stdout",
     "output_type": "stream",
     "text": [
      "iteration711\n",
      "Angulo theta_1 :  60.435\n",
      "Sigma:  0.02508107036884147\n"
     ]
    },
    {
     "name": "stderr",
     "output_type": "stream",
     "text": [
      "100%|██████████| 125/125 [01:02<00:00,  1.99it/s]\n"
     ]
    },
    {
     "name": "stdout",
     "output_type": "stream",
     "text": [
      "iteration712\n",
      "Angulo theta_1 :  60.52\n",
      "Sigma:  0.04213009881527702\n"
     ]
    },
    {
     "name": "stderr",
     "output_type": "stream",
     "text": [
      "100%|██████████| 125/125 [01:03<00:00,  1.96it/s]\n"
     ]
    },
    {
     "name": "stdout",
     "output_type": "stream",
     "text": [
      "iteration713\n",
      "Angulo theta_1 :  60.605\n",
      "Sigma:  0.0376484878239986\n"
     ]
    },
    {
     "name": "stderr",
     "output_type": "stream",
     "text": [
      "100%|██████████| 125/125 [01:03<00:00,  1.97it/s]\n"
     ]
    },
    {
     "name": "stdout",
     "output_type": "stream",
     "text": [
      "iteration714\n",
      "Angulo theta_1 :  60.69\n",
      "Sigma:  0.049011299867218666\n"
     ]
    },
    {
     "name": "stderr",
     "output_type": "stream",
     "text": [
      "100%|██████████| 125/125 [01:03<00:00,  1.97it/s]\n"
     ]
    },
    {
     "name": "stdout",
     "output_type": "stream",
     "text": [
      "iteration715\n",
      "Angulo theta_1 :  60.775\n",
      "Sigma:  0.04803037845117763\n"
     ]
    },
    {
     "name": "stderr",
     "output_type": "stream",
     "text": [
      "100%|██████████| 125/125 [01:04<00:00,  1.95it/s]\n"
     ]
    },
    {
     "name": "stdout",
     "output_type": "stream",
     "text": [
      "iteration716\n",
      "Angulo theta_1 :  60.86\n",
      "Sigma:  0.03636527767647675\n"
     ]
    },
    {
     "name": "stderr",
     "output_type": "stream",
     "text": [
      "100%|██████████| 125/125 [01:03<00:00,  1.98it/s]\n"
     ]
    },
    {
     "name": "stdout",
     "output_type": "stream",
     "text": [
      "iteration717\n",
      "Angulo theta_1 :  60.945\n",
      "Sigma:  0.0280911323747828\n"
     ]
    },
    {
     "name": "stderr",
     "output_type": "stream",
     "text": [
      "100%|██████████| 125/125 [01:02<00:00,  1.99it/s]\n"
     ]
    },
    {
     "name": "stdout",
     "output_type": "stream",
     "text": [
      "iteration718\n",
      "Angulo theta_1 :  61.03\n",
      "Sigma:  0.02587581179874583\n"
     ]
    },
    {
     "name": "stderr",
     "output_type": "stream",
     "text": [
      "100%|██████████| 125/125 [01:03<00:00,  1.97it/s]\n"
     ]
    },
    {
     "name": "stdout",
     "output_type": "stream",
     "text": [
      "iteration719\n",
      "Angulo theta_1 :  61.115\n",
      "Sigma:  0.03950549577277774\n"
     ]
    },
    {
     "name": "stderr",
     "output_type": "stream",
     "text": [
      "100%|██████████| 125/125 [01:06<00:00,  1.88it/s]\n"
     ]
    },
    {
     "name": "stdout",
     "output_type": "stream",
     "text": [
      "iteration720\n",
      "Angulo theta_1 :  61.2\n",
      "Sigma:  0.039777343299897024\n"
     ]
    },
    {
     "name": "stderr",
     "output_type": "stream",
     "text": [
      "100%|██████████| 125/125 [01:06<00:00,  1.89it/s]\n"
     ]
    },
    {
     "name": "stdout",
     "output_type": "stream",
     "text": [
      "iteration721\n",
      "Angulo theta_1 :  61.285\n",
      "Sigma:  0.04816833833669511\n"
     ]
    },
    {
     "name": "stderr",
     "output_type": "stream",
     "text": [
      "100%|██████████| 125/125 [01:07<00:00,  1.86it/s]\n"
     ]
    },
    {
     "name": "stdout",
     "output_type": "stream",
     "text": [
      "iteration722\n",
      "Angulo theta_1 :  61.37\n",
      "Sigma:  0.025581128161593827\n"
     ]
    },
    {
     "name": "stderr",
     "output_type": "stream",
     "text": [
      "100%|██████████| 125/125 [01:03<00:00,  1.97it/s]\n"
     ]
    },
    {
     "name": "stdout",
     "output_type": "stream",
     "text": [
      "iteration723\n",
      "Angulo theta_1 :  61.455\n",
      "Sigma:  0.04048266449759219\n"
     ]
    },
    {
     "name": "stderr",
     "output_type": "stream",
     "text": [
      "100%|██████████| 125/125 [01:03<00:00,  1.96it/s]\n"
     ]
    },
    {
     "name": "stdout",
     "output_type": "stream",
     "text": [
      "iteration724\n",
      "Angulo theta_1 :  61.54\n",
      "Sigma:  0.03969916058230642\n"
     ]
    },
    {
     "name": "stderr",
     "output_type": "stream",
     "text": [
      "100%|██████████| 125/125 [01:02<00:00,  1.99it/s]\n"
     ]
    },
    {
     "name": "stdout",
     "output_type": "stream",
     "text": [
      "iteration725\n",
      "Angulo theta_1 :  61.625\n",
      "Sigma:  0.04410332948601692\n"
     ]
    },
    {
     "name": "stderr",
     "output_type": "stream",
     "text": [
      "100%|██████████| 125/125 [01:04<00:00,  1.95it/s]\n"
     ]
    },
    {
     "name": "stdout",
     "output_type": "stream",
     "text": [
      "iteration726\n",
      "Angulo theta_1 :  61.71\n",
      "Sigma:  0.04686345320538133\n"
     ]
    },
    {
     "name": "stderr",
     "output_type": "stream",
     "text": [
      "100%|██████████| 125/125 [01:03<00:00,  1.96it/s]\n"
     ]
    },
    {
     "name": "stdout",
     "output_type": "stream",
     "text": [
      "iteration727\n",
      "Angulo theta_1 :  61.795\n",
      "Sigma:  0.04116205309633509\n"
     ]
    },
    {
     "name": "stderr",
     "output_type": "stream",
     "text": [
      "100%|██████████| 125/125 [01:03<00:00,  1.98it/s]\n"
     ]
    },
    {
     "name": "stdout",
     "output_type": "stream",
     "text": [
      "iteration728\n",
      "Angulo theta_1 :  61.88\n",
      "Sigma:  0.045237564722131154\n"
     ]
    },
    {
     "name": "stderr",
     "output_type": "stream",
     "text": [
      "100%|██████████| 125/125 [01:04<00:00,  1.93it/s]\n"
     ]
    },
    {
     "name": "stdout",
     "output_type": "stream",
     "text": [
      "iteration729\n",
      "Angulo theta_1 :  61.965\n",
      "Sigma:  0.02702418098230359\n"
     ]
    },
    {
     "name": "stderr",
     "output_type": "stream",
     "text": [
      "100%|██████████| 125/125 [01:03<00:00,  1.98it/s]\n"
     ]
    },
    {
     "name": "stdout",
     "output_type": "stream",
     "text": [
      "iteration730\n",
      "Angulo theta_1 :  62.05\n",
      "Sigma:  0.03715745763979707\n"
     ]
    },
    {
     "name": "stderr",
     "output_type": "stream",
     "text": [
      "100%|██████████| 125/125 [01:02<00:00,  1.99it/s]\n"
     ]
    },
    {
     "name": "stdout",
     "output_type": "stream",
     "text": [
      "iteration731\n",
      "Angulo theta_1 :  62.135\n",
      "Sigma:  0.042113818176950424\n"
     ]
    },
    {
     "name": "stderr",
     "output_type": "stream",
     "text": [
      "100%|██████████| 125/125 [01:03<00:00,  1.96it/s]\n"
     ]
    },
    {
     "name": "stdout",
     "output_type": "stream",
     "text": [
      "iteration732\n",
      "Angulo theta_1 :  62.22\n",
      "Sigma:  0.03615939105598842\n"
     ]
    },
    {
     "name": "stderr",
     "output_type": "stream",
     "text": [
      "100%|██████████| 125/125 [01:03<00:00,  1.96it/s]\n"
     ]
    },
    {
     "name": "stdout",
     "output_type": "stream",
     "text": [
      "iteration733\n",
      "Angulo theta_1 :  62.305\n",
      "Sigma:  0.025902454260481222\n"
     ]
    },
    {
     "name": "stderr",
     "output_type": "stream",
     "text": [
      "100%|██████████| 125/125 [01:02<00:00,  2.00it/s]\n"
     ]
    },
    {
     "name": "stdout",
     "output_type": "stream",
     "text": [
      "iteration734\n",
      "Angulo theta_1 :  62.39\n",
      "Sigma:  0.03128998707783885\n"
     ]
    },
    {
     "name": "stderr",
     "output_type": "stream",
     "text": [
      "100%|██████████| 125/125 [01:02<00:00,  1.99it/s]\n"
     ]
    },
    {
     "name": "stdout",
     "output_type": "stream",
     "text": [
      "iteration735\n",
      "Angulo theta_1 :  62.475\n",
      "Sigma:  0.04047320206852961\n"
     ]
    },
    {
     "name": "stderr",
     "output_type": "stream",
     "text": [
      "100%|██████████| 125/125 [01:04<00:00,  1.95it/s]\n"
     ]
    },
    {
     "name": "stdout",
     "output_type": "stream",
     "text": [
      "iteration736\n",
      "Angulo theta_1 :  62.56\n",
      "Sigma:  0.04171327446683876\n"
     ]
    },
    {
     "name": "stderr",
     "output_type": "stream",
     "text": [
      "100%|██████████| 125/125 [01:03<00:00,  1.98it/s]\n"
     ]
    },
    {
     "name": "stdout",
     "output_type": "stream",
     "text": [
      "iteration737\n",
      "Angulo theta_1 :  62.645\n",
      "Sigma:  0.036764497914667134\n"
     ]
    },
    {
     "name": "stderr",
     "output_type": "stream",
     "text": [
      "100%|██████████| 125/125 [01:03<00:00,  1.97it/s]\n"
     ]
    },
    {
     "name": "stdout",
     "output_type": "stream",
     "text": [
      "iteration738\n",
      "Angulo theta_1 :  62.73\n",
      "Sigma:  0.025937578479181825\n"
     ]
    },
    {
     "name": "stderr",
     "output_type": "stream",
     "text": [
      "100%|██████████| 125/125 [01:02<00:00,  1.99it/s]\n"
     ]
    },
    {
     "name": "stdout",
     "output_type": "stream",
     "text": [
      "iteration739\n",
      "Angulo theta_1 :  62.815\n",
      "Sigma:  0.04700011498320277\n"
     ]
    },
    {
     "name": "stderr",
     "output_type": "stream",
     "text": [
      "100%|██████████| 125/125 [01:04<00:00,  1.93it/s]\n"
     ]
    },
    {
     "name": "stdout",
     "output_type": "stream",
     "text": [
      "iteration740\n",
      "Angulo theta_1 :  62.9\n",
      "Sigma:  0.04420509545534741\n"
     ]
    },
    {
     "name": "stderr",
     "output_type": "stream",
     "text": [
      "100%|██████████| 125/125 [01:03<00:00,  1.96it/s]\n"
     ]
    },
    {
     "name": "stdout",
     "output_type": "stream",
     "text": [
      "iteration741\n",
      "Angulo theta_1 :  62.985\n",
      "Sigma:  0.025293291929490647\n"
     ]
    },
    {
     "name": "stderr",
     "output_type": "stream",
     "text": [
      "100%|██████████| 125/125 [01:03<00:00,  1.97it/s]\n"
     ]
    },
    {
     "name": "stdout",
     "output_type": "stream",
     "text": [
      "iteration742\n",
      "Angulo theta_1 :  63.07\n",
      "Sigma:  0.03556496387855762\n"
     ]
    },
    {
     "name": "stderr",
     "output_type": "stream",
     "text": [
      "100%|██████████| 125/125 [01:04<00:00,  1.95it/s]\n"
     ]
    },
    {
     "name": "stdout",
     "output_type": "stream",
     "text": [
      "iteration743\n",
      "Angulo theta_1 :  63.155\n",
      "Sigma:  0.0328323393426287\n"
     ]
    },
    {
     "name": "stderr",
     "output_type": "stream",
     "text": [
      "100%|██████████| 125/125 [01:03<00:00,  1.96it/s]\n"
     ]
    },
    {
     "name": "stdout",
     "output_type": "stream",
     "text": [
      "iteration744\n",
      "Angulo theta_1 :  63.24\n",
      "Sigma:  0.045554801917927594\n"
     ]
    },
    {
     "name": "stderr",
     "output_type": "stream",
     "text": [
      "100%|██████████| 125/125 [01:02<00:00,  2.00it/s]\n"
     ]
    },
    {
     "name": "stdout",
     "output_type": "stream",
     "text": [
      "iteration745\n",
      "Angulo theta_1 :  63.325\n",
      "Sigma:  0.04745328239593223\n"
     ]
    },
    {
     "name": "stderr",
     "output_type": "stream",
     "text": [
      "100%|██████████| 125/125 [01:03<00:00,  1.97it/s]\n"
     ]
    },
    {
     "name": "stdout",
     "output_type": "stream",
     "text": [
      "iteration746\n",
      "Angulo theta_1 :  63.41\n",
      "Sigma:  0.02808855300898153\n"
     ]
    },
    {
     "name": "stderr",
     "output_type": "stream",
     "text": [
      "100%|██████████| 125/125 [01:03<00:00,  1.98it/s]\n"
     ]
    },
    {
     "name": "stdout",
     "output_type": "stream",
     "text": [
      "iteration747\n",
      "Angulo theta_1 :  63.495\n",
      "Sigma:  0.044815669773385136\n"
     ]
    },
    {
     "name": "stderr",
     "output_type": "stream",
     "text": [
      "100%|██████████| 125/125 [01:03<00:00,  1.98it/s]\n"
     ]
    },
    {
     "name": "stdout",
     "output_type": "stream",
     "text": [
      "iteration748\n",
      "Angulo theta_1 :  63.58\n",
      "Sigma:  0.028996443738301538\n"
     ]
    },
    {
     "name": "stderr",
     "output_type": "stream",
     "text": [
      "100%|██████████| 125/125 [01:04<00:00,  1.94it/s]\n"
     ]
    },
    {
     "name": "stdout",
     "output_type": "stream",
     "text": [
      "iteration749\n",
      "Angulo theta_1 :  63.665\n",
      "Sigma:  0.03973879958760334\n"
     ]
    },
    {
     "name": "stderr",
     "output_type": "stream",
     "text": [
      "100%|██████████| 125/125 [01:02<00:00,  1.99it/s]\n"
     ]
    },
    {
     "name": "stdout",
     "output_type": "stream",
     "text": [
      "iteration750\n",
      "Angulo theta_1 :  63.75\n",
      "Sigma:  0.029280605464637705\n"
     ]
    },
    {
     "name": "stderr",
     "output_type": "stream",
     "text": [
      "100%|██████████| 125/125 [01:03<00:00,  1.98it/s]\n"
     ]
    },
    {
     "name": "stdout",
     "output_type": "stream",
     "text": [
      "iteration751\n",
      "Angulo theta_1 :  63.835\n",
      "Sigma:  0.037861623779258745\n"
     ]
    },
    {
     "name": "stderr",
     "output_type": "stream",
     "text": [
      "100%|██████████| 125/125 [01:04<00:00,  1.94it/s]\n"
     ]
    },
    {
     "name": "stdout",
     "output_type": "stream",
     "text": [
      "iteration752\n",
      "Angulo theta_1 :  63.92\n",
      "Sigma:  0.04405456552414664\n"
     ]
    },
    {
     "name": "stderr",
     "output_type": "stream",
     "text": [
      "100%|██████████| 125/125 [01:02<00:00,  1.99it/s]\n"
     ]
    },
    {
     "name": "stdout",
     "output_type": "stream",
     "text": [
      "iteration753\n",
      "Angulo theta_1 :  64.005\n",
      "Sigma:  0.02590225635304844\n"
     ]
    },
    {
     "name": "stderr",
     "output_type": "stream",
     "text": [
      "100%|██████████| 125/125 [01:02<00:00,  1.99it/s]\n"
     ]
    },
    {
     "name": "stdout",
     "output_type": "stream",
     "text": [
      "iteration754\n",
      "Angulo theta_1 :  64.09\n",
      "Sigma:  0.028845200619408685\n"
     ]
    },
    {
     "name": "stderr",
     "output_type": "stream",
     "text": [
      "100%|██████████| 125/125 [01:05<00:00,  1.92it/s]\n"
     ]
    },
    {
     "name": "stdout",
     "output_type": "stream",
     "text": [
      "iteration755\n",
      "Angulo theta_1 :  64.175\n",
      "Sigma:  0.03089158710886669\n"
     ]
    },
    {
     "name": "stderr",
     "output_type": "stream",
     "text": [
      "100%|██████████| 125/125 [01:03<00:00,  1.96it/s]\n"
     ]
    },
    {
     "name": "stdout",
     "output_type": "stream",
     "text": [
      "iteration756\n",
      "Angulo theta_1 :  64.26\n",
      "Sigma:  0.031231980841239695\n"
     ]
    },
    {
     "name": "stderr",
     "output_type": "stream",
     "text": [
      "100%|██████████| 125/125 [01:03<00:00,  1.98it/s]\n"
     ]
    },
    {
     "name": "stdout",
     "output_type": "stream",
     "text": [
      "iteration757\n",
      "Angulo theta_1 :  64.345\n",
      "Sigma:  0.02612864657651902\n"
     ]
    },
    {
     "name": "stderr",
     "output_type": "stream",
     "text": [
      "100%|██████████| 125/125 [01:04<00:00,  1.94it/s]\n"
     ]
    },
    {
     "name": "stdout",
     "output_type": "stream",
     "text": [
      "iteration758\n",
      "Angulo theta_1 :  64.43\n",
      "Sigma:  0.04403022907035351\n"
     ]
    },
    {
     "name": "stderr",
     "output_type": "stream",
     "text": [
      "100%|██████████| 125/125 [01:02<00:00,  1.99it/s]\n"
     ]
    },
    {
     "name": "stdout",
     "output_type": "stream",
     "text": [
      "iteration759\n",
      "Angulo theta_1 :  64.515\n",
      "Sigma:  0.048212884049736136\n"
     ]
    },
    {
     "name": "stderr",
     "output_type": "stream",
     "text": [
      "100%|██████████| 125/125 [01:03<00:00,  1.96it/s]\n"
     ]
    },
    {
     "name": "stdout",
     "output_type": "stream",
     "text": [
      "iteration760\n",
      "Angulo theta_1 :  64.6\n",
      "Sigma:  0.03725490388902197\n"
     ]
    },
    {
     "name": "stderr",
     "output_type": "stream",
     "text": [
      "100%|██████████| 125/125 [01:03<00:00,  1.96it/s]\n"
     ]
    },
    {
     "name": "stdout",
     "output_type": "stream",
     "text": [
      "iteration761\n",
      "Angulo theta_1 :  64.685\n",
      "Sigma:  0.045857478622452104\n"
     ]
    },
    {
     "name": "stderr",
     "output_type": "stream",
     "text": [
      "100%|██████████| 125/125 [01:03<00:00,  1.97it/s]\n"
     ]
    },
    {
     "name": "stdout",
     "output_type": "stream",
     "text": [
      "iteration762\n",
      "Angulo theta_1 :  64.77\n",
      "Sigma:  0.03308180764900434\n"
     ]
    },
    {
     "name": "stderr",
     "output_type": "stream",
     "text": [
      "100%|██████████| 125/125 [01:03<00:00,  1.97it/s]\n"
     ]
    },
    {
     "name": "stdout",
     "output_type": "stream",
     "text": [
      "iteration763\n",
      "Angulo theta_1 :  64.855\n",
      "Sigma:  0.04500553981880074\n"
     ]
    },
    {
     "name": "stderr",
     "output_type": "stream",
     "text": [
      "100%|██████████| 125/125 [01:03<00:00,  1.96it/s]\n"
     ]
    },
    {
     "name": "stdout",
     "output_type": "stream",
     "text": [
      "iteration764\n",
      "Angulo theta_1 :  64.94\n",
      "Sigma:  0.04903975243875204\n"
     ]
    },
    {
     "name": "stderr",
     "output_type": "stream",
     "text": [
      "100%|██████████| 125/125 [01:02<00:00,  1.99it/s]\n"
     ]
    },
    {
     "name": "stdout",
     "output_type": "stream",
     "text": [
      "iteration765\n",
      "Angulo theta_1 :  65.025\n",
      "Sigma:  0.03853198717534358\n"
     ]
    },
    {
     "name": "stderr",
     "output_type": "stream",
     "text": [
      "100%|██████████| 125/125 [01:04<00:00,  1.95it/s]\n"
     ]
    },
    {
     "name": "stdout",
     "output_type": "stream",
     "text": [
      "iteration766\n",
      "Angulo theta_1 :  65.11\n",
      "Sigma:  0.04129198020773263\n"
     ]
    },
    {
     "name": "stderr",
     "output_type": "stream",
     "text": [
      "100%|██████████| 125/125 [01:03<00:00,  1.96it/s]\n"
     ]
    },
    {
     "name": "stdout",
     "output_type": "stream",
     "text": [
      "iteration767\n",
      "Angulo theta_1 :  65.195\n",
      "Sigma:  0.049571031496688685\n"
     ]
    },
    {
     "name": "stderr",
     "output_type": "stream",
     "text": [
      "100%|██████████| 125/125 [01:02<00:00,  1.99it/s]\n"
     ]
    },
    {
     "name": "stdout",
     "output_type": "stream",
     "text": [
      "iteration768\n",
      "Angulo theta_1 :  65.28\n",
      "Sigma:  0.044573217186239605\n"
     ]
    },
    {
     "name": "stderr",
     "output_type": "stream",
     "text": [
      "100%|██████████| 125/125 [01:03<00:00,  1.96it/s]\n"
     ]
    },
    {
     "name": "stdout",
     "output_type": "stream",
     "text": [
      "iteration769\n",
      "Angulo theta_1 :  65.365\n",
      "Sigma:  0.03966723565067371\n"
     ]
    },
    {
     "name": "stderr",
     "output_type": "stream",
     "text": [
      "100%|██████████| 125/125 [01:04<00:00,  1.95it/s]\n"
     ]
    },
    {
     "name": "stdout",
     "output_type": "stream",
     "text": [
      "iteration770\n",
      "Angulo theta_1 :  65.45\n",
      "Sigma:  0.03651891592459844\n"
     ]
    },
    {
     "name": "stderr",
     "output_type": "stream",
     "text": [
      "100%|██████████| 125/125 [01:02<00:00,  2.00it/s]\n"
     ]
    },
    {
     "name": "stdout",
     "output_type": "stream",
     "text": [
      "iteration771\n",
      "Angulo theta_1 :  65.535\n",
      "Sigma:  0.033924868763863664\n"
     ]
    },
    {
     "name": "stderr",
     "output_type": "stream",
     "text": [
      "100%|██████████| 125/125 [01:03<00:00,  1.97it/s]\n"
     ]
    },
    {
     "name": "stdout",
     "output_type": "stream",
     "text": [
      "iteration772\n",
      "Angulo theta_1 :  65.62\n",
      "Sigma:  0.027627146599759317\n"
     ]
    },
    {
     "name": "stderr",
     "output_type": "stream",
     "text": [
      "100%|██████████| 125/125 [01:03<00:00,  1.97it/s]\n"
     ]
    },
    {
     "name": "stdout",
     "output_type": "stream",
     "text": [
      "iteration773\n",
      "Angulo theta_1 :  65.705\n",
      "Sigma:  0.03222764524356769\n"
     ]
    },
    {
     "name": "stderr",
     "output_type": "stream",
     "text": [
      "100%|██████████| 125/125 [01:02<00:00,  2.00it/s]\n"
     ]
    },
    {
     "name": "stdout",
     "output_type": "stream",
     "text": [
      "iteration774\n",
      "Angulo theta_1 :  65.79\n",
      "Sigma:  0.039804561221332205\n"
     ]
    },
    {
     "name": "stderr",
     "output_type": "stream",
     "text": [
      "100%|██████████| 125/125 [01:02<00:00,  1.99it/s]\n"
     ]
    },
    {
     "name": "stdout",
     "output_type": "stream",
     "text": [
      "iteration775\n",
      "Angulo theta_1 :  65.875\n",
      "Sigma:  0.04439376819502113\n"
     ]
    },
    {
     "name": "stderr",
     "output_type": "stream",
     "text": [
      "100%|██████████| 125/125 [01:03<00:00,  1.96it/s]\n"
     ]
    },
    {
     "name": "stdout",
     "output_type": "stream",
     "text": [
      "iteration776\n",
      "Angulo theta_1 :  65.96\n",
      "Sigma:  0.04525650196710718\n"
     ]
    },
    {
     "name": "stderr",
     "output_type": "stream",
     "text": [
      "100%|██████████| 125/125 [01:03<00:00,  1.96it/s]\n"
     ]
    },
    {
     "name": "stdout",
     "output_type": "stream",
     "text": [
      "iteration777\n",
      "Angulo theta_1 :  66.045\n",
      "Sigma:  0.037915791762384354\n"
     ]
    },
    {
     "name": "stderr",
     "output_type": "stream",
     "text": [
      "100%|██████████| 125/125 [01:03<00:00,  1.97it/s]\n"
     ]
    },
    {
     "name": "stdout",
     "output_type": "stream",
     "text": [
      "iteration778\n",
      "Angulo theta_1 :  66.13\n",
      "Sigma:  0.04047310964372827\n"
     ]
    },
    {
     "name": "stderr",
     "output_type": "stream",
     "text": [
      "100%|██████████| 125/125 [01:03<00:00,  1.97it/s]\n"
     ]
    },
    {
     "name": "stdout",
     "output_type": "stream",
     "text": [
      "iteration779\n",
      "Angulo theta_1 :  66.215\n",
      "Sigma:  0.028546227738587133\n"
     ]
    },
    {
     "name": "stderr",
     "output_type": "stream",
     "text": [
      "100%|██████████| 125/125 [01:03<00:00,  1.97it/s]\n"
     ]
    },
    {
     "name": "stdout",
     "output_type": "stream",
     "text": [
      "iteration780\n",
      "Angulo theta_1 :  66.3\n",
      "Sigma:  0.038584781505576704\n"
     ]
    },
    {
     "name": "stderr",
     "output_type": "stream",
     "text": [
      "100%|██████████| 125/125 [01:03<00:00,  1.97it/s]\n"
     ]
    },
    {
     "name": "stdout",
     "output_type": "stream",
     "text": [
      "iteration781\n",
      "Angulo theta_1 :  66.385\n",
      "Sigma:  0.027006036328362786\n"
     ]
    },
    {
     "name": "stderr",
     "output_type": "stream",
     "text": [
      "100%|██████████| 125/125 [01:03<00:00,  1.97it/s]\n"
     ]
    },
    {
     "name": "stdout",
     "output_type": "stream",
     "text": [
      "iteration782\n",
      "Angulo theta_1 :  66.47\n",
      "Sigma:  0.040897679183118624\n"
     ]
    },
    {
     "name": "stderr",
     "output_type": "stream",
     "text": [
      "100%|██████████| 125/125 [01:03<00:00,  1.97it/s]\n"
     ]
    },
    {
     "name": "stdout",
     "output_type": "stream",
     "text": [
      "iteration783\n",
      "Angulo theta_1 :  66.555\n",
      "Sigma:  0.027759676752321053\n"
     ]
    },
    {
     "name": "stderr",
     "output_type": "stream",
     "text": [
      "100%|██████████| 125/125 [01:03<00:00,  1.98it/s]\n"
     ]
    },
    {
     "name": "stdout",
     "output_type": "stream",
     "text": [
      "iteration784\n",
      "Angulo theta_1 :  66.64\n",
      "Sigma:  0.029982168434881117\n"
     ]
    },
    {
     "name": "stderr",
     "output_type": "stream",
     "text": [
      "100%|██████████| 125/125 [01:04<00:00,  1.94it/s]\n"
     ]
    },
    {
     "name": "stdout",
     "output_type": "stream",
     "text": [
      "iteration785\n",
      "Angulo theta_1 :  66.725\n",
      "Sigma:  0.03739028274597378\n"
     ]
    },
    {
     "name": "stderr",
     "output_type": "stream",
     "text": [
      "100%|██████████| 125/125 [01:03<00:00,  1.96it/s]\n"
     ]
    },
    {
     "name": "stdout",
     "output_type": "stream",
     "text": [
      "iteration786\n",
      "Angulo theta_1 :  66.81\n",
      "Sigma:  0.047222376073294055\n"
     ]
    },
    {
     "name": "stderr",
     "output_type": "stream",
     "text": [
      "100%|██████████| 125/125 [01:02<00:00,  1.98it/s]\n"
     ]
    },
    {
     "name": "stdout",
     "output_type": "stream",
     "text": [
      "iteration787\n",
      "Angulo theta_1 :  66.895\n",
      "Sigma:  0.04715901724897112\n"
     ]
    },
    {
     "name": "stderr",
     "output_type": "stream",
     "text": [
      "100%|██████████| 125/125 [01:03<00:00,  1.97it/s]\n"
     ]
    },
    {
     "name": "stdout",
     "output_type": "stream",
     "text": [
      "iteration788\n",
      "Angulo theta_1 :  66.98\n",
      "Sigma:  0.02994455276241837\n"
     ]
    },
    {
     "name": "stderr",
     "output_type": "stream",
     "text": [
      "100%|██████████| 125/125 [01:04<00:00,  1.95it/s]\n"
     ]
    },
    {
     "name": "stdout",
     "output_type": "stream",
     "text": [
      "iteration789\n",
      "Angulo theta_1 :  67.065\n",
      "Sigma:  0.04957604364862494\n"
     ]
    },
    {
     "name": "stderr",
     "output_type": "stream",
     "text": [
      "100%|██████████| 125/125 [01:02<00:00,  2.00it/s]\n"
     ]
    },
    {
     "name": "stdout",
     "output_type": "stream",
     "text": [
      "iteration790\n",
      "Angulo theta_1 :  67.15\n",
      "Sigma:  0.034416425171686076\n"
     ]
    },
    {
     "name": "stderr",
     "output_type": "stream",
     "text": [
      "100%|██████████| 125/125 [01:04<00:00,  1.93it/s]\n"
     ]
    },
    {
     "name": "stdout",
     "output_type": "stream",
     "text": [
      "iteration791\n",
      "Angulo theta_1 :  67.235\n",
      "Sigma:  0.035727451959188514\n"
     ]
    },
    {
     "name": "stderr",
     "output_type": "stream",
     "text": [
      "100%|██████████| 125/125 [01:02<00:00,  1.99it/s]\n"
     ]
    },
    {
     "name": "stdout",
     "output_type": "stream",
     "text": [
      "iteration792\n",
      "Angulo theta_1 :  67.32\n",
      "Sigma:  0.02836778116151997\n"
     ]
    },
    {
     "name": "stderr",
     "output_type": "stream",
     "text": [
      "100%|██████████| 125/125 [01:02<00:00,  1.99it/s]\n"
     ]
    },
    {
     "name": "stdout",
     "output_type": "stream",
     "text": [
      "iteration793\n",
      "Angulo theta_1 :  67.405\n",
      "Sigma:  0.041379464763174084\n"
     ]
    },
    {
     "name": "stderr",
     "output_type": "stream",
     "text": [
      "100%|██████████| 125/125 [01:04<00:00,  1.95it/s]\n"
     ]
    },
    {
     "name": "stdout",
     "output_type": "stream",
     "text": [
      "iteration794\n",
      "Angulo theta_1 :  67.49\n",
      "Sigma:  0.030799878927641716\n"
     ]
    },
    {
     "name": "stderr",
     "output_type": "stream",
     "text": [
      "100%|██████████| 125/125 [01:02<00:00,  1.99it/s]\n"
     ]
    },
    {
     "name": "stdout",
     "output_type": "stream",
     "text": [
      "iteration795\n",
      "Angulo theta_1 :  67.575\n",
      "Sigma:  0.040506594378179904\n"
     ]
    },
    {
     "name": "stderr",
     "output_type": "stream",
     "text": [
      "100%|██████████| 125/125 [01:03<00:00,  1.96it/s]\n"
     ]
    },
    {
     "name": "stdout",
     "output_type": "stream",
     "text": [
      "iteration796\n",
      "Angulo theta_1 :  67.66\n",
      "Sigma:  0.0324535084860627\n"
     ]
    },
    {
     "name": "stderr",
     "output_type": "stream",
     "text": [
      "100%|██████████| 125/125 [01:07<00:00,  1.85it/s]\n"
     ]
    },
    {
     "name": "stdout",
     "output_type": "stream",
     "text": [
      "iteration797\n",
      "Angulo theta_1 :  67.745\n",
      "Sigma:  0.044452797782237916\n"
     ]
    },
    {
     "name": "stderr",
     "output_type": "stream",
     "text": [
      "100%|██████████| 125/125 [01:06<00:00,  1.87it/s]\n"
     ]
    },
    {
     "name": "stdout",
     "output_type": "stream",
     "text": [
      "iteration798\n",
      "Angulo theta_1 :  67.83\n",
      "Sigma:  0.04658414788793662\n"
     ]
    },
    {
     "name": "stderr",
     "output_type": "stream",
     "text": [
      "100%|██████████| 125/125 [01:06<00:00,  1.88it/s]\n"
     ]
    },
    {
     "name": "stdout",
     "output_type": "stream",
     "text": [
      "iteration799\n",
      "Angulo theta_1 :  67.915\n",
      "Sigma:  0.045044394599815823\n"
     ]
    },
    {
     "name": "stderr",
     "output_type": "stream",
     "text": [
      "100%|██████████| 125/125 [01:03<00:00,  1.96it/s]\n"
     ]
    },
    {
     "name": "stdout",
     "output_type": "stream",
     "text": [
      "iteration800\n",
      "Angulo theta_1 :  68.0\n",
      "Sigma:  0.033672691711971195\n"
     ]
    },
    {
     "name": "stderr",
     "output_type": "stream",
     "text": [
      "100%|██████████| 125/125 [01:02<00:00,  1.99it/s]\n"
     ]
    },
    {
     "name": "stdout",
     "output_type": "stream",
     "text": [
      "iteration801\n",
      "Angulo theta_1 :  68.085\n",
      "Sigma:  0.031239864418742724\n"
     ]
    },
    {
     "name": "stderr",
     "output_type": "stream",
     "text": [
      "100%|██████████| 125/125 [01:04<00:00,  1.94it/s]\n"
     ]
    },
    {
     "name": "stdout",
     "output_type": "stream",
     "text": [
      "iteration802\n",
      "Angulo theta_1 :  68.17\n",
      "Sigma:  0.04096662055208515\n"
     ]
    },
    {
     "name": "stderr",
     "output_type": "stream",
     "text": [
      "100%|██████████| 125/125 [01:03<00:00,  1.98it/s]\n"
     ]
    },
    {
     "name": "stdout",
     "output_type": "stream",
     "text": [
      "iteration803\n",
      "Angulo theta_1 :  68.255\n",
      "Sigma:  0.04881184569736672\n"
     ]
    },
    {
     "name": "stderr",
     "output_type": "stream",
     "text": [
      "100%|██████████| 125/125 [01:03<00:00,  1.97it/s]\n"
     ]
    },
    {
     "name": "stdout",
     "output_type": "stream",
     "text": [
      "iteration804\n",
      "Angulo theta_1 :  68.34\n",
      "Sigma:  0.028922252564860817\n"
     ]
    },
    {
     "name": "stderr",
     "output_type": "stream",
     "text": [
      "100%|██████████| 125/125 [01:03<00:00,  1.96it/s]\n"
     ]
    },
    {
     "name": "stdout",
     "output_type": "stream",
     "text": [
      "iteration805\n",
      "Angulo theta_1 :  68.425\n",
      "Sigma:  0.042790473433567636\n"
     ]
    },
    {
     "name": "stderr",
     "output_type": "stream",
     "text": [
      "100%|██████████| 125/125 [01:04<00:00,  1.94it/s]\n"
     ]
    },
    {
     "name": "stdout",
     "output_type": "stream",
     "text": [
      "iteration806\n",
      "Angulo theta_1 :  68.51\n",
      "Sigma:  0.03694834022451271\n"
     ]
    },
    {
     "name": "stderr",
     "output_type": "stream",
     "text": [
      "100%|██████████| 125/125 [01:02<00:00,  1.99it/s]\n"
     ]
    },
    {
     "name": "stdout",
     "output_type": "stream",
     "text": [
      "iteration807\n",
      "Angulo theta_1 :  68.595\n",
      "Sigma:  0.030703881441998385\n"
     ]
    },
    {
     "name": "stderr",
     "output_type": "stream",
     "text": [
      "100%|██████████| 125/125 [01:03<00:00,  1.97it/s]\n"
     ]
    },
    {
     "name": "stdout",
     "output_type": "stream",
     "text": [
      "iteration808\n",
      "Angulo theta_1 :  68.68\n",
      "Sigma:  0.03074035972464804\n"
     ]
    },
    {
     "name": "stderr",
     "output_type": "stream",
     "text": [
      "100%|██████████| 125/125 [01:07<00:00,  1.84it/s]\n"
     ]
    },
    {
     "name": "stdout",
     "output_type": "stream",
     "text": [
      "iteration809\n",
      "Angulo theta_1 :  68.765\n",
      "Sigma:  0.029653607773059407\n"
     ]
    },
    {
     "name": "stderr",
     "output_type": "stream",
     "text": [
      "100%|██████████| 125/125 [01:06<00:00,  1.87it/s]\n"
     ]
    },
    {
     "name": "stdout",
     "output_type": "stream",
     "text": [
      "iteration810\n",
      "Angulo theta_1 :  68.85\n",
      "Sigma:  0.04484249409212958\n"
     ]
    },
    {
     "name": "stderr",
     "output_type": "stream",
     "text": [
      "100%|██████████| 125/125 [01:08<00:00,  1.82it/s]\n"
     ]
    },
    {
     "name": "stdout",
     "output_type": "stream",
     "text": [
      "iteration811\n",
      "Angulo theta_1 :  68.935\n",
      "Sigma:  0.04695567796315277\n"
     ]
    },
    {
     "name": "stderr",
     "output_type": "stream",
     "text": [
      "100%|██████████| 125/125 [01:07<00:00,  1.86it/s]\n"
     ]
    },
    {
     "name": "stdout",
     "output_type": "stream",
     "text": [
      "iteration812\n",
      "Angulo theta_1 :  69.02\n",
      "Sigma:  0.027209258244342605\n"
     ]
    },
    {
     "name": "stderr",
     "output_type": "stream",
     "text": [
      "100%|██████████| 125/125 [01:07<00:00,  1.84it/s]\n"
     ]
    },
    {
     "name": "stdout",
     "output_type": "stream",
     "text": [
      "iteration813\n",
      "Angulo theta_1 :  69.105\n",
      "Sigma:  0.02516440061536152\n"
     ]
    },
    {
     "name": "stderr",
     "output_type": "stream",
     "text": [
      "100%|██████████| 125/125 [01:07<00:00,  1.85it/s]\n"
     ]
    },
    {
     "name": "stdout",
     "output_type": "stream",
     "text": [
      "iteration814\n",
      "Angulo theta_1 :  69.19\n",
      "Sigma:  0.03017039356714986\n"
     ]
    },
    {
     "name": "stderr",
     "output_type": "stream",
     "text": [
      "100%|██████████| 125/125 [01:06<00:00,  1.88it/s]\n"
     ]
    },
    {
     "name": "stdout",
     "output_type": "stream",
     "text": [
      "iteration815\n",
      "Angulo theta_1 :  69.275\n",
      "Sigma:  0.04454844151754132\n"
     ]
    },
    {
     "name": "stderr",
     "output_type": "stream",
     "text": [
      "100%|██████████| 125/125 [01:07<00:00,  1.86it/s]\n"
     ]
    },
    {
     "name": "stdout",
     "output_type": "stream",
     "text": [
      "iteration816\n",
      "Angulo theta_1 :  69.36\n",
      "Sigma:  0.03263442987693975\n"
     ]
    },
    {
     "name": "stderr",
     "output_type": "stream",
     "text": [
      "100%|██████████| 125/125 [01:06<00:00,  1.88it/s]\n"
     ]
    },
    {
     "name": "stdout",
     "output_type": "stream",
     "text": [
      "iteration817\n",
      "Angulo theta_1 :  69.445\n",
      "Sigma:  0.045471032768403224\n"
     ]
    },
    {
     "name": "stderr",
     "output_type": "stream",
     "text": [
      "100%|██████████| 125/125 [01:06<00:00,  1.88it/s]\n"
     ]
    },
    {
     "name": "stdout",
     "output_type": "stream",
     "text": [
      "iteration818\n",
      "Angulo theta_1 :  69.53\n",
      "Sigma:  0.027001821091063666\n"
     ]
    },
    {
     "name": "stderr",
     "output_type": "stream",
     "text": [
      "100%|██████████| 125/125 [01:07<00:00,  1.85it/s]\n"
     ]
    },
    {
     "name": "stdout",
     "output_type": "stream",
     "text": [
      "iteration819\n",
      "Angulo theta_1 :  69.615\n",
      "Sigma:  0.03331582975559445\n"
     ]
    },
    {
     "name": "stderr",
     "output_type": "stream",
     "text": [
      "100%|██████████| 125/125 [01:07<00:00,  1.86it/s]\n"
     ]
    },
    {
     "name": "stdout",
     "output_type": "stream",
     "text": [
      "iteration820\n",
      "Angulo theta_1 :  69.7\n",
      "Sigma:  0.033524972347041576\n"
     ]
    },
    {
     "name": "stderr",
     "output_type": "stream",
     "text": [
      "100%|██████████| 125/125 [01:08<00:00,  1.83it/s]\n"
     ]
    },
    {
     "name": "stdout",
     "output_type": "stream",
     "text": [
      "iteration821\n",
      "Angulo theta_1 :  69.785\n",
      "Sigma:  0.03163971080437339\n"
     ]
    },
    {
     "name": "stderr",
     "output_type": "stream",
     "text": [
      "100%|██████████| 125/125 [01:07<00:00,  1.86it/s]\n"
     ]
    },
    {
     "name": "stdout",
     "output_type": "stream",
     "text": [
      "iteration822\n",
      "Angulo theta_1 :  69.87\n",
      "Sigma:  0.04936940925885057\n"
     ]
    },
    {
     "name": "stderr",
     "output_type": "stream",
     "text": [
      "100%|██████████| 125/125 [01:06<00:00,  1.88it/s]\n"
     ]
    },
    {
     "name": "stdout",
     "output_type": "stream",
     "text": [
      "iteration823\n",
      "Angulo theta_1 :  69.955\n",
      "Sigma:  0.02527348064062991\n"
     ]
    },
    {
     "name": "stderr",
     "output_type": "stream",
     "text": [
      "100%|██████████| 125/125 [01:07<00:00,  1.86it/s]\n"
     ]
    },
    {
     "name": "stdout",
     "output_type": "stream",
     "text": [
      "iteration824\n",
      "Angulo theta_1 :  70.04\n",
      "Sigma:  0.04205406693589323\n"
     ]
    },
    {
     "name": "stderr",
     "output_type": "stream",
     "text": [
      "100%|██████████| 125/125 [01:07<00:00,  1.85it/s]\n"
     ]
    },
    {
     "name": "stdout",
     "output_type": "stream",
     "text": [
      "iteration825\n",
      "Angulo theta_1 :  70.125\n",
      "Sigma:  0.03432229782448225\n"
     ]
    },
    {
     "name": "stderr",
     "output_type": "stream",
     "text": [
      "100%|██████████| 125/125 [01:07<00:00,  1.86it/s]\n"
     ]
    },
    {
     "name": "stdout",
     "output_type": "stream",
     "text": [
      "iteration826\n",
      "Angulo theta_1 :  70.21\n",
      "Sigma:  0.02537847314480517\n"
     ]
    },
    {
     "name": "stderr",
     "output_type": "stream",
     "text": [
      "100%|██████████| 125/125 [01:09<00:00,  1.80it/s]\n"
     ]
    },
    {
     "name": "stdout",
     "output_type": "stream",
     "text": [
      "iteration827\n",
      "Angulo theta_1 :  70.295\n",
      "Sigma:  0.049992396677375574\n"
     ]
    },
    {
     "name": "stderr",
     "output_type": "stream",
     "text": [
      "100%|██████████| 125/125 [01:11<00:00,  1.75it/s]\n"
     ]
    },
    {
     "name": "stdout",
     "output_type": "stream",
     "text": [
      "iteration828\n",
      "Angulo theta_1 :  70.38\n",
      "Sigma:  0.03080595953567843\n"
     ]
    },
    {
     "name": "stderr",
     "output_type": "stream",
     "text": [
      "100%|██████████| 125/125 [01:07<00:00,  1.84it/s]\n"
     ]
    },
    {
     "name": "stdout",
     "output_type": "stream",
     "text": [
      "iteration829\n",
      "Angulo theta_1 :  70.465\n",
      "Sigma:  0.04282549573639405\n"
     ]
    },
    {
     "name": "stderr",
     "output_type": "stream",
     "text": [
      "100%|██████████| 125/125 [01:07<00:00,  1.85it/s]\n"
     ]
    },
    {
     "name": "stdout",
     "output_type": "stream",
     "text": [
      "iteration830\n",
      "Angulo theta_1 :  70.55\n",
      "Sigma:  0.03553985420067639\n"
     ]
    },
    {
     "name": "stderr",
     "output_type": "stream",
     "text": [
      "100%|██████████| 125/125 [5:52:49<00:00, 169.36s/it]   \n"
     ]
    },
    {
     "name": "stdout",
     "output_type": "stream",
     "text": [
      "iteration831\n",
      "Angulo theta_1 :  70.635\n",
      "Sigma:  0.036570247326911366\n"
     ]
    },
    {
     "name": "stderr",
     "output_type": "stream",
     "text": [
      "100%|██████████| 125/125 [01:19<00:00,  1.57it/s]\n"
     ]
    },
    {
     "name": "stdout",
     "output_type": "stream",
     "text": [
      "iteration832\n",
      "Angulo theta_1 :  70.72\n",
      "Sigma:  0.04624549762653108\n"
     ]
    },
    {
     "name": "stderr",
     "output_type": "stream",
     "text": [
      "100%|██████████| 125/125 [01:32<00:00,  1.35it/s]\n"
     ]
    },
    {
     "name": "stdout",
     "output_type": "stream",
     "text": [
      "iteration833\n",
      "Angulo theta_1 :  70.805\n",
      "Sigma:  0.04601036979820154\n"
     ]
    },
    {
     "name": "stderr",
     "output_type": "stream",
     "text": [
      "100%|██████████| 125/125 [01:26<00:00,  1.44it/s]\n"
     ]
    },
    {
     "name": "stdout",
     "output_type": "stream",
     "text": [
      "iteration834\n",
      "Angulo theta_1 :  70.89\n",
      "Sigma:  0.029642220464078994\n"
     ]
    },
    {
     "name": "stderr",
     "output_type": "stream",
     "text": [
      "100%|██████████| 125/125 [01:33<00:00,  1.33it/s]\n"
     ]
    },
    {
     "name": "stdout",
     "output_type": "stream",
     "text": [
      "iteration835\n",
      "Angulo theta_1 :  70.975\n",
      "Sigma:  0.0356000598132404\n"
     ]
    },
    {
     "name": "stderr",
     "output_type": "stream",
     "text": [
      "100%|██████████| 125/125 [01:31<00:00,  1.36it/s]\n"
     ]
    },
    {
     "name": "stdout",
     "output_type": "stream",
     "text": [
      "iteration836\n",
      "Angulo theta_1 :  71.06\n",
      "Sigma:  0.03890945299926002\n"
     ]
    },
    {
     "name": "stderr",
     "output_type": "stream",
     "text": [
      "100%|██████████| 125/125 [01:19<00:00,  1.57it/s]\n"
     ]
    },
    {
     "name": "stdout",
     "output_type": "stream",
     "text": [
      "iteration837\n",
      "Angulo theta_1 :  71.145\n",
      "Sigma:  0.029146412849649903\n"
     ]
    },
    {
     "name": "stderr",
     "output_type": "stream",
     "text": [
      "100%|██████████| 125/125 [01:10<00:00,  1.77it/s]\n"
     ]
    },
    {
     "name": "stdout",
     "output_type": "stream",
     "text": [
      "iteration838\n",
      "Angulo theta_1 :  71.23\n",
      "Sigma:  0.04480322204194021\n"
     ]
    },
    {
     "name": "stderr",
     "output_type": "stream",
     "text": [
      "100%|██████████| 125/125 [01:09<00:00,  1.81it/s]\n"
     ]
    },
    {
     "name": "stdout",
     "output_type": "stream",
     "text": [
      "iteration839\n",
      "Angulo theta_1 :  71.315\n",
      "Sigma:  0.029409503958574567\n"
     ]
    },
    {
     "name": "stderr",
     "output_type": "stream",
     "text": [
      "100%|██████████| 125/125 [02:23<00:00,  1.15s/it]\n"
     ]
    },
    {
     "name": "stdout",
     "output_type": "stream",
     "text": [
      "iteration840\n",
      "Angulo theta_1 :  71.4\n",
      "Sigma:  0.032557896337888546\n"
     ]
    },
    {
     "name": "stderr",
     "output_type": "stream",
     "text": [
      "100%|██████████| 125/125 [01:49<00:00,  1.14it/s]\n"
     ]
    },
    {
     "name": "stdout",
     "output_type": "stream",
     "text": [
      "iteration841\n",
      "Angulo theta_1 :  71.485\n",
      "Sigma:  0.040702098133309494\n"
     ]
    },
    {
     "name": "stderr",
     "output_type": "stream",
     "text": [
      "100%|██████████| 125/125 [01:10<00:00,  1.76it/s]\n"
     ]
    },
    {
     "name": "stdout",
     "output_type": "stream",
     "text": [
      "iteration842\n",
      "Angulo theta_1 :  71.57\n",
      "Sigma:  0.03632946705226909\n"
     ]
    },
    {
     "name": "stderr",
     "output_type": "stream",
     "text": [
      "100%|██████████| 125/125 [01:10<00:00,  1.77it/s]\n"
     ]
    },
    {
     "name": "stdout",
     "output_type": "stream",
     "text": [
      "iteration843\n",
      "Angulo theta_1 :  71.655\n",
      "Sigma:  0.04354642583836554\n"
     ]
    },
    {
     "name": "stderr",
     "output_type": "stream",
     "text": [
      "100%|██████████| 125/125 [01:13<00:00,  1.70it/s]\n"
     ]
    },
    {
     "name": "stdout",
     "output_type": "stream",
     "text": [
      "iteration844\n",
      "Angulo theta_1 :  71.74\n",
      "Sigma:  0.030135807074481324\n"
     ]
    },
    {
     "name": "stderr",
     "output_type": "stream",
     "text": [
      "100%|██████████| 125/125 [01:11<00:00,  1.74it/s]\n"
     ]
    },
    {
     "name": "stdout",
     "output_type": "stream",
     "text": [
      "iteration845\n",
      "Angulo theta_1 :  71.825\n",
      "Sigma:  0.04216268670293\n"
     ]
    },
    {
     "name": "stderr",
     "output_type": "stream",
     "text": [
      "100%|██████████| 125/125 [01:11<00:00,  1.74it/s]\n"
     ]
    },
    {
     "name": "stdout",
     "output_type": "stream",
     "text": [
      "iteration846\n",
      "Angulo theta_1 :  71.91\n",
      "Sigma:  0.035170267176330705\n"
     ]
    },
    {
     "name": "stderr",
     "output_type": "stream",
     "text": [
      "100%|██████████| 125/125 [01:09<00:00,  1.79it/s]\n"
     ]
    },
    {
     "name": "stdout",
     "output_type": "stream",
     "text": [
      "iteration847\n",
      "Angulo theta_1 :  71.995\n",
      "Sigma:  0.0253368368265581\n"
     ]
    },
    {
     "name": "stderr",
     "output_type": "stream",
     "text": [
      "100%|██████████| 125/125 [01:10<00:00,  1.76it/s]\n"
     ]
    },
    {
     "name": "stdout",
     "output_type": "stream",
     "text": [
      "iteration848\n",
      "Angulo theta_1 :  72.08\n",
      "Sigma:  0.04804136606230339\n"
     ]
    },
    {
     "name": "stderr",
     "output_type": "stream",
     "text": [
      "100%|██████████| 125/125 [01:10<00:00,  1.78it/s]\n"
     ]
    },
    {
     "name": "stdout",
     "output_type": "stream",
     "text": [
      "iteration849\n",
      "Angulo theta_1 :  72.165\n",
      "Sigma:  0.028993484203225867\n"
     ]
    },
    {
     "name": "stderr",
     "output_type": "stream",
     "text": [
      "100%|██████████| 125/125 [01:09<00:00,  1.80it/s]\n"
     ]
    },
    {
     "name": "stdout",
     "output_type": "stream",
     "text": [
      "iteration850\n",
      "Angulo theta_1 :  72.25\n",
      "Sigma:  0.047715034987857875\n"
     ]
    },
    {
     "name": "stderr",
     "output_type": "stream",
     "text": [
      "100%|██████████| 125/125 [01:11<00:00,  1.74it/s]\n"
     ]
    },
    {
     "name": "stdout",
     "output_type": "stream",
     "text": [
      "iteration851\n",
      "Angulo theta_1 :  72.335\n",
      "Sigma:  0.030258790613350448\n"
     ]
    },
    {
     "name": "stderr",
     "output_type": "stream",
     "text": [
      "100%|██████████| 125/125 [01:09<00:00,  1.79it/s]\n"
     ]
    },
    {
     "name": "stdout",
     "output_type": "stream",
     "text": [
      "iteration852\n",
      "Angulo theta_1 :  72.42\n",
      "Sigma:  0.04116336899926254\n"
     ]
    },
    {
     "name": "stderr",
     "output_type": "stream",
     "text": [
      "100%|██████████| 125/125 [01:09<00:00,  1.79it/s]\n"
     ]
    },
    {
     "name": "stdout",
     "output_type": "stream",
     "text": [
      "iteration853\n",
      "Angulo theta_1 :  72.505\n",
      "Sigma:  0.0338644668822519\n"
     ]
    },
    {
     "name": "stderr",
     "output_type": "stream",
     "text": [
      "100%|██████████| 125/125 [01:15<00:00,  1.66it/s]\n"
     ]
    },
    {
     "name": "stdout",
     "output_type": "stream",
     "text": [
      "iteration854\n",
      "Angulo theta_1 :  72.59\n",
      "Sigma:  0.027212007221218845\n"
     ]
    },
    {
     "name": "stderr",
     "output_type": "stream",
     "text": [
      "100%|██████████| 125/125 [01:08<00:00,  1.82it/s]\n"
     ]
    },
    {
     "name": "stdout",
     "output_type": "stream",
     "text": [
      "iteration855\n",
      "Angulo theta_1 :  72.675\n",
      "Sigma:  0.04351199832938678\n"
     ]
    },
    {
     "name": "stderr",
     "output_type": "stream",
     "text": [
      "100%|██████████| 125/125 [01:18<00:00,  1.60it/s]\n"
     ]
    },
    {
     "name": "stdout",
     "output_type": "stream",
     "text": [
      "iteration856\n",
      "Angulo theta_1 :  72.76\n",
      "Sigma:  0.04779184431113277\n"
     ]
    },
    {
     "name": "stderr",
     "output_type": "stream",
     "text": [
      "100%|██████████| 125/125 [01:10<00:00,  1.77it/s]\n"
     ]
    },
    {
     "name": "stdout",
     "output_type": "stream",
     "text": [
      "iteration857\n",
      "Angulo theta_1 :  72.845\n",
      "Sigma:  0.025447542314531942\n"
     ]
    },
    {
     "name": "stderr",
     "output_type": "stream",
     "text": [
      "100%|██████████| 125/125 [01:09<00:00,  1.81it/s]\n"
     ]
    },
    {
     "name": "stdout",
     "output_type": "stream",
     "text": [
      "iteration858\n",
      "Angulo theta_1 :  72.93\n",
      "Sigma:  0.04141045950928639\n"
     ]
    },
    {
     "name": "stderr",
     "output_type": "stream",
     "text": [
      "100%|██████████| 125/125 [01:13<00:00,  1.71it/s]\n"
     ]
    },
    {
     "name": "stdout",
     "output_type": "stream",
     "text": [
      "iteration859\n",
      "Angulo theta_1 :  73.015\n",
      "Sigma:  0.04519464180878656\n"
     ]
    },
    {
     "name": "stderr",
     "output_type": "stream",
     "text": [
      "100%|██████████| 125/125 [01:15<00:00,  1.65it/s]\n"
     ]
    },
    {
     "name": "stdout",
     "output_type": "stream",
     "text": [
      "iteration860\n",
      "Angulo theta_1 :  73.1\n",
      "Sigma:  0.040118190702122594\n"
     ]
    },
    {
     "name": "stderr",
     "output_type": "stream",
     "text": [
      "100%|██████████| 125/125 [01:11<00:00,  1.75it/s]\n"
     ]
    },
    {
     "name": "stdout",
     "output_type": "stream",
     "text": [
      "iteration861\n",
      "Angulo theta_1 :  73.185\n",
      "Sigma:  0.04379639578234619\n"
     ]
    },
    {
     "name": "stderr",
     "output_type": "stream",
     "text": [
      "100%|██████████| 125/125 [01:13<00:00,  1.71it/s]\n"
     ]
    },
    {
     "name": "stdout",
     "output_type": "stream",
     "text": [
      "iteration862\n",
      "Angulo theta_1 :  73.27\n",
      "Sigma:  0.03159373108242267\n"
     ]
    },
    {
     "name": "stderr",
     "output_type": "stream",
     "text": [
      "100%|██████████| 125/125 [01:10<00:00,  1.76it/s]\n"
     ]
    },
    {
     "name": "stdout",
     "output_type": "stream",
     "text": [
      "iteration863\n",
      "Angulo theta_1 :  73.355\n",
      "Sigma:  0.025093068178019803\n"
     ]
    },
    {
     "name": "stderr",
     "output_type": "stream",
     "text": [
      "100%|██████████| 125/125 [01:14<00:00,  1.68it/s]\n"
     ]
    },
    {
     "name": "stdout",
     "output_type": "stream",
     "text": [
      "iteration864\n",
      "Angulo theta_1 :  73.44\n",
      "Sigma:  0.028468065886819143\n"
     ]
    },
    {
     "name": "stderr",
     "output_type": "stream",
     "text": [
      "100%|██████████| 125/125 [01:13<00:00,  1.71it/s]\n"
     ]
    },
    {
     "name": "stdout",
     "output_type": "stream",
     "text": [
      "iteration865\n",
      "Angulo theta_1 :  73.525\n",
      "Sigma:  0.03765394320338287\n"
     ]
    },
    {
     "name": "stderr",
     "output_type": "stream",
     "text": [
      "100%|██████████| 125/125 [01:11<00:00,  1.74it/s]\n"
     ]
    },
    {
     "name": "stdout",
     "output_type": "stream",
     "text": [
      "iteration866\n",
      "Angulo theta_1 :  73.61\n",
      "Sigma:  0.041074439652151226\n"
     ]
    },
    {
     "name": "stderr",
     "output_type": "stream",
     "text": [
      "100%|██████████| 125/125 [01:09<00:00,  1.80it/s]\n"
     ]
    },
    {
     "name": "stdout",
     "output_type": "stream",
     "text": [
      "iteration867\n",
      "Angulo theta_1 :  73.695\n",
      "Sigma:  0.030657272958746484\n"
     ]
    },
    {
     "name": "stderr",
     "output_type": "stream",
     "text": [
      "100%|██████████| 125/125 [01:09<00:00,  1.81it/s]\n"
     ]
    },
    {
     "name": "stdout",
     "output_type": "stream",
     "text": [
      "iteration868\n",
      "Angulo theta_1 :  73.78\n",
      "Sigma:  0.047893760557207204\n"
     ]
    },
    {
     "name": "stderr",
     "output_type": "stream",
     "text": [
      "100%|██████████| 125/125 [01:11<00:00,  1.75it/s]\n"
     ]
    },
    {
     "name": "stdout",
     "output_type": "stream",
     "text": [
      "iteration869\n",
      "Angulo theta_1 :  73.865\n",
      "Sigma:  0.02867173887180034\n"
     ]
    },
    {
     "name": "stderr",
     "output_type": "stream",
     "text": [
      "100%|██████████| 125/125 [01:08<00:00,  1.83it/s]\n"
     ]
    },
    {
     "name": "stdout",
     "output_type": "stream",
     "text": [
      "iteration870\n",
      "Angulo theta_1 :  73.95\n",
      "Sigma:  0.039388388428020636\n"
     ]
    },
    {
     "name": "stderr",
     "output_type": "stream",
     "text": [
      "100%|██████████| 125/125 [01:13<00:00,  1.70it/s]\n"
     ]
    },
    {
     "name": "stdout",
     "output_type": "stream",
     "text": [
      "iteration871\n",
      "Angulo theta_1 :  74.035\n",
      "Sigma:  0.03266917936901353\n"
     ]
    },
    {
     "name": "stderr",
     "output_type": "stream",
     "text": [
      "100%|██████████| 125/125 [01:09<00:00,  1.79it/s]\n"
     ]
    },
    {
     "name": "stdout",
     "output_type": "stream",
     "text": [
      "iteration872\n",
      "Angulo theta_1 :  74.12\n",
      "Sigma:  0.045590910529576714\n"
     ]
    },
    {
     "name": "stderr",
     "output_type": "stream",
     "text": [
      "100%|██████████| 125/125 [01:12<00:00,  1.73it/s]\n"
     ]
    },
    {
     "name": "stdout",
     "output_type": "stream",
     "text": [
      "iteration873\n",
      "Angulo theta_1 :  74.205\n",
      "Sigma:  0.03142468969526803\n"
     ]
    },
    {
     "name": "stderr",
     "output_type": "stream",
     "text": [
      "100%|██████████| 125/125 [01:09<00:00,  1.79it/s]\n"
     ]
    },
    {
     "name": "stdout",
     "output_type": "stream",
     "text": [
      "iteration874\n",
      "Angulo theta_1 :  74.29\n",
      "Sigma:  0.04274765825906423\n"
     ]
    },
    {
     "name": "stderr",
     "output_type": "stream",
     "text": [
      "100%|██████████| 125/125 [01:10<00:00,  1.78it/s]\n"
     ]
    },
    {
     "name": "stdout",
     "output_type": "stream",
     "text": [
      "iteration875\n",
      "Angulo theta_1 :  74.375\n",
      "Sigma:  0.02511579533905605\n"
     ]
    },
    {
     "name": "stderr",
     "output_type": "stream",
     "text": [
      "100%|██████████| 125/125 [01:09<00:00,  1.79it/s]\n"
     ]
    },
    {
     "name": "stdout",
     "output_type": "stream",
     "text": [
      "iteration876\n",
      "Angulo theta_1 :  74.46\n",
      "Sigma:  0.03301106757704518\n"
     ]
    },
    {
     "name": "stderr",
     "output_type": "stream",
     "text": [
      "100%|██████████| 125/125 [01:10<00:00,  1.77it/s]\n"
     ]
    },
    {
     "name": "stdout",
     "output_type": "stream",
     "text": [
      "iteration877\n",
      "Angulo theta_1 :  74.545\n",
      "Sigma:  0.03665641364754552\n"
     ]
    },
    {
     "name": "stderr",
     "output_type": "stream",
     "text": [
      "100%|██████████| 125/125 [01:11<00:00,  1.74it/s]\n"
     ]
    },
    {
     "name": "stdout",
     "output_type": "stream",
     "text": [
      "iteration878\n",
      "Angulo theta_1 :  74.63\n",
      "Sigma:  0.025774297334841545\n"
     ]
    },
    {
     "name": "stderr",
     "output_type": "stream",
     "text": [
      "100%|██████████| 125/125 [01:09<00:00,  1.79it/s]\n"
     ]
    },
    {
     "name": "stdout",
     "output_type": "stream",
     "text": [
      "iteration879\n",
      "Angulo theta_1 :  74.715\n",
      "Sigma:  0.04420962620986982\n"
     ]
    },
    {
     "name": "stderr",
     "output_type": "stream",
     "text": [
      "100%|██████████| 125/125 [01:11<00:00,  1.75it/s]\n"
     ]
    },
    {
     "name": "stdout",
     "output_type": "stream",
     "text": [
      "iteration880\n",
      "Angulo theta_1 :  74.8\n",
      "Sigma:  0.04542782457119161\n"
     ]
    },
    {
     "name": "stderr",
     "output_type": "stream",
     "text": [
      "100%|██████████| 125/125 [01:10<00:00,  1.77it/s]\n"
     ]
    },
    {
     "name": "stdout",
     "output_type": "stream",
     "text": [
      "iteration881\n",
      "Angulo theta_1 :  74.885\n",
      "Sigma:  0.04054356629885564\n"
     ]
    },
    {
     "name": "stderr",
     "output_type": "stream",
     "text": [
      "100%|██████████| 125/125 [01:09<00:00,  1.80it/s]\n"
     ]
    },
    {
     "name": "stdout",
     "output_type": "stream",
     "text": [
      "iteration882\n",
      "Angulo theta_1 :  74.97\n",
      "Sigma:  0.02933398918899084\n"
     ]
    },
    {
     "name": "stderr",
     "output_type": "stream",
     "text": [
      "100%|██████████| 125/125 [01:18<00:00,  1.58it/s]\n"
     ]
    },
    {
     "name": "stdout",
     "output_type": "stream",
     "text": [
      "iteration883\n",
      "Angulo theta_1 :  75.055\n",
      "Sigma:  0.03669290146298707\n"
     ]
    },
    {
     "name": "stderr",
     "output_type": "stream",
     "text": [
      "100%|██████████| 125/125 [01:28<00:00,  1.42it/s]\n"
     ]
    },
    {
     "name": "stdout",
     "output_type": "stream",
     "text": [
      "iteration884\n",
      "Angulo theta_1 :  75.14\n",
      "Sigma:  0.040947269811165164\n"
     ]
    },
    {
     "name": "stderr",
     "output_type": "stream",
     "text": [
      "100%|██████████| 125/125 [01:23<00:00,  1.49it/s]\n"
     ]
    },
    {
     "name": "stdout",
     "output_type": "stream",
     "text": [
      "iteration885\n",
      "Angulo theta_1 :  75.225\n",
      "Sigma:  0.03004125785602073\n"
     ]
    },
    {
     "name": "stderr",
     "output_type": "stream",
     "text": [
      "100%|██████████| 125/125 [01:08<00:00,  1.82it/s]\n"
     ]
    },
    {
     "name": "stdout",
     "output_type": "stream",
     "text": [
      "iteration886\n",
      "Angulo theta_1 :  75.31\n",
      "Sigma:  0.03507672664219369\n"
     ]
    },
    {
     "name": "stderr",
     "output_type": "stream",
     "text": [
      "100%|██████████| 125/125 [01:08<00:00,  1.83it/s]\n"
     ]
    },
    {
     "name": "stdout",
     "output_type": "stream",
     "text": [
      "iteration887\n",
      "Angulo theta_1 :  75.395\n",
      "Sigma:  0.027834149417735436\n"
     ]
    },
    {
     "name": "stderr",
     "output_type": "stream",
     "text": [
      "100%|██████████| 125/125 [01:10<00:00,  1.77it/s]\n"
     ]
    },
    {
     "name": "stdout",
     "output_type": "stream",
     "text": [
      "iteration888\n",
      "Angulo theta_1 :  75.48\n",
      "Sigma:  0.035978809198966115\n"
     ]
    },
    {
     "name": "stderr",
     "output_type": "stream",
     "text": [
      "100%|██████████| 125/125 [01:15<00:00,  1.66it/s]\n"
     ]
    },
    {
     "name": "stdout",
     "output_type": "stream",
     "text": [
      "iteration889\n",
      "Angulo theta_1 :  75.565\n",
      "Sigma:  0.04852076999163192\n"
     ]
    },
    {
     "name": "stderr",
     "output_type": "stream",
     "text": [
      "100%|██████████| 125/125 [01:12<00:00,  1.73it/s]\n"
     ]
    },
    {
     "name": "stdout",
     "output_type": "stream",
     "text": [
      "iteration890\n",
      "Angulo theta_1 :  75.65\n",
      "Sigma:  0.028217870119082656\n"
     ]
    },
    {
     "name": "stderr",
     "output_type": "stream",
     "text": [
      "100%|██████████| 125/125 [01:07<00:00,  1.86it/s]\n"
     ]
    },
    {
     "name": "stdout",
     "output_type": "stream",
     "text": [
      "iteration891\n",
      "Angulo theta_1 :  75.735\n",
      "Sigma:  0.03995220255352769\n"
     ]
    },
    {
     "name": "stderr",
     "output_type": "stream",
     "text": [
      "100%|██████████| 125/125 [01:10<00:00,  1.78it/s]\n"
     ]
    },
    {
     "name": "stdout",
     "output_type": "stream",
     "text": [
      "iteration892\n",
      "Angulo theta_1 :  75.82\n",
      "Sigma:  0.04958477338035156\n"
     ]
    },
    {
     "name": "stderr",
     "output_type": "stream",
     "text": [
      "100%|██████████| 125/125 [01:08<00:00,  1.84it/s]\n"
     ]
    },
    {
     "name": "stdout",
     "output_type": "stream",
     "text": [
      "iteration893\n",
      "Angulo theta_1 :  75.905\n",
      "Sigma:  0.04495000644379562\n"
     ]
    },
    {
     "name": "stderr",
     "output_type": "stream",
     "text": [
      "100%|██████████| 125/125 [01:06<00:00,  1.89it/s]\n"
     ]
    },
    {
     "name": "stdout",
     "output_type": "stream",
     "text": [
      "iteration894\n",
      "Angulo theta_1 :  75.99\n",
      "Sigma:  0.03228693152258378\n"
     ]
    },
    {
     "name": "stderr",
     "output_type": "stream",
     "text": [
      "100%|██████████| 125/125 [01:13<00:00,  1.69it/s]\n"
     ]
    },
    {
     "name": "stdout",
     "output_type": "stream",
     "text": [
      "iteration895\n",
      "Angulo theta_1 :  76.075\n",
      "Sigma:  0.03380083148693019\n"
     ]
    },
    {
     "name": "stderr",
     "output_type": "stream",
     "text": [
      "100%|██████████| 125/125 [01:11<00:00,  1.76it/s]\n"
     ]
    },
    {
     "name": "stdout",
     "output_type": "stream",
     "text": [
      "iteration896\n",
      "Angulo theta_1 :  76.16\n",
      "Sigma:  0.032957560388261004\n"
     ]
    },
    {
     "name": "stderr",
     "output_type": "stream",
     "text": [
      "100%|██████████| 125/125 [01:08<00:00,  1.84it/s]\n"
     ]
    },
    {
     "name": "stdout",
     "output_type": "stream",
     "text": [
      "iteration897\n",
      "Angulo theta_1 :  76.245\n",
      "Sigma:  0.03436474736925198\n"
     ]
    },
    {
     "name": "stderr",
     "output_type": "stream",
     "text": [
      "100%|██████████| 125/125 [01:08<00:00,  1.83it/s]\n"
     ]
    },
    {
     "name": "stdout",
     "output_type": "stream",
     "text": [
      "iteration898\n",
      "Angulo theta_1 :  76.33\n",
      "Sigma:  0.04848905031344621\n"
     ]
    },
    {
     "name": "stderr",
     "output_type": "stream",
     "text": [
      "100%|██████████| 125/125 [01:06<00:00,  1.88it/s]\n"
     ]
    },
    {
     "name": "stdout",
     "output_type": "stream",
     "text": [
      "iteration899\n",
      "Angulo theta_1 :  76.415\n",
      "Sigma:  0.02801714925691856\n"
     ]
    },
    {
     "name": "stderr",
     "output_type": "stream",
     "text": [
      "100%|██████████| 125/125 [01:05<00:00,  1.91it/s]\n"
     ]
    },
    {
     "name": "stdout",
     "output_type": "stream",
     "text": [
      "iteration900\n",
      "Angulo theta_1 :  76.5\n",
      "Sigma:  0.036058996669554325\n"
     ]
    },
    {
     "name": "stderr",
     "output_type": "stream",
     "text": [
      "100%|██████████| 125/125 [01:06<00:00,  1.89it/s]\n"
     ]
    },
    {
     "name": "stdout",
     "output_type": "stream",
     "text": [
      "iteration901\n",
      "Angulo theta_1 :  76.585\n",
      "Sigma:  0.033731161203504355\n"
     ]
    },
    {
     "name": "stderr",
     "output_type": "stream",
     "text": [
      "100%|██████████| 125/125 [01:08<00:00,  1.84it/s]\n"
     ]
    },
    {
     "name": "stdout",
     "output_type": "stream",
     "text": [
      "iteration902\n",
      "Angulo theta_1 :  76.67\n",
      "Sigma:  0.046484642052446075\n"
     ]
    },
    {
     "name": "stderr",
     "output_type": "stream",
     "text": [
      "100%|██████████| 125/125 [01:02<00:00,  1.99it/s]\n"
     ]
    },
    {
     "name": "stdout",
     "output_type": "stream",
     "text": [
      "iteration903\n",
      "Angulo theta_1 :  76.755\n",
      "Sigma:  0.02587917321094793\n"
     ]
    },
    {
     "name": "stderr",
     "output_type": "stream",
     "text": [
      "100%|██████████| 125/125 [01:03<00:00,  1.97it/s]\n"
     ]
    },
    {
     "name": "stdout",
     "output_type": "stream",
     "text": [
      "iteration904\n",
      "Angulo theta_1 :  76.84\n",
      "Sigma:  0.03603146101001603\n"
     ]
    },
    {
     "name": "stderr",
     "output_type": "stream",
     "text": [
      "100%|██████████| 125/125 [01:06<00:00,  1.88it/s]\n"
     ]
    },
    {
     "name": "stdout",
     "output_type": "stream",
     "text": [
      "iteration905\n",
      "Angulo theta_1 :  76.925\n",
      "Sigma:  0.027989667443389467\n"
     ]
    },
    {
     "name": "stderr",
     "output_type": "stream",
     "text": [
      "100%|██████████| 125/125 [01:04<00:00,  1.94it/s]\n"
     ]
    },
    {
     "name": "stdout",
     "output_type": "stream",
     "text": [
      "iteration906\n",
      "Angulo theta_1 :  77.01\n",
      "Sigma:  0.04887522452683354\n"
     ]
    },
    {
     "name": "stderr",
     "output_type": "stream",
     "text": [
      "100%|██████████| 125/125 [01:05<00:00,  1.90it/s]\n"
     ]
    },
    {
     "name": "stdout",
     "output_type": "stream",
     "text": [
      "iteration907\n",
      "Angulo theta_1 :  77.095\n",
      "Sigma:  0.03065939096254857\n"
     ]
    },
    {
     "name": "stderr",
     "output_type": "stream",
     "text": [
      "100%|██████████| 125/125 [01:16<00:00,  1.63it/s]\n"
     ]
    },
    {
     "name": "stdout",
     "output_type": "stream",
     "text": [
      "iteration908\n",
      "Angulo theta_1 :  77.18\n",
      "Sigma:  0.04807053967231751\n"
     ]
    },
    {
     "name": "stderr",
     "output_type": "stream",
     "text": [
      "100%|██████████| 125/125 [01:04<00:00,  1.94it/s]\n"
     ]
    },
    {
     "name": "stdout",
     "output_type": "stream",
     "text": [
      "iteration909\n",
      "Angulo theta_1 :  77.265\n",
      "Sigma:  0.04263828878119391\n"
     ]
    },
    {
     "name": "stderr",
     "output_type": "stream",
     "text": [
      "100%|██████████| 125/125 [01:07<00:00,  1.86it/s]\n"
     ]
    },
    {
     "name": "stdout",
     "output_type": "stream",
     "text": [
      "iteration910\n",
      "Angulo theta_1 :  77.35\n",
      "Sigma:  0.02669611201091475\n"
     ]
    },
    {
     "name": "stderr",
     "output_type": "stream",
     "text": [
      "100%|██████████| 125/125 [01:08<00:00,  1.82it/s]\n"
     ]
    },
    {
     "name": "stdout",
     "output_type": "stream",
     "text": [
      "iteration911\n",
      "Angulo theta_1 :  77.435\n",
      "Sigma:  0.03210972792098309\n"
     ]
    },
    {
     "name": "stderr",
     "output_type": "stream",
     "text": [
      "100%|██████████| 125/125 [01:06<00:00,  1.88it/s]\n"
     ]
    },
    {
     "name": "stdout",
     "output_type": "stream",
     "text": [
      "iteration912\n",
      "Angulo theta_1 :  77.52\n",
      "Sigma:  0.02549471822802568\n"
     ]
    },
    {
     "name": "stderr",
     "output_type": "stream",
     "text": [
      "100%|██████████| 125/125 [01:11<00:00,  1.74it/s]\n"
     ]
    },
    {
     "name": "stdout",
     "output_type": "stream",
     "text": [
      "iteration913\n",
      "Angulo theta_1 :  77.605\n",
      "Sigma:  0.04409071217927337\n"
     ]
    },
    {
     "name": "stderr",
     "output_type": "stream",
     "text": [
      "100%|██████████| 125/125 [01:06<00:00,  1.88it/s]\n"
     ]
    },
    {
     "name": "stdout",
     "output_type": "stream",
     "text": [
      "iteration914\n",
      "Angulo theta_1 :  77.69\n",
      "Sigma:  0.029194161305167065\n"
     ]
    },
    {
     "name": "stderr",
     "output_type": "stream",
     "text": [
      "100%|██████████| 125/125 [01:12<00:00,  1.73it/s]\n"
     ]
    },
    {
     "name": "stdout",
     "output_type": "stream",
     "text": [
      "iteration915\n",
      "Angulo theta_1 :  77.775\n",
      "Sigma:  0.046496591928405974\n"
     ]
    },
    {
     "name": "stderr",
     "output_type": "stream",
     "text": [
      "100%|██████████| 125/125 [01:09<00:00,  1.81it/s]\n"
     ]
    },
    {
     "name": "stdout",
     "output_type": "stream",
     "text": [
      "iteration916\n",
      "Angulo theta_1 :  77.86\n",
      "Sigma:  0.03880791907333854\n"
     ]
    },
    {
     "name": "stderr",
     "output_type": "stream",
     "text": [
      "100%|██████████| 125/125 [01:08<00:00,  1.82it/s]\n"
     ]
    },
    {
     "name": "stdout",
     "output_type": "stream",
     "text": [
      "iteration917\n",
      "Angulo theta_1 :  77.945\n",
      "Sigma:  0.044481400570363996\n"
     ]
    },
    {
     "name": "stderr",
     "output_type": "stream",
     "text": [
      "100%|██████████| 125/125 [01:13<00:00,  1.71it/s]\n"
     ]
    },
    {
     "name": "stdout",
     "output_type": "stream",
     "text": [
      "iteration918\n",
      "Angulo theta_1 :  78.03\n",
      "Sigma:  0.04357180473817647\n"
     ]
    },
    {
     "name": "stderr",
     "output_type": "stream",
     "text": [
      "100%|██████████| 125/125 [01:09<00:00,  1.79it/s]\n"
     ]
    },
    {
     "name": "stdout",
     "output_type": "stream",
     "text": [
      "iteration919\n",
      "Angulo theta_1 :  78.115\n",
      "Sigma:  0.04940353894219864\n"
     ]
    },
    {
     "name": "stderr",
     "output_type": "stream",
     "text": [
      "100%|██████████| 125/125 [01:10<00:00,  1.78it/s]\n"
     ]
    },
    {
     "name": "stdout",
     "output_type": "stream",
     "text": [
      "iteration920\n",
      "Angulo theta_1 :  78.2\n",
      "Sigma:  0.04868704524213041\n"
     ]
    },
    {
     "name": "stderr",
     "output_type": "stream",
     "text": [
      "100%|██████████| 125/125 [01:11<00:00,  1.75it/s]\n"
     ]
    },
    {
     "name": "stdout",
     "output_type": "stream",
     "text": [
      "iteration921\n",
      "Angulo theta_1 :  78.285\n",
      "Sigma:  0.02585363985949245\n"
     ]
    },
    {
     "name": "stderr",
     "output_type": "stream",
     "text": [
      "100%|██████████| 125/125 [01:09<00:00,  1.79it/s]\n"
     ]
    },
    {
     "name": "stdout",
     "output_type": "stream",
     "text": [
      "iteration922\n",
      "Angulo theta_1 :  78.37\n",
      "Sigma:  0.04236890722432811\n"
     ]
    },
    {
     "name": "stderr",
     "output_type": "stream",
     "text": [
      "100%|██████████| 125/125 [01:08<00:00,  1.82it/s]\n"
     ]
    },
    {
     "name": "stdout",
     "output_type": "stream",
     "text": [
      "iteration923\n",
      "Angulo theta_1 :  78.455\n",
      "Sigma:  0.03912397165908956\n"
     ]
    },
    {
     "name": "stderr",
     "output_type": "stream",
     "text": [
      "100%|██████████| 125/125 [01:14<00:00,  1.67it/s]\n"
     ]
    },
    {
     "name": "stdout",
     "output_type": "stream",
     "text": [
      "iteration924\n",
      "Angulo theta_1 :  78.54\n",
      "Sigma:  0.046855198089882595\n"
     ]
    },
    {
     "name": "stderr",
     "output_type": "stream",
     "text": [
      "100%|██████████| 125/125 [01:14<00:00,  1.67it/s]\n"
     ]
    },
    {
     "name": "stdout",
     "output_type": "stream",
     "text": [
      "iteration925\n",
      "Angulo theta_1 :  78.625\n",
      "Sigma:  0.03516866346607861\n"
     ]
    },
    {
     "name": "stderr",
     "output_type": "stream",
     "text": [
      "100%|██████████| 125/125 [01:14<00:00,  1.68it/s]\n"
     ]
    },
    {
     "name": "stdout",
     "output_type": "stream",
     "text": [
      "iteration926\n",
      "Angulo theta_1 :  78.71\n",
      "Sigma:  0.03235091800699687\n"
     ]
    },
    {
     "name": "stderr",
     "output_type": "stream",
     "text": [
      "100%|██████████| 125/125 [01:10<00:00,  1.78it/s]\n"
     ]
    },
    {
     "name": "stdout",
     "output_type": "stream",
     "text": [
      "iteration927\n",
      "Angulo theta_1 :  78.795\n",
      "Sigma:  0.035179066382330475\n"
     ]
    },
    {
     "name": "stderr",
     "output_type": "stream",
     "text": [
      "100%|██████████| 125/125 [01:15<00:00,  1.66it/s]\n"
     ]
    },
    {
     "name": "stdout",
     "output_type": "stream",
     "text": [
      "iteration928\n",
      "Angulo theta_1 :  78.88\n",
      "Sigma:  0.04193936259724884\n"
     ]
    },
    {
     "name": "stderr",
     "output_type": "stream",
     "text": [
      "100%|██████████| 125/125 [01:12<00:00,  1.73it/s]\n"
     ]
    },
    {
     "name": "stdout",
     "output_type": "stream",
     "text": [
      "iteration929\n",
      "Angulo theta_1 :  78.965\n",
      "Sigma:  0.03901379405264717\n"
     ]
    },
    {
     "name": "stderr",
     "output_type": "stream",
     "text": [
      "100%|██████████| 125/125 [01:09<00:00,  1.79it/s]\n"
     ]
    },
    {
     "name": "stdout",
     "output_type": "stream",
     "text": [
      "iteration930\n",
      "Angulo theta_1 :  79.05\n",
      "Sigma:  0.03172623202377134\n"
     ]
    },
    {
     "name": "stderr",
     "output_type": "stream",
     "text": [
      "100%|██████████| 125/125 [01:13<00:00,  1.69it/s]\n"
     ]
    },
    {
     "name": "stdout",
     "output_type": "stream",
     "text": [
      "iteration931\n",
      "Angulo theta_1 :  79.135\n",
      "Sigma:  0.045163203306558417\n"
     ]
    },
    {
     "name": "stderr",
     "output_type": "stream",
     "text": [
      "100%|██████████| 125/125 [01:08<00:00,  1.84it/s]\n"
     ]
    },
    {
     "name": "stdout",
     "output_type": "stream",
     "text": [
      "iteration932\n",
      "Angulo theta_1 :  79.22\n",
      "Sigma:  0.039559989420145256\n"
     ]
    },
    {
     "name": "stderr",
     "output_type": "stream",
     "text": [
      "100%|██████████| 125/125 [01:14<00:00,  1.68it/s]\n"
     ]
    },
    {
     "name": "stdout",
     "output_type": "stream",
     "text": [
      "iteration933\n",
      "Angulo theta_1 :  79.305\n",
      "Sigma:  0.04100601347636958\n"
     ]
    },
    {
     "name": "stderr",
     "output_type": "stream",
     "text": [
      "100%|██████████| 125/125 [01:12<00:00,  1.72it/s]\n"
     ]
    },
    {
     "name": "stdout",
     "output_type": "stream",
     "text": [
      "iteration934\n",
      "Angulo theta_1 :  79.39\n",
      "Sigma:  0.038820156762898926\n"
     ]
    },
    {
     "name": "stderr",
     "output_type": "stream",
     "text": [
      "100%|██████████| 125/125 [01:09<00:00,  1.79it/s]\n"
     ]
    },
    {
     "name": "stdout",
     "output_type": "stream",
     "text": [
      "iteration935\n",
      "Angulo theta_1 :  79.475\n",
      "Sigma:  0.04302406239452587\n"
     ]
    },
    {
     "name": "stderr",
     "output_type": "stream",
     "text": [
      "100%|██████████| 125/125 [01:05<00:00,  1.91it/s]\n"
     ]
    },
    {
     "name": "stdout",
     "output_type": "stream",
     "text": [
      "iteration936\n",
      "Angulo theta_1 :  79.56\n",
      "Sigma:  0.030375634456500024\n"
     ]
    },
    {
     "name": "stderr",
     "output_type": "stream",
     "text": [
      "100%|██████████| 125/125 [01:04<00:00,  1.95it/s]\n"
     ]
    },
    {
     "name": "stdout",
     "output_type": "stream",
     "text": [
      "iteration937\n",
      "Angulo theta_1 :  79.645\n",
      "Sigma:  0.04866523001767285\n"
     ]
    },
    {
     "name": "stderr",
     "output_type": "stream",
     "text": [
      "100%|██████████| 125/125 [01:10<00:00,  1.77it/s]\n"
     ]
    },
    {
     "name": "stdout",
     "output_type": "stream",
     "text": [
      "iteration938\n",
      "Angulo theta_1 :  79.73\n",
      "Sigma:  0.04408657831293717\n"
     ]
    },
    {
     "name": "stderr",
     "output_type": "stream",
     "text": [
      "100%|██████████| 125/125 [01:04<00:00,  1.93it/s]\n"
     ]
    },
    {
     "name": "stdout",
     "output_type": "stream",
     "text": [
      "iteration939\n",
      "Angulo theta_1 :  79.815\n",
      "Sigma:  0.04334057120583855\n"
     ]
    },
    {
     "name": "stderr",
     "output_type": "stream",
     "text": [
      "100%|██████████| 125/125 [01:06<00:00,  1.89it/s]\n"
     ]
    },
    {
     "name": "stdout",
     "output_type": "stream",
     "text": [
      "iteration940\n",
      "Angulo theta_1 :  79.9\n",
      "Sigma:  0.040642668962863476\n"
     ]
    },
    {
     "name": "stderr",
     "output_type": "stream",
     "text": [
      "100%|██████████| 125/125 [01:08<00:00,  1.83it/s]\n"
     ]
    },
    {
     "name": "stdout",
     "output_type": "stream",
     "text": [
      "iteration941\n",
      "Angulo theta_1 :  79.985\n",
      "Sigma:  0.02683971870211206\n"
     ]
    },
    {
     "name": "stderr",
     "output_type": "stream",
     "text": [
      "100%|██████████| 125/125 [01:05<00:00,  1.92it/s]\n"
     ]
    },
    {
     "name": "stdout",
     "output_type": "stream",
     "text": [
      "iteration942\n",
      "Angulo theta_1 :  80.07\n",
      "Sigma:  0.037741428897043114\n"
     ]
    },
    {
     "name": "stderr",
     "output_type": "stream",
     "text": [
      "100%|██████████| 125/125 [01:06<00:00,  1.89it/s]\n"
     ]
    },
    {
     "name": "stdout",
     "output_type": "stream",
     "text": [
      "iteration943\n",
      "Angulo theta_1 :  80.155\n",
      "Sigma:  0.02569700741450683\n"
     ]
    },
    {
     "name": "stderr",
     "output_type": "stream",
     "text": [
      "100%|██████████| 125/125 [01:06<00:00,  1.88it/s]\n"
     ]
    },
    {
     "name": "stdout",
     "output_type": "stream",
     "text": [
      "iteration944\n",
      "Angulo theta_1 :  80.24\n",
      "Sigma:  0.03149117877617995\n"
     ]
    },
    {
     "name": "stderr",
     "output_type": "stream",
     "text": [
      "100%|██████████| 125/125 [01:08<00:00,  1.82it/s]\n"
     ]
    },
    {
     "name": "stdout",
     "output_type": "stream",
     "text": [
      "iteration945\n",
      "Angulo theta_1 :  80.325\n",
      "Sigma:  0.04677301215710557\n"
     ]
    },
    {
     "name": "stderr",
     "output_type": "stream",
     "text": [
      "100%|██████████| 125/125 [01:08<00:00,  1.82it/s]\n"
     ]
    },
    {
     "name": "stdout",
     "output_type": "stream",
     "text": [
      "iteration946\n",
      "Angulo theta_1 :  80.41\n",
      "Sigma:  0.038643978509061344\n"
     ]
    },
    {
     "name": "stderr",
     "output_type": "stream",
     "text": [
      "100%|██████████| 125/125 [01:06<00:00,  1.88it/s]\n"
     ]
    },
    {
     "name": "stdout",
     "output_type": "stream",
     "text": [
      "iteration947\n",
      "Angulo theta_1 :  80.495\n",
      "Sigma:  0.035444073737105695\n"
     ]
    },
    {
     "name": "stderr",
     "output_type": "stream",
     "text": [
      "100%|██████████| 125/125 [01:09<00:00,  1.81it/s]\n"
     ]
    },
    {
     "name": "stdout",
     "output_type": "stream",
     "text": [
      "iteration948\n",
      "Angulo theta_1 :  80.58\n",
      "Sigma:  0.027686754180918184\n"
     ]
    },
    {
     "name": "stderr",
     "output_type": "stream",
     "text": [
      "100%|██████████| 125/125 [01:08<00:00,  1.83it/s]\n"
     ]
    },
    {
     "name": "stdout",
     "output_type": "stream",
     "text": [
      "iteration949\n",
      "Angulo theta_1 :  80.665\n",
      "Sigma:  0.03632917277930227\n"
     ]
    },
    {
     "name": "stderr",
     "output_type": "stream",
     "text": [
      "100%|██████████| 125/125 [01:05<00:00,  1.91it/s]\n"
     ]
    },
    {
     "name": "stdout",
     "output_type": "stream",
     "text": [
      "iteration950\n",
      "Angulo theta_1 :  80.75\n",
      "Sigma:  0.02832390509976875\n"
     ]
    },
    {
     "name": "stderr",
     "output_type": "stream",
     "text": [
      "100%|██████████| 125/125 [01:10<00:00,  1.77it/s]\n"
     ]
    },
    {
     "name": "stdout",
     "output_type": "stream",
     "text": [
      "iteration951\n",
      "Angulo theta_1 :  80.835\n",
      "Sigma:  0.036995559416359874\n"
     ]
    },
    {
     "name": "stderr",
     "output_type": "stream",
     "text": [
      "100%|██████████| 125/125 [01:05<00:00,  1.91it/s]\n"
     ]
    },
    {
     "name": "stdout",
     "output_type": "stream",
     "text": [
      "iteration952\n",
      "Angulo theta_1 :  80.92\n",
      "Sigma:  0.030228793532068816\n"
     ]
    },
    {
     "name": "stderr",
     "output_type": "stream",
     "text": [
      "100%|██████████| 125/125 [01:05<00:00,  1.90it/s]\n"
     ]
    },
    {
     "name": "stdout",
     "output_type": "stream",
     "text": [
      "iteration953\n",
      "Angulo theta_1 :  81.005\n",
      "Sigma:  0.03107260806291076\n"
     ]
    },
    {
     "name": "stderr",
     "output_type": "stream",
     "text": [
      "100%|██████████| 125/125 [01:06<00:00,  1.88it/s]\n"
     ]
    },
    {
     "name": "stdout",
     "output_type": "stream",
     "text": [
      "iteration954\n",
      "Angulo theta_1 :  81.09\n",
      "Sigma:  0.034644483824171055\n"
     ]
    },
    {
     "name": "stderr",
     "output_type": "stream",
     "text": [
      "100%|██████████| 125/125 [01:03<00:00,  1.96it/s]\n"
     ]
    },
    {
     "name": "stdout",
     "output_type": "stream",
     "text": [
      "iteration955\n",
      "Angulo theta_1 :  81.175\n",
      "Sigma:  0.032985436325810025\n"
     ]
    },
    {
     "name": "stderr",
     "output_type": "stream",
     "text": [
      "100%|██████████| 125/125 [01:12<00:00,  1.72it/s]\n"
     ]
    },
    {
     "name": "stdout",
     "output_type": "stream",
     "text": [
      "iteration956\n",
      "Angulo theta_1 :  81.26\n",
      "Sigma:  0.04139649568839154\n"
     ]
    },
    {
     "name": "stderr",
     "output_type": "stream",
     "text": [
      "100%|██████████| 125/125 [01:05<00:00,  1.91it/s]\n"
     ]
    },
    {
     "name": "stdout",
     "output_type": "stream",
     "text": [
      "iteration957\n",
      "Angulo theta_1 :  81.345\n",
      "Sigma:  0.04872770251876594\n"
     ]
    },
    {
     "name": "stderr",
     "output_type": "stream",
     "text": [
      "100%|██████████| 125/125 [01:05<00:00,  1.92it/s]\n"
     ]
    },
    {
     "name": "stdout",
     "output_type": "stream",
     "text": [
      "iteration958\n",
      "Angulo theta_1 :  81.43\n",
      "Sigma:  0.030634666802353328\n"
     ]
    },
    {
     "name": "stderr",
     "output_type": "stream",
     "text": [
      "100%|██████████| 125/125 [01:06<00:00,  1.88it/s]\n"
     ]
    },
    {
     "name": "stdout",
     "output_type": "stream",
     "text": [
      "iteration959\n",
      "Angulo theta_1 :  81.515\n",
      "Sigma:  0.04423608982771388\n"
     ]
    },
    {
     "name": "stderr",
     "output_type": "stream",
     "text": [
      "100%|██████████| 125/125 [01:04<00:00,  1.93it/s]\n"
     ]
    },
    {
     "name": "stdout",
     "output_type": "stream",
     "text": [
      "iteration960\n",
      "Angulo theta_1 :  81.6\n",
      "Sigma:  0.02675512963862321\n"
     ]
    },
    {
     "name": "stderr",
     "output_type": "stream",
     "text": [
      "100%|██████████| 125/125 [01:06<00:00,  1.89it/s]\n"
     ]
    },
    {
     "name": "stdout",
     "output_type": "stream",
     "text": [
      "iteration961\n",
      "Angulo theta_1 :  81.685\n",
      "Sigma:  0.04393085327487194\n"
     ]
    },
    {
     "name": "stderr",
     "output_type": "stream",
     "text": [
      "100%|██████████| 125/125 [01:23<00:00,  1.50it/s]\n"
     ]
    },
    {
     "name": "stdout",
     "output_type": "stream",
     "text": [
      "iteration962\n",
      "Angulo theta_1 :  81.77\n",
      "Sigma:  0.0450793325904988\n"
     ]
    },
    {
     "name": "stderr",
     "output_type": "stream",
     "text": [
      "100%|██████████| 125/125 [01:07<00:00,  1.85it/s]\n"
     ]
    },
    {
     "name": "stdout",
     "output_type": "stream",
     "text": [
      "iteration963\n",
      "Angulo theta_1 :  81.855\n",
      "Sigma:  0.033215451144526995\n"
     ]
    },
    {
     "name": "stderr",
     "output_type": "stream",
     "text": [
      "100%|██████████| 125/125 [01:12<00:00,  1.72it/s]\n"
     ]
    },
    {
     "name": "stdout",
     "output_type": "stream",
     "text": [
      "iteration964\n",
      "Angulo theta_1 :  81.94\n",
      "Sigma:  0.027625145560269817\n"
     ]
    },
    {
     "name": "stderr",
     "output_type": "stream",
     "text": [
      "100%|██████████| 125/125 [01:04<00:00,  1.92it/s]\n"
     ]
    },
    {
     "name": "stdout",
     "output_type": "stream",
     "text": [
      "iteration965\n",
      "Angulo theta_1 :  82.025\n",
      "Sigma:  0.026462232287451187\n"
     ]
    },
    {
     "name": "stderr",
     "output_type": "stream",
     "text": [
      "100%|██████████| 125/125 [01:07<00:00,  1.85it/s]\n"
     ]
    },
    {
     "name": "stdout",
     "output_type": "stream",
     "text": [
      "iteration966\n",
      "Angulo theta_1 :  82.11\n",
      "Sigma:  0.03812302132558186\n"
     ]
    },
    {
     "name": "stderr",
     "output_type": "stream",
     "text": [
      "100%|██████████| 125/125 [01:09<00:00,  1.81it/s]\n"
     ]
    },
    {
     "name": "stdout",
     "output_type": "stream",
     "text": [
      "iteration967\n",
      "Angulo theta_1 :  82.195\n",
      "Sigma:  0.04423983720449851\n"
     ]
    },
    {
     "name": "stderr",
     "output_type": "stream",
     "text": [
      "100%|██████████| 125/125 [01:07<00:00,  1.86it/s]\n"
     ]
    },
    {
     "name": "stdout",
     "output_type": "stream",
     "text": [
      "iteration968\n",
      "Angulo theta_1 :  82.28\n",
      "Sigma:  0.027027869900965742\n"
     ]
    },
    {
     "name": "stderr",
     "output_type": "stream",
     "text": [
      "100%|██████████| 125/125 [01:10<00:00,  1.77it/s]\n"
     ]
    },
    {
     "name": "stdout",
     "output_type": "stream",
     "text": [
      "iteration969\n",
      "Angulo theta_1 :  82.365\n",
      "Sigma:  0.046324053632039675\n"
     ]
    },
    {
     "name": "stderr",
     "output_type": "stream",
     "text": [
      "100%|██████████| 125/125 [01:11<00:00,  1.75it/s]\n"
     ]
    },
    {
     "name": "stdout",
     "output_type": "stream",
     "text": [
      "iteration970\n",
      "Angulo theta_1 :  82.45\n",
      "Sigma:  0.045326482509643204\n"
     ]
    },
    {
     "name": "stderr",
     "output_type": "stream",
     "text": [
      "100%|██████████| 125/125 [01:05<00:00,  1.90it/s]\n"
     ]
    },
    {
     "name": "stdout",
     "output_type": "stream",
     "text": [
      "iteration971\n",
      "Angulo theta_1 :  82.535\n",
      "Sigma:  0.03518829972307293\n"
     ]
    },
    {
     "name": "stderr",
     "output_type": "stream",
     "text": [
      "100%|██████████| 125/125 [01:06<00:00,  1.89it/s]\n"
     ]
    },
    {
     "name": "stdout",
     "output_type": "stream",
     "text": [
      "iteration972\n",
      "Angulo theta_1 :  82.62\n",
      "Sigma:  0.02504872314013858\n"
     ]
    },
    {
     "name": "stderr",
     "output_type": "stream",
     "text": [
      "100%|██████████| 125/125 [01:07<00:00,  1.85it/s]\n"
     ]
    },
    {
     "name": "stdout",
     "output_type": "stream",
     "text": [
      "iteration973\n",
      "Angulo theta_1 :  82.705\n",
      "Sigma:  0.03290795100219772\n"
     ]
    },
    {
     "name": "stderr",
     "output_type": "stream",
     "text": [
      "100%|██████████| 125/125 [01:13<00:00,  1.70it/s]\n"
     ]
    },
    {
     "name": "stdout",
     "output_type": "stream",
     "text": [
      "iteration974\n",
      "Angulo theta_1 :  82.79\n",
      "Sigma:  0.03843741706464691\n"
     ]
    },
    {
     "name": "stderr",
     "output_type": "stream",
     "text": [
      "100%|██████████| 125/125 [01:09<00:00,  1.79it/s]\n"
     ]
    },
    {
     "name": "stdout",
     "output_type": "stream",
     "text": [
      "iteration975\n",
      "Angulo theta_1 :  82.875\n",
      "Sigma:  0.0323608797617704\n"
     ]
    },
    {
     "name": "stderr",
     "output_type": "stream",
     "text": [
      "100%|██████████| 125/125 [01:11<00:00,  1.76it/s]\n"
     ]
    },
    {
     "name": "stdout",
     "output_type": "stream",
     "text": [
      "iteration976\n",
      "Angulo theta_1 :  82.96\n",
      "Sigma:  0.04953618651444159\n"
     ]
    },
    {
     "name": "stderr",
     "output_type": "stream",
     "text": [
      "100%|██████████| 125/125 [01:07<00:00,  1.85it/s]\n"
     ]
    },
    {
     "name": "stdout",
     "output_type": "stream",
     "text": [
      "iteration977\n",
      "Angulo theta_1 :  83.045\n",
      "Sigma:  0.041373097414240126\n"
     ]
    },
    {
     "name": "stderr",
     "output_type": "stream",
     "text": [
      "100%|██████████| 125/125 [01:09<00:00,  1.80it/s]\n"
     ]
    },
    {
     "name": "stdout",
     "output_type": "stream",
     "text": [
      "iteration978\n",
      "Angulo theta_1 :  83.13\n",
      "Sigma:  0.027409652556576528\n"
     ]
    },
    {
     "name": "stderr",
     "output_type": "stream",
     "text": [
      "100%|██████████| 125/125 [01:10<00:00,  1.78it/s]\n"
     ]
    },
    {
     "name": "stdout",
     "output_type": "stream",
     "text": [
      "iteration979\n",
      "Angulo theta_1 :  83.215\n",
      "Sigma:  0.039297650085276914\n"
     ]
    },
    {
     "name": "stderr",
     "output_type": "stream",
     "text": [
      "100%|██████████| 125/125 [01:06<00:00,  1.89it/s]\n"
     ]
    },
    {
     "name": "stdout",
     "output_type": "stream",
     "text": [
      "iteration980\n",
      "Angulo theta_1 :  83.3\n",
      "Sigma:  0.03297733655376831\n"
     ]
    },
    {
     "name": "stderr",
     "output_type": "stream",
     "text": [
      "100%|██████████| 125/125 [01:04<00:00,  1.94it/s]\n"
     ]
    },
    {
     "name": "stdout",
     "output_type": "stream",
     "text": [
      "iteration981\n",
      "Angulo theta_1 :  83.385\n",
      "Sigma:  0.04985435533998267\n"
     ]
    },
    {
     "name": "stderr",
     "output_type": "stream",
     "text": [
      "100%|██████████| 125/125 [01:03<00:00,  1.97it/s]\n"
     ]
    },
    {
     "name": "stdout",
     "output_type": "stream",
     "text": [
      "iteration982\n",
      "Angulo theta_1 :  83.47\n",
      "Sigma:  0.041590329575222025\n"
     ]
    },
    {
     "name": "stderr",
     "output_type": "stream",
     "text": [
      "100%|██████████| 125/125 [01:04<00:00,  1.93it/s]\n"
     ]
    },
    {
     "name": "stdout",
     "output_type": "stream",
     "text": [
      "iteration983\n",
      "Angulo theta_1 :  83.555\n",
      "Sigma:  0.025686874494929856\n"
     ]
    },
    {
     "name": "stderr",
     "output_type": "stream",
     "text": [
      "100%|██████████| 125/125 [01:04<00:00,  1.94it/s]\n"
     ]
    },
    {
     "name": "stdout",
     "output_type": "stream",
     "text": [
      "iteration984\n",
      "Angulo theta_1 :  83.64\n",
      "Sigma:  0.04343459306070699\n"
     ]
    },
    {
     "name": "stderr",
     "output_type": "stream",
     "text": [
      "100%|██████████| 125/125 [01:04<00:00,  1.95it/s]\n"
     ]
    },
    {
     "name": "stdout",
     "output_type": "stream",
     "text": [
      "iteration985\n",
      "Angulo theta_1 :  83.725\n",
      "Sigma:  0.04680894931773802\n"
     ]
    },
    {
     "name": "stderr",
     "output_type": "stream",
     "text": [
      "100%|██████████| 125/125 [01:04<00:00,  1.93it/s]\n"
     ]
    },
    {
     "name": "stdout",
     "output_type": "stream",
     "text": [
      "iteration986\n",
      "Angulo theta_1 :  83.81\n",
      "Sigma:  0.03861324332598604\n"
     ]
    },
    {
     "name": "stderr",
     "output_type": "stream",
     "text": [
      "100%|██████████| 125/125 [01:05<00:00,  1.91it/s]\n"
     ]
    },
    {
     "name": "stdout",
     "output_type": "stream",
     "text": [
      "iteration987\n",
      "Angulo theta_1 :  83.895\n",
      "Sigma:  0.037761868016303074\n"
     ]
    },
    {
     "name": "stderr",
     "output_type": "stream",
     "text": [
      "100%|██████████| 125/125 [01:04<00:00,  1.95it/s]\n"
     ]
    },
    {
     "name": "stdout",
     "output_type": "stream",
     "text": [
      "iteration988\n",
      "Angulo theta_1 :  83.98\n",
      "Sigma:  0.02926354813039827\n"
     ]
    },
    {
     "name": "stderr",
     "output_type": "stream",
     "text": [
      "100%|██████████| 125/125 [01:03<00:00,  1.97it/s]\n"
     ]
    },
    {
     "name": "stdout",
     "output_type": "stream",
     "text": [
      "iteration989\n",
      "Angulo theta_1 :  84.065\n",
      "Sigma:  0.042703678285932356\n"
     ]
    },
    {
     "name": "stderr",
     "output_type": "stream",
     "text": [
      "100%|██████████| 125/125 [01:03<00:00,  1.95it/s]\n"
     ]
    },
    {
     "name": "stdout",
     "output_type": "stream",
     "text": [
      "iteration990\n",
      "Angulo theta_1 :  84.15\n",
      "Sigma:  0.03157564411869385\n"
     ]
    },
    {
     "name": "stderr",
     "output_type": "stream",
     "text": [
      "100%|██████████| 125/125 [01:03<00:00,  1.98it/s]\n"
     ]
    },
    {
     "name": "stdout",
     "output_type": "stream",
     "text": [
      "iteration991\n",
      "Angulo theta_1 :  84.235\n",
      "Sigma:  0.03496494541697677\n"
     ]
    },
    {
     "name": "stderr",
     "output_type": "stream",
     "text": [
      "100%|██████████| 125/125 [01:05<00:00,  1.91it/s]\n"
     ]
    },
    {
     "name": "stdout",
     "output_type": "stream",
     "text": [
      "iteration992\n",
      "Angulo theta_1 :  84.32\n",
      "Sigma:  0.04472787503970409\n"
     ]
    },
    {
     "name": "stderr",
     "output_type": "stream",
     "text": [
      "100%|██████████| 125/125 [01:04<00:00,  1.94it/s]\n"
     ]
    },
    {
     "name": "stdout",
     "output_type": "stream",
     "text": [
      "iteration993\n",
      "Angulo theta_1 :  84.405\n",
      "Sigma:  0.03924339315525599\n"
     ]
    },
    {
     "name": "stderr",
     "output_type": "stream",
     "text": [
      "100%|██████████| 125/125 [01:03<00:00,  1.96it/s]\n"
     ]
    },
    {
     "name": "stdout",
     "output_type": "stream",
     "text": [
      "iteration994\n",
      "Angulo theta_1 :  84.49\n",
      "Sigma:  0.028394522450212543\n"
     ]
    },
    {
     "name": "stderr",
     "output_type": "stream",
     "text": [
      "100%|██████████| 125/125 [01:07<00:00,  1.86it/s]\n"
     ]
    },
    {
     "name": "stdout",
     "output_type": "stream",
     "text": [
      "iteration995\n",
      "Angulo theta_1 :  84.575\n",
      "Sigma:  0.03631208232917038\n"
     ]
    },
    {
     "name": "stderr",
     "output_type": "stream",
     "text": [
      "100%|██████████| 125/125 [01:06<00:00,  1.88it/s]\n"
     ]
    },
    {
     "name": "stdout",
     "output_type": "stream",
     "text": [
      "iteration996\n",
      "Angulo theta_1 :  84.66\n",
      "Sigma:  0.03384549931047885\n"
     ]
    },
    {
     "name": "stderr",
     "output_type": "stream",
     "text": [
      "100%|██████████| 125/125 [01:06<00:00,  1.89it/s]\n"
     ]
    },
    {
     "name": "stdout",
     "output_type": "stream",
     "text": [
      "iteration997\n",
      "Angulo theta_1 :  84.745\n",
      "Sigma:  0.0465533191386552\n"
     ]
    },
    {
     "name": "stderr",
     "output_type": "stream",
     "text": [
      "100%|██████████| 125/125 [01:05<00:00,  1.90it/s]\n"
     ]
    },
    {
     "name": "stdout",
     "output_type": "stream",
     "text": [
      "iteration998\n",
      "Angulo theta_1 :  84.83\n",
      "Sigma:  0.03615977903570674\n"
     ]
    },
    {
     "name": "stderr",
     "output_type": "stream",
     "text": [
      "100%|██████████| 125/125 [01:04<00:00,  1.92it/s]\n"
     ]
    },
    {
     "name": "stdout",
     "output_type": "stream",
     "text": [
      "iteration999\n",
      "Angulo theta_1 :  84.915\n",
      "Sigma:  0.027997984445179754\n"
     ]
    },
    {
     "name": "stderr",
     "output_type": "stream",
     "text": [
      "100%|██████████| 125/125 [01:06<00:00,  1.87it/s]\n"
     ]
    },
    {
     "name": "stdout",
     "output_type": "stream",
     "text": [
      "iteration1000\n"
     ]
    }
   ],
   "source": [
    "\n",
    "thicknesses_list = []\n",
    "ref_idx_list = []\n",
    "\n",
    "figures_dir = 'figures'\n",
    "if not os.path.exists(figures_dir):\n",
    "    os.makedirs(figures_dir)\n",
    "\n",
    "histogram_dir = \"Histogramas\"\n",
    "os.makedirs(histogram_dir, exist_ok=True)\n",
    "    \n",
    "Loss_dir =  \"Losses\"\n",
    "if not os.path.exists(Loss_dir):\n",
    "    os.makedirs(Loss_dir)\n",
    "\n",
    "Error = []\n",
    "Angles = []\n",
    "\n",
    "xlim = (300, 800)\n",
    "ylim = (-0.5, 1.5)\n",
    "vertical_lines = [380, 495, 570, 750]\n",
    "\n",
    "\n",
    "n_interna = 1.0\n",
    "\n",
    "\n",
    "\n",
    "for seed in range(1000):                                                \n",
    "  params.seed = seed\n",
    "  params.sigma = np.random.uniform(0.025, 0.05)\n",
    "  \n",
    "  \n",
    "  physicsparams.theta_1 = seed * 85 / 1000\n",
    "  print(\"Angulo theta_1 : \" ,physicsparams.theta_1)\n",
    "  Angles.append(physicsparams.theta_1)\n",
    "\n",
    "  physicsparams.n_bot_1 = n_interna\n",
    "  physicsparams.n_top_1 = 1\n",
    "  physicsparams.k_1 = 370\n",
    "  physicsparams.k_values.append(physicsparams.k_1)\n",
    "  physicsparams.lambda_min_1 = 380\n",
    "  physicsparams.lambda_max_1 = 750\n",
    "  physicsparams.pol_1 = \"TE\"\n",
    "  \n",
    "  physicsparams.n_bot_2 = 1\n",
    "  physicsparams.n_top_2 = n_interna\n",
    "  physicsparams.k_2 = 190\n",
    "  physicsparams.k_values.append(physicsparams.k_2)\n",
    "  physicsparams.theta_2 = 45\n",
    "  physicsparams.lambda_min_2 = 380\n",
    "  physicsparams.lambda_max_2 = 570\n",
    "  physicsparams.pol_2 = \"TE\"\n",
    "  \n",
    "  physicsparams.generate_physics_params()\n",
    "\n",
    "  print(\"Sigma: \", params.sigma)\n",
    "  torch.manual_seed(seed)\n",
    "  glonet = GLOnet(params, physicsparams, tarjet)\n",
    "  glonet.train()\n",
    "  \n",
    "  plt.figure(figsize = (20, 5))\n",
    "  plt.subplot(131)\n",
    "  plt.plot(glonet.loss_training)\n",
    "  plt.ylabel('Loss', fontsize=18)\n",
    "  plt.xlabel('Iterations', fontsize=18)\n",
    "  plt.xticks(fontsize=14)\n",
    "  plt.yticks(fontsize=14)\n",
    "  \n",
    "  plt.savefig(f\"{Loss_dir}/Loss_seed_{seed}.png\", bbox_inches='tight')\n",
    "  plt.close()\n",
    "  \n",
    "  print(f\"iteration{seed + 1 }\")\n",
    "\n",
    "  with torch.no_grad():\n",
    "      params.k_test = 2 * math.pi / torch.linspace(0.3, 2.5, 50)\n",
    "      params.theta_test = torch.linspace(0, math.pi/2.25, 50)\n",
    "      (thicknesses, ref_index, result_mat) = glonet.evaluate(150, kvector=params.k_test, inc_angles=params.theta_test, grayscale=True)\n",
    "      # Optimizacion\n",
    "      \n",
    "      reflex = MTMM_solver(params.condiciones, thicknesses, ref_index, physicsparams)\n",
    "      FoM_reflex_total = sum(torch.pow(reflex[f'reflexion_{i}'] - tarjet.tarjets[f'tarjet_{i}'], 2).mean(dim=[1, 2, 3]) for i in range(1, 3))\n",
    "      _, indices = torch.sort(FoM_reflex_total)\n",
    "      opt_idx = indices[0]\n",
    "      Error.append(FoM_reflex_total[opt_idx])\n",
    "      \n",
    "\n",
    "      # Visualización del FoM total\n",
    "      \n",
    "      plt.figure(figsize=(10, 2))\n",
    "      plt.subplot(131)\n",
    "      plt.hist(FoM_reflex_total.cpu().detach().numpy(), alpha=0.5)\n",
    "      plt.xlabel(f\"FoM (n' = {n_interna})\", fontsize=18)\n",
    "      plt.xticks(fontsize=14)\n",
    "      plt.yticks(fontsize=14)\n",
    "      plt.savefig(f\"{histogram_dir}/histograma_seed_{seed}.png\", bbox_inches='tight')\n",
    "      plt.close()\n",
    "      \n",
    "      # Encontrar el índice óptimo\n",
    "\n",
    "      optimal_thicknesses = thicknesses[opt_idx]\n",
    "      optimal_ref_idx = ref_index[opt_idx]\n",
    "      \n",
    "      thicknesses_list.append(optimal_thicknesses.view(-1).cpu().numpy().tolist())\n",
    "      ref_idx_list.append(optimal_ref_idx.view(-1).cpu().numpy().tolist())\n",
    "\n",
    "          \n",
    " \n",
    "  fig, axs = plt.subplots(1, 2, figsize=(13, 3))  # 1 fila, 2 columnas\n",
    "  fig.subplots_adjust(wspace=0.4)\n",
    "  \n",
    "  # Definir optimal_reflections\n",
    "  optimal_reflections = {}\n",
    "  \n",
    "  for i in range(1, 3):  # Solo 1 y 2\n",
    "      reflex_key = f'reflexion_{i}'\n",
    "      optimal_reflections[reflex_key] = reflex[reflex_key][opt_idx]\n",
    "      \n",
    "      # Gráfico de reflexión óptima\n",
    "      axs[i-1].plot(2 * math.pi / getattr(physicsparams, f'k_{i}') * 1000,\n",
    "                    optimal_reflections[f'reflexion_{i}'][:, 0, 0].detach().numpy(),\n",
    "                    \"-\", color=\"violet\", label=\"Optimal Reflexion\")\n",
    "  \n",
    "      # Gráfico de reflexión de tarjeta\n",
    "      tarjet_color = \"red\" if i == 1 else \"green\"\n",
    "      axs[i-1].plot(2 * math.pi / getattr(physicsparams, f'k_{i}') * 1000,\n",
    "                    tarjet.tarjets[f\"tarjet_{i}\"].view(-1),\n",
    "                    \".-\", color=tarjet_color, label=f\"Tarjet Reflexion {i}\", markersize=2.5)\n",
    "  \n",
    "      axs[i-1].set_xlabel(\"Wavelength (nm)\", fontsize=16)\n",
    "      axs[i-1].set_ylabel(\"Reflection\", fontsize=16)\n",
    "      axs[i-1].legend(fontsize=10)\n",
    "      axs[i-1].set_title(f\"Reflexion {i}\", fontsize=20)\n",
    "      axs[i-1].tick_params(axis='both', which='major', labelsize=14)\n",
    "      axs[i-1].set_xlim(xlim)\n",
    "      axs[i-1].set_ylim(ylim)\n",
    "  \n",
    "      # Agregar líneas verticales punteadas para reflexiones\n",
    "      for line_pos in vertical_lines:\n",
    "          axs[i-1].axvline(x=line_pos, linestyle='--', color='gray')\n",
    "          \n",
    "  fig.savefig(os.path.join(figures_dir, f\"reflexion_seed_{seed}.png\"))\n",
    "  plt.close(fig)\n",
    "\n",
    "with open('optimal_thicknesses.csv', 'w', newline='') as f:\n",
    "    writer = csv.writer(f)\n",
    "    writer.writerows(thicknesses_list)\n",
    "\n",
    "# Archivo CSV para los índices de refracción\n",
    "with open('optimal_ref_idx.csv', 'w', newline='') as f:\n",
    "    writer = csv.writer(f)\n",
    "    writer.writerows(ref_idx_list)\n",
    "\n",
    "\n"
   ]
  },
  {
   "cell_type": "code",
   "execution_count": 30,
   "metadata": {},
   "outputs": [
    {
     "data": {
      "text/plain": [
       "[0.0,\n",
       " 0.085,\n",
       " 0.17,\n",
       " 0.255,\n",
       " 0.34,\n",
       " 0.425,\n",
       " 0.51,\n",
       " 0.595,\n",
       " 0.68,\n",
       " 0.765,\n",
       " 0.85,\n",
       " 0.935,\n",
       " 1.02,\n",
       " 1.105,\n",
       " 1.19,\n",
       " 1.275,\n",
       " 1.36,\n",
       " 1.445,\n",
       " 1.53,\n",
       " 1.615,\n",
       " 1.7,\n",
       " 1.785,\n",
       " 1.87,\n",
       " 1.955,\n",
       " 2.04,\n",
       " 2.125,\n",
       " 2.21,\n",
       " 2.295,\n",
       " 2.38,\n",
       " 2.465,\n",
       " 2.55,\n",
       " 2.635,\n",
       " 2.72,\n",
       " 2.805,\n",
       " 2.89,\n",
       " 2.975,\n",
       " 3.06,\n",
       " 3.145,\n",
       " 3.23,\n",
       " 3.315,\n",
       " 3.4,\n",
       " 3.485,\n",
       " 3.57,\n",
       " 3.655,\n",
       " 3.74,\n",
       " 3.825,\n",
       " 3.91,\n",
       " 3.995,\n",
       " 4.08,\n",
       " 4.165,\n",
       " 4.25,\n",
       " 4.335,\n",
       " 4.42,\n",
       " 4.505,\n",
       " 4.59,\n",
       " 4.675,\n",
       " 4.76,\n",
       " 4.845,\n",
       " 4.93,\n",
       " 5.015,\n",
       " 5.1,\n",
       " 5.185,\n",
       " 5.27,\n",
       " 5.355,\n",
       " 5.44,\n",
       " 5.525,\n",
       " 5.61,\n",
       " 5.695,\n",
       " 5.78,\n",
       " 5.865,\n",
       " 5.95,\n",
       " 6.035,\n",
       " 6.12,\n",
       " 6.205,\n",
       " 6.29,\n",
       " 6.375,\n",
       " 6.46,\n",
       " 6.545,\n",
       " 6.63,\n",
       " 6.715,\n",
       " 6.8,\n",
       " 6.885,\n",
       " 6.97,\n",
       " 7.055,\n",
       " 7.14,\n",
       " 7.225,\n",
       " 7.31,\n",
       " 7.395,\n",
       " 7.48,\n",
       " 7.565,\n",
       " 7.65,\n",
       " 7.735,\n",
       " 7.82,\n",
       " 7.905,\n",
       " 7.99,\n",
       " 8.075,\n",
       " 8.16,\n",
       " 8.245,\n",
       " 8.33,\n",
       " 8.415,\n",
       " 8.5,\n",
       " 8.585,\n",
       " 8.67,\n",
       " 8.755,\n",
       " 8.84,\n",
       " 8.925,\n",
       " 9.01,\n",
       " 9.095,\n",
       " 9.18,\n",
       " 9.265,\n",
       " 9.35,\n",
       " 9.435,\n",
       " 9.52,\n",
       " 9.605,\n",
       " 9.69,\n",
       " 9.775,\n",
       " 9.86,\n",
       " 9.945,\n",
       " 10.03,\n",
       " 10.115,\n",
       " 10.2,\n",
       " 10.285,\n",
       " 10.37,\n",
       " 10.455,\n",
       " 10.54,\n",
       " 10.625,\n",
       " 10.71,\n",
       " 10.795,\n",
       " 10.88,\n",
       " 10.965,\n",
       " 11.05,\n",
       " 11.135,\n",
       " 11.22,\n",
       " 11.305,\n",
       " 11.39,\n",
       " 11.475,\n",
       " 11.56,\n",
       " 11.645,\n",
       " 11.73,\n",
       " 11.815,\n",
       " 11.9,\n",
       " 11.985,\n",
       " 12.07,\n",
       " 12.155,\n",
       " 12.24,\n",
       " 12.325,\n",
       " 12.41,\n",
       " 12.495,\n",
       " 12.58,\n",
       " 12.665,\n",
       " 12.75,\n",
       " 12.835,\n",
       " 12.92,\n",
       " 13.005,\n",
       " 13.09,\n",
       " 13.175,\n",
       " 13.26,\n",
       " 13.345,\n",
       " 13.43,\n",
       " 13.515,\n",
       " 13.6,\n",
       " 13.685,\n",
       " 13.77,\n",
       " 13.855,\n",
       " 13.94,\n",
       " 14.025,\n",
       " 14.11,\n",
       " 14.195,\n",
       " 14.28,\n",
       " 14.365,\n",
       " 14.45,\n",
       " 14.535,\n",
       " 14.62,\n",
       " 14.705,\n",
       " 14.79,\n",
       " 14.875,\n",
       " 14.96,\n",
       " 15.045,\n",
       " 15.13,\n",
       " 15.215,\n",
       " 15.3,\n",
       " 15.385,\n",
       " 15.47,\n",
       " 15.555,\n",
       " 15.64,\n",
       " 15.725,\n",
       " 15.81,\n",
       " 15.895,\n",
       " 15.98,\n",
       " 16.065,\n",
       " 16.15,\n",
       " 16.235,\n",
       " 16.32,\n",
       " 16.405,\n",
       " 16.49,\n",
       " 16.575,\n",
       " 16.66,\n",
       " 16.745,\n",
       " 16.83,\n",
       " 16.915,\n",
       " 17.0,\n",
       " 17.085,\n",
       " 17.17,\n",
       " 17.255,\n",
       " 17.34,\n",
       " 17.425,\n",
       " 17.51,\n",
       " 17.595,\n",
       " 17.68,\n",
       " 17.765,\n",
       " 17.85,\n",
       " 17.935,\n",
       " 18.02,\n",
       " 18.105,\n",
       " 18.19,\n",
       " 18.275,\n",
       " 18.36,\n",
       " 18.445,\n",
       " 18.53,\n",
       " 18.615,\n",
       " 18.7,\n",
       " 18.785,\n",
       " 18.87,\n",
       " 18.955,\n",
       " 19.04,\n",
       " 19.125,\n",
       " 19.21,\n",
       " 19.295,\n",
       " 19.38,\n",
       " 19.465,\n",
       " 19.55,\n",
       " 19.635,\n",
       " 19.72,\n",
       " 19.805,\n",
       " 19.89,\n",
       " 19.975,\n",
       " 20.06,\n",
       " 20.145,\n",
       " 20.23,\n",
       " 20.315,\n",
       " 20.4,\n",
       " 20.485,\n",
       " 20.57,\n",
       " 20.655,\n",
       " 20.74,\n",
       " 20.825,\n",
       " 20.91,\n",
       " 20.995,\n",
       " 21.08,\n",
       " 21.165,\n",
       " 21.25,\n",
       " 21.335,\n",
       " 21.42,\n",
       " 21.505,\n",
       " 21.59,\n",
       " 21.675,\n",
       " 21.76,\n",
       " 21.845,\n",
       " 21.93,\n",
       " 22.015,\n",
       " 22.1,\n",
       " 22.185,\n",
       " 22.27,\n",
       " 22.355,\n",
       " 22.44,\n",
       " 22.525,\n",
       " 22.61,\n",
       " 22.695,\n",
       " 22.78,\n",
       " 22.865,\n",
       " 22.95,\n",
       " 23.035,\n",
       " 23.12,\n",
       " 23.205,\n",
       " 23.29,\n",
       " 23.375,\n",
       " 23.46,\n",
       " 23.545,\n",
       " 23.63,\n",
       " 23.715,\n",
       " 23.8,\n",
       " 23.885,\n",
       " 23.97,\n",
       " 24.055,\n",
       " 24.14,\n",
       " 24.225,\n",
       " 24.31,\n",
       " 24.395,\n",
       " 24.48,\n",
       " 24.565,\n",
       " 24.65,\n",
       " 24.735,\n",
       " 24.82,\n",
       " 24.905,\n",
       " 24.99,\n",
       " 25.075,\n",
       " 25.16,\n",
       " 25.245,\n",
       " 25.33,\n",
       " 25.415,\n",
       " 25.5,\n",
       " 25.585,\n",
       " 25.67,\n",
       " 25.755,\n",
       " 25.84,\n",
       " 25.925,\n",
       " 26.01,\n",
       " 26.095,\n",
       " 26.18,\n",
       " 26.265,\n",
       " 26.35,\n",
       " 26.435,\n",
       " 26.52,\n",
       " 26.605,\n",
       " 26.69,\n",
       " 26.775,\n",
       " 26.86,\n",
       " 26.945,\n",
       " 27.03,\n",
       " 27.115,\n",
       " 27.2,\n",
       " 27.285,\n",
       " 27.37,\n",
       " 27.455,\n",
       " 27.54,\n",
       " 27.625,\n",
       " 27.71,\n",
       " 27.795,\n",
       " 27.88,\n",
       " 27.965,\n",
       " 28.05,\n",
       " 28.135,\n",
       " 28.22,\n",
       " 28.305,\n",
       " 28.39,\n",
       " 28.475,\n",
       " 28.56,\n",
       " 28.645,\n",
       " 28.73,\n",
       " 28.815,\n",
       " 28.9,\n",
       " 28.985,\n",
       " 29.07,\n",
       " 29.155,\n",
       " 29.24,\n",
       " 29.325,\n",
       " 29.41,\n",
       " 29.495,\n",
       " 29.58,\n",
       " 29.665,\n",
       " 29.75,\n",
       " 29.835,\n",
       " 29.92,\n",
       " 30.005,\n",
       " 30.09,\n",
       " 30.175,\n",
       " 30.26,\n",
       " 30.345,\n",
       " 30.43,\n",
       " 30.515,\n",
       " 30.6,\n",
       " 30.685,\n",
       " 30.77,\n",
       " 30.855,\n",
       " 30.94,\n",
       " 31.025,\n",
       " 31.11,\n",
       " 31.195,\n",
       " 31.28,\n",
       " 31.365,\n",
       " 31.45,\n",
       " 31.535,\n",
       " 31.62,\n",
       " 31.705,\n",
       " 31.79,\n",
       " 31.875,\n",
       " 31.96,\n",
       " 32.045,\n",
       " 32.13,\n",
       " 32.215,\n",
       " 32.3,\n",
       " 32.385,\n",
       " 32.47,\n",
       " 32.555,\n",
       " 32.64,\n",
       " 32.725,\n",
       " 32.81,\n",
       " 32.895,\n",
       " 32.98,\n",
       " 33.065,\n",
       " 33.15,\n",
       " 33.235,\n",
       " 33.32,\n",
       " 33.405,\n",
       " 33.49,\n",
       " 33.575,\n",
       " 33.66,\n",
       " 33.745,\n",
       " 33.83,\n",
       " 33.915,\n",
       " 34.0,\n",
       " 34.085,\n",
       " 34.17,\n",
       " 34.255,\n",
       " 34.34,\n",
       " 34.425,\n",
       " 34.51,\n",
       " 34.595,\n",
       " 34.68,\n",
       " 34.765,\n",
       " 34.85,\n",
       " 34.935,\n",
       " 35.02,\n",
       " 35.105,\n",
       " 35.19,\n",
       " 35.275,\n",
       " 35.36,\n",
       " 35.445,\n",
       " 35.53,\n",
       " 35.615,\n",
       " 35.7,\n",
       " 35.785,\n",
       " 35.87,\n",
       " 35.955,\n",
       " 36.04,\n",
       " 36.125,\n",
       " 36.21,\n",
       " 36.295,\n",
       " 36.38,\n",
       " 36.465,\n",
       " 36.55,\n",
       " 36.635,\n",
       " 36.72,\n",
       " 36.805,\n",
       " 36.89,\n",
       " 36.975,\n",
       " 37.06,\n",
       " 37.145,\n",
       " 37.23,\n",
       " 37.315,\n",
       " 37.4,\n",
       " 37.485,\n",
       " 37.57,\n",
       " 37.655,\n",
       " 37.74,\n",
       " 37.825,\n",
       " 37.91,\n",
       " 37.995,\n",
       " 38.08,\n",
       " 38.165,\n",
       " 38.25,\n",
       " 38.335,\n",
       " 38.42,\n",
       " 38.505,\n",
       " 38.59,\n",
       " 38.675,\n",
       " 38.76,\n",
       " 38.845,\n",
       " 38.93,\n",
       " 39.015,\n",
       " 39.1,\n",
       " 39.185,\n",
       " 39.27,\n",
       " 39.355,\n",
       " 39.44,\n",
       " 39.525,\n",
       " 39.61,\n",
       " 39.695,\n",
       " 39.78,\n",
       " 39.865,\n",
       " 39.95,\n",
       " 40.035,\n",
       " 40.12,\n",
       " 40.205,\n",
       " 40.29,\n",
       " 40.375,\n",
       " 40.46,\n",
       " 40.545,\n",
       " 40.63,\n",
       " 40.715,\n",
       " 40.8,\n",
       " 40.885,\n",
       " 40.97,\n",
       " 41.055,\n",
       " 41.14,\n",
       " 41.225,\n",
       " 41.31,\n",
       " 41.395,\n",
       " 41.48,\n",
       " 41.565,\n",
       " 41.65,\n",
       " 41.735,\n",
       " 41.82,\n",
       " 41.905,\n",
       " 41.99,\n",
       " 42.075,\n",
       " 42.16,\n",
       " 42.245,\n",
       " 42.33,\n",
       " 42.415,\n",
       " 42.5,\n",
       " 42.585,\n",
       " 42.67,\n",
       " 42.755,\n",
       " 42.84,\n",
       " 42.925,\n",
       " 43.01,\n",
       " 43.095,\n",
       " 43.18,\n",
       " 43.265,\n",
       " 43.35,\n",
       " 43.435,\n",
       " 43.52,\n",
       " 43.605,\n",
       " 43.69,\n",
       " 43.775,\n",
       " 43.86,\n",
       " 43.945,\n",
       " 44.03,\n",
       " 44.115,\n",
       " 44.2,\n",
       " 44.285,\n",
       " 44.37,\n",
       " 44.455,\n",
       " 44.54,\n",
       " 44.625,\n",
       " 44.71,\n",
       " 44.795,\n",
       " 44.88,\n",
       " 44.965,\n",
       " 45.05,\n",
       " 45.135,\n",
       " 45.22,\n",
       " 45.305,\n",
       " 45.39,\n",
       " 45.475,\n",
       " 45.56,\n",
       " 45.645,\n",
       " 45.73,\n",
       " 45.815,\n",
       " 45.9,\n",
       " 45.985,\n",
       " 46.07,\n",
       " 46.155,\n",
       " 46.24,\n",
       " 46.325,\n",
       " 46.41,\n",
       " 46.495,\n",
       " 46.58,\n",
       " 46.665,\n",
       " 46.75,\n",
       " 46.835,\n",
       " 46.92,\n",
       " 47.005,\n",
       " 47.09,\n",
       " 47.175,\n",
       " 47.26,\n",
       " 47.345,\n",
       " 47.43,\n",
       " 47.515,\n",
       " 47.6,\n",
       " 47.685,\n",
       " 47.77,\n",
       " 47.855,\n",
       " 47.94,\n",
       " 48.025,\n",
       " 48.11,\n",
       " 48.195,\n",
       " 48.28,\n",
       " 48.365,\n",
       " 48.45,\n",
       " 48.535,\n",
       " 48.62,\n",
       " 48.705,\n",
       " 48.79,\n",
       " 48.875,\n",
       " 48.96,\n",
       " 49.045,\n",
       " 49.13,\n",
       " 49.215,\n",
       " 49.3,\n",
       " 49.385,\n",
       " 49.47,\n",
       " 49.555,\n",
       " 49.64,\n",
       " 49.725,\n",
       " 49.81,\n",
       " 49.895,\n",
       " 49.98,\n",
       " 50.065,\n",
       " 50.15,\n",
       " 50.235,\n",
       " 50.32,\n",
       " 50.405,\n",
       " 50.49,\n",
       " 50.575,\n",
       " 50.66,\n",
       " 50.745,\n",
       " 50.83,\n",
       " 50.915,\n",
       " 51.0,\n",
       " 51.085,\n",
       " 51.17,\n",
       " 51.255,\n",
       " 51.34,\n",
       " 51.425,\n",
       " 51.51,\n",
       " 51.595,\n",
       " 51.68,\n",
       " 51.765,\n",
       " 51.85,\n",
       " 51.935,\n",
       " 52.02,\n",
       " 52.105,\n",
       " 52.19,\n",
       " 52.275,\n",
       " 52.36,\n",
       " 52.445,\n",
       " 52.53,\n",
       " 52.615,\n",
       " 52.7,\n",
       " 52.785,\n",
       " 52.87,\n",
       " 52.955,\n",
       " 53.04,\n",
       " 53.125,\n",
       " 53.21,\n",
       " 53.295,\n",
       " 53.38,\n",
       " 53.465,\n",
       " 53.55,\n",
       " 53.635,\n",
       " 53.72,\n",
       " 53.805,\n",
       " 53.89,\n",
       " 53.975,\n",
       " 54.06,\n",
       " 54.145,\n",
       " 54.23,\n",
       " 54.315,\n",
       " 54.4,\n",
       " 54.485,\n",
       " 54.57,\n",
       " 54.655,\n",
       " 54.74,\n",
       " 54.825,\n",
       " 54.91,\n",
       " 54.995,\n",
       " 55.08,\n",
       " 55.165,\n",
       " 55.25,\n",
       " 55.335,\n",
       " 55.42,\n",
       " 55.505,\n",
       " 55.59,\n",
       " 55.675,\n",
       " 55.76,\n",
       " 55.845,\n",
       " 55.93,\n",
       " 56.015,\n",
       " 56.1,\n",
       " 56.185,\n",
       " 56.27,\n",
       " 56.355,\n",
       " 56.44,\n",
       " 56.525,\n",
       " 56.61,\n",
       " 56.695,\n",
       " 56.78,\n",
       " 56.865,\n",
       " 56.95,\n",
       " 57.035,\n",
       " 57.12,\n",
       " 57.205,\n",
       " 57.29,\n",
       " 57.375,\n",
       " 57.46,\n",
       " 57.545,\n",
       " 57.63,\n",
       " 57.715,\n",
       " 57.8,\n",
       " 57.885,\n",
       " 57.97,\n",
       " 58.055,\n",
       " 58.14,\n",
       " 58.225,\n",
       " 58.31,\n",
       " 58.395,\n",
       " 58.48,\n",
       " 58.565,\n",
       " 58.65,\n",
       " 58.735,\n",
       " 58.82,\n",
       " 58.905,\n",
       " 58.99,\n",
       " 59.075,\n",
       " 59.16,\n",
       " 59.245,\n",
       " 59.33,\n",
       " 59.415,\n",
       " 59.5,\n",
       " 59.585,\n",
       " 59.67,\n",
       " 59.755,\n",
       " 59.84,\n",
       " 59.925,\n",
       " 60.01,\n",
       " 60.095,\n",
       " 60.18,\n",
       " 60.265,\n",
       " 60.35,\n",
       " 60.435,\n",
       " 60.52,\n",
       " 60.605,\n",
       " 60.69,\n",
       " 60.775,\n",
       " 60.86,\n",
       " 60.945,\n",
       " 61.03,\n",
       " 61.115,\n",
       " 61.2,\n",
       " 61.285,\n",
       " 61.37,\n",
       " 61.455,\n",
       " 61.54,\n",
       " 61.625,\n",
       " 61.71,\n",
       " 61.795,\n",
       " 61.88,\n",
       " 61.965,\n",
       " 62.05,\n",
       " 62.135,\n",
       " 62.22,\n",
       " 62.305,\n",
       " 62.39,\n",
       " 62.475,\n",
       " 62.56,\n",
       " 62.645,\n",
       " 62.73,\n",
       " 62.815,\n",
       " 62.9,\n",
       " 62.985,\n",
       " 63.07,\n",
       " 63.155,\n",
       " 63.24,\n",
       " 63.325,\n",
       " 63.41,\n",
       " 63.495,\n",
       " 63.58,\n",
       " 63.665,\n",
       " 63.75,\n",
       " 63.835,\n",
       " 63.92,\n",
       " 64.005,\n",
       " 64.09,\n",
       " 64.175,\n",
       " 64.26,\n",
       " 64.345,\n",
       " 64.43,\n",
       " 64.515,\n",
       " 64.6,\n",
       " 64.685,\n",
       " 64.77,\n",
       " 64.855,\n",
       " 64.94,\n",
       " 65.025,\n",
       " 65.11,\n",
       " 65.195,\n",
       " 65.28,\n",
       " 65.365,\n",
       " 65.45,\n",
       " 65.535,\n",
       " 65.62,\n",
       " 65.705,\n",
       " 65.79,\n",
       " 65.875,\n",
       " 65.96,\n",
       " 66.045,\n",
       " 66.13,\n",
       " 66.215,\n",
       " 66.3,\n",
       " 66.385,\n",
       " 66.47,\n",
       " 66.555,\n",
       " 66.64,\n",
       " 66.725,\n",
       " 66.81,\n",
       " 66.895,\n",
       " 66.98,\n",
       " 67.065,\n",
       " 67.15,\n",
       " 67.235,\n",
       " 67.32,\n",
       " 67.405,\n",
       " 67.49,\n",
       " 67.575,\n",
       " 67.66,\n",
       " 67.745,\n",
       " 67.83,\n",
       " 67.915,\n",
       " 68.0,\n",
       " 68.085,\n",
       " 68.17,\n",
       " 68.255,\n",
       " 68.34,\n",
       " 68.425,\n",
       " 68.51,\n",
       " 68.595,\n",
       " 68.68,\n",
       " 68.765,\n",
       " 68.85,\n",
       " 68.935,\n",
       " 69.02,\n",
       " 69.105,\n",
       " 69.19,\n",
       " 69.275,\n",
       " 69.36,\n",
       " 69.445,\n",
       " 69.53,\n",
       " 69.615,\n",
       " 69.7,\n",
       " 69.785,\n",
       " 69.87,\n",
       " 69.955,\n",
       " 70.04,\n",
       " 70.125,\n",
       " 70.21,\n",
       " 70.295,\n",
       " 70.38,\n",
       " 70.465,\n",
       " 70.55,\n",
       " 70.635,\n",
       " 70.72,\n",
       " 70.805,\n",
       " 70.89,\n",
       " 70.975,\n",
       " 71.06,\n",
       " 71.145,\n",
       " 71.23,\n",
       " 71.315,\n",
       " 71.4,\n",
       " 71.485,\n",
       " 71.57,\n",
       " 71.655,\n",
       " 71.74,\n",
       " 71.825,\n",
       " 71.91,\n",
       " 71.995,\n",
       " 72.08,\n",
       " 72.165,\n",
       " 72.25,\n",
       " 72.335,\n",
       " 72.42,\n",
       " 72.505,\n",
       " 72.59,\n",
       " 72.675,\n",
       " 72.76,\n",
       " 72.845,\n",
       " 72.93,\n",
       " 73.015,\n",
       " 73.1,\n",
       " 73.185,\n",
       " 73.27,\n",
       " 73.355,\n",
       " 73.44,\n",
       " 73.525,\n",
       " 73.61,\n",
       " 73.695,\n",
       " 73.78,\n",
       " 73.865,\n",
       " 73.95,\n",
       " 74.035,\n",
       " 74.12,\n",
       " 74.205,\n",
       " 74.29,\n",
       " 74.375,\n",
       " 74.46,\n",
       " 74.545,\n",
       " 74.63,\n",
       " 74.715,\n",
       " 74.8,\n",
       " 74.885,\n",
       " 74.97,\n",
       " 75.055,\n",
       " 75.14,\n",
       " 75.225,\n",
       " 75.31,\n",
       " 75.395,\n",
       " 75.48,\n",
       " 75.565,\n",
       " 75.65,\n",
       " 75.735,\n",
       " 75.82,\n",
       " 75.905,\n",
       " 75.99,\n",
       " 76.075,\n",
       " 76.16,\n",
       " 76.245,\n",
       " 76.33,\n",
       " 76.415,\n",
       " 76.5,\n",
       " 76.585,\n",
       " 76.67,\n",
       " 76.755,\n",
       " 76.84,\n",
       " 76.925,\n",
       " 77.01,\n",
       " 77.095,\n",
       " 77.18,\n",
       " 77.265,\n",
       " 77.35,\n",
       " 77.435,\n",
       " 77.52,\n",
       " 77.605,\n",
       " 77.69,\n",
       " 77.775,\n",
       " 77.86,\n",
       " 77.945,\n",
       " 78.03,\n",
       " 78.115,\n",
       " 78.2,\n",
       " 78.285,\n",
       " 78.37,\n",
       " 78.455,\n",
       " 78.54,\n",
       " 78.625,\n",
       " 78.71,\n",
       " 78.795,\n",
       " 78.88,\n",
       " 78.965,\n",
       " 79.05,\n",
       " 79.135,\n",
       " 79.22,\n",
       " 79.305,\n",
       " 79.39,\n",
       " 79.475,\n",
       " 79.56,\n",
       " 79.645,\n",
       " 79.73,\n",
       " 79.815,\n",
       " 79.9,\n",
       " 79.985,\n",
       " 80.07,\n",
       " 80.155,\n",
       " 80.24,\n",
       " 80.325,\n",
       " 80.41,\n",
       " 80.495,\n",
       " 80.58,\n",
       " 80.665,\n",
       " 80.75,\n",
       " 80.835,\n",
       " 80.92,\n",
       " 81.005,\n",
       " 81.09,\n",
       " 81.175,\n",
       " 81.26,\n",
       " 81.345,\n",
       " 81.43,\n",
       " 81.515,\n",
       " 81.6,\n",
       " 81.685,\n",
       " 81.77,\n",
       " 81.855,\n",
       " 81.94,\n",
       " 82.025,\n",
       " 82.11,\n",
       " 82.195,\n",
       " 82.28,\n",
       " 82.365,\n",
       " 82.45,\n",
       " 82.535,\n",
       " 82.62,\n",
       " 82.705,\n",
       " 82.79,\n",
       " 82.875,\n",
       " 82.96,\n",
       " 83.045,\n",
       " 83.13,\n",
       " 83.215,\n",
       " 83.3,\n",
       " 83.385,\n",
       " 83.47,\n",
       " 83.555,\n",
       " 83.64,\n",
       " 83.725,\n",
       " 83.81,\n",
       " 83.895,\n",
       " 83.98,\n",
       " 84.065,\n",
       " 84.15,\n",
       " 84.235,\n",
       " 84.32,\n",
       " 84.405,\n",
       " 84.49,\n",
       " 84.575,\n",
       " 84.66,\n",
       " 84.745,\n",
       " 84.83,\n",
       " 84.915]"
      ]
     },
     "execution_count": 30,
     "metadata": {},
     "output_type": "execute_result"
    }
   ],
   "source": [
    "Angles"
   ]
  },
  {
   "cell_type": "code",
   "execution_count": 31,
   "metadata": {},
   "outputs": [
    {
     "data": {
      "text/plain": [
       "[tensor(0.0914, dtype=torch.float64),\n",
       " tensor(0.1395, dtype=torch.float64),\n",
       " tensor(0.1303, dtype=torch.float64),\n",
       " tensor(0.0882, dtype=torch.float64),\n",
       " tensor(0.1307, dtype=torch.float64),\n",
       " tensor(0.1795, dtype=torch.float64),\n",
       " tensor(0.1568, dtype=torch.float64),\n",
       " tensor(0.1023, dtype=torch.float64),\n",
       " tensor(0.0974, dtype=torch.float64),\n",
       " tensor(0.1624, dtype=torch.float64),\n",
       " tensor(0.1487, dtype=torch.float64),\n",
       " tensor(0.0973, dtype=torch.float64),\n",
       " tensor(0.1214, dtype=torch.float64),\n",
       " tensor(0.1308, dtype=torch.float64),\n",
       " tensor(0.1609, dtype=torch.float64),\n",
       " tensor(0.1288, dtype=torch.float64),\n",
       " tensor(0.1693, dtype=torch.float64),\n",
       " tensor(0.1471, dtype=torch.float64),\n",
       " tensor(0.1456, dtype=torch.float64),\n",
       " tensor(0.0935, dtype=torch.float64),\n",
       " tensor(0.1666, dtype=torch.float64),\n",
       " tensor(0.1020, dtype=torch.float64),\n",
       " tensor(0.1370, dtype=torch.float64),\n",
       " tensor(0.0935, dtype=torch.float64),\n",
       " tensor(0.1303, dtype=torch.float64),\n",
       " tensor(0.1000, dtype=torch.float64),\n",
       " tensor(0.0937, dtype=torch.float64),\n",
       " tensor(0.0880, dtype=torch.float64),\n",
       " tensor(0.1721, dtype=torch.float64),\n",
       " tensor(0.1350, dtype=torch.float64),\n",
       " tensor(0.0880, dtype=torch.float64),\n",
       " tensor(0.1143, dtype=torch.float64),\n",
       " tensor(0.1359, dtype=torch.float64),\n",
       " tensor(0.1277, dtype=torch.float64),\n",
       " tensor(0.1242, dtype=torch.float64),\n",
       " tensor(0.0927, dtype=torch.float64),\n",
       " tensor(0.0881, dtype=torch.float64),\n",
       " tensor(0.0916, dtype=torch.float64),\n",
       " tensor(0.1546, dtype=torch.float64),\n",
       " tensor(0.0977, dtype=torch.float64),\n",
       " tensor(0.1310, dtype=torch.float64),\n",
       " tensor(0.0920, dtype=torch.float64),\n",
       " tensor(0.1027, dtype=torch.float64),\n",
       " tensor(0.1403, dtype=torch.float64),\n",
       " tensor(0.1630, dtype=torch.float64),\n",
       " tensor(0.1194, dtype=torch.float64),\n",
       " tensor(0.1110, dtype=torch.float64),\n",
       " tensor(0.0936, dtype=torch.float64),\n",
       " tensor(0.0988, dtype=torch.float64),\n",
       " tensor(0.0863, dtype=torch.float64),\n",
       " tensor(0.0982, dtype=torch.float64),\n",
       " tensor(0.1013, dtype=torch.float64),\n",
       " tensor(0.1129, dtype=torch.float64),\n",
       " tensor(0.1433, dtype=torch.float64),\n",
       " tensor(0.1198, dtype=torch.float64),\n",
       " tensor(0.1283, dtype=torch.float64),\n",
       " tensor(0.0914, dtype=torch.float64),\n",
       " tensor(0.1411, dtype=torch.float64),\n",
       " tensor(0.1323, dtype=torch.float64),\n",
       " tensor(0.0896, dtype=torch.float64),\n",
       " tensor(0.0871, dtype=torch.float64),\n",
       " tensor(0.0890, dtype=torch.float64),\n",
       " tensor(0.1353, dtype=torch.float64),\n",
       " tensor(0.0915, dtype=torch.float64),\n",
       " tensor(0.1599, dtype=torch.float64),\n",
       " tensor(0.2055, dtype=torch.float64),\n",
       " tensor(0.0889, dtype=torch.float64),\n",
       " tensor(0.1009, dtype=torch.float64),\n",
       " tensor(0.1462, dtype=torch.float64),\n",
       " tensor(0.0906, dtype=torch.float64),\n",
       " tensor(0.0952, dtype=torch.float64),\n",
       " tensor(0.0915, dtype=torch.float64),\n",
       " tensor(0.1925, dtype=torch.float64),\n",
       " tensor(0.0921, dtype=torch.float64),\n",
       " tensor(0.1121, dtype=torch.float64),\n",
       " tensor(0.1414, dtype=torch.float64),\n",
       " tensor(0.1162, dtype=torch.float64),\n",
       " tensor(0.1010, dtype=torch.float64),\n",
       " tensor(0.0933, dtype=torch.float64),\n",
       " tensor(0.1229, dtype=torch.float64),\n",
       " tensor(0.0873, dtype=torch.float64),\n",
       " tensor(0.1377, dtype=torch.float64),\n",
       " tensor(0.0889, dtype=torch.float64),\n",
       " tensor(0.1395, dtype=torch.float64),\n",
       " tensor(0.0904, dtype=torch.float64),\n",
       " tensor(0.0948, dtype=torch.float64),\n",
       " tensor(0.1365, dtype=torch.float64),\n",
       " tensor(0.0976, dtype=torch.float64),\n",
       " tensor(0.1516, dtype=torch.float64),\n",
       " tensor(0.1350, dtype=torch.float64),\n",
       " tensor(0.0916, dtype=torch.float64),\n",
       " tensor(0.0900, dtype=torch.float64),\n",
       " tensor(0.1062, dtype=torch.float64),\n",
       " tensor(0.1425, dtype=torch.float64),\n",
       " tensor(0.1298, dtype=torch.float64),\n",
       " tensor(0.1285, dtype=torch.float64),\n",
       " tensor(0.1873, dtype=torch.float64),\n",
       " tensor(0.1329, dtype=torch.float64),\n",
       " tensor(0.1448, dtype=torch.float64),\n",
       " tensor(0.1430, dtype=torch.float64),\n",
       " tensor(0.1457, dtype=torch.float64),\n",
       " tensor(0.1437, dtype=torch.float64),\n",
       " tensor(0.1407, dtype=torch.float64),\n",
       " tensor(0.1190, dtype=torch.float64),\n",
       " tensor(0.0932, dtype=torch.float64),\n",
       " tensor(0.1470, dtype=torch.float64),\n",
       " tensor(0.1403, dtype=torch.float64),\n",
       " tensor(0.1691, dtype=torch.float64),\n",
       " tensor(0.1436, dtype=torch.float64),\n",
       " tensor(0.1252, dtype=torch.float64),\n",
       " tensor(0.1393, dtype=torch.float64),\n",
       " tensor(0.1304, dtype=torch.float64),\n",
       " tensor(0.1236, dtype=torch.float64),\n",
       " tensor(0.1335, dtype=torch.float64),\n",
       " tensor(0.1297, dtype=torch.float64),\n",
       " tensor(0.1735, dtype=torch.float64),\n",
       " tensor(0.0987, dtype=torch.float64),\n",
       " tensor(0.1427, dtype=torch.float64),\n",
       " tensor(0.1759, dtype=torch.float64),\n",
       " tensor(0.1449, dtype=torch.float64),\n",
       " tensor(0.1815, dtype=torch.float64),\n",
       " tensor(0.1363, dtype=torch.float64),\n",
       " tensor(0.1057, dtype=torch.float64),\n",
       " tensor(0.0944, dtype=torch.float64),\n",
       " tensor(0.1570, dtype=torch.float64),\n",
       " tensor(0.0919, dtype=torch.float64),\n",
       " tensor(0.1313, dtype=torch.float64),\n",
       " tensor(0.1687, dtype=torch.float64),\n",
       " tensor(0.0891, dtype=torch.float64),\n",
       " tensor(0.0912, dtype=torch.float64),\n",
       " tensor(0.1525, dtype=torch.float64),\n",
       " tensor(0.0966, dtype=torch.float64),\n",
       " tensor(0.1524, dtype=torch.float64),\n",
       " tensor(0.1461, dtype=torch.float64),\n",
       " tensor(0.0990, dtype=torch.float64),\n",
       " tensor(0.1484, dtype=torch.float64),\n",
       " tensor(0.1096, dtype=torch.float64),\n",
       " tensor(0.1420, dtype=torch.float64),\n",
       " tensor(0.1723, dtype=torch.float64),\n",
       " tensor(0.0902, dtype=torch.float64),\n",
       " tensor(0.0938, dtype=torch.float64),\n",
       " tensor(0.0885, dtype=torch.float64),\n",
       " tensor(0.1048, dtype=torch.float64),\n",
       " tensor(0.1678, dtype=torch.float64),\n",
       " tensor(0.1047, dtype=torch.float64),\n",
       " tensor(0.1254, dtype=torch.float64),\n",
       " tensor(0.1361, dtype=torch.float64),\n",
       " tensor(0.0928, dtype=torch.float64),\n",
       " tensor(0.1316, dtype=torch.float64),\n",
       " tensor(0.1400, dtype=torch.float64),\n",
       " tensor(0.1706, dtype=torch.float64),\n",
       " tensor(0.0939, dtype=torch.float64),\n",
       " tensor(0.1401, dtype=torch.float64),\n",
       " tensor(0.1618, dtype=torch.float64),\n",
       " tensor(0.1542, dtype=torch.float64),\n",
       " tensor(0.1342, dtype=torch.float64),\n",
       " tensor(0.1812, dtype=torch.float64),\n",
       " tensor(0.1539, dtype=torch.float64),\n",
       " tensor(0.1956, dtype=torch.float64),\n",
       " tensor(0.0939, dtype=torch.float64),\n",
       " tensor(0.1013, dtype=torch.float64),\n",
       " tensor(0.1569, dtype=torch.float64),\n",
       " tensor(0.0961, dtype=torch.float64),\n",
       " tensor(0.1399, dtype=torch.float64),\n",
       " tensor(0.1587, dtype=torch.float64),\n",
       " tensor(0.1482, dtype=torch.float64),\n",
       " tensor(0.1488, dtype=torch.float64),\n",
       " tensor(0.1538, dtype=torch.float64),\n",
       " tensor(0.1409, dtype=torch.float64),\n",
       " tensor(0.1443, dtype=torch.float64),\n",
       " tensor(0.0995, dtype=torch.float64),\n",
       " tensor(0.1458, dtype=torch.float64),\n",
       " tensor(0.1623, dtype=torch.float64),\n",
       " tensor(0.1879, dtype=torch.float64),\n",
       " tensor(0.1608, dtype=torch.float64),\n",
       " tensor(0.1386, dtype=torch.float64),\n",
       " tensor(0.1643, dtype=torch.float64),\n",
       " tensor(0.1094, dtype=torch.float64),\n",
       " tensor(0.1912, dtype=torch.float64),\n",
       " tensor(0.1452, dtype=torch.float64),\n",
       " tensor(0.1963, dtype=torch.float64),\n",
       " tensor(0.1250, dtype=torch.float64),\n",
       " tensor(0.1687, dtype=torch.float64),\n",
       " tensor(0.0906, dtype=torch.float64),\n",
       " tensor(0.1486, dtype=torch.float64),\n",
       " tensor(0.1337, dtype=torch.float64),\n",
       " tensor(0.1067, dtype=torch.float64),\n",
       " tensor(0.1014, dtype=torch.float64),\n",
       " tensor(0.2383, dtype=torch.float64),\n",
       " tensor(0.0969, dtype=torch.float64),\n",
       " tensor(0.1480, dtype=torch.float64),\n",
       " tensor(0.1544, dtype=torch.float64),\n",
       " tensor(0.1644, dtype=torch.float64),\n",
       " tensor(0.1269, dtype=torch.float64),\n",
       " tensor(0.1488, dtype=torch.float64),\n",
       " tensor(0.1693, dtype=torch.float64),\n",
       " tensor(0.1166, dtype=torch.float64),\n",
       " tensor(0.1759, dtype=torch.float64),\n",
       " tensor(0.1408, dtype=torch.float64),\n",
       " tensor(0.1541, dtype=torch.float64),\n",
       " tensor(0.1734, dtype=torch.float64),\n",
       " tensor(0.0923, dtype=torch.float64),\n",
       " tensor(0.1550, dtype=torch.float64),\n",
       " tensor(0.1508, dtype=torch.float64),\n",
       " tensor(0.1004, dtype=torch.float64),\n",
       " tensor(0.1799, dtype=torch.float64),\n",
       " tensor(0.1489, dtype=torch.float64),\n",
       " tensor(0.1184, dtype=torch.float64),\n",
       " tensor(0.1491, dtype=torch.float64),\n",
       " tensor(0.1397, dtype=torch.float64),\n",
       " tensor(0.1649, dtype=torch.float64),\n",
       " tensor(0.1459, dtype=torch.float64),\n",
       " tensor(0.1840, dtype=torch.float64),\n",
       " tensor(0.1890, dtype=torch.float64),\n",
       " tensor(0.1627, dtype=torch.float64),\n",
       " tensor(0.2102, dtype=torch.float64),\n",
       " tensor(0.1134, dtype=torch.float64),\n",
       " tensor(0.1274, dtype=torch.float64),\n",
       " tensor(0.1693, dtype=torch.float64),\n",
       " tensor(0.1458, dtype=torch.float64),\n",
       " tensor(0.1551, dtype=torch.float64),\n",
       " tensor(0.1753, dtype=torch.float64),\n",
       " tensor(0.1842, dtype=torch.float64),\n",
       " tensor(0.1792, dtype=torch.float64),\n",
       " tensor(0.2362, dtype=torch.float64),\n",
       " tensor(0.1579, dtype=torch.float64),\n",
       " tensor(0.2160, dtype=torch.float64),\n",
       " tensor(0.1502, dtype=torch.float64),\n",
       " tensor(0.1156, dtype=torch.float64),\n",
       " tensor(0.1032, dtype=torch.float64),\n",
       " tensor(0.1704, dtype=torch.float64),\n",
       " tensor(0.1618, dtype=torch.float64),\n",
       " tensor(0.1130, dtype=torch.float64),\n",
       " tensor(0.1530, dtype=torch.float64),\n",
       " tensor(0.2177, dtype=torch.float64),\n",
       " tensor(0.1784, dtype=torch.float64),\n",
       " tensor(0.1540, dtype=torch.float64),\n",
       " tensor(0.1371, dtype=torch.float64),\n",
       " tensor(0.1434, dtype=torch.float64),\n",
       " tensor(0.1815, dtype=torch.float64),\n",
       " tensor(0.1547, dtype=torch.float64),\n",
       " tensor(0.1016, dtype=torch.float64),\n",
       " tensor(0.1778, dtype=torch.float64),\n",
       " tensor(0.1482, dtype=torch.float64),\n",
       " tensor(0.1617, dtype=torch.float64),\n",
       " tensor(0.1620, dtype=torch.float64),\n",
       " tensor(0.1720, dtype=torch.float64),\n",
       " tensor(0.1789, dtype=torch.float64),\n",
       " tensor(0.1865, dtype=torch.float64),\n",
       " tensor(0.1865, dtype=torch.float64),\n",
       " tensor(0.1596, dtype=torch.float64),\n",
       " tensor(0.1468, dtype=torch.float64),\n",
       " tensor(0.1973, dtype=torch.float64),\n",
       " tensor(0.1594, dtype=torch.float64),\n",
       " tensor(0.1648, dtype=torch.float64),\n",
       " tensor(0.1997, dtype=torch.float64),\n",
       " tensor(0.1823, dtype=torch.float64),\n",
       " tensor(0.1734, dtype=torch.float64),\n",
       " tensor(0.1857, dtype=torch.float64),\n",
       " tensor(0.1648, dtype=torch.float64),\n",
       " tensor(0.1626, dtype=torch.float64),\n",
       " tensor(0.1933, dtype=torch.float64),\n",
       " tensor(0.1961, dtype=torch.float64),\n",
       " tensor(0.1739, dtype=torch.float64),\n",
       " tensor(0.2293, dtype=torch.float64),\n",
       " tensor(0.1975, dtype=torch.float64),\n",
       " tensor(0.1105, dtype=torch.float64),\n",
       " tensor(0.1821, dtype=torch.float64),\n",
       " tensor(0.1404, dtype=torch.float64),\n",
       " tensor(0.2158, dtype=torch.float64),\n",
       " tensor(0.1860, dtype=torch.float64),\n",
       " tensor(0.1370, dtype=torch.float64),\n",
       " tensor(0.1923, dtype=torch.float64),\n",
       " tensor(0.1747, dtype=torch.float64),\n",
       " tensor(0.1824, dtype=torch.float64),\n",
       " tensor(0.1790, dtype=torch.float64),\n",
       " tensor(0.2283, dtype=torch.float64),\n",
       " tensor(0.1909, dtype=torch.float64),\n",
       " tensor(0.1735, dtype=torch.float64),\n",
       " tensor(0.1915, dtype=torch.float64),\n",
       " tensor(0.1851, dtype=torch.float64),\n",
       " tensor(0.1393, dtype=torch.float64),\n",
       " tensor(0.1575, dtype=torch.float64),\n",
       " tensor(0.1960, dtype=torch.float64),\n",
       " tensor(0.1486, dtype=torch.float64),\n",
       " tensor(0.1487, dtype=torch.float64),\n",
       " tensor(0.1798, dtype=torch.float64),\n",
       " tensor(0.1985, dtype=torch.float64),\n",
       " tensor(0.2127, dtype=torch.float64),\n",
       " tensor(0.1732, dtype=torch.float64),\n",
       " tensor(0.1572, dtype=torch.float64),\n",
       " tensor(0.1631, dtype=torch.float64),\n",
       " tensor(0.1826, dtype=torch.float64),\n",
       " tensor(0.1910, dtype=torch.float64),\n",
       " tensor(0.2410, dtype=torch.float64),\n",
       " tensor(0.1499, dtype=torch.float64),\n",
       " tensor(0.1959, dtype=torch.float64),\n",
       " tensor(0.2182, dtype=torch.float64),\n",
       " tensor(0.1824, dtype=torch.float64),\n",
       " tensor(0.1804, dtype=torch.float64),\n",
       " tensor(0.1850, dtype=torch.float64),\n",
       " tensor(0.1916, dtype=torch.float64),\n",
       " tensor(0.1691, dtype=torch.float64),\n",
       " tensor(0.1822, dtype=torch.float64),\n",
       " tensor(0.1765, dtype=torch.float64),\n",
       " tensor(0.1394, dtype=torch.float64),\n",
       " tensor(0.1719, dtype=torch.float64),\n",
       " tensor(0.1737, dtype=torch.float64),\n",
       " tensor(0.1884, dtype=torch.float64),\n",
       " tensor(0.1850, dtype=torch.float64),\n",
       " tensor(0.2057, dtype=torch.float64),\n",
       " tensor(0.1944, dtype=torch.float64),\n",
       " tensor(0.2083, dtype=torch.float64),\n",
       " tensor(0.1589, dtype=torch.float64),\n",
       " tensor(0.2259, dtype=torch.float64),\n",
       " tensor(0.1638, dtype=torch.float64),\n",
       " tensor(0.2305, dtype=torch.float64),\n",
       " tensor(0.1717, dtype=torch.float64),\n",
       " tensor(0.1840, dtype=torch.float64),\n",
       " tensor(0.2573, dtype=torch.float64),\n",
       " tensor(0.2175, dtype=torch.float64),\n",
       " tensor(0.2339, dtype=torch.float64),\n",
       " tensor(0.1492, dtype=torch.float64),\n",
       " tensor(0.2169, dtype=torch.float64),\n",
       " tensor(0.2188, dtype=torch.float64),\n",
       " tensor(0.2038, dtype=torch.float64),\n",
       " tensor(0.2151, dtype=torch.float64),\n",
       " tensor(0.2330, dtype=torch.float64),\n",
       " tensor(0.1851, dtype=torch.float64),\n",
       " tensor(0.1884, dtype=torch.float64),\n",
       " tensor(0.2006, dtype=torch.float64),\n",
       " tensor(0.2220, dtype=torch.float64),\n",
       " tensor(0.2111, dtype=torch.float64),\n",
       " tensor(0.2237, dtype=torch.float64),\n",
       " tensor(0.2055, dtype=torch.float64),\n",
       " tensor(0.1909, dtype=torch.float64),\n",
       " tensor(0.1920, dtype=torch.float64),\n",
       " tensor(0.2223, dtype=torch.float64),\n",
       " tensor(0.2363, dtype=torch.float64),\n",
       " tensor(0.2182, dtype=torch.float64),\n",
       " tensor(0.2268, dtype=torch.float64),\n",
       " tensor(0.1819, dtype=torch.float64),\n",
       " tensor(0.1456, dtype=torch.float64),\n",
       " tensor(0.1943, dtype=torch.float64),\n",
       " tensor(0.2087, dtype=torch.float64),\n",
       " tensor(0.1996, dtype=torch.float64),\n",
       " tensor(0.2324, dtype=torch.float64),\n",
       " tensor(0.2238, dtype=torch.float64),\n",
       " tensor(0.2044, dtype=torch.float64),\n",
       " tensor(0.2485, dtype=torch.float64),\n",
       " tensor(0.2057, dtype=torch.float64),\n",
       " tensor(0.2061, dtype=torch.float64),\n",
       " tensor(0.2034, dtype=torch.float64),\n",
       " tensor(0.1877, dtype=torch.float64),\n",
       " tensor(0.2207, dtype=torch.float64),\n",
       " tensor(0.2164, dtype=torch.float64),\n",
       " tensor(0.2190, dtype=torch.float64),\n",
       " tensor(0.1745, dtype=torch.float64),\n",
       " tensor(0.1821, dtype=torch.float64),\n",
       " tensor(0.1924, dtype=torch.float64),\n",
       " tensor(0.2449, dtype=torch.float64),\n",
       " tensor(0.2071, dtype=torch.float64),\n",
       " tensor(0.1491, dtype=torch.float64),\n",
       " tensor(0.2009, dtype=torch.float64),\n",
       " tensor(0.2321, dtype=torch.float64),\n",
       " tensor(0.1976, dtype=torch.float64),\n",
       " tensor(0.2202, dtype=torch.float64),\n",
       " tensor(0.2196, dtype=torch.float64),\n",
       " tensor(0.2200, dtype=torch.float64),\n",
       " tensor(0.2101, dtype=torch.float64),\n",
       " tensor(0.2010, dtype=torch.float64),\n",
       " tensor(0.2131, dtype=torch.float64),\n",
       " tensor(0.2191, dtype=torch.float64),\n",
       " tensor(0.2171, dtype=torch.float64),\n",
       " tensor(0.2251, dtype=torch.float64),\n",
       " tensor(0.2490, dtype=torch.float64),\n",
       " tensor(0.2145, dtype=torch.float64),\n",
       " tensor(0.2207, dtype=torch.float64),\n",
       " tensor(0.2300, dtype=torch.float64),\n",
       " tensor(0.2061, dtype=torch.float64),\n",
       " tensor(0.2315, dtype=torch.float64),\n",
       " tensor(0.2201, dtype=torch.float64),\n",
       " tensor(0.2190, dtype=torch.float64),\n",
       " tensor(0.2274, dtype=torch.float64),\n",
       " tensor(0.2801, dtype=torch.float64),\n",
       " tensor(0.2466, dtype=torch.float64),\n",
       " tensor(0.2073, dtype=torch.float64),\n",
       " tensor(0.2275, dtype=torch.float64),\n",
       " tensor(0.1986, dtype=torch.float64),\n",
       " tensor(0.1836, dtype=torch.float64),\n",
       " tensor(0.1495, dtype=torch.float64),\n",
       " tensor(0.2402, dtype=torch.float64),\n",
       " tensor(0.2017, dtype=torch.float64),\n",
       " tensor(0.2505, dtype=torch.float64),\n",
       " tensor(0.1804, dtype=torch.float64),\n",
       " tensor(0.1755, dtype=torch.float64),\n",
       " tensor(0.2051, dtype=torch.float64),\n",
       " tensor(0.2516, dtype=torch.float64),\n",
       " tensor(0.2580, dtype=torch.float64),\n",
       " tensor(0.2512, dtype=torch.float64),\n",
       " tensor(0.2403, dtype=torch.float64),\n",
       " tensor(0.2328, dtype=torch.float64),\n",
       " tensor(0.1818, dtype=torch.float64),\n",
       " tensor(0.2304, dtype=torch.float64),\n",
       " tensor(0.2602, dtype=torch.float64),\n",
       " tensor(0.2254, dtype=torch.float64),\n",
       " tensor(0.2685, dtype=torch.float64),\n",
       " tensor(0.2567, dtype=torch.float64),\n",
       " tensor(0.2392, dtype=torch.float64),\n",
       " tensor(0.2716, dtype=torch.float64),\n",
       " tensor(0.2117, dtype=torch.float64),\n",
       " tensor(0.2562, dtype=torch.float64),\n",
       " tensor(0.2450, dtype=torch.float64),\n",
       " tensor(0.2555, dtype=torch.float64),\n",
       " tensor(0.2042, dtype=torch.float64),\n",
       " tensor(0.2081, dtype=torch.float64),\n",
       " tensor(0.1956, dtype=torch.float64),\n",
       " tensor(0.2030, dtype=torch.float64),\n",
       " tensor(0.2262, dtype=torch.float64),\n",
       " tensor(0.2547, dtype=torch.float64),\n",
       " tensor(0.2204, dtype=torch.float64),\n",
       " tensor(0.2392, dtype=torch.float64),\n",
       " tensor(0.2355, dtype=torch.float64),\n",
       " tensor(0.2031, dtype=torch.float64),\n",
       " tensor(0.2302, dtype=torch.float64),\n",
       " tensor(0.2420, dtype=torch.float64),\n",
       " tensor(0.2461, dtype=torch.float64),\n",
       " tensor(0.2136, dtype=torch.float64),\n",
       " tensor(0.2190, dtype=torch.float64),\n",
       " tensor(0.2114, dtype=torch.float64),\n",
       " tensor(0.2608, dtype=torch.float64),\n",
       " tensor(0.2461, dtype=torch.float64),\n",
       " tensor(0.1793, dtype=torch.float64),\n",
       " tensor(0.1889, dtype=torch.float64),\n",
       " tensor(0.2237, dtype=torch.float64),\n",
       " tensor(0.2210, dtype=torch.float64),\n",
       " tensor(0.2659, dtype=torch.float64),\n",
       " tensor(0.2337, dtype=torch.float64),\n",
       " tensor(0.2351, dtype=torch.float64),\n",
       " tensor(0.2692, dtype=torch.float64),\n",
       " tensor(0.2325, dtype=torch.float64),\n",
       " tensor(0.1567, dtype=torch.float64),\n",
       " tensor(0.2283, dtype=torch.float64),\n",
       " tensor(0.2313, dtype=torch.float64),\n",
       " tensor(0.2391, dtype=torch.float64),\n",
       " tensor(0.2549, dtype=torch.float64),\n",
       " tensor(0.2510, dtype=torch.float64),\n",
       " tensor(0.2525, dtype=torch.float64),\n",
       " tensor(0.2506, dtype=torch.float64),\n",
       " tensor(0.2037, dtype=torch.float64),\n",
       " tensor(0.1830, dtype=torch.float64),\n",
       " tensor(0.2392, dtype=torch.float64),\n",
       " tensor(0.2405, dtype=torch.float64),\n",
       " tensor(0.2829, dtype=torch.float64),\n",
       " tensor(0.2608, dtype=torch.float64),\n",
       " tensor(0.2621, dtype=torch.float64),\n",
       " tensor(0.1857, dtype=torch.float64),\n",
       " tensor(0.2820, dtype=torch.float64),\n",
       " tensor(0.2508, dtype=torch.float64),\n",
       " tensor(0.2502, dtype=torch.float64),\n",
       " tensor(0.2326, dtype=torch.float64),\n",
       " tensor(0.2730, dtype=torch.float64),\n",
       " tensor(0.2756, dtype=torch.float64),\n",
       " tensor(0.2650, dtype=torch.float64),\n",
       " tensor(0.2751, dtype=torch.float64),\n",
       " tensor(0.2889, dtype=torch.float64),\n",
       " tensor(0.2741, dtype=torch.float64),\n",
       " tensor(0.2345, dtype=torch.float64),\n",
       " tensor(0.2762, dtype=torch.float64),\n",
       " tensor(0.2354, dtype=torch.float64),\n",
       " tensor(0.2601, dtype=torch.float64),\n",
       " tensor(0.2668, dtype=torch.float64),\n",
       " tensor(0.2390, dtype=torch.float64),\n",
       " tensor(0.2537, dtype=torch.float64),\n",
       " tensor(0.2706, dtype=torch.float64),\n",
       " tensor(0.2469, dtype=torch.float64),\n",
       " tensor(0.1646, dtype=torch.float64),\n",
       " tensor(0.2521, dtype=torch.float64),\n",
       " tensor(0.2387, dtype=torch.float64),\n",
       " tensor(0.2837, dtype=torch.float64),\n",
       " tensor(0.1632, dtype=torch.float64),\n",
       " tensor(0.2454, dtype=torch.float64),\n",
       " tensor(0.2544, dtype=torch.float64),\n",
       " tensor(0.2411, dtype=torch.float64),\n",
       " tensor(0.2349, dtype=torch.float64),\n",
       " tensor(0.2581, dtype=torch.float64),\n",
       " tensor(0.2532, dtype=torch.float64),\n",
       " tensor(0.2865, dtype=torch.float64),\n",
       " tensor(0.2614, dtype=torch.float64),\n",
       " tensor(0.2611, dtype=torch.float64),\n",
       " tensor(0.3093, dtype=torch.float64),\n",
       " tensor(0.2513, dtype=torch.float64),\n",
       " tensor(0.2657, dtype=torch.float64),\n",
       " tensor(0.2807, dtype=torch.float64),\n",
       " tensor(0.2943, dtype=torch.float64),\n",
       " tensor(0.2807, dtype=torch.float64),\n",
       " tensor(0.2863, dtype=torch.float64),\n",
       " tensor(0.2551, dtype=torch.float64),\n",
       " tensor(0.2696, dtype=torch.float64),\n",
       " tensor(0.2492, dtype=torch.float64),\n",
       " tensor(0.1732, dtype=torch.float64),\n",
       " tensor(0.2642, dtype=torch.float64),\n",
       " tensor(0.2241, dtype=torch.float64),\n",
       " tensor(0.2305, dtype=torch.float64),\n",
       " tensor(0.2732, dtype=torch.float64),\n",
       " tensor(0.2841, dtype=torch.float64),\n",
       " tensor(0.2967, dtype=torch.float64),\n",
       " tensor(0.2178, dtype=torch.float64),\n",
       " tensor(0.2720, dtype=torch.float64),\n",
       " tensor(0.2873, dtype=torch.float64),\n",
       " tensor(0.2660, dtype=torch.float64),\n",
       " tensor(0.2695, dtype=torch.float64),\n",
       " tensor(0.2648, dtype=torch.float64),\n",
       " tensor(0.1661, dtype=torch.float64),\n",
       " tensor(0.2907, dtype=torch.float64),\n",
       " tensor(0.3086, dtype=torch.float64),\n",
       " tensor(0.2717, dtype=torch.float64),\n",
       " tensor(0.2855, dtype=torch.float64),\n",
       " tensor(0.1903, dtype=torch.float64),\n",
       " tensor(0.1753, dtype=torch.float64),\n",
       " tensor(0.2749, dtype=torch.float64),\n",
       " tensor(0.2602, dtype=torch.float64),\n",
       " tensor(0.2924, dtype=torch.float64),\n",
       " tensor(0.3066, dtype=torch.float64),\n",
       " tensor(0.2939, dtype=torch.float64),\n",
       " tensor(0.3325, dtype=torch.float64),\n",
       " tensor(0.2758, dtype=torch.float64),\n",
       " tensor(0.2224, dtype=torch.float64),\n",
       " tensor(0.1813, dtype=torch.float64),\n",
       " tensor(0.2023, dtype=torch.float64),\n",
       " tensor(0.2692, dtype=torch.float64),\n",
       " tensor(0.2985, dtype=torch.float64),\n",
       " tensor(0.2792, dtype=torch.float64),\n",
       " tensor(0.2539, dtype=torch.float64),\n",
       " tensor(0.2402, dtype=torch.float64),\n",
       " tensor(0.2220, dtype=torch.float64),\n",
       " tensor(0.3138, dtype=torch.float64),\n",
       " tensor(0.3216, dtype=torch.float64),\n",
       " tensor(0.2636, dtype=torch.float64),\n",
       " tensor(0.1690, dtype=torch.float64),\n",
       " tensor(0.3087, dtype=torch.float64),\n",
       " tensor(0.2356, dtype=torch.float64),\n",
       " tensor(0.2837, dtype=torch.float64),\n",
       " tensor(0.2968, dtype=torch.float64),\n",
       " tensor(0.1793, dtype=torch.float64),\n",
       " tensor(0.3083, dtype=torch.float64),\n",
       " tensor(0.2338, dtype=torch.float64),\n",
       " tensor(0.3068, dtype=torch.float64),\n",
       " tensor(0.2866, dtype=torch.float64),\n",
       " tensor(0.3093, dtype=torch.float64),\n",
       " tensor(0.3026, dtype=torch.float64),\n",
       " tensor(0.2789, dtype=torch.float64),\n",
       " tensor(0.3009, dtype=torch.float64),\n",
       " tensor(0.2855, dtype=torch.float64),\n",
       " tensor(0.2618, dtype=torch.float64),\n",
       " tensor(0.2748, dtype=torch.float64),\n",
       " tensor(0.2589, dtype=torch.float64),\n",
       " tensor(0.1725, dtype=torch.float64),\n",
       " tensor(0.2610, dtype=torch.float64),\n",
       " tensor(0.1894, dtype=torch.float64),\n",
       " tensor(0.2897, dtype=torch.float64),\n",
       " tensor(0.2872, dtype=torch.float64),\n",
       " tensor(0.2296, dtype=torch.float64),\n",
       " tensor(0.2747, dtype=torch.float64),\n",
       " tensor(0.2511, dtype=torch.float64),\n",
       " tensor(0.3101, dtype=torch.float64),\n",
       " tensor(0.3028, dtype=torch.float64),\n",
       " tensor(0.2898, dtype=torch.float64),\n",
       " tensor(0.2814, dtype=torch.float64),\n",
       " tensor(0.3095, dtype=torch.float64),\n",
       " tensor(0.2988, dtype=torch.float64),\n",
       " tensor(0.2641, dtype=torch.float64),\n",
       " tensor(0.2875, dtype=torch.float64),\n",
       " tensor(0.2745, dtype=torch.float64),\n",
       " tensor(0.2849, dtype=torch.float64),\n",
       " tensor(0.2856, dtype=torch.float64),\n",
       " tensor(0.2884, dtype=torch.float64),\n",
       " tensor(0.1998, dtype=torch.float64),\n",
       " tensor(0.2809, dtype=torch.float64),\n",
       " tensor(0.2028, dtype=torch.float64),\n",
       " tensor(0.2441, dtype=torch.float64),\n",
       " tensor(0.3022, dtype=torch.float64),\n",
       " tensor(0.1940, dtype=torch.float64),\n",
       " tensor(0.1828, dtype=torch.float64),\n",
       " tensor(0.3182, dtype=torch.float64),\n",
       " tensor(0.2564, dtype=torch.float64),\n",
       " tensor(0.1825, dtype=torch.float64),\n",
       " tensor(0.1834, dtype=torch.float64),\n",
       " tensor(0.3077, dtype=torch.float64),\n",
       " tensor(0.1937, dtype=torch.float64),\n",
       " tensor(0.2801, dtype=torch.float64),\n",
       " tensor(0.2813, dtype=torch.float64),\n",
       " tensor(0.1977, dtype=torch.float64),\n",
       " tensor(0.3158, dtype=torch.float64),\n",
       " tensor(0.3353, dtype=torch.float64),\n",
       " tensor(0.2625, dtype=torch.float64),\n",
       " tensor(0.2844, dtype=torch.float64),\n",
       " tensor(0.2094, dtype=torch.float64),\n",
       " tensor(0.1888, dtype=torch.float64),\n",
       " tensor(0.1980, dtype=torch.float64),\n",
       " tensor(0.3214, dtype=torch.float64),\n",
       " tensor(0.1877, dtype=torch.float64),\n",
       " tensor(0.1841, dtype=torch.float64),\n",
       " tensor(0.1746, dtype=torch.float64),\n",
       " tensor(0.3223, dtype=torch.float64),\n",
       " tensor(0.2934, dtype=torch.float64),\n",
       " tensor(0.2765, dtype=torch.float64),\n",
       " tensor(0.3129, dtype=torch.float64),\n",
       " tensor(0.2593, dtype=torch.float64),\n",
       " tensor(0.2196, dtype=torch.float64),\n",
       " tensor(0.2136, dtype=torch.float64),\n",
       " tensor(0.3520, dtype=torch.float64),\n",
       " tensor(0.2928, dtype=torch.float64),\n",
       " tensor(0.2072, dtype=torch.float64),\n",
       " tensor(0.2010, dtype=torch.float64),\n",
       " tensor(0.3112, dtype=torch.float64),\n",
       " tensor(0.2002, dtype=torch.float64),\n",
       " tensor(0.2397, dtype=torch.float64),\n",
       " tensor(0.2697, dtype=torch.float64),\n",
       " tensor(0.2594, dtype=torch.float64),\n",
       " tensor(0.2605, dtype=torch.float64),\n",
       " tensor(0.2741, dtype=torch.float64),\n",
       " tensor(0.2789, dtype=torch.float64),\n",
       " tensor(0.3059, dtype=torch.float64),\n",
       " tensor(0.2228, dtype=torch.float64),\n",
       " tensor(0.2817, dtype=torch.float64),\n",
       " tensor(0.2155, dtype=torch.float64),\n",
       " tensor(0.2603, dtype=torch.float64),\n",
       " tensor(0.2877, dtype=torch.float64),\n",
       " tensor(0.3017, dtype=torch.float64),\n",
       " tensor(0.3021, dtype=torch.float64),\n",
       " tensor(0.1875, dtype=torch.float64),\n",
       " tensor(0.2295, dtype=torch.float64),\n",
       " tensor(0.2141, dtype=torch.float64),\n",
       " tensor(0.2020, dtype=torch.float64),\n",
       " tensor(0.2070, dtype=torch.float64),\n",
       " tensor(0.3009, dtype=torch.float64),\n",
       " tensor(0.2124, dtype=torch.float64),\n",
       " tensor(0.1874, dtype=torch.float64),\n",
       " tensor(0.2726, dtype=torch.float64),\n",
       " tensor(0.2426, dtype=torch.float64),\n",
       " tensor(0.3094, dtype=torch.float64),\n",
       " tensor(0.2181, dtype=torch.float64),\n",
       " tensor(0.2347, dtype=torch.float64),\n",
       " tensor(0.2564, dtype=torch.float64),\n",
       " tensor(0.2185, dtype=torch.float64),\n",
       " tensor(0.2058, dtype=torch.float64),\n",
       " tensor(0.2083, dtype=torch.float64),\n",
       " tensor(0.1781, dtype=torch.float64),\n",
       " tensor(0.3233, dtype=torch.float64),\n",
       " tensor(0.1972, dtype=torch.float64),\n",
       " tensor(0.3351, dtype=torch.float64),\n",
       " tensor(0.3206, dtype=torch.float64),\n",
       " tensor(0.2148, dtype=torch.float64),\n",
       " tensor(0.1777, dtype=torch.float64),\n",
       " tensor(0.1931, dtype=torch.float64),\n",
       " tensor(0.2166, dtype=torch.float64),\n",
       " tensor(0.2470, dtype=torch.float64),\n",
       " tensor(0.3056, dtype=torch.float64),\n",
       " tensor(0.3235, dtype=torch.float64),\n",
       " tensor(0.1916, dtype=torch.float64),\n",
       " tensor(0.3245, dtype=torch.float64),\n",
       " tensor(0.2617, dtype=torch.float64),\n",
       " tensor(0.2280, dtype=torch.float64),\n",
       " tensor(0.2039, dtype=torch.float64),\n",
       " tensor(0.2331, dtype=torch.float64),\n",
       " tensor(0.1994, dtype=torch.float64),\n",
       " tensor(0.2538, dtype=torch.float64),\n",
       " tensor(0.2315, dtype=torch.float64),\n",
       " tensor(0.3985, dtype=torch.float64),\n",
       " tensor(0.2453, dtype=torch.float64),\n",
       " tensor(0.2156, dtype=torch.float64),\n",
       " tensor(0.2549, dtype=torch.float64),\n",
       " tensor(0.2107, dtype=torch.float64),\n",
       " tensor(0.2612, dtype=torch.float64),\n",
       " tensor(0.2344, dtype=torch.float64),\n",
       " tensor(0.2563, dtype=torch.float64),\n",
       " tensor(0.2926, dtype=torch.float64),\n",
       " tensor(0.3434, dtype=torch.float64),\n",
       " tensor(0.3242, dtype=torch.float64),\n",
       " tensor(0.2590, dtype=torch.float64),\n",
       " tensor(0.2400, dtype=torch.float64),\n",
       " tensor(0.2077, dtype=torch.float64),\n",
       " tensor(0.2044, dtype=torch.float64),\n",
       " tensor(0.2439, dtype=torch.float64),\n",
       " tensor(0.2254, dtype=torch.float64),\n",
       " tensor(0.2284, dtype=torch.float64),\n",
       " tensor(0.1587, dtype=torch.float64),\n",
       " tensor(0.1852, dtype=torch.float64),\n",
       " tensor(0.2358, dtype=torch.float64),\n",
       " tensor(0.2740, dtype=torch.float64),\n",
       " tensor(0.2641, dtype=torch.float64),\n",
       " tensor(0.2568, dtype=torch.float64),\n",
       " tensor(0.2367, dtype=torch.float64),\n",
       " tensor(0.2354, dtype=torch.float64),\n",
       " tensor(0.2997, dtype=torch.float64),\n",
       " tensor(0.2577, dtype=torch.float64),\n",
       " tensor(0.2273, dtype=torch.float64),\n",
       " tensor(0.2544, dtype=torch.float64),\n",
       " tensor(0.3215, dtype=torch.float64),\n",
       " tensor(0.2404, dtype=torch.float64),\n",
       " tensor(0.2378, dtype=torch.float64),\n",
       " tensor(0.1783, dtype=torch.float64),\n",
       " tensor(0.2716, dtype=torch.float64),\n",
       " tensor(0.2611, dtype=torch.float64),\n",
       " tensor(0.2576, dtype=torch.float64),\n",
       " tensor(0.2398, dtype=torch.float64),\n",
       " tensor(0.1708, dtype=torch.float64),\n",
       " tensor(0.2508, dtype=torch.float64),\n",
       " tensor(0.2430, dtype=torch.float64),\n",
       " tensor(0.3168, dtype=torch.float64),\n",
       " tensor(0.2382, dtype=torch.float64),\n",
       " tensor(0.3974, dtype=torch.float64),\n",
       " tensor(0.2570, dtype=torch.float64),\n",
       " tensor(0.2717, dtype=torch.float64),\n",
       " tensor(0.2867, dtype=torch.float64),\n",
       " tensor(0.3058, dtype=torch.float64),\n",
       " tensor(0.3068, dtype=torch.float64),\n",
       " tensor(0.3541, dtype=torch.float64),\n",
       " tensor(0.2588, dtype=torch.float64),\n",
       " tensor(0.2699, dtype=torch.float64),\n",
       " tensor(0.1905, dtype=torch.float64),\n",
       " tensor(0.3143, dtype=torch.float64),\n",
       " tensor(0.2578, dtype=torch.float64),\n",
       " tensor(0.2773, dtype=torch.float64),\n",
       " tensor(0.3360, dtype=torch.float64),\n",
       " tensor(0.2761, dtype=torch.float64),\n",
       " tensor(0.2648, dtype=torch.float64),\n",
       " tensor(0.3428, dtype=torch.float64),\n",
       " tensor(0.2958, dtype=torch.float64),\n",
       " tensor(0.3109, dtype=torch.float64),\n",
       " tensor(0.3231, dtype=torch.float64),\n",
       " tensor(0.3294, dtype=torch.float64),\n",
       " tensor(0.2680, dtype=torch.float64),\n",
       " tensor(0.3159, dtype=torch.float64),\n",
       " tensor(0.2929, dtype=torch.float64),\n",
       " tensor(0.2486, dtype=torch.float64),\n",
       " tensor(0.1745, dtype=torch.float64),\n",
       " tensor(0.2954, dtype=torch.float64),\n",
       " tensor(0.2901, dtype=torch.float64),\n",
       " tensor(0.2786, dtype=torch.float64),\n",
       " tensor(0.2602, dtype=torch.float64),\n",
       " tensor(0.2702, dtype=torch.float64),\n",
       " tensor(0.2814, dtype=torch.float64),\n",
       " tensor(0.2912, dtype=torch.float64),\n",
       " tensor(0.3079, dtype=torch.float64),\n",
       " tensor(0.3277, dtype=torch.float64),\n",
       " tensor(0.2821, dtype=torch.float64),\n",
       " tensor(0.2785, dtype=torch.float64),\n",
       " tensor(0.2571, dtype=torch.float64),\n",
       " tensor(0.2929, dtype=torch.float64),\n",
       " tensor(0.2943, dtype=torch.float64),\n",
       " tensor(0.2893, dtype=torch.float64),\n",
       " tensor(0.3079, dtype=torch.float64),\n",
       " tensor(0.2737, dtype=torch.float64),\n",
       " tensor(0.3621, dtype=torch.float64),\n",
       " tensor(0.3094, dtype=torch.float64),\n",
       " tensor(0.3285, dtype=torch.float64),\n",
       " tensor(0.3843, dtype=torch.float64),\n",
       " tensor(0.3006, dtype=torch.float64),\n",
       " tensor(0.2888, dtype=torch.float64),\n",
       " tensor(0.2738, dtype=torch.float64),\n",
       " tensor(0.3226, dtype=torch.float64),\n",
       " tensor(0.3113, dtype=torch.float64),\n",
       " tensor(0.2882, dtype=torch.float64),\n",
       " tensor(0.3463, dtype=torch.float64),\n",
       " tensor(0.2729, dtype=torch.float64),\n",
       " tensor(0.2790, dtype=torch.float64),\n",
       " tensor(0.2007, dtype=torch.float64),\n",
       " tensor(0.4121, dtype=torch.float64),\n",
       " tensor(0.2705, dtype=torch.float64),\n",
       " tensor(0.3355, dtype=torch.float64),\n",
       " tensor(0.2995, dtype=torch.float64),\n",
       " tensor(0.3145, dtype=torch.float64),\n",
       " tensor(0.3022, dtype=torch.float64),\n",
       " tensor(0.3290, dtype=torch.float64),\n",
       " tensor(0.3926, dtype=torch.float64),\n",
       " tensor(0.2972, dtype=torch.float64),\n",
       " tensor(0.3270, dtype=torch.float64),\n",
       " tensor(0.3247, dtype=torch.float64),\n",
       " tensor(0.3065, dtype=torch.float64),\n",
       " tensor(0.2983, dtype=torch.float64),\n",
       " tensor(0.4026, dtype=torch.float64),\n",
       " tensor(0.3233, dtype=torch.float64),\n",
       " tensor(0.5182, dtype=torch.float64),\n",
       " tensor(0.4878, dtype=torch.float64),\n",
       " tensor(0.3439, dtype=torch.float64),\n",
       " tensor(0.3211, dtype=torch.float64),\n",
       " tensor(0.3169, dtype=torch.float64),\n",
       " tensor(0.2601, dtype=torch.float64),\n",
       " tensor(0.2953, dtype=torch.float64),\n",
       " tensor(0.3053, dtype=torch.float64),\n",
       " tensor(0.3053, dtype=torch.float64),\n",
       " tensor(0.3494, dtype=torch.float64),\n",
       " tensor(0.3547, dtype=torch.float64),\n",
       " tensor(0.3531, dtype=torch.float64),\n",
       " tensor(0.3486, dtype=torch.float64),\n",
       " tensor(0.3044, dtype=torch.float64),\n",
       " tensor(0.2035, dtype=torch.float64),\n",
       " tensor(0.3051, dtype=torch.float64),\n",
       " tensor(0.3123, dtype=torch.float64),\n",
       " tensor(0.3991, dtype=torch.float64),\n",
       " tensor(0.3256, dtype=torch.float64),\n",
       " tensor(0.3220, dtype=torch.float64),\n",
       " tensor(0.3388, dtype=torch.float64),\n",
       " tensor(0.3214, dtype=torch.float64),\n",
       " tensor(0.3310, dtype=torch.float64),\n",
       " tensor(0.3161, dtype=torch.float64),\n",
       " tensor(0.3243, dtype=torch.float64),\n",
       " tensor(0.3239, dtype=torch.float64),\n",
       " tensor(0.3545, dtype=torch.float64),\n",
       " tensor(0.3558, dtype=torch.float64),\n",
       " tensor(0.3313, dtype=torch.float64),\n",
       " tensor(0.3303, dtype=torch.float64),\n",
       " tensor(0.4184, dtype=torch.float64),\n",
       " tensor(0.3258, dtype=torch.float64),\n",
       " tensor(0.3280, dtype=torch.float64),\n",
       " tensor(0.3131, dtype=torch.float64),\n",
       " tensor(0.3368, dtype=torch.float64),\n",
       " tensor(0.3594, dtype=torch.float64),\n",
       " tensor(0.4204, dtype=torch.float64),\n",
       " tensor(0.3347, dtype=torch.float64),\n",
       " tensor(0.3608, dtype=torch.float64),\n",
       " tensor(0.3276, dtype=torch.float64),\n",
       " tensor(0.3047, dtype=torch.float64),\n",
       " tensor(0.3725, dtype=torch.float64),\n",
       " tensor(0.3902, dtype=torch.float64),\n",
       " tensor(0.3981, dtype=torch.float64),\n",
       " tensor(0.3823, dtype=torch.float64),\n",
       " tensor(0.3643, dtype=torch.float64),\n",
       " tensor(0.4176, dtype=torch.float64),\n",
       " tensor(0.3840, dtype=torch.float64),\n",
       " tensor(0.3478, dtype=torch.float64),\n",
       " tensor(0.3292, dtype=torch.float64),\n",
       " tensor(0.2611, dtype=torch.float64),\n",
       " tensor(0.3843, dtype=torch.float64),\n",
       " tensor(0.3777, dtype=torch.float64),\n",
       " tensor(0.2587, dtype=torch.float64),\n",
       " tensor(0.3473, dtype=torch.float64),\n",
       " tensor(0.3664, dtype=torch.float64),\n",
       " tensor(0.3396, dtype=torch.float64),\n",
       " tensor(0.3661, dtype=torch.float64),\n",
       " tensor(0.3599, dtype=torch.float64),\n",
       " tensor(0.3447, dtype=torch.float64),\n",
       " tensor(0.3367, dtype=torch.float64),\n",
       " tensor(0.4510, dtype=torch.float64),\n",
       " tensor(0.3503, dtype=torch.float64),\n",
       " tensor(0.3244, dtype=torch.float64),\n",
       " tensor(0.2892, dtype=torch.float64),\n",
       " tensor(0.3909, dtype=torch.float64),\n",
       " tensor(0.3382, dtype=torch.float64),\n",
       " tensor(0.3500, dtype=torch.float64),\n",
       " tensor(0.3679, dtype=torch.float64),\n",
       " tensor(0.3360, dtype=torch.float64),\n",
       " tensor(0.3649, dtype=torch.float64),\n",
       " tensor(0.3389, dtype=torch.float64),\n",
       " tensor(0.4600, dtype=torch.float64),\n",
       " tensor(0.3344, dtype=torch.float64),\n",
       " tensor(0.3238, dtype=torch.float64),\n",
       " tensor(0.3287, dtype=torch.float64),\n",
       " tensor(0.3553, dtype=torch.float64),\n",
       " tensor(0.3212, dtype=torch.float64),\n",
       " tensor(0.3776, dtype=torch.float64),\n",
       " tensor(0.3710, dtype=torch.float64),\n",
       " tensor(0.4365, dtype=torch.float64),\n",
       " tensor(0.4693, dtype=torch.float64),\n",
       " tensor(0.4214, dtype=torch.float64),\n",
       " tensor(0.3448, dtype=torch.float64),\n",
       " tensor(0.3335, dtype=torch.float64),\n",
       " tensor(0.3665, dtype=torch.float64),\n",
       " tensor(0.3454, dtype=torch.float64),\n",
       " tensor(0.3748, dtype=torch.float64),\n",
       " tensor(0.3674, dtype=torch.float64),\n",
       " tensor(0.3455, dtype=torch.float64),\n",
       " tensor(0.3839, dtype=torch.float64),\n",
       " tensor(0.3403, dtype=torch.float64),\n",
       " tensor(0.3234, dtype=torch.float64),\n",
       " tensor(0.4056, dtype=torch.float64),\n",
       " tensor(0.4101, dtype=torch.float64),\n",
       " tensor(0.3875, dtype=torch.float64),\n",
       " tensor(0.3893, dtype=torch.float64),\n",
       " tensor(0.3295, dtype=torch.float64),\n",
       " tensor(0.3685, dtype=torch.float64),\n",
       " tensor(0.3537, dtype=torch.float64),\n",
       " tensor(0.3160, dtype=torch.float64),\n",
       " tensor(0.3752, dtype=torch.float64),\n",
       " tensor(0.3953, dtype=torch.float64),\n",
       " tensor(0.4099, dtype=torch.float64),\n",
       " tensor(0.3999, dtype=torch.float64),\n",
       " tensor(0.4198, dtype=torch.float64),\n",
       " tensor(0.3612, dtype=torch.float64),\n",
       " tensor(0.1794, dtype=torch.float64),\n",
       " tensor(0.3365, dtype=torch.float64),\n",
       " tensor(0.2639, dtype=torch.float64),\n",
       " tensor(0.3915, dtype=torch.float64),\n",
       " tensor(0.4022, dtype=torch.float64),\n",
       " tensor(0.4220, dtype=torch.float64),\n",
       " tensor(0.3466, dtype=torch.float64),\n",
       " tensor(0.3762, dtype=torch.float64),\n",
       " tensor(0.4498, dtype=torch.float64),\n",
       " tensor(0.3621, dtype=torch.float64),\n",
       " tensor(0.3259, dtype=torch.float64),\n",
       " tensor(0.1207, dtype=torch.float64),\n",
       " tensor(0.3772, dtype=torch.float64),\n",
       " tensor(0.3624, dtype=torch.float64),\n",
       " tensor(0.3569, dtype=torch.float64),\n",
       " tensor(0.1160, dtype=torch.float64),\n",
       " tensor(0.3953, dtype=torch.float64),\n",
       " tensor(0.1071, dtype=torch.float64),\n",
       " tensor(0.1193, dtype=torch.float64),\n",
       " tensor(0.3502, dtype=torch.float64),\n",
       " tensor(0.3247, dtype=torch.float64),\n",
       " tensor(0.3150, dtype=torch.float64),\n",
       " tensor(0.1112, dtype=torch.float64),\n",
       " tensor(0.3638, dtype=torch.float64),\n",
       " tensor(0.1128, dtype=torch.float64),\n",
       " tensor(0.3957, dtype=torch.float64),\n",
       " tensor(0.1207, dtype=torch.float64),\n",
       " tensor(0.1088, dtype=torch.float64),\n",
       " tensor(0.1087, dtype=torch.float64),\n",
       " tensor(0.1033, dtype=torch.float64),\n",
       " tensor(0.1001, dtype=torch.float64),\n",
       " tensor(0.3831, dtype=torch.float64),\n",
       " tensor(0.1028, dtype=torch.float64),\n",
       " tensor(0.1134, dtype=torch.float64),\n",
       " tensor(0.3418, dtype=torch.float64),\n",
       " tensor(0.2456, dtype=torch.float64),\n",
       " tensor(0.3814, dtype=torch.float64),\n",
       " tensor(0.3983, dtype=torch.float64),\n",
       " tensor(0.1001, dtype=torch.float64),\n",
       " tensor(0.1058, dtype=torch.float64),\n",
       " tensor(0.1049, dtype=torch.float64),\n",
       " tensor(0.4544, dtype=torch.float64),\n",
       " tensor(0.1037, dtype=torch.float64),\n",
       " tensor(0.0992, dtype=torch.float64),\n",
       " tensor(0.1081, dtype=torch.float64),\n",
       " tensor(0.3547, dtype=torch.float64),\n",
       " tensor(0.1053, dtype=torch.float64),\n",
       " tensor(0.1053, dtype=torch.float64),\n",
       " tensor(0.4106, dtype=torch.float64),\n",
       " tensor(0.1009, dtype=torch.float64),\n",
       " tensor(0.3390, dtype=torch.float64),\n",
       " tensor(0.0948, dtype=torch.float64),\n",
       " tensor(0.1019, dtype=torch.float64),\n",
       " tensor(0.0988, dtype=torch.float64),\n",
       " tensor(0.0971, dtype=torch.float64),\n",
       " tensor(0.1116, dtype=torch.float64),\n",
       " tensor(0.3874, dtype=torch.float64),\n",
       " tensor(0.4032, dtype=torch.float64),\n",
       " tensor(0.0999, dtype=torch.float64),\n",
       " tensor(0.1019, dtype=torch.float64),\n",
       " tensor(0.0969, dtype=torch.float64),\n",
       " tensor(0.4203, dtype=torch.float64),\n",
       " tensor(0.0976, dtype=torch.float64),\n",
       " tensor(0.1027, dtype=torch.float64),\n",
       " tensor(0.1120, dtype=torch.float64),\n",
       " tensor(0.1025, dtype=torch.float64),\n",
       " tensor(0.1034, dtype=torch.float64),\n",
       " tensor(0.0861, dtype=torch.float64),\n",
       " tensor(0.1065, dtype=torch.float64),\n",
       " tensor(0.1021, dtype=torch.float64),\n",
       " tensor(0.1054, dtype=torch.float64),\n",
       " tensor(0.1045, dtype=torch.float64),\n",
       " tensor(0.1063, dtype=torch.float64),\n",
       " tensor(0.1059, dtype=torch.float64),\n",
       " tensor(0.3488, dtype=torch.float64),\n",
       " tensor(0.2866, dtype=torch.float64),\n",
       " tensor(0.1015, dtype=torch.float64),\n",
       " tensor(0.2762, dtype=torch.float64),\n",
       " tensor(0.1077, dtype=torch.float64),\n",
       " tensor(0.1045, dtype=torch.float64),\n",
       " tensor(0.2786, dtype=torch.float64),\n",
       " tensor(0.4221, dtype=torch.float64),\n",
       " tensor(0.0913, dtype=torch.float64),\n",
       " tensor(0.1247, dtype=torch.float64),\n",
       " tensor(0.3242, dtype=torch.float64),\n",
       " tensor(0.1101, dtype=torch.float64),\n",
       " tensor(0.1203, dtype=torch.float64),\n",
       " tensor(0.1181, dtype=torch.float64),\n",
       " tensor(0.1042, dtype=torch.float64),\n",
       " tensor(0.3749, dtype=torch.float64),\n",
       " tensor(0.1136, dtype=torch.float64),\n",
       " tensor(0.3348, dtype=torch.float64),\n",
       " tensor(0.4095, dtype=torch.float64),\n",
       " tensor(0.3678, dtype=torch.float64),\n",
       " tensor(0.3652, dtype=torch.float64),\n",
       " tensor(0.3668, dtype=torch.float64),\n",
       " tensor(0.3864, dtype=torch.float64),\n",
       " tensor(0.4097, dtype=torch.float64),\n",
       " tensor(0.3384, dtype=torch.float64),\n",
       " tensor(0.1373, dtype=torch.float64),\n",
       " tensor(0.3589, dtype=torch.float64),\n",
       " tensor(0.3742, dtype=torch.float64),\n",
       " tensor(0.3522, dtype=torch.float64),\n",
       " tensor(0.3675, dtype=torch.float64),\n",
       " tensor(0.4311, dtype=torch.float64),\n",
       " tensor(0.3394, dtype=torch.float64),\n",
       " tensor(0.3655, dtype=torch.float64),\n",
       " tensor(0.3917, dtype=torch.float64),\n",
       " tensor(0.4084, dtype=torch.float64)]"
      ]
     },
     "execution_count": 31,
     "metadata": {},
     "output_type": "execute_result"
    }
   ],
   "source": [
    "Error"
   ]
  },
  {
   "cell_type": "code",
   "execution_count": 43,
   "metadata": {},
   "outputs": [
    {
     "data": {
      "image/png": "[encoded data removed]",
      "text/plain": [
       "<Figure size 1500x500 with 1 Axes>"
      ]
     },
     "metadata": {},
     "output_type": "display_data"
    }
   ],
   "source": [
    "from pyparsing import alphas\n",
    "\n",
    "\n",
    "plt.figure(figsize=(15, 5))  # Ajusta el tamaño de la figura (ancho x alto)\n",
    "plt.plot(Angles, Error, \"o-\", color =\"violet\", alpha = 0.5)\n",
    "\n",
    "plt.xlabel(\"Ángulos\", fontsize=14)  # Ajusta el tamaño de la fuente del eje x\n",
    "plt.ylabel(\"Error cuadrático mínimo\", fontsize=14)  # Ajusta el tamaño de la fuente del eje y\n",
    "\n",
    "plt.title(\"Relación entre Ángulos y Error Cuadrático Mínimo\", fontsize=16)  # Añade un título y ajusta el tamaño de la fuente\n",
    "\n",
    "plt.grid(True)  # Opcional: Añade una cuadrícula para mayor claridad\n",
    "\n",
    "plt.show()"
   ]
  },
  {
   "cell_type": "code",
   "execution_count": null,
   "metadata": {},
   "outputs": [
    {
     "data": {
      "image/png": "[encoded data removed]",
      "text/plain": [
       "<Figure size 1300x300 with 2 Axes>"
      ]
     },
     "metadata": {},
     "output_type": "display_data"
    },
    {
     "name": "stdout",
     "output_type": "stream",
     "text": [
      "Espesores: tensor([0.0992, 0.1104, 0.1289, 0.1207, 0.0979, 0.0833, 0.0679, 0.1032, 0.0754,\n",
      "        0.0453, 0.0440, 0.0413, 0.0835, 0.0592, 0.0855, 0.0350, 0.0551, 0.0564,\n",
      "        0.0649, 0.1078, 0.1238, 0.0888, 0.0673, 0.0722, 0.0759])\n",
      "Índices de refracción: tensor([2.2943, 2.3951, 1.4694, 1.7354, 1.9702, 1.7653, 1.2873, 1.6529, 2.5393,\n",
      "        1.9702, 1.6287, 1.2645, 2.2054, 1.2418, 1.1128, 1.5714, 2.2358, 1.0900,\n",
      "        2.0349, 2.4710, 1.5908, 1.4522, 1.1811, 1.4315, 2.2359],\n",
      "       dtype=torch.float64)\n"
     ]
    }
   ],
   "source": [
    "# Definir xlim, ylim y vertical_lines\n",
    "xlim = (300, 800)\n",
    "ylim = (-0.5, 1.5)\n",
    "vertical_lines = [380, 495, 570, 750]\n",
    "\n",
    "# Subplots para Reflexiones (solo 2)\n",
    "fig, axs = plt.subplots(1, 2, figsize=(13, 3))  # 1 fila, 2 columnas\n",
    "fig.subplots_adjust(wspace=0.4)\n",
    "\n",
    "# Definir optimal_reflections\n",
    "optimal_reflections = {}\n",
    "\n",
    "for i in range(1, 3):  # Solo 1 y 2\n",
    "    reflex_key = f'reflexion_{i}'\n",
    "    optimal_reflections[reflex_key] = reflex[reflex_key][opt_idx]\n",
    "    \n",
    "    # Gráfico de reflexión óptima\n",
    "    axs[i-1].plot(2 * math.pi / getattr(physicsparams, f'k_{i}') * 1000,\n",
    "                  optimal_reflections[f'reflexion_{i}'][:, 0, 0].detach().numpy(),\n",
    "                  \"-\", color=\"violet\", label=\"Optimal Reflexion\")\n",
    "\n",
    "    # Gráfico de reflexión de tarjeta\n",
    "    tarjet_color = \"red\" if i == 1 else \"green\"\n",
    "    axs[i-1].plot(2 * math.pi / getattr(physicsparams, f'k_{i}') * 1000,\n",
    "                  tarjet.tarjets[f\"tarjet_{i}\"].view(-1),\n",
    "                  \".-\", color=tarjet_color, label=f\"Tarjet Reflexion {i}\", markersize=2.5)\n",
    "\n",
    "    axs[i-1].set_xlabel(\"Wavelength (nm)\", fontsize=16)\n",
    "    axs[i-1].set_ylabel(\"Reflection\", fontsize=16)\n",
    "    axs[i-1].legend(fontsize=10)\n",
    "    axs[i-1].set_title(f\"Reflexion {i}\", fontsize=20)\n",
    "    axs[i-1].tick_params(axis='both', which='major', labelsize=14)\n",
    "    axs[i-1].set_xlim(xlim)\n",
    "    axs[i-1].set_ylim(ylim)\n",
    "\n",
    "    # Agregar líneas verticales punteadas para reflexiones\n",
    "    for line_pos in vertical_lines:\n",
    "        axs[i-1].axvline(x=line_pos, linestyle='--', color='gray')\n",
    "\n",
    "# Mostrar la figura de reflexiones\n",
    "plt.show()\n",
    "\n",
    "print(\"Espesores:\", optimal_thicknesses.view(-1))\n",
    "print(\"Índices de refracción:\", optimal_ref_idx.view(-1))\n"
   ]
  },
  {
   "cell_type": "code",
   "execution_count": null,
   "metadata": {},
   "outputs": [],
   "source": []
  },
  {
   "cell_type": "code",
   "execution_count": null,
   "metadata": {},
   "outputs": [
    {
     "data": {
      "image/png": "[encoded data removed]",
      "text/plain": [
       "<Figure size 1300x300 with 4 Axes>"
      ]
     },
     "metadata": {},
     "output_type": "display_data"
    }
   ],
   "source": [
    "(thicknesses, ref_index, result_mat) = glonet.evaluate(150, kvector=params.k_test, inc_angles=params.theta_test, grayscale=True)\n",
    "r = []\n",
    "params.k_test = 2 * math.pi / torch.linspace(0.3, 0.9, 50)\n",
    "params.theta_test = torch.linspace(0, math.pi/2.25, 50)\n",
    "\n",
    "for i in range(2):  # Solo 2 iteraciones para reflexion_1 y reflexion_2\n",
    "    r_  = TMM_solver(thicknesses, \n",
    "                        ref_index, \n",
    "                        getattr(physicsparams, f'n_top_{i + 1}'), \n",
    "                        getattr(physicsparams, f'n_bot_{i + 1}'),\n",
    "                        params.k_test,\n",
    "                        params.theta_test)\n",
    "    r.append(r_)\n",
    "\n",
    "_ ,  index = torch.sort(FoM_reflex_total)\n",
    "opt_inx =  index[0]\n",
    "\n",
    "# Gráficos para Reflexiones (solo 2)\n",
    "fig, axs = plt.subplots(1, 2, figsize=(13, 3))  # 1 fila, 2 columnas\n",
    "fig.subplots_adjust(wspace=0.4)\n",
    "for i in range(2):  # Solo 2 gráficos para reflexion_1 y reflexion_2\n",
    "    im1 = axs[i].imshow(r[i][opt_inx, : , 0, :].detach().cpu().numpy(), origin='lower', aspect='auto', cmap='hot', extent=[0, 80, 300, 900])\n",
    "    cbar1 = fig.colorbar(im1, ax=axs[i])\n",
    "    cbar1.ax.tick_params(labelsize=14)\n",
    "    axs[i].set_title(f'Reflexion_{i + 1}', fontsize=20)  # Reflexion_{1} y Reflexion_{2}\n",
    "    axs[i].set_xlabel('Incident angle (deg)', fontsize=16)\n",
    "    axs[i].set_ylabel('Wavelength (nm)', fontsize=16)\n",
    "    axs[i].tick_params(axis='both', which='major', labelsize=14)\n",
    "\n",
    "plt.show()\n"
   ]
  }
 ],
 "metadata": {
  "kernelspec": {
   "display_name": "Python 3",
   "language": "python",
   "name": "python3"
  },
  "language_info": {
   "codemirror_mode": {
    "name": "ipython",
    "version": 3
   },
   "file_extension": ".py",
   "mimetype": "text/x-python",
   "name": "python",
   "nbconvert_exporter": "python",
   "pygments_lexer": "ipython3",
   "version": "3.12.5"
  }
 },
 "nbformat": 4,
 "nbformat_minor": 2
}
