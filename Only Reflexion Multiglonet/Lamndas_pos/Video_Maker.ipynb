{
 "cells": [
  {
   "cell_type": "code",
   "execution_count": 1,
   "metadata": {},
   "outputs": [
    {
     "name": "stderr",
     "output_type": "stream",
     "text": [
      "/tmp/ipykernel_116284/1163542586.py:14: DeprecationWarning: Starting with ImageIO v3 the behavior of this function will switch to that of iio.v3.imread. To keep the current behavior (and make this warning disappear) use `import imageio.v2 as imageio` or call `imageio.v2.imread` directly.\n",
      "  lista_fotos.append(imageio.imread(file_name))\n",
      "IMAGEIO FFMPEG_WRITER WARNING: input image is not divisible by macro_block_size=16, resizing from (1500, 1000) to (1504, 1008) to ensure video compatibility with most codecs and players. To prevent resizing, make your input image divisible by the macro_block_size or set the macro_block_size to 1 (risking incompatibility).\n"
     ]
    },
    {
     "name": "stdout",
     "output_type": "stream",
     "text": [
      "Estamos trabajando en el directorio /workspaces/MultiGlonet_thin_film/Only Reflexion Multiglonet/Lamndas_pos\n",
      "y se guardo el video: Video.mp4\n"
     ]
    }
   ],
   "source": [
    "import matplotlib.pyplot as plt\n",
    "import numpy as np\n",
    "\n",
    "import imageio\n",
    "# pip install imageio\n",
    "import os\n",
    "\n",
    "\n",
    "def hacer_video(cant_fotos):\n",
    "    dir_name = \"\"\n",
    "    lista_fotos=[]\n",
    "    for i in range (cant_fotos):\n",
    "        file_name = os.path.join(dir_name, f\"results_seed_{i}.png\".format(i))\n",
    "        lista_fotos.append(imageio.imread(file_name))\n",
    "    video_name = os.path.join(dir_name, \"Video.mp4\")\n",
    "    \n",
    "    imageio.mimsave(video_name, lista_fotos, fps=5)\n",
    "    print('Estamos trabajando en el directorio', os.getcwd())\n",
    "    print('y se guardo el video:', video_name)\n",
    "\n",
    "\n",
    "hacer_video(300)"
   ]
  }
 ],
 "metadata": {
  "kernelspec": {
   "display_name": "Python 3",
   "language": "python",
   "name": "python3"
  },
  "language_info": {
   "codemirror_mode": {
    "name": "ipython",
    "version": 3
   },
   "file_extension": ".py",
   "mimetype": "text/x-python",
   "name": "python",
   "nbconvert_exporter": "python",
   "pygments_lexer": "ipython3",
   "version": "3.12.5"
  }
 },
 "nbformat": 4,
 "nbformat_minor": 2
}
