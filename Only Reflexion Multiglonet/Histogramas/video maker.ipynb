{
 "cells": [
  {
   "cell_type": "code",
   "execution_count": 6,
   "metadata": {},
   "outputs": [
    {
     "name": "stderr",
     "output_type": "stream",
     "text": [
      "IMAGEIO FFMPEG_WRITER WARNING: input image is not divisible by macro_block_size=16, resizing from (359, 190) to (368, 192) to ensure video compatibility with most codecs and players. To prevent resizing, make your input image divisible by the macro_block_size or set the macro_block_size to 1 (risking incompatibility).\n"
     ]
    },
    {
     "name": "stdout",
     "output_type": "stream",
     "text": [
      "Estamos trabajando en el directorio c:\\Users\\Nabupc\\Desktop\\MultiGlonet\\Only Reflexion Multiglonet\\Histogramas\n",
      "y se guardó el video: Video.mp4\n"
     ]
    }
   ],
   "source": [
    "import imageio.v2 as imageio\n",
    "import os\n",
    "from PIL import Image\n",
    "import numpy as np  # Asegúrate de importar numpy\n",
    "\n",
    "def hacer_video(cant_fotos, dir_name=\"\"):\n",
    "    lista_fotos = []\n",
    "    target_size = None  # Inicializa sin tamaño objetivo\n",
    "\n",
    "    for i in range(cant_fotos):\n",
    "        try:\n",
    "            file_name = os.path.join(dir_name, f\"Loss_seed_{i}.png\")\n",
    "            if os.path.exists(file_name):\n",
    "                image = Image.open(file_name)\n",
    "                if target_size is None:\n",
    "                    target_size = image.size  # Establece el tamaño objetivo con la primera imagen\n",
    "                    print(f\"Estableciendo tamaño objetivo: {target_size}\")\n",
    "                image = image.resize(target_size)  # Redimensiona al tamaño objetivo\n",
    "                lista_fotos.append(np.array(image))  # Convierte la imagen a un array numpy\n",
    "                print(f\"Imagen {file_name} procesada correctamente.\")\n",
    "            else:\n",
    "                print(f\"Advertencia: El archivo {file_name} no se encontró.\")\n",
    "        except Exception as e:\n",
    "            print(f\"Ocurrió un error al intentar leer {file_name}: {e}\")\n",
    "            continue\n",
    "\n",
    "    if lista_fotos:\n",
    "        video_name = os.path.join(dir_name, \"Video.mp4\")\n",
    "        try:\n",
    "            imageio.mimsave(video_name, lista_fotos, fps=10)\n",
    "            print('Estamos trabajando en el directorio', os.getcwd())\n",
    "            print('y se guardó el video:', video_name)\n",
    "        except Exception as e:\n",
    "            print(f\"Ocurrió un error al intentar guardar el video: {e}\")\n",
    "    else:\n",
    "        print(\"No se encontraron imágenes para crear el video.\")\n",
    "\n",
    "# Llamada a la función con 1000 imágenes\n",
    "hacer_video(1000)\n",
    "\n",
    "\n"
   ]
  }
 ],
 "metadata": {
  "kernelspec": {
   "display_name": "Python 3",
   "language": "python",
   "name": "python3"
  },
  "language_info": {
   "codemirror_mode": {
    "name": "ipython",
    "version": 3
   },
   "file_extension": ".py",
   "mimetype": "text/x-python",
   "name": "python",
   "nbconvert_exporter": "python",
   "pygments_lexer": "ipython3",
   "version": "3.12.5"
  }
 },
 "nbformat": 4,
 "nbformat_minor": 2
}
